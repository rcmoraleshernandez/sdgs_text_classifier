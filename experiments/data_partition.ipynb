{
  "nbformat": 4,
  "nbformat_minor": 0,
  "metadata": {
    "colab": {
      "name": "data_partition.ipynb",
      "version": "0.3.2",
      "provenance": [],
      "collapsed_sections": [],
      "machine_shape": "hm",
      "include_colab_link": true
    },
    "kernelspec": {
      "name": "python3",
      "display_name": "Python 3"
    }
  },
  "cells": [
    {
      "cell_type": "markdown",
      "metadata": {
        "id": "view-in-github",
        "colab_type": "text"
      },
      "source": [
        "<a href=\"https://colab.research.google.com/github/vondersam/sdgs_text_classifier/blob/master/experiments/data_partition.ipynb\" target=\"_parent\"><img src=\"https://colab.research.google.com/assets/colab-badge.svg\" alt=\"Open In Colab\"/></a>"
      ]
    },
    {
      "cell_type": "code",
      "metadata": {
        "id": "mdUWMhzx6-Nh",
        "colab_type": "code",
        "colab": {
          "base_uri": "https://localhost:8080/",
          "height": 176
        },
        "outputId": "41521190-5574-4a4e-8fa8-3ab319a1ffaf"
      },
      "source": [
        "!pip install iterative-stratification"
      ],
      "execution_count": 2,
      "outputs": [
        {
          "output_type": "stream",
          "text": [
            "Collecting iterative-stratification\n",
            "  Downloading https://files.pythonhosted.org/packages/9d/79/9ba64c8c07b07b8b45d80725b2ebd7b7884701c1da34f70d4749f7b45f9a/iterative_stratification-0.1.6-py3-none-any.whl\n",
            "Requirement already satisfied: numpy in /usr/local/lib/python3.6/dist-packages (from iterative-stratification) (1.16.4)\n",
            "Requirement already satisfied: scikit-learn in /usr/local/lib/python3.6/dist-packages (from iterative-stratification) (0.21.3)\n",
            "Requirement already satisfied: scipy in /usr/local/lib/python3.6/dist-packages (from iterative-stratification) (1.3.1)\n",
            "Requirement already satisfied: joblib>=0.11 in /usr/local/lib/python3.6/dist-packages (from scikit-learn->iterative-stratification) (0.13.2)\n",
            "Installing collected packages: iterative-stratification\n",
            "Successfully installed iterative-stratification-0.1.6\n"
          ],
          "name": "stdout"
        }
      ]
    },
    {
      "cell_type": "code",
      "metadata": {
        "id": "G8ti7ZNG0-wI",
        "colab_type": "code",
        "colab": {}
      },
      "source": [
        "import numpy as np\n",
        "import pandas as pd \n",
        "from iterstrat.ml_stratifiers import MultilabelStratifiedKFold, MultilabelStratifiedShuffleSplit\n",
        "from sklearn.model_selection import ShuffleSplit, train_test_split\n",
        "from sklearn.preprocessing import MultiLabelBinarizer\n",
        "from pathlib import Path\n",
        "import os"
      ],
      "execution_count": 0,
      "outputs": []
    },
    {
      "cell_type": "code",
      "metadata": {
        "id": "QvKq8Voj1n4Z",
        "colab_type": "code",
        "outputId": "4d9481f3-b50c-448d-9d04-115287e1cd12",
        "colab": {
          "base_uri": "https://localhost:8080/",
          "height": 34
        }
      },
      "source": [
        "from google.colab import drive\n",
        "drive.mount('/content/gdrive', force_remount=True)\n",
        "base_dir = \"gdrive/My Drive/fastai-v3/sdgs/dataset/\"\n",
        "labelled_dataset = base_dir + \"cleanup_labelled.csv\"\n",
        "output_dir = \"gdrive/My Drive/fastai-v3/sdgs/dataset/cross_validation/\""
      ],
      "execution_count": 3,
      "outputs": [
        {
          "output_type": "stream",
          "text": [
            "Mounted at /content/gdrive\n"
          ],
          "name": "stdout"
        }
      ]
    },
    {
      "cell_type": "code",
      "metadata": {
        "id": "KJdPWdoa4JB6",
        "colab_type": "code",
        "colab": {
          "base_uri": "https://localhost:8080/",
          "height": 104
        },
        "outputId": "be0697c2-5014-4289-ac0e-0dc94d0e96db"
      },
      "source": [
        "data_df = pd.read_csv(labelled_dataset)\n",
        "data_df.labels = data_df.labels.str.split('|').apply(lambda x: [int(i) for i in x])\n",
        "\n",
        "\n",
        "mskf = MultilabelStratifiedKFold(n_splits=5, random_state=0)\n",
        "mlb = MultiLabelBinarizer()\n",
        "count = 0\n",
        "\n",
        "x = data_df[['text']].values # text\n",
        "y = mlb.fit_transform(data_df.labels) # labels\n",
        "\n",
        "for train_index, test_index in mskf.split(x, y):\n",
        "    count += 1\n",
        "    print(f\"Fold no. {count}\")\n",
        "    fold_dir = Path(f\"{output_dir}fold_{count}/\")\n",
        "    fold_dir.mkdir(exist_ok=True)\n",
        "    np.save(fold_dir/\"train\", train_index)\n",
        "    np.save(fold_dir/\"test\", test_index)"
      ],
      "execution_count": 129,
      "outputs": [
        {
          "output_type": "stream",
          "text": [
            "Fold no. 1\n",
            "Fold no. 2\n",
            "Fold no. 3\n",
            "Fold no. 4\n",
            "Fold no. 5\n"
          ],
          "name": "stdout"
        }
      ]
    },
    {
      "cell_type": "code",
      "metadata": {
        "id": "sy21_h6Uco09",
        "colab_type": "code",
        "colab": {}
      },
      "source": [
        "def get_indices(original_arr, new_arr):\n",
        "    results = []\n",
        "    for text in new_arr:\n",
        "        results.append(np.where(x == text)[0][0])\n",
        "    return np.array(results)"
      ],
      "execution_count": 0,
      "outputs": []
    },
    {
      "cell_type": "code",
      "metadata": {
        "colab_type": "code",
        "outputId": "b21c8ac4-e859-45a1-c6a6-f1e3ff317155",
        "id": "5OCFEtB-SzCa",
        "colab": {
          "base_uri": "https://localhost:8080/",
          "height": 885
        }
      },
      "source": [
        "data_df = pd.read_csv(labelled_dataset)\n",
        "data_df.labels = data_df.labels.str.split('|').apply(lambda x: [int(i) for i in x])\n",
        "\n",
        "\n",
        "mskf = MultilabelStratifiedShuffleSplit(n_splits=5, random_state=0, test_size=0.1)\n",
        "mlb = MultiLabelBinarizer()\n",
        "count = 0\n",
        "\n",
        "x = data_df[['text']].values # text\n",
        "y = mlb.fit_transform(data_df.labels) # labels\n",
        "\n",
        "for original_train_index, test_index in mskf.split(x, y):\n",
        "    count += 1\n",
        "    print(f\"Fold no. {count}\")\n",
        "    fold_dir = Path(f\"{output_dir}fold_{count}/\")\n",
        "    fold_dir.mkdir(exist_ok=True)\n",
        "    \n",
        "    train_x = x[original_train_index]\n",
        "    train, val = train_test_split(train_x, test_size=0.11)\n",
        "    train_index = get_indices(x, train)\n",
        "    val_index = get_indices(x, val)\n",
        "\n",
        "    \n",
        "    np.save(fold_dir/\"train\", train_index)\n",
        "    np.save(fold_dir/\"val\", val_index)\n",
        "    np.save(fold_dir/\"test\", test_index)\n",
        "\n",
        "\n",
        "    train_val = len(set(train_index) & set(val_index))\n",
        "    train_test = len(set(train_index) & set(test_index))\n",
        "    val_test = len(set(val_index) & set(test_index))\n",
        "    print(f\"Overlapping train & val: {train_val != 0}\")\n",
        "    print(f\"Overlapping train & test: {train_test != 0}\")\n",
        "    print(f\"Overlapping val & test: {val_test != 0}\")\n",
        "    print()\n",
        "    print(f\"Train size: {len(train_index)}\")\n",
        "    print(f\"Val size: {len(val_index)}\")\n",
        "    print(f\"Test size: {len(test_index)}\")\n",
        "    print(f\"Total: {len(train_index)+len(val_index)+len(test_index)}\")\n",
        "    print(\"______________\")"
      ],
      "execution_count": 184,
      "outputs": [
        {
          "output_type": "stream",
          "text": [
            "Fold no. 1\n",
            "Overlapping train & val: False\n",
            "Overlapping train & test: False\n",
            "Overlapping val & test: False\n",
            "\n",
            "Train size: 4173\n",
            "Val size: 516\n",
            "Test size: 493\n",
            "Total: 5182\n",
            "______________\n",
            "Fold no. 2\n",
            "Overlapping train & val: False\n",
            "Overlapping train & test: False\n",
            "Overlapping val & test: False\n",
            "\n",
            "Train size: 4151\n",
            "Val size: 514\n",
            "Test size: 517\n",
            "Total: 5182\n",
            "______________\n",
            "Fold no. 3\n",
            "Overlapping train & val: False\n",
            "Overlapping train & test: False\n",
            "Overlapping val & test: False\n",
            "\n",
            "Train size: 4142\n",
            "Val size: 513\n",
            "Test size: 527\n",
            "Total: 5182\n",
            "______________\n",
            "Fold no. 4\n",
            "Overlapping train & val: False\n",
            "Overlapping train & test: False\n",
            "Overlapping val & test: False\n",
            "\n",
            "Train size: 4140\n",
            "Val size: 512\n",
            "Test size: 530\n",
            "Total: 5182\n",
            "______________\n",
            "Fold no. 5\n",
            "Overlapping train & val: False\n",
            "Overlapping train & test: False\n",
            "Overlapping val & test: False\n",
            "\n",
            "Train size: 4155\n",
            "Val size: 514\n",
            "Test size: 513\n",
            "Total: 5182\n",
            "______________\n"
          ],
          "name": "stdout"
        }
      ]
    },
    {
      "cell_type": "code",
      "metadata": {
        "id": "OMO68tx8cWcY",
        "colab_type": "code",
        "colab": {}
      },
      "source": [
        "# Load data\n",
        "my_data = np.load(fold_dir/\"train.npy\")"
      ],
      "execution_count": 0,
      "outputs": []
    }
  ]
}