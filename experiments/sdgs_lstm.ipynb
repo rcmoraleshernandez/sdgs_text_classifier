{
  "nbformat": 4,
  "nbformat_minor": 0,
  "metadata": {
    "colab": {
      "name": "sdgs_lstm.ipynb",
      "version": "0.3.2",
      "provenance": [],
      "collapsed_sections": [],
      "include_colab_link": true
    },
    "language_info": {
      "codemirror_mode": {
        "name": "ipython",
        "version": 3
      },
      "file_extension": ".py",
      "mimetype": "text/x-python",
      "name": "python",
      "nbconvert_exporter": "python",
      "pygments_lexer": "ipython3",
      "version": "3.7.3"
    },
    "kernelspec": {
      "name": "python3",
      "display_name": "Python 3"
    },
    "accelerator": "GPU"
  },
  "cells": [
    {
      "cell_type": "markdown",
      "metadata": {
        "id": "view-in-github",
        "colab_type": "text"
      },
      "source": [
        "<a href=\"https://colab.research.google.com/github/vondersam/sdgs_text_classifier/blob/master/experiments/sdgs_lstm.ipynb\" target=\"_parent\"><img src=\"https://colab.research.google.com/assets/colab-badge.svg\" alt=\"Open In Colab\"/></a>"
      ]
    },
    {
      "cell_type": "code",
      "metadata": {
        "id": "sryx1fTY2kNf",
        "colab_type": "code",
        "colab": {}
      },
      "source": [
        "!pip install PyDrive"
      ],
      "execution_count": 0,
      "outputs": []
    },
    {
      "cell_type": "code",
      "metadata": {
        "id": "MB23PSdmxK5w",
        "colab_type": "code",
        "colab": {}
      },
      "source": [
        "from pydrive.auth import GoogleAuth\n",
        "from pydrive.drive import GoogleDrive\n",
        "from google.colab import auth\n",
        "from oauth2client.client import GoogleCredentials\n",
        "\n",
        "auth.authenticate_user()\n",
        "gauth = GoogleAuth()\n",
        "gauth.credentials = GoogleCredentials.get_application_default()\n",
        "drive = GoogleDrive(gauth)"
      ],
      "execution_count": 0,
      "outputs": []
    },
    {
      "cell_type": "code",
      "metadata": {
        "id": "d19EdmDq24ax",
        "colab_type": "code",
        "colab": {}
      },
      "source": [
        "pre = drive.CreateFile({'id':'1ojX1O9ifhZdT78l5mcD-Ctx6yapF7T5o'})\n",
        "pre.GetContentFile('preprocess.ipynb')"
      ],
      "execution_count": 0,
      "outputs": []
    },
    {
      "cell_type": "code",
      "metadata": {
        "id": "CtDHsF-O4VeR",
        "colab_type": "code",
        "colab": {}
      },
      "source": [
        "from preprocessing import count_mas"
      ],
      "execution_count": 0,
      "outputs": []
    },
    {
      "cell_type": "code",
      "metadata": {
        "colab_type": "code",
        "id": "itVUcAwDCnCP",
        "colab": {
          "base_uri": "https://localhost:8080/",
          "height": 122
        },
        "outputId": "6b7b0e87-36ec-4106-a3fb-0320490ea652"
      },
      "source": [
        "from google.colab import drive\n",
        "drive.mount('/content/gdrive', force_remount=True)\n",
        "base_dir = \"gdrive/My Drive/fastai-v3/sdgs/\"\n",
        "dataset_dir = base_dir + \"lstm/\""
      ],
      "execution_count": 1,
      "outputs": [
        {
          "output_type": "stream",
          "text": [
            "Go to this URL in a browser: https://accounts.google.com/o/oauth2/auth?client_id=947318989803-6bn6qk8qdgf4n4g3pfee6491hc0brc4i.apps.googleusercontent.com&redirect_uri=urn%3Aietf%3Awg%3Aoauth%3A2.0%3Aoob&scope=email%20https%3A%2F%2Fwww.googleapis.com%2Fauth%2Fdocs.test%20https%3A%2F%2Fwww.googleapis.com%2Fauth%2Fdrive%20https%3A%2F%2Fwww.googleapis.com%2Fauth%2Fdrive.photos.readonly%20https%3A%2F%2Fwww.googleapis.com%2Fauth%2Fpeopleapi.readonly&response_type=code\n",
            "\n",
            "Enter your authorization code:\n",
            "··········\n",
            "Mounted at /content/gdrive\n"
          ],
          "name": "stdout"
        }
      ]
    },
    {
      "cell_type": "code",
      "metadata": {
        "colab_type": "code",
        "id": "GFXrTP1PCs0Y",
        "colab": {}
      },
      "source": [
        "from fastai.text import *"
      ],
      "execution_count": 0,
      "outputs": []
    },
    {
      "cell_type": "markdown",
      "metadata": {
        "colab_type": "text",
        "id": "KiIJJ01XCwle"
      },
      "source": [
        "## Uploading the data"
      ]
    },
    {
      "cell_type": "code",
      "metadata": {
        "id": "wS_rW9djL5nQ",
        "colab_type": "code",
        "outputId": "5a8669f6-7ab5-4c08-8ba7-d5e25f9abe02",
        "colab": {
          "base_uri": "https://localhost:8080/",
          "height": 204
        }
      },
      "source": [
        "source_path = Path(dataset_dir + 'cleanup_labelled.csv')\n",
        "df = pd.read_csv(source_path)\n",
        "df.head()"
      ],
      "execution_count": 0,
      "outputs": [
        {
          "output_type": "execute_result",
          "data": {
            "text/html": [
              "<div>\n",
              "<style scoped>\n",
              "    .dataframe tbody tr th:only-of-type {\n",
              "        vertical-align: middle;\n",
              "    }\n",
              "\n",
              "    .dataframe tbody tr th {\n",
              "        vertical-align: top;\n",
              "    }\n",
              "\n",
              "    .dataframe thead th {\n",
              "        text-align: right;\n",
              "    }\n",
              "</style>\n",
              "<table border=\"1\" class=\"dataframe\">\n",
              "  <thead>\n",
              "    <tr style=\"text-align: right;\">\n",
              "      <th></th>\n",
              "      <th>text</th>\n",
              "      <th>labels</th>\n",
              "      <th>doc_id</th>\n",
              "    </tr>\n",
              "  </thead>\n",
              "  <tbody>\n",
              "    <tr>\n",
              "      <th>0</th>\n",
              "      <td>Goal 8: Decent work and economic growth</td>\n",
              "      <td>8</td>\n",
              "      <td>downloadable_pdfs/http:__www.dev.sdgfund.org_%...</td>\n",
              "    </tr>\n",
              "    <tr>\n",
              "      <th>1</th>\n",
              "      <td>The day after receiving the 2016 Pritzker Laur...</td>\n",
              "      <td>11</td>\n",
              "      <td>downloadable_pdfs/http:__www.dev.sdgfund.org_a...</td>\n",
              "    </tr>\n",
              "    <tr>\n",
              "      <th>2</th>\n",
              "      <td>For Paloma Duran, SDG Fund director, this proj...</td>\n",
              "      <td>16</td>\n",
              "      <td>downloadable_pdfs/http:__www.dev.sdgfund.org_b...</td>\n",
              "    </tr>\n",
              "    <tr>\n",
              "      <th>3</th>\n",
              "      <td>Rangita de Silva, Associate Dean of the Univer...</td>\n",
              "      <td>5</td>\n",
              "      <td>downloadable_pdfs/http:__www.dev.sdgfund.org_b...</td>\n",
              "    </tr>\n",
              "    <tr>\n",
              "      <th>4</th>\n",
              "      <td>The SDG Fund, an interagency mechanism establi...</td>\n",
              "      <td>16</td>\n",
              "      <td>downloadable_pdfs/http:__www.dev.sdgfund.org_b...</td>\n",
              "    </tr>\n",
              "  </tbody>\n",
              "</table>\n",
              "</div>"
            ],
            "text/plain": [
              "                                                text  ...                                             doc_id\n",
              "0            Goal 8: Decent work and economic growth  ...  downloadable_pdfs/http:__www.dev.sdgfund.org_%...\n",
              "1  The day after receiving the 2016 Pritzker Laur...  ...  downloadable_pdfs/http:__www.dev.sdgfund.org_a...\n",
              "2  For Paloma Duran, SDG Fund director, this proj...  ...  downloadable_pdfs/http:__www.dev.sdgfund.org_b...\n",
              "3  Rangita de Silva, Associate Dean of the Univer...  ...  downloadable_pdfs/http:__www.dev.sdgfund.org_b...\n",
              "4  The SDG Fund, an interagency mechanism establi...  ...  downloadable_pdfs/http:__www.dev.sdgfund.org_b...\n",
              "\n",
              "[5 rows x 3 columns]"
            ]
          },
          "metadata": {
            "tags": []
          },
          "execution_count": 3
        }
      ]
    },
    {
      "cell_type": "markdown",
      "metadata": {
        "id": "TM5R8MrpD9ja",
        "colab_type": "text"
      },
      "source": [
        "We first create a general language model with the unlabelled data, which we will later fit into the WikiText 103 language model, so that it has more information about SDGs."
      ]
    },
    {
      "cell_type": "code",
      "metadata": {
        "id": "eeaPUkUiRla6",
        "colab_type": "code",
        "colab": {}
      },
      "source": [
        "#data_lm = TextLMDataBunch.from_csv(dataset_dir, 'cleanup_unlabelled.csv')"
      ],
      "execution_count": 0,
      "outputs": []
    },
    {
      "cell_type": "code",
      "metadata": {
        "id": "mD9GZMqpRLNY",
        "colab_type": "code",
        "colab": {}
      },
      "source": [
        "#data_lm.show_batch()\n",
        "#data_lm.save('data_lm_export.pkl')\n",
        "path = Path(dataset_dir)\n",
        "data_lm = load_data(path, 'data_lm_export.pkl')"
      ],
      "execution_count": 0,
      "outputs": []
    },
    {
      "cell_type": "markdown",
      "metadata": {
        "id": "F64WFx3bKiZq",
        "colab_type": "text"
      },
      "source": [
        "# Training the general language model"
      ]
    },
    {
      "cell_type": "markdown",
      "metadata": {
        "id": "yLwASThLN65j",
        "colab_type": "text"
      },
      "source": [
        "We train on the first layer of the language model with all the data and a pretrained language model from the WikiText 103. This is included in the architecture of AWD_LSTM."
      ]
    },
    {
      "cell_type": "code",
      "metadata": {
        "id": "aRQHabOwpmwy",
        "colab_type": "code",
        "colab": {}
      },
      "source": [
        "learn = language_model_learner(data_lm, AWD_LSTM, drop_mult=0.3)"
      ],
      "execution_count": 0,
      "outputs": []
    },
    {
      "cell_type": "code",
      "metadata": {
        "id": "Ak-OSKYmGfbu",
        "colab_type": "code",
        "outputId": "d5bb71a1-2ca8-4c1a-9046-18494ff98d74",
        "colab": {
          "base_uri": "https://localhost:8080/",
          "height": 300
        }
      },
      "source": [
        "learn.lr_find()\n",
        "learn.recorder.plot(skip_end=15)"
      ],
      "execution_count": 0,
      "outputs": [
        {
          "output_type": "display_data",
          "data": {
            "text/html": [
              ""
            ],
            "text/plain": [
              "<IPython.core.display.HTML object>"
            ]
          },
          "metadata": {
            "tags": []
          }
        },
        {
          "output_type": "stream",
          "text": [
            "LR Finder is complete, type {learner_name}.recorder.plot() to see the graph.\n"
          ],
          "name": "stdout"
        },
        {
          "output_type": "display_data",
          "data": {
            "image/png": "[encoded data removed]",
            "text/plain": [
              "<Figure size 432x288 with 1 Axes>"
            ]
          },
          "metadata": {
            "tags": []
          }
        }
      ]
    },
    {
      "cell_type": "code",
      "metadata": {
        "id": "Jiyv5xGFAEYQ",
        "colab_type": "code",
        "outputId": "96a9f006-0194-4680-dec5-47c2a1e0a017",
        "colab": {
          "base_uri": "https://localhost:8080/",
          "height": 80
        }
      },
      "source": [
        "learn.fit_one_cycle(1, 1e-2, moms=(0.8,0.7))"
      ],
      "execution_count": 0,
      "outputs": [
        {
          "output_type": "display_data",
          "data": {
            "text/html": [
              "<table border=\"1\" class=\"dataframe\">\n",
              "  <thead>\n",
              "    <tr style=\"text-align: left;\">\n",
              "      <th>epoch</th>\n",
              "      <th>train_loss</th>\n",
              "      <th>valid_loss</th>\n",
              "      <th>accuracy</th>\n",
              "      <th>time</th>\n",
              "    </tr>\n",
              "  </thead>\n",
              "  <tbody>\n",
              "    <tr>\n",
              "      <td>0</td>\n",
              "      <td>3.683069</td>\n",
              "      <td>3.525900</td>\n",
              "      <td>0.373216</td>\n",
              "      <td>53:59</td>\n",
              "    </tr>\n",
              "  </tbody>\n",
              "</table>"
            ],
            "text/plain": [
              "<IPython.core.display.HTML object>"
            ]
          },
          "metadata": {
            "tags": []
          }
        }
      ]
    },
    {
      "cell_type": "code",
      "metadata": {
        "id": "Vvx2C2TlRVGz",
        "colab_type": "code",
        "colab": {}
      },
      "source": [
        "#learn.save('fit_head')"
      ],
      "execution_count": 0,
      "outputs": []
    },
    {
      "cell_type": "code",
      "metadata": {
        "id": "GLROGMRsRaK1",
        "colab_type": "code",
        "colab": {}
      },
      "source": [
        "learn.load('fit_head')"
      ],
      "execution_count": 0,
      "outputs": []
    },
    {
      "cell_type": "code",
      "metadata": {
        "id": "LcKIOKCERK1S",
        "colab_type": "code",
        "outputId": "f5006faf-26cb-4002-c22a-1c771ba46910",
        "colab": {
          "base_uri": "https://localhost:8080/",
          "height": 236
        }
      },
      "source": [
        "learn.unfreeze()\n",
        "learn.fit_one_cycle(10, 1e-3, moms=(0.8,0.7))"
      ],
      "execution_count": 0,
      "outputs": [
        {
          "output_type": "display_data",
          "data": {
            "text/html": [
              "\n",
              "    <div>\n",
              "        <style>\n",
              "            /* Turns off some styling */\n",
              "            progress {\n",
              "                /* gets rid of default border in Firefox and Opera. */\n",
              "                border: none;\n",
              "                /* Needs to be in here for Safari polyfill so background images work as expected. */\n",
              "                background-size: auto;\n",
              "            }\n",
              "            .progress-bar-interrupted, .progress-bar-interrupted::-webkit-progress-bar {\n",
              "                background: #F44336;\n",
              "            }\n",
              "        </style>\n",
              "      <progress value='4' class='' max='10', style='width:300px; height:20px; vertical-align: middle;'></progress>\n",
              "      40.00% [4/10 2:03:57<3:05:56]\n",
              "    </div>\n",
              "    \n",
              "<table border=\"1\" class=\"dataframe\">\n",
              "  <thead>\n",
              "    <tr style=\"text-align: left;\">\n",
              "      <th>epoch</th>\n",
              "      <th>train_loss</th>\n",
              "      <th>valid_loss</th>\n",
              "      <th>accuracy</th>\n",
              "      <th>time</th>\n",
              "    </tr>\n",
              "  </thead>\n",
              "  <tbody>\n",
              "    <tr>\n",
              "      <td>0</td>\n",
              "      <td>3.377476</td>\n",
              "      <td>3.319256</td>\n",
              "      <td>0.397248</td>\n",
              "      <td>30:46</td>\n",
              "    </tr>\n",
              "    <tr>\n",
              "      <td>1</td>\n",
              "      <td>3.279190</td>\n",
              "      <td>3.227974</td>\n",
              "      <td>0.410936</td>\n",
              "      <td>31:02</td>\n",
              "    </tr>\n",
              "    <tr>\n",
              "      <td>2</td>\n",
              "      <td>3.206759</td>\n",
              "      <td>3.170761</td>\n",
              "      <td>0.419910</td>\n",
              "      <td>31:04</td>\n",
              "    </tr>\n",
              "    <tr>\n",
              "      <td>3</td>\n",
              "      <td>3.134039</td>\n",
              "      <td>3.119085</td>\n",
              "      <td>0.427909</td>\n",
              "      <td>31:03</td>\n",
              "    </tr>\n",
              "  </tbody>\n",
              "</table><p>\n",
              "\n",
              "    <div>\n",
              "        <style>\n",
              "            /* Turns off some styling */\n",
              "            progress {\n",
              "                /* gets rid of default border in Firefox and Opera. */\n",
              "                border: none;\n",
              "                /* Needs to be in here for Safari polyfill so background images work as expected. */\n",
              "                background-size: auto;\n",
              "            }\n",
              "            .progress-bar-interrupted, .progress-bar-interrupted::-webkit-progress-bar {\n",
              "                background: #F44336;\n",
              "            }\n",
              "        </style>\n",
              "      <progress value='449' class='' max='3724', style='width:300px; height:20px; vertical-align: middle;'></progress>\n",
              "      12.06% [449/3724 03:25<25:00 3.0069]\n",
              "    </div>\n",
              "    "
            ],
            "text/plain": [
              "<IPython.core.display.HTML object>"
            ]
          },
          "metadata": {
            "tags": []
          }
        },
        {
          "output_type": "stream",
          "text": [
            "Buffered data was truncated after reaching the output size limit."
          ],
          "name": "stdout"
        }
      ]
    },
    {
      "cell_type": "code",
      "metadata": {
        "id": "HyHBz2yMPvOR",
        "colab_type": "code",
        "colab": {}
      },
      "source": [
        "#learn.save_encoder('fine_tuned_encoder')"
      ],
      "execution_count": 0,
      "outputs": []
    },
    {
      "cell_type": "code",
      "metadata": {
        "id": "p5upJ_jFSEXi",
        "colab_type": "code",
        "colab": {}
      },
      "source": [
        "learn.load_encoder('fine_tuned_encoder')"
      ],
      "execution_count": 0,
      "outputs": []
    },
    {
      "cell_type": "code",
      "metadata": {
        "id": "v8DNZHLecaMC",
        "colab_type": "code",
        "outputId": "e7e8ef7e-b9fd-42a5-dcb5-7bbf3db593d2",
        "colab": {
          "base_uri": "https://localhost:8080/",
          "height": 34
        }
      },
      "source": [
        "learn.predict(\"African countries like\", n_words=20)"
      ],
      "execution_count": 7,
      "outputs": [
        {
          "output_type": "execute_result",
          "data": {
            "text/plain": [
              "'African countries like Kenya , Liberia , and Madagascar rejected any lobbying constituents establish a leida certification deal without democratic'"
            ]
          },
          "metadata": {
            "tags": []
          },
          "execution_count": 7
        }
      ]
    },
    {
      "cell_type": "markdown",
      "metadata": {
        "id": "Ry9vK4WdPIi_",
        "colab_type": "text"
      },
      "source": [
        "# Training the classifier"
      ]
    },
    {
      "cell_type": "markdown",
      "metadata": {
        "id": "c_iAtHuKEP8P",
        "colab_type": "text"
      },
      "source": [
        "Then we load the language model for the classifier"
      ]
    },
    {
      "cell_type": "code",
      "metadata": {
        "id": "B2bWOQjaEPMq",
        "colab_type": "code",
        "colab": {}
      },
      "source": [
        "data_clas = TextClasDataBunch.from_csv(dataset_dir, 'cleanup_labelled.csv', vocab=data_lm.train_ds.vocab, bs=32, text_cols='text', label_cols=\"labels\", label_delim=\"|\")"
      ],
      "execution_count": 0,
      "outputs": []
    },
    {
      "cell_type": "code",
      "metadata": {
        "id": "v12yE_4rGgb_",
        "colab_type": "code",
        "colab": {}
      },
      "source": [
        "#data_clas.save('data_clas_export.pkl')"
      ],
      "execution_count": 0,
      "outputs": []
    },
    {
      "cell_type": "code",
      "metadata": {
        "id": "zTwxdjHCKo_E",
        "colab_type": "code",
        "colab": {}
      },
      "source": [
        "#data_clas = load_data(path, 'data_clas_export.pkl', bs=16)"
      ],
      "execution_count": 0,
      "outputs": []
    },
    {
      "cell_type": "code",
      "metadata": {
        "id": "7Pa1nx_TPnK1",
        "colab_type": "code",
        "colab": {}
      },
      "source": [
        "acc_02 = partial(accuracy_thresh, thresh=0.2)\n",
        "f_score = partial(fbeta, thresh=0.2)\n",
        "\n",
        "F1macro = partial(MultiLabelFbeta, average=\"macro\")\n",
        "F1micro = partial(MultiLabelFbeta, average=\"micro\")\n",
        "F1weighted = partial(MultiLabelFbeta, average=\"weighted\")\n",
        "\n",
        "learn = text_classifier_learner(data_clas, AWD_LSTM, drop_mult=0.5, metrics=[acc_02, f_score], callback_fns=[F1macro, F1micro, F1weighted])\n",
        "learn.load_encoder('ft_enc')\n",
        "learn.freeze()"
      ],
      "execution_count": 0,
      "outputs": []
    },
    {
      "cell_type": "code",
      "metadata": {
        "id": "liC2KN_ll2Jy",
        "colab_type": "code",
        "outputId": "cf667e6d-5199-406e-98a5-68f781a4a65a",
        "colab": {
          "base_uri": "https://localhost:8080/",
          "height": 300
        }
      },
      "source": [
        "learn.lr_find()\n",
        "learn.recorder.plot()"
      ],
      "execution_count": 0,
      "outputs": [
        {
          "output_type": "display_data",
          "data": {
            "text/html": [
              ""
            ],
            "text/plain": [
              "<IPython.core.display.HTML object>"
            ]
          },
          "metadata": {
            "tags": []
          }
        },
        {
          "output_type": "stream",
          "text": [
            "LR Finder is complete, type {learner_name}.recorder.plot() to see the graph.\n"
          ],
          "name": "stdout"
        },
        {
          "output_type": "display_data",
          "data": {
            "image/png": "[encoded data removed]",
            "text/plain": [
              "<Figure size 432x288 with 1 Axes>"
            ]
          },
          "metadata": {
            "tags": []
          }
        }
      ]
    },
    {
      "cell_type": "code",
      "metadata": {
        "id": "joqvH0W3eTEC",
        "colab_type": "code",
        "outputId": "8d7e2479-eac2-4e9c-e6c4-e955965ac0e9",
        "colab": {
          "base_uri": "https://localhost:8080/",
          "height": 100
        }
      },
      "source": [
        "learn.fit_one_cycle(1, 3e-2, moms=(0.8,0.7))"
      ],
      "execution_count": 0,
      "outputs": [
        {
          "output_type": "display_data",
          "data": {
            "text/html": [
              "<table border=\"1\" class=\"dataframe\">\n",
              "  <thead>\n",
              "    <tr style=\"text-align: left;\">\n",
              "      <th>epoch</th>\n",
              "      <th>train_loss</th>\n",
              "      <th>valid_loss</th>\n",
              "      <th>accuracy_thresh</th>\n",
              "      <th>fbeta</th>\n",
              "      <th>macro_fbeta</th>\n",
              "      <th>micro_fbeta</th>\n",
              "      <th>weighted_fbeta</th>\n",
              "      <th>time</th>\n",
              "    </tr>\n",
              "  </thead>\n",
              "  <tbody>\n",
              "    <tr>\n",
              "      <td>0</td>\n",
              "      <td>0.281346</td>\n",
              "      <td>0.248257</td>\n",
              "      <td>0.912871</td>\n",
              "      <td>0.238434</td>\n",
              "      <td>0.159213</td>\n",
              "      <td>0.163926</td>\n",
              "      <td>0.164260</td>\n",
              "      <td>00:13</td>\n",
              "    </tr>\n",
              "  </tbody>\n",
              "</table>"
            ],
            "text/plain": [
              "<IPython.core.display.HTML object>"
            ]
          },
          "metadata": {
            "tags": []
          }
        }
      ]
    },
    {
      "cell_type": "code",
      "metadata": {
        "id": "lDkP8oW_EIrW",
        "colab_type": "code",
        "colab": {}
      },
      "source": [
        "#learn.save('first')"
      ],
      "execution_count": 0,
      "outputs": []
    },
    {
      "cell_type": "code",
      "metadata": {
        "id": "Pkp4PbysEL-l",
        "colab_type": "code",
        "colab": {}
      },
      "source": [
        "learn.load('first')"
      ],
      "execution_count": 0,
      "outputs": []
    },
    {
      "cell_type": "code",
      "metadata": {
        "id": "pV_ZVWfWe6Cq",
        "colab_type": "code",
        "outputId": "057aac6d-0859-4fec-c071-2dbb841c904e",
        "colab": {
          "base_uri": "https://localhost:8080/",
          "height": 100
        }
      },
      "source": [
        "learn.freeze_to(-2)\n",
        "learn.fit_one_cycle(1, slice(1e-2/(2.6**4),1e-2), moms=(0.8, 0.7))"
      ],
      "execution_count": 0,
      "outputs": [
        {
          "output_type": "display_data",
          "data": {
            "text/html": [
              "<table border=\"1\" class=\"dataframe\">\n",
              "  <thead>\n",
              "    <tr style=\"text-align: left;\">\n",
              "      <th>epoch</th>\n",
              "      <th>train_loss</th>\n",
              "      <th>valid_loss</th>\n",
              "      <th>accuracy_thresh</th>\n",
              "      <th>fbeta</th>\n",
              "      <th>macro_fbeta</th>\n",
              "      <th>micro_fbeta</th>\n",
              "      <th>weighted_fbeta</th>\n",
              "      <th>time</th>\n",
              "    </tr>\n",
              "  </thead>\n",
              "  <tbody>\n",
              "    <tr>\n",
              "      <td>0</td>\n",
              "      <td>0.231646</td>\n",
              "      <td>0.212196</td>\n",
              "      <td>0.910602</td>\n",
              "      <td>0.434260</td>\n",
              "      <td>0.229493</td>\n",
              "      <td>0.251029</td>\n",
              "      <td>0.243056</td>\n",
              "      <td>00:18</td>\n",
              "    </tr>\n",
              "  </tbody>\n",
              "</table>"
            ],
            "text/plain": [
              "<IPython.core.display.HTML object>"
            ]
          },
          "metadata": {
            "tags": []
          }
        }
      ]
    },
    {
      "cell_type": "code",
      "metadata": {
        "id": "Fbb6irl-Gr4U",
        "colab_type": "code",
        "colab": {}
      },
      "source": [
        "#learn.save('second')"
      ],
      "execution_count": 0,
      "outputs": []
    },
    {
      "cell_type": "code",
      "metadata": {
        "id": "4qMkeA_8GtlQ",
        "colab_type": "code",
        "colab": {}
      },
      "source": [
        "lear.load('second')"
      ],
      "execution_count": 0,
      "outputs": []
    },
    {
      "cell_type": "code",
      "metadata": {
        "id": "WKm3V-5oG0oN",
        "colab_type": "code",
        "outputId": "3d70fb8b-38c8-4466-d37e-ef6a96728b30",
        "colab": {
          "base_uri": "https://localhost:8080/",
          "height": 100
        }
      },
      "source": [
        "learn.freeze_to(-3)\n",
        "learn.fit_one_cycle(1, slice(5e-3/(2.6**4),5e-3), moms=(0.8, 0.7))"
      ],
      "execution_count": 0,
      "outputs": [
        {
          "output_type": "display_data",
          "data": {
            "text/html": [
              "<table border=\"1\" class=\"dataframe\">\n",
              "  <thead>\n",
              "    <tr style=\"text-align: left;\">\n",
              "      <th>epoch</th>\n",
              "      <th>train_loss</th>\n",
              "      <th>valid_loss</th>\n",
              "      <th>accuracy_thresh</th>\n",
              "      <th>fbeta</th>\n",
              "      <th>macro_fbeta</th>\n",
              "      <th>micro_fbeta</th>\n",
              "      <th>weighted_fbeta</th>\n",
              "      <th>time</th>\n",
              "    </tr>\n",
              "  </thead>\n",
              "  <tbody>\n",
              "    <tr>\n",
              "      <td>0</td>\n",
              "      <td>0.189830</td>\n",
              "      <td>0.172758</td>\n",
              "      <td>0.927903</td>\n",
              "      <td>0.558958</td>\n",
              "      <td>0.417611</td>\n",
              "      <td>0.439797</td>\n",
              "      <td>0.433209</td>\n",
              "      <td>00:29</td>\n",
              "    </tr>\n",
              "  </tbody>\n",
              "</table>"
            ],
            "text/plain": [
              "<IPython.core.display.HTML object>"
            ]
          },
          "metadata": {
            "tags": []
          }
        }
      ]
    },
    {
      "cell_type": "code",
      "metadata": {
        "id": "L_F3lcF_HI1O",
        "colab_type": "code",
        "colab": {}
      },
      "source": [
        "#learn.save('third')"
      ],
      "execution_count": 0,
      "outputs": []
    },
    {
      "cell_type": "code",
      "metadata": {
        "id": "wM4fYThpHKlU",
        "colab_type": "code",
        "colab": {}
      },
      "source": [
        "learn.load('third')"
      ],
      "execution_count": 0,
      "outputs": []
    },
    {
      "cell_type": "code",
      "metadata": {
        "id": "KncF5e80fC3B",
        "colab_type": "code",
        "outputId": "0120d6ed-8826-4231-86de-7d311f8152e1",
        "colab": {
          "base_uri": "https://localhost:8080/",
          "height": 359
        }
      },
      "source": [
        "# With a learning rate of slice(1e-3/(2.6**4),1e-3)\n",
        "learn.unfreeze()\n",
        "learn.fit_one_cycle(10, slice(1e-3/(2.6**4),1e-3), moms=(0.8, 0.7))"
      ],
      "execution_count": 138,
      "outputs": [
        {
          "output_type": "display_data",
          "data": {
            "text/html": [
              "<table border=\"1\" class=\"dataframe\">\n",
              "  <thead>\n",
              "    <tr style=\"text-align: left;\">\n",
              "      <th>epoch</th>\n",
              "      <th>train_loss</th>\n",
              "      <th>valid_loss</th>\n",
              "      <th>accuracy_thresh</th>\n",
              "      <th>fbeta</th>\n",
              "      <th>macro_fbeta</th>\n",
              "      <th>micro_fbeta</th>\n",
              "      <th>weighted_fbeta</th>\n",
              "      <th>time</th>\n",
              "    </tr>\n",
              "  </thead>\n",
              "  <tbody>\n",
              "    <tr>\n",
              "      <td>0</td>\n",
              "      <td>0.172672</td>\n",
              "      <td>0.141480</td>\n",
              "      <td>0.942368</td>\n",
              "      <td>0.651485</td>\n",
              "      <td>0.518233</td>\n",
              "      <td>0.537711</td>\n",
              "      <td>0.532352</td>\n",
              "      <td>00:37</td>\n",
              "    </tr>\n",
              "    <tr>\n",
              "      <td>1</td>\n",
              "      <td>0.166876</td>\n",
              "      <td>0.130341</td>\n",
              "      <td>0.946736</td>\n",
              "      <td>0.686638</td>\n",
              "      <td>0.542066</td>\n",
              "      <td>0.561613</td>\n",
              "      <td>0.557383</td>\n",
              "      <td>00:37</td>\n",
              "    </tr>\n",
              "    <tr>\n",
              "      <td>2</td>\n",
              "      <td>0.155276</td>\n",
              "      <td>0.119334</td>\n",
              "      <td>0.948381</td>\n",
              "      <td>0.722205</td>\n",
              "      <td>0.592623</td>\n",
              "      <td>0.609693</td>\n",
              "      <td>0.606967</td>\n",
              "      <td>00:33</td>\n",
              "    </tr>\n",
              "    <tr>\n",
              "      <td>3</td>\n",
              "      <td>0.137068</td>\n",
              "      <td>0.108220</td>\n",
              "      <td>0.950536</td>\n",
              "      <td>0.761512</td>\n",
              "      <td>0.653512</td>\n",
              "      <td>0.669546</td>\n",
              "      <td>0.667487</td>\n",
              "      <td>00:37</td>\n",
              "    </tr>\n",
              "    <tr>\n",
              "      <td>4</td>\n",
              "      <td>0.124732</td>\n",
              "      <td>0.102169</td>\n",
              "      <td>0.959555</td>\n",
              "      <td>0.754932</td>\n",
              "      <td>0.693278</td>\n",
              "      <td>0.707567</td>\n",
              "      <td>0.705848</td>\n",
              "      <td>00:35</td>\n",
              "    </tr>\n",
              "    <tr>\n",
              "      <td>5</td>\n",
              "      <td>0.115931</td>\n",
              "      <td>0.091881</td>\n",
              "      <td>0.961087</td>\n",
              "      <td>0.799819</td>\n",
              "      <td>0.731364</td>\n",
              "      <td>0.742160</td>\n",
              "      <td>0.741121</td>\n",
              "      <td>00:32</td>\n",
              "    </tr>\n",
              "    <tr>\n",
              "      <td>6</td>\n",
              "      <td>0.100891</td>\n",
              "      <td>0.090781</td>\n",
              "      <td>0.959215</td>\n",
              "      <td>0.801923</td>\n",
              "      <td>0.759918</td>\n",
              "      <td>0.770815</td>\n",
              "      <td>0.769982</td>\n",
              "      <td>00:36</td>\n",
              "    </tr>\n",
              "    <tr>\n",
              "      <td>7</td>\n",
              "      <td>0.094499</td>\n",
              "      <td>0.086229</td>\n",
              "      <td>0.962902</td>\n",
              "      <td>0.805406</td>\n",
              "      <td>0.778628</td>\n",
              "      <td>0.787539</td>\n",
              "      <td>0.787031</td>\n",
              "      <td>00:31</td>\n",
              "    </tr>\n",
              "    <tr>\n",
              "      <td>8</td>\n",
              "      <td>0.093398</td>\n",
              "      <td>0.087269</td>\n",
              "      <td>0.959102</td>\n",
              "      <td>0.802310</td>\n",
              "      <td>0.779061</td>\n",
              "      <td>0.788544</td>\n",
              "      <td>0.788034</td>\n",
              "      <td>00:30</td>\n",
              "    </tr>\n",
              "    <tr>\n",
              "      <td>9</td>\n",
              "      <td>0.091187</td>\n",
              "      <td>0.087756</td>\n",
              "      <td>0.959045</td>\n",
              "      <td>0.799208</td>\n",
              "      <td>0.787053</td>\n",
              "      <td>0.796778</td>\n",
              "      <td>0.796169</td>\n",
              "      <td>00:29</td>\n",
              "    </tr>\n",
              "  </tbody>\n",
              "</table>"
            ],
            "text/plain": [
              "<IPython.core.display.HTML object>"
            ]
          },
          "metadata": {
            "tags": []
          }
        }
      ]
    },
    {
      "cell_type": "code",
      "metadata": {
        "id": "Zv1yIw2NHvuT",
        "colab_type": "code",
        "colab": {}
      },
      "source": [
        "learn.save('fourth')"
      ],
      "execution_count": 0,
      "outputs": []
    },
    {
      "cell_type": "code",
      "metadata": {
        "id": "YLUfp23-Hxv3",
        "colab_type": "code",
        "colab": {}
      },
      "source": [
        "#learn.load('fourth')"
      ],
      "execution_count": 0,
      "outputs": []
    },
    {
      "cell_type": "code",
      "metadata": {
        "id": "_kVSdJSJIyPk",
        "colab_type": "code",
        "colab": {
          "base_uri": "https://localhost:8080/",
          "height": 235
        },
        "outputId": "ee867ffb-bc48-44c9-f4ca-037a57d938d0"
      },
      "source": [
        "# With a learning rate of slice (1e-3/(2.6**4),5e-3) and (1e-3/(2.6**4),3e-3), it overfits, so we train another batch of 6 epochs. After 6 epochs it starts overfitting\n",
        "learn.unfreeze()\n",
        "learn.fit_one_cycle(6, slice(1e-3/(2.6**4),1e-3), moms=(0.8, 0.7))"
      ],
      "execution_count": 146,
      "outputs": [
        {
          "output_type": "display_data",
          "data": {
            "text/html": [
              "<table border=\"1\" class=\"dataframe\">\n",
              "  <thead>\n",
              "    <tr style=\"text-align: left;\">\n",
              "      <th>epoch</th>\n",
              "      <th>train_loss</th>\n",
              "      <th>valid_loss</th>\n",
              "      <th>accuracy_thresh</th>\n",
              "      <th>fbeta</th>\n",
              "      <th>macro_fbeta</th>\n",
              "      <th>micro_fbeta</th>\n",
              "      <th>weighted_fbeta</th>\n",
              "      <th>time</th>\n",
              "    </tr>\n",
              "  </thead>\n",
              "  <tbody>\n",
              "    <tr>\n",
              "      <td>0</td>\n",
              "      <td>0.056034</td>\n",
              "      <td>0.071270</td>\n",
              "      <td>0.967837</td>\n",
              "      <td>0.832959</td>\n",
              "      <td>0.866857</td>\n",
              "      <td>0.872414</td>\n",
              "      <td>0.872303</td>\n",
              "      <td>00:32</td>\n",
              "    </tr>\n",
              "    <tr>\n",
              "      <td>1</td>\n",
              "      <td>0.058651</td>\n",
              "      <td>0.073037</td>\n",
              "      <td>0.971070</td>\n",
              "      <td>0.831064</td>\n",
              "      <td>0.865206</td>\n",
              "      <td>0.870782</td>\n",
              "      <td>0.870655</td>\n",
              "      <td>00:28</td>\n",
              "    </tr>\n",
              "    <tr>\n",
              "      <td>2</td>\n",
              "      <td>0.052649</td>\n",
              "      <td>0.070634</td>\n",
              "      <td>0.968801</td>\n",
              "      <td>0.839224</td>\n",
              "      <td>0.881514</td>\n",
              "      <td>0.886660</td>\n",
              "      <td>0.886561</td>\n",
              "      <td>00:34</td>\n",
              "    </tr>\n",
              "    <tr>\n",
              "      <td>3</td>\n",
              "      <td>0.050444</td>\n",
              "      <td>0.070131</td>\n",
              "      <td>0.973283</td>\n",
              "      <td>0.839401</td>\n",
              "      <td>0.881124</td>\n",
              "      <td>0.885314</td>\n",
              "      <td>0.885232</td>\n",
              "      <td>00:34</td>\n",
              "    </tr>\n",
              "    <tr>\n",
              "      <td>4</td>\n",
              "      <td>0.046214</td>\n",
              "      <td>0.070047</td>\n",
              "      <td>0.973623</td>\n",
              "      <td>0.840824</td>\n",
              "      <td>0.894827</td>\n",
              "      <td>0.898817</td>\n",
              "      <td>0.898765</td>\n",
              "      <td>00:36</td>\n",
              "    </tr>\n",
              "    <tr>\n",
              "      <td>5</td>\n",
              "      <td>0.043697</td>\n",
              "      <td>0.070427</td>\n",
              "      <td>0.972545</td>\n",
              "      <td>0.838925</td>\n",
              "      <td>0.896308</td>\n",
              "      <td>0.899489</td>\n",
              "      <td>0.899420</td>\n",
              "      <td>00:36</td>\n",
              "    </tr>\n",
              "  </tbody>\n",
              "</table>"
            ],
            "text/plain": [
              "<IPython.core.display.HTML object>"
            ]
          },
          "metadata": {
            "tags": []
          }
        }
      ]
    },
    {
      "cell_type": "code",
      "metadata": {
        "id": "a3F_sUb1iTzY",
        "colab_type": "code",
        "colab": {}
      },
      "source": [
        "learn.save('fifth')"
      ],
      "execution_count": 0,
      "outputs": []
    },
    {
      "cell_type": "code",
      "metadata": {
        "id": "onLXts5piWm0",
        "colab_type": "code",
        "colab": {}
      },
      "source": [
        "#learn.load('fifth')"
      ],
      "execution_count": 0,
      "outputs": []
    },
    {
      "cell_type": "code",
      "metadata": {
        "id": "LxUVh2NhfOp2",
        "colab_type": "code",
        "outputId": "4db23d4e-0f5b-41ea-a216-eadcb34c7622",
        "colab": {
          "base_uri": "https://localhost:8080/",
          "height": 1000
        }
      },
      "source": [
        "learn.show_results(rows=500)"
      ],
      "execution_count": 154,
      "outputs": [
        {
          "output_type": "display_data",
          "data": {
            "text/html": [
              "<table border=\"1\" class=\"dataframe\">\n",
              "  <thead>\n",
              "    <tr style=\"text-align: right;\">\n",
              "      <th>text</th>\n",
              "      <th>target</th>\n",
              "      <th>prediction</th>\n",
              "    </tr>\n",
              "  </thead>\n",
              "  <tbody>\n",
              "    <tr>\n",
              "      <td>xxbos xxup unossc , nest , xxmaj southern xxmaj voice , xxmaj reality of xxmaj aid , xxup undp and xxmaj mexico xxmaj south - xxmaj south cooperation ( xxup ssc ) has played an ever - increasing role in overcoming national , regional and global developmental challenges and is now a key enabler for achieving 2030 xxmaj agenda and other xxmaj internationally xxmaj agreed xxmaj development xxmaj goals .</td>\n",
              "      <td>5</td>\n",
              "      <td></td>\n",
              "    </tr>\n",
              "    <tr>\n",
              "      <td>xxbos xxup unops , xxmaj republic of xxmaj slovenia and xxup un - xxup ece xxmaj background xxmaj the xxmaj united xxmaj nations 2030 xxmaj agenda emphasizes the role that innovation plays in support of sustainable development . xxmaj an important emerging innovation that has been in the news recently is blockchain / distributed xxunk technology . xxmaj originally , the blockchain ’s primary use of blockchain technology was to</td>\n",
              "      <td>12;2</td>\n",
              "      <td>2</td>\n",
              "    </tr>\n",
              "    <tr>\n",
              "      <td>xxbos xxmaj table 3 : xxmaj targets and indicators for xxup sdg 11 xxmaj target description xxmaj core indicator xxmaj tier 11.1 xxmaj by 2030 , ensure access for all to adequate , safe and affordable housing and basic services and upgrade slums xxunk xxmaj proportion of urban population living in slums , informal settlements or inadequate housing i 11.2 xxmaj by 2030 , provide access to safe , affordable</td>\n",
              "      <td>1;11</td>\n",
              "      <td>1;11</td>\n",
              "    </tr>\n",
              "    <tr>\n",
              "      <td>xxbos xxmaj china , xxmaj korea and xxmaj singapore defined goals with underlying targets and indicators . xxmaj china aims at “ building a water - saving society ” ( xxmaj national xxmaj development and xxmaj reform xxmaj commission of xxmaj china , 2011 ) , xxmaj korea plans to increase the efficiency and equity of water management through an improved water pricing system and xxmaj singapore aims for self</td>\n",
              "      <td>9</td>\n",
              "      <td></td>\n",
              "    </tr>\n",
              "    <tr>\n",
              "      <td>xxbos xxmaj permanent xxmaj missions of xxmaj denmark and xxmaj colombia , xxup un - xxup desa xxmaj statistical xxmaj division xxmaj supported by xxmaj statistics xxmaj denmark , xxmaj xxunk xxmaj xxunk , xxmaj novo xxmaj xxunk a / s xxmaj background xxmaj three years after the xxmaj sustainable xxmaj development xxmaj goals ( sdgs ) have been adopted , a growing number of stakeholders recognise that the fulfilment</td>\n",
              "      <td>17</td>\n",
              "      <td>17</td>\n",
              "    </tr>\n",
              "    <tr>\n",
              "      <td>xxbos xxmaj in discussing the xxmaj sahara xxmaj foundation ’s work engaging the private sector in supporting the sdgs , xxmaj xxunk said : “ xxmaj what we realized is that a lot of private - sector companies want to do good , but require the right partners and an enabling environment . xxunk xxmaj in many cases , it will be possible to make a positive case that contributing</td>\n",
              "      <td>16</td>\n",
              "      <td>16</td>\n",
              "    </tr>\n",
              "    <tr>\n",
              "      <td>xxbos 31 xxmaj for xxup sdg1 in xxmaj africa , xxup rri has roles in probing the magnitude of the key factors feeding the incidence and depth of poverty in the region including high income inequality and illiteracy . xxmaj on the other hand , the key drivers that significantly reduce poverty in the region will need to be collectively probed through xxup rri . xxmaj these include higher levels</td>\n",
              "      <td>2;3</td>\n",
              "      <td>1;2;3</td>\n",
              "    </tr>\n",
              "    <tr>\n",
              "      <td>xxbos xxmaj by committing to xxmaj sustainable xxmaj development xxmaj goal 16 , xxup un member states agreed to track and report data about the closely related issues of peace , justice , and inclusion . xxmaj these are among the more difficult issues in the sdgs to quantify , and are often difficult to measure easily or cheaply . xxmaj for many states , meeting their commitments to report</td>\n",
              "      <td>16</td>\n",
              "      <td>16</td>\n",
              "    </tr>\n",
              "    <tr>\n",
              "      <td>xxbos xxmaj if governance can not provide better means of making trade - offs across issues , regions , groups , and time horizons , sustainable development will be hard to achieve . xxmaj because these elements are absent from xxup sdg 16 , it falls short of what the evidence suggests is needed . xxmaj moreover , because the xxup sdg 16 elements point a spotlight overwhelmingly on poor</td>\n",
              "      <td>16</td>\n",
              "      <td>16</td>\n",
              "    </tr>\n",
              "    <tr>\n",
              "      <td>xxbos xxmaj an analysis of 100 epzs and a xxmaj framework for xxmaj sustainable xxmaj economic xxmaj zones 1 . xxmaj introduction xxmaj historically , the relationship between industrialization , international trade and sustainable development has been xxunk xxmaj launched by the xxmaj united xxmaj nations in 2015 , the xxmaj sustainable xxmaj development xxmaj goals ( sdgs ) demonstrate the commitment of member states to make that relationship entirely</td>\n",
              "      <td>12;8;9</td>\n",
              "      <td>12;8;9</td>\n",
              "    </tr>\n",
              "    <tr>\n",
              "      <td>xxbos xxup challenges xxmaj the xxmaj global xxmaj status xxmaj report on xxmaj violence xxmaj prevention 2014 and the xxmaj report on xxmaj global and xxmaj regional xxmaj estimates of xxmaj violence xxmaj against xxmaj women 2013 identified several core concerns : xxmaj continued extremely high homicide rates in the low- and middle- income countries of the xxmaj region of the xxmaj americas ; xxmaj few countries are implementing social</td>\n",
              "      <td>16;5</td>\n",
              "      <td>16;3;5</td>\n",
              "    </tr>\n",
              "    <tr>\n",
              "      <td>xxbos xxmaj this tool has been used to coordinate information - sharing for disaster response and crisis management in xxmaj xxunk and xxmaj sao xxmaj xxunk among other locations . xxmaj the xxup un ’s xxmaj office for the xxmaj coordination of xxmaj humanitarian xxmaj affairs has worked with xxmaj xxunk to support crisis mapping in conflict , with one of xxmaj xxunk ’s first formal collaborations with the xxup</td>\n",
              "      <td>16;8</td>\n",
              "      <td>16</td>\n",
              "    </tr>\n",
              "    <tr>\n",
              "      <td>xxbos xxup chapter 3 . xxmaj the xxmaj contribution of xxmaj international xxmaj support xxmaj measures to xxmaj graduation 113 a xxmaj request xxmaj incubator xxmaj programme to support ldcs in accessing its technical assistance , to strengthen their institutional capacities on climate technologies , and to reinforce their efforts towards technology transfer . xxmaj at the time of writing , 11 xxmaj african ldcs and 2 xxmaj asian ldcs</td>\n",
              "      <td>17</td>\n",
              "      <td></td>\n",
              "    </tr>\n",
              "    <tr>\n",
              "      <td>xxbos xxmaj introduction xxmaj this edition of the xxmaj world xxmaj employment and xxmaj social xxmaj outlook ( xxup xxunk ) examines the relationship between decent work and poverty reduction . xxmaj it starts by documenting trends in poverty around the world while paying close attention to the types of jobs and incomes the poor rely on and the process of structural transformation required to end poverty ( xxmaj part</td>\n",
              "      <td>1;8</td>\n",
              "      <td>1;8</td>\n",
              "    </tr>\n",
              "    <tr>\n",
              "      <td>xxbos xxmaj fisheries managers have utilized marine reserves to protect spawning stock , increase recruitment and catalyze spillover in which fisheries productivity outside the reserve is enhanced by production that “ spills ” over the border . xxmaj the xxup fao has helped countries develop marine reserves and networks by providing guidance in the form of publications and training workshops ( see for example xxup fao , 2011 ; xxmaj</td>\n",
              "      <td>14</td>\n",
              "      <td>14</td>\n",
              "    </tr>\n",
              "    <tr>\n",
              "      <td>xxbos xxmaj ballast water management is clearly linked with sustainable development as various international instruments xxunk xxmaj as part of the general xxup imo regulatory strategy regarding ship safety , cleaner seas and internationally agreed upon standards , the xxup bwm xxmaj convention contributes to the implementation of xxmaj sustainable xxmaj development xxmaj goal 14.40 xxmaj in addition , the spread of invasive species has been recognized as one of</td>\n",
              "      <td>14;15</td>\n",
              "      <td>15</td>\n",
              "    </tr>\n",
              "    <tr>\n",
              "      <td>xxbos xxmaj sub - xxmaj goal 5.3 : xxmaj major infrastructure development does not impose risk to the integrity of natural ecosystems and society , and the modal share of environmentally friendly transport has been increased . xxmaj india has a general target of increasing investment in infrastructure as percentage of xxup gdp . xxmaj european countries and xxmaj japan have no goals or targets for the construction of major</td>\n",
              "      <td>5</td>\n",
              "      <td></td>\n",
              "    </tr>\n",
              "    <tr>\n",
              "      <td>xxbos xxunk means of communication , especially for small and family farmers , pastoralists , and fishers , with a particular focus on women ] [ xxmaj alternative 2.5 : by 2030 , develop food systems that are more productive , sustainable , resilient and efficient , and minimize adverse human and environmental impacts without compromising food and nutrition security with focus on substantially strengthening local food production systems ]</td>\n",
              "      <td>3</td>\n",
              "      <td>3</td>\n",
              "    </tr>\n",
              "    <tr>\n",
              "      <td>xxbos waste ( xxmaj goal 12 ) , domestic resource mobilisation ( xxmaj goal xxmaj each of the 17 targets we selected broadly reflects the 17 ) and marine environment ( xxmaj goal 14 ) . xxmaj for the first essence of its overarching goal . xxmaj that said , the projections three , country - level projections are xxunk . xxmaj for marine only relate to a specific target</td>\n",
              "      <td>12;14</td>\n",
              "      <td>12;13;14</td>\n",
              "    </tr>\n",
              "    <tr>\n",
              "      <td>xxbos 19 ) . xxmaj the xxup hlp states that “ cities are where the battle for sustainable development will be won or lost , ” but decided against a separate goal for cities , in order to avoid an urban - versus - rural priority competition ( xxup xxunk , 2013 , p. 17 ) . xxmaj the xxup sdsn emphasizes that by 2050 around two thirds of the</td>\n",
              "      <td>1;2;5;8;9</td>\n",
              "      <td>1;11</td>\n",
              "    </tr>\n",
              "    <tr>\n",
              "      <td>xxbos xxmaj in most cases , countries are moving slowly towards the universal provision of services , with the aim of gradually improving benefits , quality and financial protection by focusing initially on the needs of people living in poverty and other disadvantaged groups who most often are not covered by programmes in place ( xxmaj xxunk and others , 2015 ; xxmaj cecchini and others , 2015 ) .</td>\n",
              "      <td>4</td>\n",
              "      <td>4</td>\n",
              "    </tr>\n",
              "    <tr>\n",
              "      <td>xxbos xxmaj the comprehensive xxmaj midterm xxmaj review , which was held in xxmaj may 2016 in xxmaj antalya xxmaj turkey , was an important milestone in the review and monitoring of the ipoa. xxmaj it stressed that the implementation of the agreed actions needs to be accelerated in order to meet the goals and targets , with a special focus on resilience building and means of implementation , including</td>\n",
              "      <td>17</td>\n",
              "      <td>17</td>\n",
              "    </tr>\n",
              "    <tr>\n",
              "      <td>xxbos xxmaj reduce inequality within and among countries xxmaj tourism can be a powerful tool for community development and reducing inequalities if it engages local populations and all key stakeholders in its development . xxmaj tourism can contribute to urban renewal and rural development and reduce regional imbalances by giving communities the opportunity to prosper in their place of origin . xxmaj tourism is also an effective means for developing</td>\n",
              "      <td>12;14</td>\n",
              "      <td></td>\n",
              "    </tr>\n",
              "    <tr>\n",
              "      <td>xxbos xxmaj united xxmaj nations xxmaj conference on xxmaj trade and xxmaj development xxmaj similarly , mandatory provisions in articles 6–10 of the xxmaj agreement on xxmaj trade xxmaj facilitation , focusing on customs procedures and documentation , should lead to a shift from physical controls at border crossings , entailing delays and interference in the movement of goods , to information treatment , resulting in higher levels of security</td>\n",
              "      <td>16;17;8;9</td>\n",
              "      <td>8</td>\n",
              "    </tr>\n",
              "    <tr>\n",
              "      <td>xxbos xxmaj medicines and technologies access : xxmaj many people still lack regular access to essential medicines and xxunk xxmaj for instance , access to xxup ncd drugs is still very poor in many low- and lower - middle - income countries ( xxmaj figure xxunk xxmaj similarly , in a survey , 25 countries reported being unable to screen all donated blood for one or more of xxup hiv</td>\n",
              "      <td>3</td>\n",
              "      <td>3</td>\n",
              "    </tr>\n",
              "    <tr>\n",
              "      <td>xxbos xxmaj united xxmaj nations xxmaj conference on xxmaj trade and xxmaj development ( xxunk ) ( xxunk ) the premises of small and medium - sized enterprises – remains in many developing countries the area where trade facilitation can make xxunk for small businesses . xxmaj many specific trade facilitation measures help xxunk collection and the enforcement of health , safety and other relevant regulations . xxmaj xxunk misconception</td>\n",
              "      <td>8</td>\n",
              "      <td></td>\n",
              "    </tr>\n",
              "    <tr>\n",
              "      <td>xxbos xxmaj proposed goal 10 . xxmaj reduce xxmaj minimize social , economic and political inequality within and among countries xxmaj comments : xxmaj we are particularly pleased that the xxup owg has included a xxmaj stand - alone xxmaj goal on xxmaj equality ( xxmaj goal 10 ) in the new xxmaj zero xxmaj draft issued on 02 xxmaj june 2014 . a xxmaj stand - alone xxmaj goal</td>\n",
              "      <td>1;10</td>\n",
              "      <td>1;10</td>\n",
              "    </tr>\n",
              "    <tr>\n",
              "      <td>xxbos xxmaj new 13.6 : by xxunk reduce use of fossil fuel and emissions in developed countries by having appropriate burden sharing and atmospheric space based on common but differentiated responsibilities ] [ xxmaj new 13.7 : by xxunk enhance and ensure cooperation of developed countries in mitigation , adaptation in developing and poor countries and xxup sids , through technology transfer and financial assistance ] xxmaj proposed goal 14</td>\n",
              "      <td>14;15</td>\n",
              "      <td>14;15</td>\n",
              "    </tr>\n",
              "    <tr>\n",
              "      <td>xxbos xxmaj lima is the only exception in our sample , as it is projected to meet target 2.2 if current reductions in stunting continue . xxmaj thus xxmaj peru ’s experience can offer valuable insights . xxmaj in fact , fighting stunting is part of a larger government strategy to fight under - nutrition , the xxmaj national xxmaj strategy for xxmaj social xxmaj development and xxmaj inclusion ,</td>\n",
              "      <td>2;3;4;6</td>\n",
              "      <td>2;3;4;6</td>\n",
              "    </tr>\n",
              "    <tr>\n",
              "      <td>xxbos xxmaj proposed goal 6 . xxmaj secure water and sanitation for all for a sustainable world [ xxmaj alternative 6.1 : by 2030 , safe drinking water and sanitation be made legally enforceable rights ] [ 6.1 and 6.2 be merged as follows : by 2030 , provide universal affordable , appropriate and acceptable access to safe and affordable drinking water , adequate sanitation and hygiene for all ,</td>\n",
              "      <td>6;7</td>\n",
              "      <td>6;7</td>\n",
              "    </tr>\n",
              "    <tr>\n",
              "      <td>xxbos xxmaj the xxmaj scientific and xxmaj technological xxmaj community welcomes the set of xxmaj goals to be reviewed in this session , and would like to recall some of its activities that support their implementation . xxmaj the publication of the xxmaj international xxmaj social xxmaj science xxmaj council , xxmaj world xxmaj social xxmaj science xxmaj report 2016 , xxmaj challenging xxmaj inequalities : xxmaj pathways to a</td>\n",
              "      <td>1;11;14;3;5;9</td>\n",
              "      <td>1;14;3;5;9</td>\n",
              "    </tr>\n",
              "    <tr>\n",
              "      <td>xxbos xxmaj based on this global vision and approach , xxup h&amp;m has then created tailor - made local projects adapting those to the different contexts of each country ’s industrial relations environment . xxmaj in doing so , the company has identified different partners to collaborate with to achieve this in the different countries . xxmaj to xxmaj xxunk , implementation of the sdgs and business strategy has to</td>\n",
              "      <td>10</td>\n",
              "      <td>10</td>\n",
              "    </tr>\n",
              "  </tbody>\n",
              "</table>"
            ],
            "text/plain": [
              "<IPython.core.display.HTML object>"
            ]
          },
          "metadata": {
            "tags": []
          }
        }
      ]
    },
    {
      "cell_type": "markdown",
      "metadata": {
        "id": "zLahFKxdD9_z",
        "colab_type": "text"
      },
      "source": [
        "## GPU information"
      ]
    },
    {
      "cell_type": "markdown",
      "metadata": {
        "id": "_ddL2ZFfD3bo",
        "colab_type": "text"
      },
      "source": [
        "Get information on the machine the experiment is run"
      ]
    },
    {
      "cell_type": "code",
      "metadata": {
        "id": "YQ0euYgFDkcs",
        "colab_type": "code",
        "colab": {}
      },
      "source": [
        "from tensorflow.python.client import device_lib\n",
        "device_lib.list_local_devices()"
      ],
      "execution_count": 0,
      "outputs": []
    },
    {
      "cell_type": "code",
      "metadata": {
        "id": "x4bu6deVDlRw",
        "colab_type": "code",
        "colab": {}
      },
      "source": [
        "from fastai.utils.show_install import *\n",
        "show_install()"
      ],
      "execution_count": 0,
      "outputs": []
    },
    {
      "cell_type": "markdown",
      "metadata": {
        "id": "8tzIIHGtEOMT",
        "colab_type": "text"
      },
      "source": [
        "## Evaluate results using Scikit Learn"
      ]
    },
    {
      "cell_type": "code",
      "metadata": {
        "id": "fzS05etSF4zX",
        "colab_type": "code",
        "colab": {}
      },
      "source": [
        "from sklearn.metrics import precision_score, recall_score, accuracy_score, f1_score\n",
        "from sklearn.metrics import classification_report\n",
        "y_pred, y_true = learn.get_preds()"
      ],
      "execution_count": 0,
      "outputs": []
    },
    {
      "cell_type": "code",
      "metadata": {
        "id": "UZtal1AhEHpQ",
        "colab_type": "code",
        "colab": {}
      },
      "source": [
        "y_true = y_true.numpy()\n",
        "y_pred = y_pred.numpy()"
      ],
      "execution_count": 0,
      "outputs": []
    },
    {
      "cell_type": "code",
      "metadata": {
        "id": "G7FC1kr4YAX4",
        "colab_type": "code",
        "colab": {}
      },
      "source": [
        "threshold = 0.3"
      ],
      "execution_count": 0,
      "outputs": []
    },
    {
      "cell_type": "code",
      "metadata": {
        "id": "_XfjwMQyEjYx",
        "colab_type": "code",
        "colab": {
          "base_uri": "https://localhost:8080/",
          "height": 476
        },
        "outputId": "def79d38-f45d-46a0-8d59-73f42ff5c5e1"
      },
      "source": [
        "metrics = classification_report(y_true, y_pred>threshold, target_names=data_clas.valid_ds.classes)\n",
        "print(metrics)"
      ],
      "execution_count": 153,
      "outputs": [
        {
          "output_type": "stream",
          "text": [
            "              precision    recall  f1-score   support\n",
            "\n",
            "           1       0.87      0.88      0.87        88\n",
            "          10       0.65      0.69      0.67        52\n",
            "          11       0.84      0.82      0.83        82\n",
            "          12       0.75      0.87      0.81        55\n",
            "          13       0.83      0.91      0.87        70\n",
            "          14       0.94      0.91      0.93       112\n",
            "          15       0.88      0.86      0.87        66\n",
            "          16       0.82      0.86      0.84        92\n",
            "          17       0.93      0.79      0.85       117\n",
            "           2       0.81      0.74      0.77        85\n",
            "           3       0.82      0.86      0.84       105\n",
            "           4       0.88      0.93      0.90        80\n",
            "           5       0.80      0.76      0.78        97\n",
            "           6       0.86      0.90      0.88        70\n",
            "           7       0.92      0.95      0.93        82\n",
            "           8       0.86      0.82      0.84        83\n",
            "           9       0.92      0.67      0.78        70\n",
            "\n",
            "   micro avg       0.85      0.84      0.84      1406\n",
            "   macro avg       0.85      0.84      0.84      1406\n",
            "weighted avg       0.85      0.84      0.84      1406\n",
            " samples avg       0.81      0.83      0.81      1406\n",
            "\n"
          ],
          "name": "stdout"
        },
        {
          "output_type": "stream",
          "text": [
            "/usr/local/lib/python3.6/dist-packages/sklearn/metrics/classification.py:1437: UndefinedMetricWarning: Precision and F-score are ill-defined and being set to 0.0 in samples with no predicted labels.\n",
            "  'precision', 'predicted', average, warn_for)\n"
          ],
          "name": "stderr"
        }
      ]
    }
  ]
}