{
  "nbformat": 4,
  "nbformat_minor": 0,
  "metadata": {
    "colab": {
      "name": "sdgs_lstm.ipynb",
      "version": "0.3.2",
      "provenance": [],
      "collapsed_sections": [],
      "include_colab_link": true
    },
    "language_info": {
      "codemirror_mode": {
        "name": "ipython",
        "version": 3
      },
      "file_extension": ".py",
      "mimetype": "text/x-python",
      "name": "python",
      "nbconvert_exporter": "python",
      "pygments_lexer": "ipython3",
      "version": "3.7.3"
    },
    "kernelspec": {
      "name": "python3",
      "display_name": "Python 3"
    },
    "accelerator": "GPU"
  },
  "cells": [
    {
      "cell_type": "markdown",
      "metadata": {
        "id": "view-in-github",
        "colab_type": "text"
      },
      "source": [
        "<a href=\"https://colab.research.google.com/github/vondersam/sdgs_text_classifier/blob/master/experiments/sdgs_lstm.ipynb\" target=\"_parent\"><img src=\"https://colab.research.google.com/assets/colab-badge.svg\" alt=\"Open In Colab\"/></a>"
      ]
    },
    {
      "cell_type": "code",
      "metadata": {
        "id": "sryx1fTY2kNf",
        "colab_type": "code",
        "colab": {}
      },
      "source": [
        "!pip install PyDrive"
      ],
      "execution_count": 0,
      "outputs": []
    },
    {
      "cell_type": "code",
      "metadata": {
        "id": "MB23PSdmxK5w",
        "colab_type": "code",
        "colab": {}
      },
      "source": [
        "from pydrive.auth import GoogleAuth\n",
        "from pydrive.drive import GoogleDrive\n",
        "from google.colab import auth\n",
        "from oauth2client.client import GoogleCredentials\n",
        "\n",
        "auth.authenticate_user()\n",
        "gauth = GoogleAuth()\n",
        "gauth.credentials = GoogleCredentials.get_application_default()\n",
        "drive = GoogleDrive(gauth)"
      ],
      "execution_count": 0,
      "outputs": []
    },
    {
      "cell_type": "code",
      "metadata": {
        "id": "d19EdmDq24ax",
        "colab_type": "code",
        "colab": {}
      },
      "source": [
        "pre = drive.CreateFile({'id':'1ojX1O9ifhZdT78l5mcD-Ctx6yapF7T5o'})\n",
        "pre.GetContentFile('preprocess.ipynb')"
      ],
      "execution_count": 0,
      "outputs": []
    },
    {
      "cell_type": "code",
      "metadata": {
        "id": "CtDHsF-O4VeR",
        "colab_type": "code",
        "colab": {}
      },
      "source": [
        "from preprocessing import count_mas"
      ],
      "execution_count": 0,
      "outputs": []
    },
    {
      "cell_type": "code",
      "metadata": {
        "colab_type": "code",
        "id": "itVUcAwDCnCP",
        "colab": {}
      },
      "source": [
        "from google.colab import drive\n",
        "drive.mount('/content/gdrive', force_remount=True)\n",
        "base_dir = \"gdrive/My Drive/fastai-v3/sdgs/\"\n",
        "dataset_dir = base_dir + \"lstm/\""
      ],
      "execution_count": 0,
      "outputs": []
    },
    {
      "cell_type": "code",
      "metadata": {
        "colab_type": "code",
        "id": "GFXrTP1PCs0Y",
        "colab": {}
      },
      "source": [
        "from fastai.text import *"
      ],
      "execution_count": 0,
      "outputs": []
    },
    {
      "cell_type": "markdown",
      "metadata": {
        "colab_type": "text",
        "id": "KiIJJ01XCwle"
      },
      "source": [
        "## Uploading the data"
      ]
    },
    {
      "cell_type": "code",
      "metadata": {
        "id": "wS_rW9djL5nQ",
        "colab_type": "code",
        "outputId": "5a8669f6-7ab5-4c08-8ba7-d5e25f9abe02",
        "colab": {
          "base_uri": "https://localhost:8080/",
          "height": 204
        }
      },
      "source": [
        "source_path = Path(dataset_dir + 'cleanup_labelled.csv')\n",
        "df = pd.read_csv(source_path)\n",
        "df.head()"
      ],
      "execution_count": 0,
      "outputs": [
        {
          "output_type": "execute_result",
          "data": {
            "text/html": [
              "<div>\n",
              "<style scoped>\n",
              "    .dataframe tbody tr th:only-of-type {\n",
              "        vertical-align: middle;\n",
              "    }\n",
              "\n",
              "    .dataframe tbody tr th {\n",
              "        vertical-align: top;\n",
              "    }\n",
              "\n",
              "    .dataframe thead th {\n",
              "        text-align: right;\n",
              "    }\n",
              "</style>\n",
              "<table border=\"1\" class=\"dataframe\">\n",
              "  <thead>\n",
              "    <tr style=\"text-align: right;\">\n",
              "      <th></th>\n",
              "      <th>text</th>\n",
              "      <th>labels</th>\n",
              "      <th>doc_id</th>\n",
              "    </tr>\n",
              "  </thead>\n",
              "  <tbody>\n",
              "    <tr>\n",
              "      <th>0</th>\n",
              "      <td>Goal 8: Decent work and economic growth</td>\n",
              "      <td>8</td>\n",
              "      <td>downloadable_pdfs/http:__www.dev.sdgfund.org_%...</td>\n",
              "    </tr>\n",
              "    <tr>\n",
              "      <th>1</th>\n",
              "      <td>The day after receiving the 2016 Pritzker Laur...</td>\n",
              "      <td>11</td>\n",
              "      <td>downloadable_pdfs/http:__www.dev.sdgfund.org_a...</td>\n",
              "    </tr>\n",
              "    <tr>\n",
              "      <th>2</th>\n",
              "      <td>For Paloma Duran, SDG Fund director, this proj...</td>\n",
              "      <td>16</td>\n",
              "      <td>downloadable_pdfs/http:__www.dev.sdgfund.org_b...</td>\n",
              "    </tr>\n",
              "    <tr>\n",
              "      <th>3</th>\n",
              "      <td>Rangita de Silva, Associate Dean of the Univer...</td>\n",
              "      <td>5</td>\n",
              "      <td>downloadable_pdfs/http:__www.dev.sdgfund.org_b...</td>\n",
              "    </tr>\n",
              "    <tr>\n",
              "      <th>4</th>\n",
              "      <td>The SDG Fund, an interagency mechanism establi...</td>\n",
              "      <td>16</td>\n",
              "      <td>downloadable_pdfs/http:__www.dev.sdgfund.org_b...</td>\n",
              "    </tr>\n",
              "  </tbody>\n",
              "</table>\n",
              "</div>"
            ],
            "text/plain": [
              "                                                text  ...                                             doc_id\n",
              "0            Goal 8: Decent work and economic growth  ...  downloadable_pdfs/http:__www.dev.sdgfund.org_%...\n",
              "1  The day after receiving the 2016 Pritzker Laur...  ...  downloadable_pdfs/http:__www.dev.sdgfund.org_a...\n",
              "2  For Paloma Duran, SDG Fund director, this proj...  ...  downloadable_pdfs/http:__www.dev.sdgfund.org_b...\n",
              "3  Rangita de Silva, Associate Dean of the Univer...  ...  downloadable_pdfs/http:__www.dev.sdgfund.org_b...\n",
              "4  The SDG Fund, an interagency mechanism establi...  ...  downloadable_pdfs/http:__www.dev.sdgfund.org_b...\n",
              "\n",
              "[5 rows x 3 columns]"
            ]
          },
          "metadata": {
            "tags": []
          },
          "execution_count": 3
        }
      ]
    },
    {
      "cell_type": "markdown",
      "metadata": {
        "id": "TM5R8MrpD9ja",
        "colab_type": "text"
      },
      "source": [
        "We first create a general language model with the unlabelled data, which we will later fit into the WikiText 103 language model, so that it has more information about SDGs."
      ]
    },
    {
      "cell_type": "code",
      "metadata": {
        "id": "eeaPUkUiRla6",
        "colab_type": "code",
        "colab": {}
      },
      "source": [
        "#data_lm = TextLMDataBunch.from_csv(dataset_dir, 'cleanup_unlabelled.csv')"
      ],
      "execution_count": 0,
      "outputs": []
    },
    {
      "cell_type": "code",
      "metadata": {
        "id": "mD9GZMqpRLNY",
        "colab_type": "code",
        "colab": {}
      },
      "source": [
        "#data_lm.show_batch()\n",
        "#data_lm.save('data_lm_export.pkl')\n",
        "path = Path(dataset_dir)\n",
        "data_lm = load_data(path, 'data_lm_export.pkl')"
      ],
      "execution_count": 0,
      "outputs": []
    },
    {
      "cell_type": "markdown",
      "metadata": {
        "id": "F64WFx3bKiZq",
        "colab_type": "text"
      },
      "source": [
        "# Training the general language model"
      ]
    },
    {
      "cell_type": "markdown",
      "metadata": {
        "id": "yLwASThLN65j",
        "colab_type": "text"
      },
      "source": [
        "We train on the first layer of the language model with all the data and a pretrained language model from the WikiText 103. This is included in the architecture of AWD_LSTM."
      ]
    },
    {
      "cell_type": "code",
      "metadata": {
        "id": "aRQHabOwpmwy",
        "colab_type": "code",
        "colab": {}
      },
      "source": [
        "learn = language_model_learner(data_lm, AWD_LSTM, drop_mult=0.3)"
      ],
      "execution_count": 0,
      "outputs": []
    },
    {
      "cell_type": "code",
      "metadata": {
        "id": "Ak-OSKYmGfbu",
        "colab_type": "code",
        "outputId": "d5bb71a1-2ca8-4c1a-9046-18494ff98d74",
        "colab": {
          "base_uri": "https://localhost:8080/",
          "height": 300
        }
      },
      "source": [
        "learn.lr_find()\n",
        "learn.recorder.plot(skip_end=15)"
      ],
      "execution_count": 0,
      "outputs": [
        {
          "output_type": "display_data",
          "data": {
            "text/html": [
              ""
            ],
            "text/plain": [
              "<IPython.core.display.HTML object>"
            ]
          },
          "metadata": {
            "tags": []
          }
        },
        {
          "output_type": "stream",
          "text": [
            "LR Finder is complete, type {learner_name}.recorder.plot() to see the graph.\n"
          ],
          "name": "stdout"
        },
        {
          "output_type": "display_data",
          "data": {
            "image/png": "[encoded data removed]",
            "text/plain": [
              "<Figure size 432x288 with 1 Axes>"
            ]
          },
          "metadata": {
            "tags": []
          }
        }
      ]
    },
    {
      "cell_type": "code",
      "metadata": {
        "id": "Jiyv5xGFAEYQ",
        "colab_type": "code",
        "outputId": "96a9f006-0194-4680-dec5-47c2a1e0a017",
        "colab": {
          "base_uri": "https://localhost:8080/",
          "height": 80
        }
      },
      "source": [
        "learn.fit_one_cycle(1, 1e-2, moms=(0.8,0.7))"
      ],
      "execution_count": 0,
      "outputs": [
        {
          "output_type": "display_data",
          "data": {
            "text/html": [
              "<table border=\"1\" class=\"dataframe\">\n",
              "  <thead>\n",
              "    <tr style=\"text-align: left;\">\n",
              "      <th>epoch</th>\n",
              "      <th>train_loss</th>\n",
              "      <th>valid_loss</th>\n",
              "      <th>accuracy</th>\n",
              "      <th>time</th>\n",
              "    </tr>\n",
              "  </thead>\n",
              "  <tbody>\n",
              "    <tr>\n",
              "      <td>0</td>\n",
              "      <td>3.683069</td>\n",
              "      <td>3.525900</td>\n",
              "      <td>0.373216</td>\n",
              "      <td>53:59</td>\n",
              "    </tr>\n",
              "  </tbody>\n",
              "</table>"
            ],
            "text/plain": [
              "<IPython.core.display.HTML object>"
            ]
          },
          "metadata": {
            "tags": []
          }
        }
      ]
    },
    {
      "cell_type": "code",
      "metadata": {
        "id": "Vvx2C2TlRVGz",
        "colab_type": "code",
        "colab": {}
      },
      "source": [
        "#learn.save('fit_head')"
      ],
      "execution_count": 0,
      "outputs": []
    },
    {
      "cell_type": "code",
      "metadata": {
        "id": "GLROGMRsRaK1",
        "colab_type": "code",
        "outputId": "81980fa7-a70f-43f4-9f28-b2a6eb29820c",
        "colab": {
          "base_uri": "https://localhost:8080/",
          "height": 1000
        }
      },
      "source": [
        "learn.load('fit_head')"
      ],
      "execution_count": 7,
      "outputs": [
        {
          "output_type": "execute_result",
          "data": {
            "text/plain": [
              "LanguageLearner(data=TextLMDataBunch;\n",
              "\n",
              "Train: LabelList (198642 items)\n",
              "x: LMTextList\n",
              "xxbos themes of the xxmaj commission where science has been effectively employed to support the,xxbos xxmaj promote and support efforts and initiatives to secure equitable access to land tenure and clarify resource rights and responsibilities , through land and tenure reform processes that respect the rule of law and are enshrined in national law , and provide access to credit for all , especially women , and that enable economic and social empowerment and poverty eradication as well as efficient and ecologically sound utilization of land and that enable women producers to become decision makers and owners in the sector , including the right to inherit land ;,xxbos xxmaj the paper is structured as follows : xxmaj section 2 presents the methodology used xxmaj section 3 describes our overall findings – an analysis of the use of targets and the degree of additional stretch that the sdgs would require xxmaj section 4 provides a more detailed analysis of the ambition of national versus global targets for 13 selected indicators xxmaj section 5 concludes , drawing lessons from this review of existing targets at national level for the sdgs . xxmaj mind the gap ? 11,xxbos xxmaj what does justice mean for women ? xxmaj justice is an ideal that has resonated throughout history , across all societies and cultures . xxmaj but what is justice ? xxmaj when it comes to defining justice , women have a range of perceptions , closely linked to the injustices they see and experience around them . xxmaj justice may be collectively desired , but it is individually experienced,xxbos xxup hiv and xxup aids : xxmaj socioeconomic xxmaj impact on xxmaj children in xxmaj senegal xxup unicef xxmaj innocenti xxmaj research xxmaj centre 77 xxmaj the movements of children following the death of one of their parents or the disruption of a marriage are intimately related to complex social and cultural practices . xxmaj when the father dies , for instance , according to tradition , the widow automatically marries his younger brother ( a custom known as xxunk ) and the children conse - quently move to another location . xxmaj when the mother dies , her sister traditionally replaces her in the household ( known xxunk ) , but informants affirmed that this practice is progressively declining in the areas covered by the survey . xxmaj however , even without xxunk , the widower typically seeks another wife without much delay , and as a result , the children of the deceased wife usually leave their father ’s house . xxmaj their mother ’s sisters may then bring them up . xxmaj in other cases , it was noted that grandmothers or aunts substituted for the parents . xxmaj the data reveal that children orphaned by xxup aids who have lost both parents are in most cases adopted by their grandmothers , who are their closest relatives . xxmaj in the sampled households affected by xxup hiv , a gradual reduction of the number of people involved in solidarity networks was observed . xxmaj responsibility for children orphaned by xxup aids , for instance , appeared to rest upon a limited number of family members . xxmaj moreover , the most substantial support appeared to be provided by projects , associations or ngos responding to xxup aids . xxmaj according to the survey data , 13 per cent of children with xxup hiv benefited from some type of xxup ngo assistance . xxmaj the majority of those children live in xxmaj tambacounda , xxmaj saint - xxmaj louis and xxmaj dakar , where there is a dynamic environment of ngos working in the area of xxup hiv . xxmaj the data further show that about 20 per cent of children infected with xxup hiv ( most of them living in xxmaj dakar , xxmaj xxunk and xxmaj tambacounda ) have had at least one parent who benefited from an income - generating programme for people living with xxup hiv . xxmaj in conclusion , after a parent ’s death , children were found likely to have enormous difficulties accommodating themselves to their new family or matrimonial arrangements . xxmaj it was often stressed by interviewees that the unstable situations de - scribed above make children feel marginal , undervalued and confronted with new and difficult challenges , a situation which , in turn , is aggravated by intra - household communication or affection deficits . xxmaj in fact , the compassion expressed by others was said to be often only temporary . xxmaj social networks : xxmaj analysis of the adult - centred questionnaire highlights many ways in which interpersonal relationships and social networks are adversely af - fected by the presence of xxup hiv within families . xxmaj while the death of a head of family usually results in the dispersal of family members ( wives and children ) who move into other , possibly separate , domestic units , the presence of xxup hiv infection may cause disintegration or reorganization of the family unit . a second feature that indicates the relative decline of social networks is the practice of sharing meals together . xxmaj in traditional and rural families , meals are shared not only with household members but also with people who do not live in the same\n",
              "y: LMLabelList\n",
              ",,,,\n",
              "Path: gdrive/My Drive/fastai-v3/sdgs/lstm;\n",
              "\n",
              "Valid: LabelList (49661 items)\n",
              "x: LMTextList\n",
              "xxbos xxmaj all of consortium members have strong expertise in xxup sti , whether at the national and regional level , or internationally,xxbos xxmaj challenges identified in the region include need for more stringent standards for emission and production technologies , relatively high cost of renewable energy sources , heavy dependence on energy imports , insufficient information and training , and limited budgets .,xxbos xxmaj prior to the session , invited participants were required to submit applications for partnerships presentations at the fair . xxmaj presentations at the fair were selected according to the xxmaj bali guidelines that are posted on the xxmaj commission secretariat web site .,xxbos xxmaj at the global level , the implementation and monitoring mechanisms established after the xxmaj brussels xxmaj programme of xxmaj action should be strengthened and improved for the effective implementation of the xxmaj programme of xxmaj action . xxmaj the xxmaj general xxmaj assembly should continue to monitor the implementation of this xxmaj programme of xxmaj action on an annual basis under the specific item on its agenda .,xxbos xxmaj invites xxmaj governments and others in a position to do so to provide financial support for the implementation of the present resolution , in particular in the area of technology support , data infrastructure and capacity - building , so that developing countries can engage effectively and take advantage of the benefits of platforms such as xxup unep xxmaj live ;\n",
              "y: LMLabelList\n",
              ",,,,\n",
              "Path: gdrive/My Drive/fastai-v3/sdgs/lstm;\n",
              "\n",
              "Test: None, model=SequentialRNN(\n",
              "  (0): AWD_LSTM(\n",
              "    (encoder): Embedding(60000, 400, padding_idx=1)\n",
              "    (encoder_dp): EmbeddingDropout(\n",
              "      (emb): Embedding(60000, 400, padding_idx=1)\n",
              "    )\n",
              "    (rnns): ModuleList(\n",
              "      (0): WeightDropout(\n",
              "        (module): LSTM(400, 1152, batch_first=True)\n",
              "      )\n",
              "      (1): WeightDropout(\n",
              "        (module): LSTM(1152, 1152, batch_first=True)\n",
              "      )\n",
              "      (2): WeightDropout(\n",
              "        (module): LSTM(1152, 400, batch_first=True)\n",
              "      )\n",
              "    )\n",
              "    (input_dp): RNNDropout()\n",
              "    (hidden_dps): ModuleList(\n",
              "      (0): RNNDropout()\n",
              "      (1): RNNDropout()\n",
              "      (2): RNNDropout()\n",
              "    )\n",
              "  )\n",
              "  (1): LinearDecoder(\n",
              "    (decoder): Linear(in_features=400, out_features=60000, bias=True)\n",
              "    (output_dp): RNNDropout()\n",
              "  )\n",
              "), opt_func=functools.partial(<class 'torch.optim.adam.Adam'>, betas=(0.9, 0.99)), loss_func=FlattenedLoss of CrossEntropyLoss(), metrics=[<function accuracy at 0x7f12b1ca3d90>], true_wd=True, bn_wd=True, wd=0.01, train_bn=True, path=PosixPath('gdrive/My Drive/fastai-v3/sdgs/lstm'), model_dir='models', callback_fns=[functools.partial(<class 'fastai.basic_train.Recorder'>, add_time=True, silent=False)], callbacks=[RNNTrainer\n",
              "learn: LanguageLearner(data=TextLMDataBunch;\n",
              "\n",
              "Train: LabelList (198642 items)\n",
              "x: LMTextList\n",
              "xxbos themes of the xxmaj commission where science has been effectively employed to support the,xxbos xxmaj promote and support efforts and initiatives to secure equitable access to land tenure and clarify resource rights and responsibilities , through land and tenure reform processes that respect the rule of law and are enshrined in national law , and provide access to credit for all , especially women , and that enable economic and social empowerment and poverty eradication as well as efficient and ecologically sound utilization of land and that enable women producers to become decision makers and owners in the sector , including the right to inherit land ;,xxbos xxmaj the paper is structured as follows : xxmaj section 2 presents the methodology used xxmaj section 3 describes our overall findings – an analysis of the use of targets and the degree of additional stretch that the sdgs would require xxmaj section 4 provides a more detailed analysis of the ambition of national versus global targets for 13 selected indicators xxmaj section 5 concludes , drawing lessons from this review of existing targets at national level for the sdgs . xxmaj mind the gap ? 11,xxbos xxmaj what does justice mean for women ? xxmaj justice is an ideal that has resonated throughout history , across all societies and cultures . xxmaj but what is justice ? xxmaj when it comes to defining justice , women have a range of perceptions , closely linked to the injustices they see and experience around them . xxmaj justice may be collectively desired , but it is individually experienced,xxbos xxup hiv and xxup aids : xxmaj socioeconomic xxmaj impact on xxmaj children in xxmaj senegal xxup unicef xxmaj innocenti xxmaj research xxmaj centre 77 xxmaj the movements of children following the death of one of their parents or the disruption of a marriage are intimately related to complex social and cultural practices . xxmaj when the father dies , for instance , according to tradition , the widow automatically marries his younger brother ( a custom known as xxunk ) and the children conse - quently move to another location . xxmaj when the mother dies , her sister traditionally replaces her in the household ( known xxunk ) , but informants affirmed that this practice is progressively declining in the areas covered by the survey . xxmaj however , even without xxunk , the widower typically seeks another wife without much delay , and as a result , the children of the deceased wife usually leave their father ’s house . xxmaj their mother ’s sisters may then bring them up . xxmaj in other cases , it was noted that grandmothers or aunts substituted for the parents . xxmaj the data reveal that children orphaned by xxup aids who have lost both parents are in most cases adopted by their grandmothers , who are their closest relatives . xxmaj in the sampled households affected by xxup hiv , a gradual reduction of the number of people involved in solidarity networks was observed . xxmaj responsibility for children orphaned by xxup aids , for instance , appeared to rest upon a limited number of family members . xxmaj moreover , the most substantial support appeared to be provided by projects , associations or ngos responding to xxup aids . xxmaj according to the survey data , 13 per cent of children with xxup hiv benefited from some type of xxup ngo assistance . xxmaj the majority of those children live in xxmaj tambacounda , xxmaj saint - xxmaj louis and xxmaj dakar , where there is a dynamic environment of ngos working in the area of xxup hiv . xxmaj the data further show that about 20 per cent of children infected with xxup hiv ( most of them living in xxmaj dakar , xxmaj xxunk and xxmaj tambacounda ) have had at least one parent who benefited from an income - generating programme for people living with xxup hiv . xxmaj in conclusion , after a parent ’s death , children were found likely to have enormous difficulties accommodating themselves to their new family or matrimonial arrangements . xxmaj it was often stressed by interviewees that the unstable situations de - scribed above make children feel marginal , undervalued and confronted with new and difficult challenges , a situation which , in turn , is aggravated by intra - household communication or affection deficits . xxmaj in fact , the compassion expressed by others was said to be often only temporary . xxmaj social networks : xxmaj analysis of the adult - centred questionnaire highlights many ways in which interpersonal relationships and social networks are adversely af - fected by the presence of xxup hiv within families . xxmaj while the death of a head of family usually results in the dispersal of family members ( wives and children ) who move into other , possibly separate , domestic units , the presence of xxup hiv infection may cause disintegration or reorganization of the family unit . a second feature that indicates the relative decline of social networks is the practice of sharing meals together . xxmaj in traditional and rural families , meals are shared not only with household members but also with people who do not live in the same\n",
              "y: LMLabelList\n",
              ",,,,\n",
              "Path: gdrive/My Drive/fastai-v3/sdgs/lstm;\n",
              "\n",
              "Valid: LabelList (49661 items)\n",
              "x: LMTextList\n",
              "xxbos xxmaj all of consortium members have strong expertise in xxup sti , whether at the national and regional level , or internationally,xxbos xxmaj challenges identified in the region include need for more stringent standards for emission and production technologies , relatively high cost of renewable energy sources , heavy dependence on energy imports , insufficient information and training , and limited budgets .,xxbos xxmaj prior to the session , invited participants were required to submit applications for partnerships presentations at the fair . xxmaj presentations at the fair were selected according to the xxmaj bali guidelines that are posted on the xxmaj commission secretariat web site .,xxbos xxmaj at the global level , the implementation and monitoring mechanisms established after the xxmaj brussels xxmaj programme of xxmaj action should be strengthened and improved for the effective implementation of the xxmaj programme of xxmaj action . xxmaj the xxmaj general xxmaj assembly should continue to monitor the implementation of this xxmaj programme of xxmaj action on an annual basis under the specific item on its agenda .,xxbos xxmaj invites xxmaj governments and others in a position to do so to provide financial support for the implementation of the present resolution , in particular in the area of technology support , data infrastructure and capacity - building , so that developing countries can engage effectively and take advantage of the benefits of platforms such as xxup unep xxmaj live ;\n",
              "y: LMLabelList\n",
              ",,,,\n",
              "Path: gdrive/My Drive/fastai-v3/sdgs/lstm;\n",
              "\n",
              "Test: None, model=SequentialRNN(\n",
              "  (0): AWD_LSTM(\n",
              "    (encoder): Embedding(60000, 400, padding_idx=1)\n",
              "    (encoder_dp): EmbeddingDropout(\n",
              "      (emb): Embedding(60000, 400, padding_idx=1)\n",
              "    )\n",
              "    (rnns): ModuleList(\n",
              "      (0): WeightDropout(\n",
              "        (module): LSTM(400, 1152, batch_first=True)\n",
              "      )\n",
              "      (1): WeightDropout(\n",
              "        (module): LSTM(1152, 1152, batch_first=True)\n",
              "      )\n",
              "      (2): WeightDropout(\n",
              "        (module): LSTM(1152, 400, batch_first=True)\n",
              "      )\n",
              "    )\n",
              "    (input_dp): RNNDropout()\n",
              "    (hidden_dps): ModuleList(\n",
              "      (0): RNNDropout()\n",
              "      (1): RNNDropout()\n",
              "      (2): RNNDropout()\n",
              "    )\n",
              "  )\n",
              "  (1): LinearDecoder(\n",
              "    (decoder): Linear(in_features=400, out_features=60000, bias=True)\n",
              "    (output_dp): RNNDropout()\n",
              "  )\n",
              "), opt_func=functools.partial(<class 'torch.optim.adam.Adam'>, betas=(0.9, 0.99)), loss_func=FlattenedLoss of CrossEntropyLoss(), metrics=[<function accuracy at 0x7f12b1ca3d90>], true_wd=True, bn_wd=True, wd=0.01, train_bn=True, path=PosixPath('gdrive/My Drive/fastai-v3/sdgs/lstm'), model_dir='models', callback_fns=[functools.partial(<class 'fastai.basic_train.Recorder'>, add_time=True, silent=False)], callbacks=[...], layer_groups=[Sequential(\n",
              "  (0): WeightDropout(\n",
              "    (module): LSTM(400, 1152, batch_first=True)\n",
              "  )\n",
              "  (1): RNNDropout()\n",
              "), Sequential(\n",
              "  (0): WeightDropout(\n",
              "    (module): LSTM(1152, 1152, batch_first=True)\n",
              "  )\n",
              "  (1): RNNDropout()\n",
              "), Sequential(\n",
              "  (0): WeightDropout(\n",
              "    (module): LSTM(1152, 400, batch_first=True)\n",
              "  )\n",
              "  (1): RNNDropout()\n",
              "), Sequential(\n",
              "  (0): Embedding(60000, 400, padding_idx=1)\n",
              "  (1): EmbeddingDropout(\n",
              "    (emb): Embedding(60000, 400, padding_idx=1)\n",
              "  )\n",
              "  (2): LinearDecoder(\n",
              "    (decoder): Linear(in_features=400, out_features=60000, bias=True)\n",
              "    (output_dp): RNNDropout()\n",
              "  )\n",
              ")], add_time=True, silent=False)\n",
              "alpha: 2.0\n",
              "beta: 1.0], layer_groups=[Sequential(\n",
              "  (0): WeightDropout(\n",
              "    (module): LSTM(400, 1152, batch_first=True)\n",
              "  )\n",
              "  (1): RNNDropout()\n",
              "), Sequential(\n",
              "  (0): WeightDropout(\n",
              "    (module): LSTM(1152, 1152, batch_first=True)\n",
              "  )\n",
              "  (1): RNNDropout()\n",
              "), Sequential(\n",
              "  (0): WeightDropout(\n",
              "    (module): LSTM(1152, 400, batch_first=True)\n",
              "  )\n",
              "  (1): RNNDropout()\n",
              "), Sequential(\n",
              "  (0): Embedding(60000, 400, padding_idx=1)\n",
              "  (1): EmbeddingDropout(\n",
              "    (emb): Embedding(60000, 400, padding_idx=1)\n",
              "  )\n",
              "  (2): LinearDecoder(\n",
              "    (decoder): Linear(in_features=400, out_features=60000, bias=True)\n",
              "    (output_dp): RNNDropout()\n",
              "  )\n",
              ")], add_time=True, silent=False)"
            ]
          },
          "metadata": {
            "tags": []
          },
          "execution_count": 7
        }
      ]
    },
    {
      "cell_type": "code",
      "metadata": {
        "id": "LcKIOKCERK1S",
        "colab_type": "code",
        "outputId": "f5006faf-26cb-4002-c22a-1c771ba46910",
        "colab": {
          "base_uri": "https://localhost:8080/",
          "height": 236
        }
      },
      "source": [
        "learn.unfreeze()\n",
        "learn.fit_one_cycle(10, 1e-3, moms=(0.8,0.7))"
      ],
      "execution_count": 9,
      "outputs": [
        {
          "output_type": "display_data",
          "data": {
            "text/html": [
              "\n",
              "    <div>\n",
              "        <style>\n",
              "            /* Turns off some styling */\n",
              "            progress {\n",
              "                /* gets rid of default border in Firefox and Opera. */\n",
              "                border: none;\n",
              "                /* Needs to be in here for Safari polyfill so background images work as expected. */\n",
              "                background-size: auto;\n",
              "            }\n",
              "            .progress-bar-interrupted, .progress-bar-interrupted::-webkit-progress-bar {\n",
              "                background: #F44336;\n",
              "            }\n",
              "        </style>\n",
              "      <progress value='4' class='' max='10', style='width:300px; height:20px; vertical-align: middle;'></progress>\n",
              "      40.00% [4/10 2:03:57<3:05:56]\n",
              "    </div>\n",
              "    \n",
              "<table border=\"1\" class=\"dataframe\">\n",
              "  <thead>\n",
              "    <tr style=\"text-align: left;\">\n",
              "      <th>epoch</th>\n",
              "      <th>train_loss</th>\n",
              "      <th>valid_loss</th>\n",
              "      <th>accuracy</th>\n",
              "      <th>time</th>\n",
              "    </tr>\n",
              "  </thead>\n",
              "  <tbody>\n",
              "    <tr>\n",
              "      <td>0</td>\n",
              "      <td>3.377476</td>\n",
              "      <td>3.319256</td>\n",
              "      <td>0.397248</td>\n",
              "      <td>30:46</td>\n",
              "    </tr>\n",
              "    <tr>\n",
              "      <td>1</td>\n",
              "      <td>3.279190</td>\n",
              "      <td>3.227974</td>\n",
              "      <td>0.410936</td>\n",
              "      <td>31:02</td>\n",
              "    </tr>\n",
              "    <tr>\n",
              "      <td>2</td>\n",
              "      <td>3.206759</td>\n",
              "      <td>3.170761</td>\n",
              "      <td>0.419910</td>\n",
              "      <td>31:04</td>\n",
              "    </tr>\n",
              "    <tr>\n",
              "      <td>3</td>\n",
              "      <td>3.134039</td>\n",
              "      <td>3.119085</td>\n",
              "      <td>0.427909</td>\n",
              "      <td>31:03</td>\n",
              "    </tr>\n",
              "  </tbody>\n",
              "</table><p>\n",
              "\n",
              "    <div>\n",
              "        <style>\n",
              "            /* Turns off some styling */\n",
              "            progress {\n",
              "                /* gets rid of default border in Firefox and Opera. */\n",
              "                border: none;\n",
              "                /* Needs to be in here for Safari polyfill so background images work as expected. */\n",
              "                background-size: auto;\n",
              "            }\n",
              "            .progress-bar-interrupted, .progress-bar-interrupted::-webkit-progress-bar {\n",
              "                background: #F44336;\n",
              "            }\n",
              "        </style>\n",
              "      <progress value='449' class='' max='3724', style='width:300px; height:20px; vertical-align: middle;'></progress>\n",
              "      12.06% [449/3724 03:25<25:00 3.0069]\n",
              "    </div>\n",
              "    "
            ],
            "text/plain": [
              "<IPython.core.display.HTML object>"
            ]
          },
          "metadata": {
            "tags": []
          }
        },
        {
          "output_type": "stream",
          "text": [
            "Buffered data was truncated after reaching the output size limit."
          ],
          "name": "stdout"
        }
      ]
    },
    {
      "cell_type": "code",
      "metadata": {
        "id": "HyHBz2yMPvOR",
        "colab_type": "code",
        "colab": {}
      },
      "source": [
        "learn.save_encoder('fine_tuned_encoder')"
      ],
      "execution_count": 0,
      "outputs": []
    },
    {
      "cell_type": "code",
      "metadata": {
        "id": "p5upJ_jFSEXi",
        "colab_type": "code",
        "colab": {}
      },
      "source": [
        "learn.load_encoder('fine_tuned_encoder')"
      ],
      "execution_count": 0,
      "outputs": []
    },
    {
      "cell_type": "code",
      "metadata": {
        "id": "v8DNZHLecaMC",
        "colab_type": "code",
        "outputId": "fcf4b761-bc12-46db-b860-137ab22e4df5",
        "colab": {
          "base_uri": "https://localhost:8080/",
          "height": 34
        }
      },
      "source": [
        "learn.predict(\"African countries like\", n_words=20)"
      ],
      "execution_count": 20,
      "outputs": [
        {
          "output_type": "execute_result",
          "data": {
            "text/plain": [
              "'African countries like Benin and Burkina Faso face particularly serious obstacles to economic development , which require , among others'"
            ]
          },
          "metadata": {
            "tags": []
          },
          "execution_count": 20
        }
      ]
    },
    {
      "cell_type": "markdown",
      "metadata": {
        "id": "Ry9vK4WdPIi_",
        "colab_type": "text"
      },
      "source": [
        "# Training the classifier"
      ]
    },
    {
      "cell_type": "markdown",
      "metadata": {
        "id": "c_iAtHuKEP8P",
        "colab_type": "text"
      },
      "source": [
        "Then we load the language model for the classifier"
      ]
    },
    {
      "cell_type": "code",
      "metadata": {
        "id": "B2bWOQjaEPMq",
        "colab_type": "code",
        "colab": {}
      },
      "source": [
        "data_clas = TextClasDataBunch.from_csv(dataset_dir, 'cleanup_labelled.csv', vocab=data_lm.train_ds.vocab, bs=32, text_cols='text', label_cols=\"labels\", label_delim=\"|\")"
      ],
      "execution_count": 0,
      "outputs": []
    },
    {
      "cell_type": "code",
      "metadata": {
        "id": "v12yE_4rGgb_",
        "colab_type": "code",
        "colab": {}
      },
      "source": [
        "#data_clas.save('data_clas_export.pkl')"
      ],
      "execution_count": 0,
      "outputs": []
    },
    {
      "cell_type": "code",
      "metadata": {
        "id": "zTwxdjHCKo_E",
        "colab_type": "code",
        "colab": {}
      },
      "source": [
        "#data_clas = load_data(path, 'data_clas_export.pkl', bs=16)"
      ],
      "execution_count": 0,
      "outputs": []
    },
    {
      "cell_type": "code",
      "metadata": {
        "id": "7Pa1nx_TPnK1",
        "colab_type": "code",
        "colab": {}
      },
      "source": [
        "acc_02 = partial(accuracy_thresh, thresh=0.2)\n",
        "f_score = partial(fbeta, thresh=0.2)\n",
        "\n",
        "F1macro = partial(MultiLabelFbeta, average=\"macro\")\n",
        "F1micro = partial(MultiLabelFbeta, average=\"micro\")\n",
        "F1weighted = partial(MultiLabelFbeta, average=\"weighted\")\n",
        "\n",
        "learn = text_classifier_learner(data_clas, AWD_LSTM, drop_mult=0.5, metrics=[acc_02, f_score], callback_fns=[F1macro, F1micro, F1weighted])\n",
        "learn.load_encoder('ft_enc')\n",
        "learn.freeze()"
      ],
      "execution_count": 0,
      "outputs": []
    },
    {
      "cell_type": "code",
      "metadata": {
        "id": "liC2KN_ll2Jy",
        "colab_type": "code",
        "outputId": "cf667e6d-5199-406e-98a5-68f781a4a65a",
        "colab": {
          "base_uri": "https://localhost:8080/",
          "height": 300
        }
      },
      "source": [
        "learn.lr_find()\n",
        "learn.recorder.plot()"
      ],
      "execution_count": 51,
      "outputs": [
        {
          "output_type": "display_data",
          "data": {
            "text/html": [
              ""
            ],
            "text/plain": [
              "<IPython.core.display.HTML object>"
            ]
          },
          "metadata": {
            "tags": []
          }
        },
        {
          "output_type": "stream",
          "text": [
            "LR Finder is complete, type {learner_name}.recorder.plot() to see the graph.\n"
          ],
          "name": "stdout"
        },
        {
          "output_type": "display_data",
          "data": {
            "image/png": "[encoded data removed]",
            "text/plain": [
              "<Figure size 432x288 with 1 Axes>"
            ]
          },
          "metadata": {
            "tags": []
          }
        }
      ]
    },
    {
      "cell_type": "code",
      "metadata": {
        "id": "joqvH0W3eTEC",
        "colab_type": "code",
        "outputId": "8d7e2479-eac2-4e9c-e6c4-e955965ac0e9",
        "colab": {
          "base_uri": "https://localhost:8080/",
          "height": 80
        }
      },
      "source": [
        "learn.fit_one_cycle(1, 3e-2, moms=(0.8,0.7))"
      ],
      "execution_count": 52,
      "outputs": [
        {
          "output_type": "display_data",
          "data": {
            "text/html": [
              "<table border=\"1\" class=\"dataframe\">\n",
              "  <thead>\n",
              "    <tr style=\"text-align: left;\">\n",
              "      <th>epoch</th>\n",
              "      <th>train_loss</th>\n",
              "      <th>valid_loss</th>\n",
              "      <th>accuracy_thresh</th>\n",
              "      <th>fbeta</th>\n",
              "      <th>macro_fbeta</th>\n",
              "      <th>micro_fbeta</th>\n",
              "      <th>weighted_fbeta</th>\n",
              "      <th>time</th>\n",
              "    </tr>\n",
              "  </thead>\n",
              "  <tbody>\n",
              "    <tr>\n",
              "      <td>0</td>\n",
              "      <td>0.281346</td>\n",
              "      <td>0.248257</td>\n",
              "      <td>0.912871</td>\n",
              "      <td>0.238434</td>\n",
              "      <td>0.159213</td>\n",
              "      <td>0.163926</td>\n",
              "      <td>0.164260</td>\n",
              "      <td>00:13</td>\n",
              "    </tr>\n",
              "  </tbody>\n",
              "</table>"
            ],
            "text/plain": [
              "<IPython.core.display.HTML object>"
            ]
          },
          "metadata": {
            "tags": []
          }
        }
      ]
    },
    {
      "cell_type": "code",
      "metadata": {
        "id": "lDkP8oW_EIrW",
        "colab_type": "code",
        "colab": {}
      },
      "source": [
        "learn.save('first')"
      ],
      "execution_count": 0,
      "outputs": []
    },
    {
      "cell_type": "code",
      "metadata": {
        "id": "Pkp4PbysEL-l",
        "colab_type": "code",
        "colab": {
          "base_uri": "https://localhost:8080/",
          "height": 1000
        },
        "outputId": "2fd4d570-5417-472c-84b1-478e50394e42"
      },
      "source": [
        "learn.load('first')"
      ],
      "execution_count": 55,
      "outputs": [
        {
          "output_type": "execute_result",
          "data": {
            "text/plain": [
              "RNNLearner(data=TextClasDataBunch;\n",
              "\n",
              "Train: LabelList (4145 items)\n",
              "x: TextList\n",
              "xxbos xxmaj links to health across the sdgs relating to poverty , inequality , hunger and food insecurity , xxmaj health is implicit in almost all of the other 16 xxmaj goals , not employment and peace ( see xxmaj table 2 ) . just in xxup sdg 3 . xxmaj progress on many of the xxmaj goals will affect xxmaj the range of xxup sdg targets should incentivise the health and the achievement of the xxmaj goal can be used to development of intersectoral approaches that may help incentivise progress on migrant health , in some of the ways improve migrant health , alongside the health of other detailed below . xxmaj improving the health of migrants and all vulnerable groups . xxmaj different groups of migrants have vulnerable people will be dependent on equity , as countries specific vulnerabilities and needs according to the sector work towards achieving all sdgs , particularly those in which they work or live . xxmaj the xxup sdg targets can be xxmaj health , migration and the 2030 xxmaj agenda for xxmaj sustainable xxmaj development 5,xxbos 82 out of 100 blue chip companies demonstrated commitment to the sdgs in their xxmaj the xxup un xxmaj department of xxmaj economic and 2016 annual reports , either through explicit xxmaj social xxmaj affairs ( xxup desa ) , which leads on statements about the goals or implicit the delivery of the sdgs , is xxunk that support them . xxup sdg 13 ( xxmaj climate cal that the action of governments , civil xxmaj action ) , xxup sdg 3 ( xxmaj good xxmaj health ) and xxup sdg 10 society and the private sector is crucial ( xxmaj reduced xxmaj inequalities ) were top priorities , if these goals are to be achieved – with with the key focus varying by sector,xxbos xxmaj in anticipation of this trend , some reviewed countries have begun formulating criteria for their xxup oda , such as xxmaj korea ’s “ green xxup oda ” or xxmaj australia ’s aspiration to integrate ecologically sustainable development in all aspects of its xxup oda programs . xxmaj others ( xxmaj france ) indicate that part of their xxup oda will be channelled to significant sectors for environment and society , such as agriculture and food production . xxmaj another significant component allocated to sub - goal 11.2 is the issue of trade and its impact on all dimensions of development . xxmaj countries are recognizing that improving trade ( indicated by imports and exports ) is one way to advance development objectives . xxmaj one could imagine that international co - operation in a future development framework will take full advantage of trade as a vehicle for achieving sound development objectives and technology transfer . xxmaj this may require some criteria that differentiate trade based on its ability to advance the cause of sustainable development in general or sdgs in particular . xxmaj even though this is not happening yet , the significance of trade in promoting sustainable development is recognized by several countries ( xxmaj china and xxmaj india ) . xxmaj conflicts need to be resolved between xxmaj world xxmaj trade xxmaj organization rules on non - discrimination and possible favouritism for trade in sustainable goods , which may be necessary as a driver to incentivize environmentally sound and socially just trade . xxmaj sub - xxmaj goal 11.3 : xxmaj policies and plans are co - ordinated to integrate sdgs into decision making and implementation . xxmaj sub - goal 11.3 represents institutional aspects of sustainable development governance . xxmaj this area is concerned with clustering national and international efforts at policy co - ordination , and integration both among stakeholders and between levels of decision making . xxmaj countries rank quite differently , and there are some that do not have any entries at all in this thematic sub - goal area ( xxmaj japan ) . xxmaj on the other hand , good examples exist — from ensuring that cabinet processes facilitate the integration of sustainable development aspects into decision making ( xxmaj australia ) to bringing a national sustainable development monitoring council under purview of the xxmaj finance xxmaj minister ( xxmaj bangladesh ) . xxmaj other traditional notions of governance ( i.e. , transparency , accountability , participation ) are seen here in countries ’ national goals . xxmaj some countries propose detailed indicators to measure governance performance ( xxmaj bangladesh and xxmaj poland ) . xxmaj other countries that focus heavily on goals related to consultations imply a priority towards participation , but matching indicators seem lacking ( xxmaj france ) . xxmaj sustainable xxmaj development xxmaj goals and xxmaj indicators for a xxmaj small xxmaj planet xxmaj part i : xxmaj methodology and xxmaj goal xxmaj framework 55,xxbos xxmaj increase the access of small - scale industrial and other enterprises , in particular in developing countries , to financial services , including affordable credit , and their integration into value chains and markets,xxbos xxmaj by 2030 , ensure that all learners acquire the knowledge and skills needed to promote sustainable development , including , among others , through education for sustainable development and sustainable lifestyles , human rights , gender equality , promotion of a culture of peace and non - violence , global citizenship and appreciation of cultural diversity and of culture ’s contribution to sustainable development .\n",
              "y: MultiCategoryList\n",
              "3,3;13;10,11,9,4\n",
              "Path: gdrive/My Drive/fastai-v3/sdgs/lstm;\n",
              "\n",
              "Valid: LabelList (1037 items)\n",
              "x: TextList\n",
              "xxbos 7affordable and clean energy xxmaj energy supply xxmaj to achieve the xxup sdg 7 aim of ensuring an affordable and clean energy system , the xxup eu seeks to increase the share of renewable energy in gross final consumption of energy . xxmaj renewable energy sources are practically inexhaustible or renew within a human lifetime . xxmaj in contrast , fossil energy sources regenerate over millions of years and are the main source of man - made greenhouse gas emissions , thus contributing significantly to climate change . xxmaj the xxup eu highlights the importance of renewable energies in the context of its climate change mitigation targets and the decarbonisation of its energy system ( see also xxup sdg 13 ) . xxmaj since 2004 , the xxup eu has steadily increased its share of renewables in gross final energy consumption and is on track towards its target to increase its share of renewable energy in energy consumption to 20 % by 2020 . xxmaj ensuring an affordable and clean energy system also means the xxup eu has to reduce its dependency on energy imports which mostly comprise natural gas , crude oil and coal imports,xxbos 41 xxmaj an overarching health indicator for the xxmaj post-2015 xxmaj development xxmaj agenda : brief summary of some proposed candidate indicators . xxmaj background paper for expert consultation , 11–12 xxmaj december 2014 . xxmaj geneva : xxmaj world xxmaj health xxmaj organization ; xxmaj december 2014 ( http : / www . who.int / healthinfo / indicators / xxunk _ xxunk , accessed 13 xxmaj october 2015 ) . 42 xxmaj another approach to measuring healthy life expectancy is to rely on extensive modelling of disease and injury xxunk prevalence and distribution , and to aggregate these to population levels in order to calculate health - adjusted life expectancy ( xxup hale ) . xxmaj however , because the approach relies heavily on statistical modelling and the use of predictive variables to produce estimates of disease incidence and prevalence with disability weights for a large number of conditions , it may be unsuitable for monitoring progress , especially at the country level . 43 xxmaj these include xxmaj target 3.1 ( maternal mortality ) , 3.2 ( neonatal and child mortality ) , 3.4 xxup ncd mortality ( due to four leading causes of death ) , 3.6 ( road traffic accidents ) . 44 xxmaj xxunk xxup of , xxmaj jha p , xxmaj admasu k , xxmaj xxunk t , xxmaj hum xxup rj , xxmaj kruk xxup me et al . xxmaj avoiding 40 % of the premature deaths in each country , 2010–30 : review of national mortality trends to help quantify the xxmaj united xxmaj nations xxmaj sustainable xxmaj development xxmaj goal for health . xxmaj lancet . xxunk ( http : / www.thelancet.com / journals / lancet / article / xxup piis0140 - xxunk - 9 / fulltext , accessed 16 xxmaj september 2015 ),xxbos xxup sdg 12 : xxmaj ensuring sustainable consumption and production patterns in tourism,xxbos xxmaj changing the ' business as usual ' approach will require evidence - based decision making - and evidence in the water sector is hard to come by . xxmaj the sector is characterised by multiple stakeholders ; conflict between environmental , social and economic agendas ; and complex science , with a level of uncertainty under changing environmental conditions . xxmaj national water agendas are difficult to manage even by experts , which leads to difficulties in using data to develop policy that can lead to ambitious action under xxup sdg 6 .,xxbos xxmaj the indicators of success aim to support the framework actors and other stakeholders working on sustainable consumption and production in : ( a ) assessing and improving performance to inform the planning of activities and the allocation of funds ; and ( b ) in reporting and demonstrating progress to show accountability towards all actors and donors , communicate results to the wider public and mobilize political and financial support . xxmaj the indicators are informed by the relevant xxmaj sustainable xxmaj development xxmaj goals and associated targets and indicators , in particular those associated with xxmaj goal 12 on ensuring sustainable consumption and production patterns . xxmaj an overview of the indicators is presented in figure 1 .\n",
              "y: MultiCategoryList\n",
              "13;7,3,12,6,12\n",
              "Path: gdrive/My Drive/fastai-v3/sdgs/lstm;\n",
              "\n",
              "Test: None, model=SequentialRNN(\n",
              "  (0): MultiBatchEncoder(\n",
              "    (module): AWD_LSTM(\n",
              "      (encoder): Embedding(60000, 400, padding_idx=1)\n",
              "      (encoder_dp): EmbeddingDropout(\n",
              "        (emb): Embedding(60000, 400, padding_idx=1)\n",
              "      )\n",
              "      (rnns): ModuleList(\n",
              "        (0): WeightDropout(\n",
              "          (module): LSTM(400, 1152, batch_first=True)\n",
              "        )\n",
              "        (1): WeightDropout(\n",
              "          (module): LSTM(1152, 1152, batch_first=True)\n",
              "        )\n",
              "        (2): WeightDropout(\n",
              "          (module): LSTM(1152, 400, batch_first=True)\n",
              "        )\n",
              "      )\n",
              "      (input_dp): RNNDropout()\n",
              "      (hidden_dps): ModuleList(\n",
              "        (0): RNNDropout()\n",
              "        (1): RNNDropout()\n",
              "        (2): RNNDropout()\n",
              "      )\n",
              "    )\n",
              "  )\n",
              "  (1): PoolingLinearClassifier(\n",
              "    (layers): Sequential(\n",
              "      (0): BatchNorm1d(1200, eps=1e-05, momentum=0.1, affine=True, track_running_stats=True)\n",
              "      (1): Dropout(p=0.2)\n",
              "      (2): Linear(in_features=1200, out_features=50, bias=True)\n",
              "      (3): ReLU(inplace)\n",
              "      (4): BatchNorm1d(50, eps=1e-05, momentum=0.1, affine=True, track_running_stats=True)\n",
              "      (5): Dropout(p=0.1)\n",
              "      (6): Linear(in_features=50, out_features=17, bias=True)\n",
              "    )\n",
              "  )\n",
              "), opt_func=functools.partial(<class 'torch.optim.adam.Adam'>, betas=(0.9, 0.99)), loss_func=FlattenedLoss of BCEWithLogitsLoss(), metrics=[functools.partial(<function accuracy_thresh at 0x7f12b1ca3e18>, thresh=0.2), functools.partial(<function fbeta at 0x7f12b1ca3ae8>, thresh=0.2)], true_wd=True, bn_wd=True, wd=0.01, train_bn=True, path=PosixPath('gdrive/My Drive/fastai-v3/sdgs/lstm'), model_dir='models', callback_fns=[functools.partial(<class 'fastai.basic_train.Recorder'>, add_time=True, silent=False), functools.partial(<class 'fastai.metrics.MultiLabelFbeta'>, average='macro'), functools.partial(<class 'fastai.metrics.MultiLabelFbeta'>, average='micro'), functools.partial(<class 'fastai.metrics.MultiLabelFbeta'>, average='weighted')], callbacks=[RNNTrainer\n",
              "learn: RNNLearner(data=TextClasDataBunch;\n",
              "\n",
              "Train: LabelList (4145 items)\n",
              "x: TextList\n",
              "xxbos xxmaj links to health across the sdgs relating to poverty , inequality , hunger and food insecurity , xxmaj health is implicit in almost all of the other 16 xxmaj goals , not employment and peace ( see xxmaj table 2 ) . just in xxup sdg 3 . xxmaj progress on many of the xxmaj goals will affect xxmaj the range of xxup sdg targets should incentivise the health and the achievement of the xxmaj goal can be used to development of intersectoral approaches that may help incentivise progress on migrant health , in some of the ways improve migrant health , alongside the health of other detailed below . xxmaj improving the health of migrants and all vulnerable groups . xxmaj different groups of migrants have vulnerable people will be dependent on equity , as countries specific vulnerabilities and needs according to the sector work towards achieving all sdgs , particularly those in which they work or live . xxmaj the xxup sdg targets can be xxmaj health , migration and the 2030 xxmaj agenda for xxmaj sustainable xxmaj development 5,xxbos 82 out of 100 blue chip companies demonstrated commitment to the sdgs in their xxmaj the xxup un xxmaj department of xxmaj economic and 2016 annual reports , either through explicit xxmaj social xxmaj affairs ( xxup desa ) , which leads on statements about the goals or implicit the delivery of the sdgs , is xxunk that support them . xxup sdg 13 ( xxmaj climate cal that the action of governments , civil xxmaj action ) , xxup sdg 3 ( xxmaj good xxmaj health ) and xxup sdg 10 society and the private sector is crucial ( xxmaj reduced xxmaj inequalities ) were top priorities , if these goals are to be achieved – with with the key focus varying by sector,xxbos xxmaj in anticipation of this trend , some reviewed countries have begun formulating criteria for their xxup oda , such as xxmaj korea ’s “ green xxup oda ” or xxmaj australia ’s aspiration to integrate ecologically sustainable development in all aspects of its xxup oda programs . xxmaj others ( xxmaj france ) indicate that part of their xxup oda will be channelled to significant sectors for environment and society , such as agriculture and food production . xxmaj another significant component allocated to sub - goal 11.2 is the issue of trade and its impact on all dimensions of development . xxmaj countries are recognizing that improving trade ( indicated by imports and exports ) is one way to advance development objectives . xxmaj one could imagine that international co - operation in a future development framework will take full advantage of trade as a vehicle for achieving sound development objectives and technology transfer . xxmaj this may require some criteria that differentiate trade based on its ability to advance the cause of sustainable development in general or sdgs in particular . xxmaj even though this is not happening yet , the significance of trade in promoting sustainable development is recognized by several countries ( xxmaj china and xxmaj india ) . xxmaj conflicts need to be resolved between xxmaj world xxmaj trade xxmaj organization rules on non - discrimination and possible favouritism for trade in sustainable goods , which may be necessary as a driver to incentivize environmentally sound and socially just trade . xxmaj sub - xxmaj goal 11.3 : xxmaj policies and plans are co - ordinated to integrate sdgs into decision making and implementation . xxmaj sub - goal 11.3 represents institutional aspects of sustainable development governance . xxmaj this area is concerned with clustering national and international efforts at policy co - ordination , and integration both among stakeholders and between levels of decision making . xxmaj countries rank quite differently , and there are some that do not have any entries at all in this thematic sub - goal area ( xxmaj japan ) . xxmaj on the other hand , good examples exist — from ensuring that cabinet processes facilitate the integration of sustainable development aspects into decision making ( xxmaj australia ) to bringing a national sustainable development monitoring council under purview of the xxmaj finance xxmaj minister ( xxmaj bangladesh ) . xxmaj other traditional notions of governance ( i.e. , transparency , accountability , participation ) are seen here in countries ’ national goals . xxmaj some countries propose detailed indicators to measure governance performance ( xxmaj bangladesh and xxmaj poland ) . xxmaj other countries that focus heavily on goals related to consultations imply a priority towards participation , but matching indicators seem lacking ( xxmaj france ) . xxmaj sustainable xxmaj development xxmaj goals and xxmaj indicators for a xxmaj small xxmaj planet xxmaj part i : xxmaj methodology and xxmaj goal xxmaj framework 55,xxbos xxmaj increase the access of small - scale industrial and other enterprises , in particular in developing countries , to financial services , including affordable credit , and their integration into value chains and markets,xxbos xxmaj by 2030 , ensure that all learners acquire the knowledge and skills needed to promote sustainable development , including , among others , through education for sustainable development and sustainable lifestyles , human rights , gender equality , promotion of a culture of peace and non - violence , global citizenship and appreciation of cultural diversity and of culture ’s contribution to sustainable development .\n",
              "y: MultiCategoryList\n",
              "3,3;13;10,11,9,4\n",
              "Path: gdrive/My Drive/fastai-v3/sdgs/lstm;\n",
              "\n",
              "Valid: LabelList (1037 items)\n",
              "x: TextList\n",
              "xxbos 7affordable and clean energy xxmaj energy supply xxmaj to achieve the xxup sdg 7 aim of ensuring an affordable and clean energy system , the xxup eu seeks to increase the share of renewable energy in gross final consumption of energy . xxmaj renewable energy sources are practically inexhaustible or renew within a human lifetime . xxmaj in contrast , fossil energy sources regenerate over millions of years and are the main source of man - made greenhouse gas emissions , thus contributing significantly to climate change . xxmaj the xxup eu highlights the importance of renewable energies in the context of its climate change mitigation targets and the decarbonisation of its energy system ( see also xxup sdg 13 ) . xxmaj since 2004 , the xxup eu has steadily increased its share of renewables in gross final energy consumption and is on track towards its target to increase its share of renewable energy in energy consumption to 20 % by 2020 . xxmaj ensuring an affordable and clean energy system also means the xxup eu has to reduce its dependency on energy imports which mostly comprise natural gas , crude oil and coal imports,xxbos 41 xxmaj an overarching health indicator for the xxmaj post-2015 xxmaj development xxmaj agenda : brief summary of some proposed candidate indicators . xxmaj background paper for expert consultation , 11–12 xxmaj december 2014 . xxmaj geneva : xxmaj world xxmaj health xxmaj organization ; xxmaj december 2014 ( http : / www . who.int / healthinfo / indicators / xxunk _ xxunk , accessed 13 xxmaj october 2015 ) . 42 xxmaj another approach to measuring healthy life expectancy is to rely on extensive modelling of disease and injury xxunk prevalence and distribution , and to aggregate these to population levels in order to calculate health - adjusted life expectancy ( xxup hale ) . xxmaj however , because the approach relies heavily on statistical modelling and the use of predictive variables to produce estimates of disease incidence and prevalence with disability weights for a large number of conditions , it may be unsuitable for monitoring progress , especially at the country level . 43 xxmaj these include xxmaj target 3.1 ( maternal mortality ) , 3.2 ( neonatal and child mortality ) , 3.4 xxup ncd mortality ( due to four leading causes of death ) , 3.6 ( road traffic accidents ) . 44 xxmaj xxunk xxup of , xxmaj jha p , xxmaj admasu k , xxmaj xxunk t , xxmaj hum xxup rj , xxmaj kruk xxup me et al . xxmaj avoiding 40 % of the premature deaths in each country , 2010–30 : review of national mortality trends to help quantify the xxmaj united xxmaj nations xxmaj sustainable xxmaj development xxmaj goal for health . xxmaj lancet . xxunk ( http : / www.thelancet.com / journals / lancet / article / xxup piis0140 - xxunk - 9 / fulltext , accessed 16 xxmaj september 2015 ),xxbos xxup sdg 12 : xxmaj ensuring sustainable consumption and production patterns in tourism,xxbos xxmaj changing the ' business as usual ' approach will require evidence - based decision making - and evidence in the water sector is hard to come by . xxmaj the sector is characterised by multiple stakeholders ; conflict between environmental , social and economic agendas ; and complex science , with a level of uncertainty under changing environmental conditions . xxmaj national water agendas are difficult to manage even by experts , which leads to difficulties in using data to develop policy that can lead to ambitious action under xxup sdg 6 .,xxbos xxmaj the indicators of success aim to support the framework actors and other stakeholders working on sustainable consumption and production in : ( a ) assessing and improving performance to inform the planning of activities and the allocation of funds ; and ( b ) in reporting and demonstrating progress to show accountability towards all actors and donors , communicate results to the wider public and mobilize political and financial support . xxmaj the indicators are informed by the relevant xxmaj sustainable xxmaj development xxmaj goals and associated targets and indicators , in particular those associated with xxmaj goal 12 on ensuring sustainable consumption and production patterns . xxmaj an overview of the indicators is presented in figure 1 .\n",
              "y: MultiCategoryList\n",
              "13;7,3,12,6,12\n",
              "Path: gdrive/My Drive/fastai-v3/sdgs/lstm;\n",
              "\n",
              "Test: None, model=SequentialRNN(\n",
              "  (0): MultiBatchEncoder(\n",
              "    (module): AWD_LSTM(\n",
              "      (encoder): Embedding(60000, 400, padding_idx=1)\n",
              "      (encoder_dp): EmbeddingDropout(\n",
              "        (emb): Embedding(60000, 400, padding_idx=1)\n",
              "      )\n",
              "      (rnns): ModuleList(\n",
              "        (0): WeightDropout(\n",
              "          (module): LSTM(400, 1152, batch_first=True)\n",
              "        )\n",
              "        (1): WeightDropout(\n",
              "          (module): LSTM(1152, 1152, batch_first=True)\n",
              "        )\n",
              "        (2): WeightDropout(\n",
              "          (module): LSTM(1152, 400, batch_first=True)\n",
              "        )\n",
              "      )\n",
              "      (input_dp): RNNDropout()\n",
              "      (hidden_dps): ModuleList(\n",
              "        (0): RNNDropout()\n",
              "        (1): RNNDropout()\n",
              "        (2): RNNDropout()\n",
              "      )\n",
              "    )\n",
              "  )\n",
              "  (1): PoolingLinearClassifier(\n",
              "    (layers): Sequential(\n",
              "      (0): BatchNorm1d(1200, eps=1e-05, momentum=0.1, affine=True, track_running_stats=True)\n",
              "      (1): Dropout(p=0.2)\n",
              "      (2): Linear(in_features=1200, out_features=50, bias=True)\n",
              "      (3): ReLU(inplace)\n",
              "      (4): BatchNorm1d(50, eps=1e-05, momentum=0.1, affine=True, track_running_stats=True)\n",
              "      (5): Dropout(p=0.1)\n",
              "      (6): Linear(in_features=50, out_features=17, bias=True)\n",
              "    )\n",
              "  )\n",
              "), opt_func=functools.partial(<class 'torch.optim.adam.Adam'>, betas=(0.9, 0.99)), loss_func=FlattenedLoss of BCEWithLogitsLoss(), metrics=[functools.partial(<function accuracy_thresh at 0x7f12b1ca3e18>, thresh=0.2), functools.partial(<function fbeta at 0x7f12b1ca3ae8>, thresh=0.2)], true_wd=True, bn_wd=True, wd=0.01, train_bn=True, path=PosixPath('gdrive/My Drive/fastai-v3/sdgs/lstm'), model_dir='models', callback_fns=[functools.partial(<class 'fastai.basic_train.Recorder'>, add_time=True, silent=False), functools.partial(<class 'fastai.metrics.MultiLabelFbeta'>, average='macro'), functools.partial(<class 'fastai.metrics.MultiLabelFbeta'>, average='micro'), functools.partial(<class 'fastai.metrics.MultiLabelFbeta'>, average='weighted')], callbacks=[...], layer_groups=[Sequential(\n",
              "  (0): Embedding(60000, 400, padding_idx=1)\n",
              "  (1): EmbeddingDropout(\n",
              "    (emb): Embedding(60000, 400, padding_idx=1)\n",
              "  )\n",
              "), Sequential(\n",
              "  (0): WeightDropout(\n",
              "    (module): LSTM(400, 1152, batch_first=True)\n",
              "  )\n",
              "  (1): RNNDropout()\n",
              "), Sequential(\n",
              "  (0): WeightDropout(\n",
              "    (module): LSTM(1152, 1152, batch_first=True)\n",
              "  )\n",
              "  (1): RNNDropout()\n",
              "), Sequential(\n",
              "  (0): WeightDropout(\n",
              "    (module): LSTM(1152, 400, batch_first=True)\n",
              "  )\n",
              "  (1): RNNDropout()\n",
              "), Sequential(\n",
              "  (0): PoolingLinearClassifier(\n",
              "    (layers): Sequential(\n",
              "      (0): BatchNorm1d(1200, eps=1e-05, momentum=0.1, affine=True, track_running_stats=True)\n",
              "      (1): Dropout(p=0.2)\n",
              "      (2): Linear(in_features=1200, out_features=50, bias=True)\n",
              "      (3): ReLU(inplace)\n",
              "      (4): BatchNorm1d(50, eps=1e-05, momentum=0.1, affine=True, track_running_stats=True)\n",
              "      (5): Dropout(p=0.1)\n",
              "      (6): Linear(in_features=50, out_features=17, bias=True)\n",
              "    )\n",
              "  )\n",
              ")], add_time=True, silent=False)\n",
              "alpha: 2.0\n",
              "beta: 1.0], layer_groups=[Sequential(\n",
              "  (0): Embedding(60000, 400, padding_idx=1)\n",
              "  (1): EmbeddingDropout(\n",
              "    (emb): Embedding(60000, 400, padding_idx=1)\n",
              "  )\n",
              "), Sequential(\n",
              "  (0): WeightDropout(\n",
              "    (module): LSTM(400, 1152, batch_first=True)\n",
              "  )\n",
              "  (1): RNNDropout()\n",
              "), Sequential(\n",
              "  (0): WeightDropout(\n",
              "    (module): LSTM(1152, 1152, batch_first=True)\n",
              "  )\n",
              "  (1): RNNDropout()\n",
              "), Sequential(\n",
              "  (0): WeightDropout(\n",
              "    (module): LSTM(1152, 400, batch_first=True)\n",
              "  )\n",
              "  (1): RNNDropout()\n",
              "), Sequential(\n",
              "  (0): PoolingLinearClassifier(\n",
              "    (layers): Sequential(\n",
              "      (0): BatchNorm1d(1200, eps=1e-05, momentum=0.1, affine=True, track_running_stats=True)\n",
              "      (1): Dropout(p=0.2)\n",
              "      (2): Linear(in_features=1200, out_features=50, bias=True)\n",
              "      (3): ReLU(inplace)\n",
              "      (4): BatchNorm1d(50, eps=1e-05, momentum=0.1, affine=True, track_running_stats=True)\n",
              "      (5): Dropout(p=0.1)\n",
              "      (6): Linear(in_features=50, out_features=17, bias=True)\n",
              "    )\n",
              "  )\n",
              ")], add_time=True, silent=False)"
            ]
          },
          "metadata": {
            "tags": []
          },
          "execution_count": 55
        }
      ]
    },
    {
      "cell_type": "code",
      "metadata": {
        "id": "pV_ZVWfWe6Cq",
        "colab_type": "code",
        "outputId": "057aac6d-0859-4fec-c071-2dbb841c904e",
        "colab": {
          "base_uri": "https://localhost:8080/",
          "height": 80
        }
      },
      "source": [
        "learn.freeze_to(-2)\n",
        "learn.fit_one_cycle(1, slice(1e-2/(2.6**4),1e-2), moms=(0.8, 0.7))"
      ],
      "execution_count": 56,
      "outputs": [
        {
          "output_type": "display_data",
          "data": {
            "text/html": [
              "<table border=\"1\" class=\"dataframe\">\n",
              "  <thead>\n",
              "    <tr style=\"text-align: left;\">\n",
              "      <th>epoch</th>\n",
              "      <th>train_loss</th>\n",
              "      <th>valid_loss</th>\n",
              "      <th>accuracy_thresh</th>\n",
              "      <th>fbeta</th>\n",
              "      <th>macro_fbeta</th>\n",
              "      <th>micro_fbeta</th>\n",
              "      <th>weighted_fbeta</th>\n",
              "      <th>time</th>\n",
              "    </tr>\n",
              "  </thead>\n",
              "  <tbody>\n",
              "    <tr>\n",
              "      <td>0</td>\n",
              "      <td>0.231646</td>\n",
              "      <td>0.212196</td>\n",
              "      <td>0.910602</td>\n",
              "      <td>0.434260</td>\n",
              "      <td>0.229493</td>\n",
              "      <td>0.251029</td>\n",
              "      <td>0.243056</td>\n",
              "      <td>00:18</td>\n",
              "    </tr>\n",
              "  </tbody>\n",
              "</table>"
            ],
            "text/plain": [
              "<IPython.core.display.HTML object>"
            ]
          },
          "metadata": {
            "tags": []
          }
        }
      ]
    },
    {
      "cell_type": "code",
      "metadata": {
        "id": "Fbb6irl-Gr4U",
        "colab_type": "code",
        "colab": {}
      },
      "source": [
        "learn.save('second')"
      ],
      "execution_count": 0,
      "outputs": []
    },
    {
      "cell_type": "code",
      "metadata": {
        "id": "4qMkeA_8GtlQ",
        "colab_type": "code",
        "colab": {}
      },
      "source": [
        "lear.load('second')"
      ],
      "execution_count": 0,
      "outputs": []
    },
    {
      "cell_type": "code",
      "metadata": {
        "id": "WKm3V-5oG0oN",
        "colab_type": "code",
        "colab": {
          "base_uri": "https://localhost:8080/",
          "height": 80
        },
        "outputId": "3d70fb8b-38c8-4466-d37e-ef6a96728b30"
      },
      "source": [
        "learn.freeze_to(-3)\n",
        "learn.fit_one_cycle(1, slice(5e-3/(2.6**4),5e-3), moms=(0.8, 0.7))"
      ],
      "execution_count": 59,
      "outputs": [
        {
          "output_type": "display_data",
          "data": {
            "text/html": [
              "<table border=\"1\" class=\"dataframe\">\n",
              "  <thead>\n",
              "    <tr style=\"text-align: left;\">\n",
              "      <th>epoch</th>\n",
              "      <th>train_loss</th>\n",
              "      <th>valid_loss</th>\n",
              "      <th>accuracy_thresh</th>\n",
              "      <th>fbeta</th>\n",
              "      <th>macro_fbeta</th>\n",
              "      <th>micro_fbeta</th>\n",
              "      <th>weighted_fbeta</th>\n",
              "      <th>time</th>\n",
              "    </tr>\n",
              "  </thead>\n",
              "  <tbody>\n",
              "    <tr>\n",
              "      <td>0</td>\n",
              "      <td>0.189830</td>\n",
              "      <td>0.172758</td>\n",
              "      <td>0.927903</td>\n",
              "      <td>0.558958</td>\n",
              "      <td>0.417611</td>\n",
              "      <td>0.439797</td>\n",
              "      <td>0.433209</td>\n",
              "      <td>00:29</td>\n",
              "    </tr>\n",
              "  </tbody>\n",
              "</table>"
            ],
            "text/plain": [
              "<IPython.core.display.HTML object>"
            ]
          },
          "metadata": {
            "tags": []
          }
        }
      ]
    },
    {
      "cell_type": "code",
      "metadata": {
        "id": "L_F3lcF_HI1O",
        "colab_type": "code",
        "colab": {}
      },
      "source": [
        "learn.save('third')"
      ],
      "execution_count": 0,
      "outputs": []
    },
    {
      "cell_type": "code",
      "metadata": {
        "id": "wM4fYThpHKlU",
        "colab_type": "code",
        "colab": {
          "base_uri": "https://localhost:8080/",
          "height": 1000
        },
        "outputId": "f91ad34b-56fd-4105-d628-9c242cd94aff"
      },
      "source": [
        "learn.load('third')"
      ],
      "execution_count": 67,
      "outputs": [
        {
          "output_type": "execute_result",
          "data": {
            "text/plain": [
              "RNNLearner(data=TextClasDataBunch;\n",
              "\n",
              "Train: LabelList (4145 items)\n",
              "x: TextList\n",
              "xxbos xxmaj links to health across the sdgs relating to poverty , inequality , hunger and food insecurity , xxmaj health is implicit in almost all of the other 16 xxmaj goals , not employment and peace ( see xxmaj table 2 ) . just in xxup sdg 3 . xxmaj progress on many of the xxmaj goals will affect xxmaj the range of xxup sdg targets should incentivise the health and the achievement of the xxmaj goal can be used to development of intersectoral approaches that may help incentivise progress on migrant health , in some of the ways improve migrant health , alongside the health of other detailed below . xxmaj improving the health of migrants and all vulnerable groups . xxmaj different groups of migrants have vulnerable people will be dependent on equity , as countries specific vulnerabilities and needs according to the sector work towards achieving all sdgs , particularly those in which they work or live . xxmaj the xxup sdg targets can be xxmaj health , migration and the 2030 xxmaj agenda for xxmaj sustainable xxmaj development 5,xxbos 82 out of 100 blue chip companies demonstrated commitment to the sdgs in their xxmaj the xxup un xxmaj department of xxmaj economic and 2016 annual reports , either through explicit xxmaj social xxmaj affairs ( xxup desa ) , which leads on statements about the goals or implicit the delivery of the sdgs , is xxunk that support them . xxup sdg 13 ( xxmaj climate cal that the action of governments , civil xxmaj action ) , xxup sdg 3 ( xxmaj good xxmaj health ) and xxup sdg 10 society and the private sector is crucial ( xxmaj reduced xxmaj inequalities ) were top priorities , if these goals are to be achieved – with with the key focus varying by sector,xxbos xxmaj in anticipation of this trend , some reviewed countries have begun formulating criteria for their xxup oda , such as xxmaj korea ’s “ green xxup oda ” or xxmaj australia ’s aspiration to integrate ecologically sustainable development in all aspects of its xxup oda programs . xxmaj others ( xxmaj france ) indicate that part of their xxup oda will be channelled to significant sectors for environment and society , such as agriculture and food production . xxmaj another significant component allocated to sub - goal 11.2 is the issue of trade and its impact on all dimensions of development . xxmaj countries are recognizing that improving trade ( indicated by imports and exports ) is one way to advance development objectives . xxmaj one could imagine that international co - operation in a future development framework will take full advantage of trade as a vehicle for achieving sound development objectives and technology transfer . xxmaj this may require some criteria that differentiate trade based on its ability to advance the cause of sustainable development in general or sdgs in particular . xxmaj even though this is not happening yet , the significance of trade in promoting sustainable development is recognized by several countries ( xxmaj china and xxmaj india ) . xxmaj conflicts need to be resolved between xxmaj world xxmaj trade xxmaj organization rules on non - discrimination and possible favouritism for trade in sustainable goods , which may be necessary as a driver to incentivize environmentally sound and socially just trade . xxmaj sub - xxmaj goal 11.3 : xxmaj policies and plans are co - ordinated to integrate sdgs into decision making and implementation . xxmaj sub - goal 11.3 represents institutional aspects of sustainable development governance . xxmaj this area is concerned with clustering national and international efforts at policy co - ordination , and integration both among stakeholders and between levels of decision making . xxmaj countries rank quite differently , and there are some that do not have any entries at all in this thematic sub - goal area ( xxmaj japan ) . xxmaj on the other hand , good examples exist — from ensuring that cabinet processes facilitate the integration of sustainable development aspects into decision making ( xxmaj australia ) to bringing a national sustainable development monitoring council under purview of the xxmaj finance xxmaj minister ( xxmaj bangladesh ) . xxmaj other traditional notions of governance ( i.e. , transparency , accountability , participation ) are seen here in countries ’ national goals . xxmaj some countries propose detailed indicators to measure governance performance ( xxmaj bangladesh and xxmaj poland ) . xxmaj other countries that focus heavily on goals related to consultations imply a priority towards participation , but matching indicators seem lacking ( xxmaj france ) . xxmaj sustainable xxmaj development xxmaj goals and xxmaj indicators for a xxmaj small xxmaj planet xxmaj part i : xxmaj methodology and xxmaj goal xxmaj framework 55,xxbos xxmaj increase the access of small - scale industrial and other enterprises , in particular in developing countries , to financial services , including affordable credit , and their integration into value chains and markets,xxbos xxmaj by 2030 , ensure that all learners acquire the knowledge and skills needed to promote sustainable development , including , among others , through education for sustainable development and sustainable lifestyles , human rights , gender equality , promotion of a culture of peace and non - violence , global citizenship and appreciation of cultural diversity and of culture ’s contribution to sustainable development .\n",
              "y: MultiCategoryList\n",
              "3,3;13;10,11,9,4\n",
              "Path: gdrive/My Drive/fastai-v3/sdgs/lstm;\n",
              "\n",
              "Valid: LabelList (1037 items)\n",
              "x: TextList\n",
              "xxbos 7affordable and clean energy xxmaj energy supply xxmaj to achieve the xxup sdg 7 aim of ensuring an affordable and clean energy system , the xxup eu seeks to increase the share of renewable energy in gross final consumption of energy . xxmaj renewable energy sources are practically inexhaustible or renew within a human lifetime . xxmaj in contrast , fossil energy sources regenerate over millions of years and are the main source of man - made greenhouse gas emissions , thus contributing significantly to climate change . xxmaj the xxup eu highlights the importance of renewable energies in the context of its climate change mitigation targets and the decarbonisation of its energy system ( see also xxup sdg 13 ) . xxmaj since 2004 , the xxup eu has steadily increased its share of renewables in gross final energy consumption and is on track towards its target to increase its share of renewable energy in energy consumption to 20 % by 2020 . xxmaj ensuring an affordable and clean energy system also means the xxup eu has to reduce its dependency on energy imports which mostly comprise natural gas , crude oil and coal imports,xxbos 41 xxmaj an overarching health indicator for the xxmaj post-2015 xxmaj development xxmaj agenda : brief summary of some proposed candidate indicators . xxmaj background paper for expert consultation , 11–12 xxmaj december 2014 . xxmaj geneva : xxmaj world xxmaj health xxmaj organization ; xxmaj december 2014 ( http : / www . who.int / healthinfo / indicators / xxunk _ xxunk , accessed 13 xxmaj october 2015 ) . 42 xxmaj another approach to measuring healthy life expectancy is to rely on extensive modelling of disease and injury xxunk prevalence and distribution , and to aggregate these to population levels in order to calculate health - adjusted life expectancy ( xxup hale ) . xxmaj however , because the approach relies heavily on statistical modelling and the use of predictive variables to produce estimates of disease incidence and prevalence with disability weights for a large number of conditions , it may be unsuitable for monitoring progress , especially at the country level . 43 xxmaj these include xxmaj target 3.1 ( maternal mortality ) , 3.2 ( neonatal and child mortality ) , 3.4 xxup ncd mortality ( due to four leading causes of death ) , 3.6 ( road traffic accidents ) . 44 xxmaj xxunk xxup of , xxmaj jha p , xxmaj admasu k , xxmaj xxunk t , xxmaj hum xxup rj , xxmaj kruk xxup me et al . xxmaj avoiding 40 % of the premature deaths in each country , 2010–30 : review of national mortality trends to help quantify the xxmaj united xxmaj nations xxmaj sustainable xxmaj development xxmaj goal for health . xxmaj lancet . xxunk ( http : / www.thelancet.com / journals / lancet / article / xxup piis0140 - xxunk - 9 / fulltext , accessed 16 xxmaj september 2015 ),xxbos xxup sdg 12 : xxmaj ensuring sustainable consumption and production patterns in tourism,xxbos xxmaj changing the ' business as usual ' approach will require evidence - based decision making - and evidence in the water sector is hard to come by . xxmaj the sector is characterised by multiple stakeholders ; conflict between environmental , social and economic agendas ; and complex science , with a level of uncertainty under changing environmental conditions . xxmaj national water agendas are difficult to manage even by experts , which leads to difficulties in using data to develop policy that can lead to ambitious action under xxup sdg 6 .,xxbos xxmaj the indicators of success aim to support the framework actors and other stakeholders working on sustainable consumption and production in : ( a ) assessing and improving performance to inform the planning of activities and the allocation of funds ; and ( b ) in reporting and demonstrating progress to show accountability towards all actors and donors , communicate results to the wider public and mobilize political and financial support . xxmaj the indicators are informed by the relevant xxmaj sustainable xxmaj development xxmaj goals and associated targets and indicators , in particular those associated with xxmaj goal 12 on ensuring sustainable consumption and production patterns . xxmaj an overview of the indicators is presented in figure 1 .\n",
              "y: MultiCategoryList\n",
              "13;7,3,12,6,12\n",
              "Path: gdrive/My Drive/fastai-v3/sdgs/lstm;\n",
              "\n",
              "Test: None, model=SequentialRNN(\n",
              "  (0): MultiBatchEncoder(\n",
              "    (module): AWD_LSTM(\n",
              "      (encoder): Embedding(60000, 400, padding_idx=1)\n",
              "      (encoder_dp): EmbeddingDropout(\n",
              "        (emb): Embedding(60000, 400, padding_idx=1)\n",
              "      )\n",
              "      (rnns): ModuleList(\n",
              "        (0): WeightDropout(\n",
              "          (module): LSTM(400, 1152, batch_first=True)\n",
              "        )\n",
              "        (1): WeightDropout(\n",
              "          (module): LSTM(1152, 1152, batch_first=True)\n",
              "        )\n",
              "        (2): WeightDropout(\n",
              "          (module): LSTM(1152, 400, batch_first=True)\n",
              "        )\n",
              "      )\n",
              "      (input_dp): RNNDropout()\n",
              "      (hidden_dps): ModuleList(\n",
              "        (0): RNNDropout()\n",
              "        (1): RNNDropout()\n",
              "        (2): RNNDropout()\n",
              "      )\n",
              "    )\n",
              "  )\n",
              "  (1): PoolingLinearClassifier(\n",
              "    (layers): Sequential(\n",
              "      (0): BatchNorm1d(1200, eps=1e-05, momentum=0.1, affine=True, track_running_stats=True)\n",
              "      (1): Dropout(p=0.2)\n",
              "      (2): Linear(in_features=1200, out_features=50, bias=True)\n",
              "      (3): ReLU(inplace)\n",
              "      (4): BatchNorm1d(50, eps=1e-05, momentum=0.1, affine=True, track_running_stats=True)\n",
              "      (5): Dropout(p=0.1)\n",
              "      (6): Linear(in_features=50, out_features=17, bias=True)\n",
              "    )\n",
              "  )\n",
              "), opt_func=functools.partial(<class 'torch.optim.adam.Adam'>, betas=(0.9, 0.99)), loss_func=FlattenedLoss of BCEWithLogitsLoss(), metrics=[functools.partial(<function accuracy_thresh at 0x7f12b1ca3e18>, thresh=0.2), functools.partial(<function fbeta at 0x7f12b1ca3ae8>, thresh=0.2)], true_wd=True, bn_wd=True, wd=0.01, train_bn=True, path=PosixPath('gdrive/My Drive/fastai-v3/sdgs/lstm'), model_dir='models', callback_fns=[functools.partial(<class 'fastai.basic_train.Recorder'>, add_time=True, silent=False), functools.partial(<class 'fastai.metrics.MultiLabelFbeta'>, average='macro'), functools.partial(<class 'fastai.metrics.MultiLabelFbeta'>, average='micro'), functools.partial(<class 'fastai.metrics.MultiLabelFbeta'>, average='weighted')], callbacks=[RNNTrainer\n",
              "learn: RNNLearner(data=TextClasDataBunch;\n",
              "\n",
              "Train: LabelList (4145 items)\n",
              "x: TextList\n",
              "xxbos xxmaj links to health across the sdgs relating to poverty , inequality , hunger and food insecurity , xxmaj health is implicit in almost all of the other 16 xxmaj goals , not employment and peace ( see xxmaj table 2 ) . just in xxup sdg 3 . xxmaj progress on many of the xxmaj goals will affect xxmaj the range of xxup sdg targets should incentivise the health and the achievement of the xxmaj goal can be used to development of intersectoral approaches that may help incentivise progress on migrant health , in some of the ways improve migrant health , alongside the health of other detailed below . xxmaj improving the health of migrants and all vulnerable groups . xxmaj different groups of migrants have vulnerable people will be dependent on equity , as countries specific vulnerabilities and needs according to the sector work towards achieving all sdgs , particularly those in which they work or live . xxmaj the xxup sdg targets can be xxmaj health , migration and the 2030 xxmaj agenda for xxmaj sustainable xxmaj development 5,xxbos 82 out of 100 blue chip companies demonstrated commitment to the sdgs in their xxmaj the xxup un xxmaj department of xxmaj economic and 2016 annual reports , either through explicit xxmaj social xxmaj affairs ( xxup desa ) , which leads on statements about the goals or implicit the delivery of the sdgs , is xxunk that support them . xxup sdg 13 ( xxmaj climate cal that the action of governments , civil xxmaj action ) , xxup sdg 3 ( xxmaj good xxmaj health ) and xxup sdg 10 society and the private sector is crucial ( xxmaj reduced xxmaj inequalities ) were top priorities , if these goals are to be achieved – with with the key focus varying by sector,xxbos xxmaj in anticipation of this trend , some reviewed countries have begun formulating criteria for their xxup oda , such as xxmaj korea ’s “ green xxup oda ” or xxmaj australia ’s aspiration to integrate ecologically sustainable development in all aspects of its xxup oda programs . xxmaj others ( xxmaj france ) indicate that part of their xxup oda will be channelled to significant sectors for environment and society , such as agriculture and food production . xxmaj another significant component allocated to sub - goal 11.2 is the issue of trade and its impact on all dimensions of development . xxmaj countries are recognizing that improving trade ( indicated by imports and exports ) is one way to advance development objectives . xxmaj one could imagine that international co - operation in a future development framework will take full advantage of trade as a vehicle for achieving sound development objectives and technology transfer . xxmaj this may require some criteria that differentiate trade based on its ability to advance the cause of sustainable development in general or sdgs in particular . xxmaj even though this is not happening yet , the significance of trade in promoting sustainable development is recognized by several countries ( xxmaj china and xxmaj india ) . xxmaj conflicts need to be resolved between xxmaj world xxmaj trade xxmaj organization rules on non - discrimination and possible favouritism for trade in sustainable goods , which may be necessary as a driver to incentivize environmentally sound and socially just trade . xxmaj sub - xxmaj goal 11.3 : xxmaj policies and plans are co - ordinated to integrate sdgs into decision making and implementation . xxmaj sub - goal 11.3 represents institutional aspects of sustainable development governance . xxmaj this area is concerned with clustering national and international efforts at policy co - ordination , and integration both among stakeholders and between levels of decision making . xxmaj countries rank quite differently , and there are some that do not have any entries at all in this thematic sub - goal area ( xxmaj japan ) . xxmaj on the other hand , good examples exist — from ensuring that cabinet processes facilitate the integration of sustainable development aspects into decision making ( xxmaj australia ) to bringing a national sustainable development monitoring council under purview of the xxmaj finance xxmaj minister ( xxmaj bangladesh ) . xxmaj other traditional notions of governance ( i.e. , transparency , accountability , participation ) are seen here in countries ’ national goals . xxmaj some countries propose detailed indicators to measure governance performance ( xxmaj bangladesh and xxmaj poland ) . xxmaj other countries that focus heavily on goals related to consultations imply a priority towards participation , but matching indicators seem lacking ( xxmaj france ) . xxmaj sustainable xxmaj development xxmaj goals and xxmaj indicators for a xxmaj small xxmaj planet xxmaj part i : xxmaj methodology and xxmaj goal xxmaj framework 55,xxbos xxmaj increase the access of small - scale industrial and other enterprises , in particular in developing countries , to financial services , including affordable credit , and their integration into value chains and markets,xxbos xxmaj by 2030 , ensure that all learners acquire the knowledge and skills needed to promote sustainable development , including , among others , through education for sustainable development and sustainable lifestyles , human rights , gender equality , promotion of a culture of peace and non - violence , global citizenship and appreciation of cultural diversity and of culture ’s contribution to sustainable development .\n",
              "y: MultiCategoryList\n",
              "3,3;13;10,11,9,4\n",
              "Path: gdrive/My Drive/fastai-v3/sdgs/lstm;\n",
              "\n",
              "Valid: LabelList (1037 items)\n",
              "x: TextList\n",
              "xxbos 7affordable and clean energy xxmaj energy supply xxmaj to achieve the xxup sdg 7 aim of ensuring an affordable and clean energy system , the xxup eu seeks to increase the share of renewable energy in gross final consumption of energy . xxmaj renewable energy sources are practically inexhaustible or renew within a human lifetime . xxmaj in contrast , fossil energy sources regenerate over millions of years and are the main source of man - made greenhouse gas emissions , thus contributing significantly to climate change . xxmaj the xxup eu highlights the importance of renewable energies in the context of its climate change mitigation targets and the decarbonisation of its energy system ( see also xxup sdg 13 ) . xxmaj since 2004 , the xxup eu has steadily increased its share of renewables in gross final energy consumption and is on track towards its target to increase its share of renewable energy in energy consumption to 20 % by 2020 . xxmaj ensuring an affordable and clean energy system also means the xxup eu has to reduce its dependency on energy imports which mostly comprise natural gas , crude oil and coal imports,xxbos 41 xxmaj an overarching health indicator for the xxmaj post-2015 xxmaj development xxmaj agenda : brief summary of some proposed candidate indicators . xxmaj background paper for expert consultation , 11–12 xxmaj december 2014 . xxmaj geneva : xxmaj world xxmaj health xxmaj organization ; xxmaj december 2014 ( http : / www . who.int / healthinfo / indicators / xxunk _ xxunk , accessed 13 xxmaj october 2015 ) . 42 xxmaj another approach to measuring healthy life expectancy is to rely on extensive modelling of disease and injury xxunk prevalence and distribution , and to aggregate these to population levels in order to calculate health - adjusted life expectancy ( xxup hale ) . xxmaj however , because the approach relies heavily on statistical modelling and the use of predictive variables to produce estimates of disease incidence and prevalence with disability weights for a large number of conditions , it may be unsuitable for monitoring progress , especially at the country level . 43 xxmaj these include xxmaj target 3.1 ( maternal mortality ) , 3.2 ( neonatal and child mortality ) , 3.4 xxup ncd mortality ( due to four leading causes of death ) , 3.6 ( road traffic accidents ) . 44 xxmaj xxunk xxup of , xxmaj jha p , xxmaj admasu k , xxmaj xxunk t , xxmaj hum xxup rj , xxmaj kruk xxup me et al . xxmaj avoiding 40 % of the premature deaths in each country , 2010–30 : review of national mortality trends to help quantify the xxmaj united xxmaj nations xxmaj sustainable xxmaj development xxmaj goal for health . xxmaj lancet . xxunk ( http : / www.thelancet.com / journals / lancet / article / xxup piis0140 - xxunk - 9 / fulltext , accessed 16 xxmaj september 2015 ),xxbos xxup sdg 12 : xxmaj ensuring sustainable consumption and production patterns in tourism,xxbos xxmaj changing the ' business as usual ' approach will require evidence - based decision making - and evidence in the water sector is hard to come by . xxmaj the sector is characterised by multiple stakeholders ; conflict between environmental , social and economic agendas ; and complex science , with a level of uncertainty under changing environmental conditions . xxmaj national water agendas are difficult to manage even by experts , which leads to difficulties in using data to develop policy that can lead to ambitious action under xxup sdg 6 .,xxbos xxmaj the indicators of success aim to support the framework actors and other stakeholders working on sustainable consumption and production in : ( a ) assessing and improving performance to inform the planning of activities and the allocation of funds ; and ( b ) in reporting and demonstrating progress to show accountability towards all actors and donors , communicate results to the wider public and mobilize political and financial support . xxmaj the indicators are informed by the relevant xxmaj sustainable xxmaj development xxmaj goals and associated targets and indicators , in particular those associated with xxmaj goal 12 on ensuring sustainable consumption and production patterns . xxmaj an overview of the indicators is presented in figure 1 .\n",
              "y: MultiCategoryList\n",
              "13;7,3,12,6,12\n",
              "Path: gdrive/My Drive/fastai-v3/sdgs/lstm;\n",
              "\n",
              "Test: None, model=SequentialRNN(\n",
              "  (0): MultiBatchEncoder(\n",
              "    (module): AWD_LSTM(\n",
              "      (encoder): Embedding(60000, 400, padding_idx=1)\n",
              "      (encoder_dp): EmbeddingDropout(\n",
              "        (emb): Embedding(60000, 400, padding_idx=1)\n",
              "      )\n",
              "      (rnns): ModuleList(\n",
              "        (0): WeightDropout(\n",
              "          (module): LSTM(400, 1152, batch_first=True)\n",
              "        )\n",
              "        (1): WeightDropout(\n",
              "          (module): LSTM(1152, 1152, batch_first=True)\n",
              "        )\n",
              "        (2): WeightDropout(\n",
              "          (module): LSTM(1152, 400, batch_first=True)\n",
              "        )\n",
              "      )\n",
              "      (input_dp): RNNDropout()\n",
              "      (hidden_dps): ModuleList(\n",
              "        (0): RNNDropout()\n",
              "        (1): RNNDropout()\n",
              "        (2): RNNDropout()\n",
              "      )\n",
              "    )\n",
              "  )\n",
              "  (1): PoolingLinearClassifier(\n",
              "    (layers): Sequential(\n",
              "      (0): BatchNorm1d(1200, eps=1e-05, momentum=0.1, affine=True, track_running_stats=True)\n",
              "      (1): Dropout(p=0.2)\n",
              "      (2): Linear(in_features=1200, out_features=50, bias=True)\n",
              "      (3): ReLU(inplace)\n",
              "      (4): BatchNorm1d(50, eps=1e-05, momentum=0.1, affine=True, track_running_stats=True)\n",
              "      (5): Dropout(p=0.1)\n",
              "      (6): Linear(in_features=50, out_features=17, bias=True)\n",
              "    )\n",
              "  )\n",
              "), opt_func=functools.partial(<class 'torch.optim.adam.Adam'>, betas=(0.9, 0.99)), loss_func=FlattenedLoss of BCEWithLogitsLoss(), metrics=[functools.partial(<function accuracy_thresh at 0x7f12b1ca3e18>, thresh=0.2), functools.partial(<function fbeta at 0x7f12b1ca3ae8>, thresh=0.2)], true_wd=True, bn_wd=True, wd=0.01, train_bn=True, path=PosixPath('gdrive/My Drive/fastai-v3/sdgs/lstm'), model_dir='models', callback_fns=[functools.partial(<class 'fastai.basic_train.Recorder'>, add_time=True, silent=False), functools.partial(<class 'fastai.metrics.MultiLabelFbeta'>, average='macro'), functools.partial(<class 'fastai.metrics.MultiLabelFbeta'>, average='micro'), functools.partial(<class 'fastai.metrics.MultiLabelFbeta'>, average='weighted')], callbacks=[...], layer_groups=[Sequential(\n",
              "  (0): Embedding(60000, 400, padding_idx=1)\n",
              "  (1): EmbeddingDropout(\n",
              "    (emb): Embedding(60000, 400, padding_idx=1)\n",
              "  )\n",
              "), Sequential(\n",
              "  (0): WeightDropout(\n",
              "    (module): LSTM(400, 1152, batch_first=True)\n",
              "  )\n",
              "  (1): RNNDropout()\n",
              "), Sequential(\n",
              "  (0): WeightDropout(\n",
              "    (module): LSTM(1152, 1152, batch_first=True)\n",
              "  )\n",
              "  (1): RNNDropout()\n",
              "), Sequential(\n",
              "  (0): WeightDropout(\n",
              "    (module): LSTM(1152, 400, batch_first=True)\n",
              "  )\n",
              "  (1): RNNDropout()\n",
              "), Sequential(\n",
              "  (0): PoolingLinearClassifier(\n",
              "    (layers): Sequential(\n",
              "      (0): BatchNorm1d(1200, eps=1e-05, momentum=0.1, affine=True, track_running_stats=True)\n",
              "      (1): Dropout(p=0.2)\n",
              "      (2): Linear(in_features=1200, out_features=50, bias=True)\n",
              "      (3): ReLU(inplace)\n",
              "      (4): BatchNorm1d(50, eps=1e-05, momentum=0.1, affine=True, track_running_stats=True)\n",
              "      (5): Dropout(p=0.1)\n",
              "      (6): Linear(in_features=50, out_features=17, bias=True)\n",
              "    )\n",
              "  )\n",
              ")], add_time=True, silent=False)\n",
              "alpha: 2.0\n",
              "beta: 1.0], layer_groups=[Sequential(\n",
              "  (0): Embedding(60000, 400, padding_idx=1)\n",
              "  (1): EmbeddingDropout(\n",
              "    (emb): Embedding(60000, 400, padding_idx=1)\n",
              "  )\n",
              "), Sequential(\n",
              "  (0): WeightDropout(\n",
              "    (module): LSTM(400, 1152, batch_first=True)\n",
              "  )\n",
              "  (1): RNNDropout()\n",
              "), Sequential(\n",
              "  (0): WeightDropout(\n",
              "    (module): LSTM(1152, 1152, batch_first=True)\n",
              "  )\n",
              "  (1): RNNDropout()\n",
              "), Sequential(\n",
              "  (0): WeightDropout(\n",
              "    (module): LSTM(1152, 400, batch_first=True)\n",
              "  )\n",
              "  (1): RNNDropout()\n",
              "), Sequential(\n",
              "  (0): PoolingLinearClassifier(\n",
              "    (layers): Sequential(\n",
              "      (0): BatchNorm1d(1200, eps=1e-05, momentum=0.1, affine=True, track_running_stats=True)\n",
              "      (1): Dropout(p=0.2)\n",
              "      (2): Linear(in_features=1200, out_features=50, bias=True)\n",
              "      (3): ReLU(inplace)\n",
              "      (4): BatchNorm1d(50, eps=1e-05, momentum=0.1, affine=True, track_running_stats=True)\n",
              "      (5): Dropout(p=0.1)\n",
              "      (6): Linear(in_features=50, out_features=17, bias=True)\n",
              "    )\n",
              "  )\n",
              ")], add_time=True, silent=False)"
            ]
          },
          "metadata": {
            "tags": []
          },
          "execution_count": 67
        }
      ]
    },
    {
      "cell_type": "code",
      "metadata": {
        "id": "KncF5e80fC3B",
        "colab_type": "code",
        "outputId": "4d612d0f-fa7a-4bee-9abc-3e510576081e",
        "colab": {
          "base_uri": "https://localhost:8080/",
          "height": 359
        }
      },
      "source": [
        "learn.unfreeze()\n",
        "learn.fit_one_cycle(10, slice(1e-3/(2.6**4),1e-3), moms=(0.8, 0.7))"
      ],
      "execution_count": 68,
      "outputs": [
        {
          "output_type": "display_data",
          "data": {
            "text/html": [
              "<table border=\"1\" class=\"dataframe\">\n",
              "  <thead>\n",
              "    <tr style=\"text-align: left;\">\n",
              "      <th>epoch</th>\n",
              "      <th>train_loss</th>\n",
              "      <th>valid_loss</th>\n",
              "      <th>accuracy_thresh</th>\n",
              "      <th>fbeta</th>\n",
              "      <th>macro_fbeta</th>\n",
              "      <th>micro_fbeta</th>\n",
              "      <th>weighted_fbeta</th>\n",
              "      <th>time</th>\n",
              "    </tr>\n",
              "  </thead>\n",
              "  <tbody>\n",
              "    <tr>\n",
              "      <td>0</td>\n",
              "      <td>0.168881</td>\n",
              "      <td>0.172019</td>\n",
              "      <td>0.930626</td>\n",
              "      <td>0.548266</td>\n",
              "      <td>0.511090</td>\n",
              "      <td>0.530549</td>\n",
              "      <td>0.525620</td>\n",
              "      <td>00:31</td>\n",
              "    </tr>\n",
              "    <tr>\n",
              "      <td>1</td>\n",
              "      <td>0.166106</td>\n",
              "      <td>0.165505</td>\n",
              "      <td>0.932271</td>\n",
              "      <td>0.584525</td>\n",
              "      <td>0.533323</td>\n",
              "      <td>0.553059</td>\n",
              "      <td>0.548699</td>\n",
              "      <td>00:32</td>\n",
              "    </tr>\n",
              "    <tr>\n",
              "      <td>2</td>\n",
              "      <td>0.148114</td>\n",
              "      <td>0.146148</td>\n",
              "      <td>0.937603</td>\n",
              "      <td>0.643281</td>\n",
              "      <td>0.598660</td>\n",
              "      <td>0.616260</td>\n",
              "      <td>0.613405</td>\n",
              "      <td>00:38</td>\n",
              "    </tr>\n",
              "    <tr>\n",
              "      <td>3</td>\n",
              "      <td>0.137337</td>\n",
              "      <td>0.132870</td>\n",
              "      <td>0.941063</td>\n",
              "      <td>0.687717</td>\n",
              "      <td>0.653475</td>\n",
              "      <td>0.667635</td>\n",
              "      <td>0.665894</td>\n",
              "      <td>00:39</td>\n",
              "    </tr>\n",
              "    <tr>\n",
              "      <td>4</td>\n",
              "      <td>0.121145</td>\n",
              "      <td>0.121541</td>\n",
              "      <td>0.950309</td>\n",
              "      <td>0.722177</td>\n",
              "      <td>0.704250</td>\n",
              "      <td>0.714569</td>\n",
              "      <td>0.713650</td>\n",
              "      <td>00:32</td>\n",
              "    </tr>\n",
              "    <tr>\n",
              "      <td>5</td>\n",
              "      <td>0.107739</td>\n",
              "      <td>0.113774</td>\n",
              "      <td>0.953656</td>\n",
              "      <td>0.744270</td>\n",
              "      <td>0.739550</td>\n",
              "      <td>0.749346</td>\n",
              "      <td>0.748778</td>\n",
              "      <td>00:39</td>\n",
              "    </tr>\n",
              "    <tr>\n",
              "      <td>6</td>\n",
              "      <td>0.101359</td>\n",
              "      <td>0.112079</td>\n",
              "      <td>0.951841</td>\n",
              "      <td>0.748042</td>\n",
              "      <td>0.755568</td>\n",
              "      <td>0.764502</td>\n",
              "      <td>0.763954</td>\n",
              "      <td>00:37</td>\n",
              "    </tr>\n",
              "    <tr>\n",
              "      <td>7</td>\n",
              "      <td>0.093919</td>\n",
              "      <td>0.109958</td>\n",
              "      <td>0.953202</td>\n",
              "      <td>0.750796</td>\n",
              "      <td>0.769207</td>\n",
              "      <td>0.778629</td>\n",
              "      <td>0.778015</td>\n",
              "      <td>00:31</td>\n",
              "    </tr>\n",
              "    <tr>\n",
              "      <td>8</td>\n",
              "      <td>0.090905</td>\n",
              "      <td>0.107505</td>\n",
              "      <td>0.952805</td>\n",
              "      <td>0.757865</td>\n",
              "      <td>0.777197</td>\n",
              "      <td>0.786255</td>\n",
              "      <td>0.785658</td>\n",
              "      <td>00:35</td>\n",
              "    </tr>\n",
              "    <tr>\n",
              "      <td>9</td>\n",
              "      <td>0.088733</td>\n",
              "      <td>0.106956</td>\n",
              "      <td>0.956095</td>\n",
              "      <td>0.756621</td>\n",
              "      <td>0.782511</td>\n",
              "      <td>0.791358</td>\n",
              "      <td>0.790888</td>\n",
              "      <td>00:32</td>\n",
              "    </tr>\n",
              "  </tbody>\n",
              "</table>"
            ],
            "text/plain": [
              "<IPython.core.display.HTML object>"
            ]
          },
          "metadata": {
            "tags": []
          }
        }
      ]
    },
    {
      "cell_type": "code",
      "metadata": {
        "id": "Zv1yIw2NHvuT",
        "colab_type": "code",
        "colab": {}
      },
      "source": [
        "learn.save('fourth')"
      ],
      "execution_count": 0,
      "outputs": []
    },
    {
      "cell_type": "code",
      "metadata": {
        "id": "YLUfp23-Hxv3",
        "colab_type": "code",
        "colab": {
          "base_uri": "https://localhost:8080/",
          "height": 1000
        },
        "outputId": "3ce1d820-14d6-434f-dbed-a29a2100d803"
      },
      "source": [
        "learn.load('fourth')"
      ],
      "execution_count": 66,
      "outputs": [
        {
          "output_type": "execute_result",
          "data": {
            "text/plain": [
              "RNNLearner(data=TextClasDataBunch;\n",
              "\n",
              "Train: LabelList (4145 items)\n",
              "x: TextList\n",
              "xxbos xxmaj links to health across the sdgs relating to poverty , inequality , hunger and food insecurity , xxmaj health is implicit in almost all of the other 16 xxmaj goals , not employment and peace ( see xxmaj table 2 ) . just in xxup sdg 3 . xxmaj progress on many of the xxmaj goals will affect xxmaj the range of xxup sdg targets should incentivise the health and the achievement of the xxmaj goal can be used to development of intersectoral approaches that may help incentivise progress on migrant health , in some of the ways improve migrant health , alongside the health of other detailed below . xxmaj improving the health of migrants and all vulnerable groups . xxmaj different groups of migrants have vulnerable people will be dependent on equity , as countries specific vulnerabilities and needs according to the sector work towards achieving all sdgs , particularly those in which they work or live . xxmaj the xxup sdg targets can be xxmaj health , migration and the 2030 xxmaj agenda for xxmaj sustainable xxmaj development 5,xxbos 82 out of 100 blue chip companies demonstrated commitment to the sdgs in their xxmaj the xxup un xxmaj department of xxmaj economic and 2016 annual reports , either through explicit xxmaj social xxmaj affairs ( xxup desa ) , which leads on statements about the goals or implicit the delivery of the sdgs , is xxunk that support them . xxup sdg 13 ( xxmaj climate cal that the action of governments , civil xxmaj action ) , xxup sdg 3 ( xxmaj good xxmaj health ) and xxup sdg 10 society and the private sector is crucial ( xxmaj reduced xxmaj inequalities ) were top priorities , if these goals are to be achieved – with with the key focus varying by sector,xxbos xxmaj in anticipation of this trend , some reviewed countries have begun formulating criteria for their xxup oda , such as xxmaj korea ’s “ green xxup oda ” or xxmaj australia ’s aspiration to integrate ecologically sustainable development in all aspects of its xxup oda programs . xxmaj others ( xxmaj france ) indicate that part of their xxup oda will be channelled to significant sectors for environment and society , such as agriculture and food production . xxmaj another significant component allocated to sub - goal 11.2 is the issue of trade and its impact on all dimensions of development . xxmaj countries are recognizing that improving trade ( indicated by imports and exports ) is one way to advance development objectives . xxmaj one could imagine that international co - operation in a future development framework will take full advantage of trade as a vehicle for achieving sound development objectives and technology transfer . xxmaj this may require some criteria that differentiate trade based on its ability to advance the cause of sustainable development in general or sdgs in particular . xxmaj even though this is not happening yet , the significance of trade in promoting sustainable development is recognized by several countries ( xxmaj china and xxmaj india ) . xxmaj conflicts need to be resolved between xxmaj world xxmaj trade xxmaj organization rules on non - discrimination and possible favouritism for trade in sustainable goods , which may be necessary as a driver to incentivize environmentally sound and socially just trade . xxmaj sub - xxmaj goal 11.3 : xxmaj policies and plans are co - ordinated to integrate sdgs into decision making and implementation . xxmaj sub - goal 11.3 represents institutional aspects of sustainable development governance . xxmaj this area is concerned with clustering national and international efforts at policy co - ordination , and integration both among stakeholders and between levels of decision making . xxmaj countries rank quite differently , and there are some that do not have any entries at all in this thematic sub - goal area ( xxmaj japan ) . xxmaj on the other hand , good examples exist — from ensuring that cabinet processes facilitate the integration of sustainable development aspects into decision making ( xxmaj australia ) to bringing a national sustainable development monitoring council under purview of the xxmaj finance xxmaj minister ( xxmaj bangladesh ) . xxmaj other traditional notions of governance ( i.e. , transparency , accountability , participation ) are seen here in countries ’ national goals . xxmaj some countries propose detailed indicators to measure governance performance ( xxmaj bangladesh and xxmaj poland ) . xxmaj other countries that focus heavily on goals related to consultations imply a priority towards participation , but matching indicators seem lacking ( xxmaj france ) . xxmaj sustainable xxmaj development xxmaj goals and xxmaj indicators for a xxmaj small xxmaj planet xxmaj part i : xxmaj methodology and xxmaj goal xxmaj framework 55,xxbos xxmaj increase the access of small - scale industrial and other enterprises , in particular in developing countries , to financial services , including affordable credit , and their integration into value chains and markets,xxbos xxmaj by 2030 , ensure that all learners acquire the knowledge and skills needed to promote sustainable development , including , among others , through education for sustainable development and sustainable lifestyles , human rights , gender equality , promotion of a culture of peace and non - violence , global citizenship and appreciation of cultural diversity and of culture ’s contribution to sustainable development .\n",
              "y: MultiCategoryList\n",
              "3,3;13;10,11,9,4\n",
              "Path: gdrive/My Drive/fastai-v3/sdgs/lstm;\n",
              "\n",
              "Valid: LabelList (1037 items)\n",
              "x: TextList\n",
              "xxbos 7affordable and clean energy xxmaj energy supply xxmaj to achieve the xxup sdg 7 aim of ensuring an affordable and clean energy system , the xxup eu seeks to increase the share of renewable energy in gross final consumption of energy . xxmaj renewable energy sources are practically inexhaustible or renew within a human lifetime . xxmaj in contrast , fossil energy sources regenerate over millions of years and are the main source of man - made greenhouse gas emissions , thus contributing significantly to climate change . xxmaj the xxup eu highlights the importance of renewable energies in the context of its climate change mitigation targets and the decarbonisation of its energy system ( see also xxup sdg 13 ) . xxmaj since 2004 , the xxup eu has steadily increased its share of renewables in gross final energy consumption and is on track towards its target to increase its share of renewable energy in energy consumption to 20 % by 2020 . xxmaj ensuring an affordable and clean energy system also means the xxup eu has to reduce its dependency on energy imports which mostly comprise natural gas , crude oil and coal imports,xxbos 41 xxmaj an overarching health indicator for the xxmaj post-2015 xxmaj development xxmaj agenda : brief summary of some proposed candidate indicators . xxmaj background paper for expert consultation , 11–12 xxmaj december 2014 . xxmaj geneva : xxmaj world xxmaj health xxmaj organization ; xxmaj december 2014 ( http : / www . who.int / healthinfo / indicators / xxunk _ xxunk , accessed 13 xxmaj october 2015 ) . 42 xxmaj another approach to measuring healthy life expectancy is to rely on extensive modelling of disease and injury xxunk prevalence and distribution , and to aggregate these to population levels in order to calculate health - adjusted life expectancy ( xxup hale ) . xxmaj however , because the approach relies heavily on statistical modelling and the use of predictive variables to produce estimates of disease incidence and prevalence with disability weights for a large number of conditions , it may be unsuitable for monitoring progress , especially at the country level . 43 xxmaj these include xxmaj target 3.1 ( maternal mortality ) , 3.2 ( neonatal and child mortality ) , 3.4 xxup ncd mortality ( due to four leading causes of death ) , 3.6 ( road traffic accidents ) . 44 xxmaj xxunk xxup of , xxmaj jha p , xxmaj admasu k , xxmaj xxunk t , xxmaj hum xxup rj , xxmaj kruk xxup me et al . xxmaj avoiding 40 % of the premature deaths in each country , 2010–30 : review of national mortality trends to help quantify the xxmaj united xxmaj nations xxmaj sustainable xxmaj development xxmaj goal for health . xxmaj lancet . xxunk ( http : / www.thelancet.com / journals / lancet / article / xxup piis0140 - xxunk - 9 / fulltext , accessed 16 xxmaj september 2015 ),xxbos xxup sdg 12 : xxmaj ensuring sustainable consumption and production patterns in tourism,xxbos xxmaj changing the ' business as usual ' approach will require evidence - based decision making - and evidence in the water sector is hard to come by . xxmaj the sector is characterised by multiple stakeholders ; conflict between environmental , social and economic agendas ; and complex science , with a level of uncertainty under changing environmental conditions . xxmaj national water agendas are difficult to manage even by experts , which leads to difficulties in using data to develop policy that can lead to ambitious action under xxup sdg 6 .,xxbos xxmaj the indicators of success aim to support the framework actors and other stakeholders working on sustainable consumption and production in : ( a ) assessing and improving performance to inform the planning of activities and the allocation of funds ; and ( b ) in reporting and demonstrating progress to show accountability towards all actors and donors , communicate results to the wider public and mobilize political and financial support . xxmaj the indicators are informed by the relevant xxmaj sustainable xxmaj development xxmaj goals and associated targets and indicators , in particular those associated with xxmaj goal 12 on ensuring sustainable consumption and production patterns . xxmaj an overview of the indicators is presented in figure 1 .\n",
              "y: MultiCategoryList\n",
              "13;7,3,12,6,12\n",
              "Path: gdrive/My Drive/fastai-v3/sdgs/lstm;\n",
              "\n",
              "Test: None, model=SequentialRNN(\n",
              "  (0): MultiBatchEncoder(\n",
              "    (module): AWD_LSTM(\n",
              "      (encoder): Embedding(60000, 400, padding_idx=1)\n",
              "      (encoder_dp): EmbeddingDropout(\n",
              "        (emb): Embedding(60000, 400, padding_idx=1)\n",
              "      )\n",
              "      (rnns): ModuleList(\n",
              "        (0): WeightDropout(\n",
              "          (module): LSTM(400, 1152, batch_first=True)\n",
              "        )\n",
              "        (1): WeightDropout(\n",
              "          (module): LSTM(1152, 1152, batch_first=True)\n",
              "        )\n",
              "        (2): WeightDropout(\n",
              "          (module): LSTM(1152, 400, batch_first=True)\n",
              "        )\n",
              "      )\n",
              "      (input_dp): RNNDropout()\n",
              "      (hidden_dps): ModuleList(\n",
              "        (0): RNNDropout()\n",
              "        (1): RNNDropout()\n",
              "        (2): RNNDropout()\n",
              "      )\n",
              "    )\n",
              "  )\n",
              "  (1): PoolingLinearClassifier(\n",
              "    (layers): Sequential(\n",
              "      (0): BatchNorm1d(1200, eps=1e-05, momentum=0.1, affine=True, track_running_stats=True)\n",
              "      (1): Dropout(p=0.2)\n",
              "      (2): Linear(in_features=1200, out_features=50, bias=True)\n",
              "      (3): ReLU(inplace)\n",
              "      (4): BatchNorm1d(50, eps=1e-05, momentum=0.1, affine=True, track_running_stats=True)\n",
              "      (5): Dropout(p=0.1)\n",
              "      (6): Linear(in_features=50, out_features=17, bias=True)\n",
              "    )\n",
              "  )\n",
              "), opt_func=functools.partial(<class 'torch.optim.adam.Adam'>, betas=(0.9, 0.99)), loss_func=FlattenedLoss of BCEWithLogitsLoss(), metrics=[functools.partial(<function accuracy_thresh at 0x7f12b1ca3e18>, thresh=0.2), functools.partial(<function fbeta at 0x7f12b1ca3ae8>, thresh=0.2)], true_wd=True, bn_wd=True, wd=0.01, train_bn=True, path=PosixPath('gdrive/My Drive/fastai-v3/sdgs/lstm'), model_dir='models', callback_fns=[functools.partial(<class 'fastai.basic_train.Recorder'>, add_time=True, silent=False), functools.partial(<class 'fastai.metrics.MultiLabelFbeta'>, average='macro'), functools.partial(<class 'fastai.metrics.MultiLabelFbeta'>, average='micro'), functools.partial(<class 'fastai.metrics.MultiLabelFbeta'>, average='weighted')], callbacks=[RNNTrainer\n",
              "learn: RNNLearner(data=TextClasDataBunch;\n",
              "\n",
              "Train: LabelList (4145 items)\n",
              "x: TextList\n",
              "xxbos xxmaj links to health across the sdgs relating to poverty , inequality , hunger and food insecurity , xxmaj health is implicit in almost all of the other 16 xxmaj goals , not employment and peace ( see xxmaj table 2 ) . just in xxup sdg 3 . xxmaj progress on many of the xxmaj goals will affect xxmaj the range of xxup sdg targets should incentivise the health and the achievement of the xxmaj goal can be used to development of intersectoral approaches that may help incentivise progress on migrant health , in some of the ways improve migrant health , alongside the health of other detailed below . xxmaj improving the health of migrants and all vulnerable groups . xxmaj different groups of migrants have vulnerable people will be dependent on equity , as countries specific vulnerabilities and needs according to the sector work towards achieving all sdgs , particularly those in which they work or live . xxmaj the xxup sdg targets can be xxmaj health , migration and the 2030 xxmaj agenda for xxmaj sustainable xxmaj development 5,xxbos 82 out of 100 blue chip companies demonstrated commitment to the sdgs in their xxmaj the xxup un xxmaj department of xxmaj economic and 2016 annual reports , either through explicit xxmaj social xxmaj affairs ( xxup desa ) , which leads on statements about the goals or implicit the delivery of the sdgs , is xxunk that support them . xxup sdg 13 ( xxmaj climate cal that the action of governments , civil xxmaj action ) , xxup sdg 3 ( xxmaj good xxmaj health ) and xxup sdg 10 society and the private sector is crucial ( xxmaj reduced xxmaj inequalities ) were top priorities , if these goals are to be achieved – with with the key focus varying by sector,xxbos xxmaj in anticipation of this trend , some reviewed countries have begun formulating criteria for their xxup oda , such as xxmaj korea ’s “ green xxup oda ” or xxmaj australia ’s aspiration to integrate ecologically sustainable development in all aspects of its xxup oda programs . xxmaj others ( xxmaj france ) indicate that part of their xxup oda will be channelled to significant sectors for environment and society , such as agriculture and food production . xxmaj another significant component allocated to sub - goal 11.2 is the issue of trade and its impact on all dimensions of development . xxmaj countries are recognizing that improving trade ( indicated by imports and exports ) is one way to advance development objectives . xxmaj one could imagine that international co - operation in a future development framework will take full advantage of trade as a vehicle for achieving sound development objectives and technology transfer . xxmaj this may require some criteria that differentiate trade based on its ability to advance the cause of sustainable development in general or sdgs in particular . xxmaj even though this is not happening yet , the significance of trade in promoting sustainable development is recognized by several countries ( xxmaj china and xxmaj india ) . xxmaj conflicts need to be resolved between xxmaj world xxmaj trade xxmaj organization rules on non - discrimination and possible favouritism for trade in sustainable goods , which may be necessary as a driver to incentivize environmentally sound and socially just trade . xxmaj sub - xxmaj goal 11.3 : xxmaj policies and plans are co - ordinated to integrate sdgs into decision making and implementation . xxmaj sub - goal 11.3 represents institutional aspects of sustainable development governance . xxmaj this area is concerned with clustering national and international efforts at policy co - ordination , and integration both among stakeholders and between levels of decision making . xxmaj countries rank quite differently , and there are some that do not have any entries at all in this thematic sub - goal area ( xxmaj japan ) . xxmaj on the other hand , good examples exist — from ensuring that cabinet processes facilitate the integration of sustainable development aspects into decision making ( xxmaj australia ) to bringing a national sustainable development monitoring council under purview of the xxmaj finance xxmaj minister ( xxmaj bangladesh ) . xxmaj other traditional notions of governance ( i.e. , transparency , accountability , participation ) are seen here in countries ’ national goals . xxmaj some countries propose detailed indicators to measure governance performance ( xxmaj bangladesh and xxmaj poland ) . xxmaj other countries that focus heavily on goals related to consultations imply a priority towards participation , but matching indicators seem lacking ( xxmaj france ) . xxmaj sustainable xxmaj development xxmaj goals and xxmaj indicators for a xxmaj small xxmaj planet xxmaj part i : xxmaj methodology and xxmaj goal xxmaj framework 55,xxbos xxmaj increase the access of small - scale industrial and other enterprises , in particular in developing countries , to financial services , including affordable credit , and their integration into value chains and markets,xxbos xxmaj by 2030 , ensure that all learners acquire the knowledge and skills needed to promote sustainable development , including , among others , through education for sustainable development and sustainable lifestyles , human rights , gender equality , promotion of a culture of peace and non - violence , global citizenship and appreciation of cultural diversity and of culture ’s contribution to sustainable development .\n",
              "y: MultiCategoryList\n",
              "3,3;13;10,11,9,4\n",
              "Path: gdrive/My Drive/fastai-v3/sdgs/lstm;\n",
              "\n",
              "Valid: LabelList (1037 items)\n",
              "x: TextList\n",
              "xxbos 7affordable and clean energy xxmaj energy supply xxmaj to achieve the xxup sdg 7 aim of ensuring an affordable and clean energy system , the xxup eu seeks to increase the share of renewable energy in gross final consumption of energy . xxmaj renewable energy sources are practically inexhaustible or renew within a human lifetime . xxmaj in contrast , fossil energy sources regenerate over millions of years and are the main source of man - made greenhouse gas emissions , thus contributing significantly to climate change . xxmaj the xxup eu highlights the importance of renewable energies in the context of its climate change mitigation targets and the decarbonisation of its energy system ( see also xxup sdg 13 ) . xxmaj since 2004 , the xxup eu has steadily increased its share of renewables in gross final energy consumption and is on track towards its target to increase its share of renewable energy in energy consumption to 20 % by 2020 . xxmaj ensuring an affordable and clean energy system also means the xxup eu has to reduce its dependency on energy imports which mostly comprise natural gas , crude oil and coal imports,xxbos 41 xxmaj an overarching health indicator for the xxmaj post-2015 xxmaj development xxmaj agenda : brief summary of some proposed candidate indicators . xxmaj background paper for expert consultation , 11–12 xxmaj december 2014 . xxmaj geneva : xxmaj world xxmaj health xxmaj organization ; xxmaj december 2014 ( http : / www . who.int / healthinfo / indicators / xxunk _ xxunk , accessed 13 xxmaj october 2015 ) . 42 xxmaj another approach to measuring healthy life expectancy is to rely on extensive modelling of disease and injury xxunk prevalence and distribution , and to aggregate these to population levels in order to calculate health - adjusted life expectancy ( xxup hale ) . xxmaj however , because the approach relies heavily on statistical modelling and the use of predictive variables to produce estimates of disease incidence and prevalence with disability weights for a large number of conditions , it may be unsuitable for monitoring progress , especially at the country level . 43 xxmaj these include xxmaj target 3.1 ( maternal mortality ) , 3.2 ( neonatal and child mortality ) , 3.4 xxup ncd mortality ( due to four leading causes of death ) , 3.6 ( road traffic accidents ) . 44 xxmaj xxunk xxup of , xxmaj jha p , xxmaj admasu k , xxmaj xxunk t , xxmaj hum xxup rj , xxmaj kruk xxup me et al . xxmaj avoiding 40 % of the premature deaths in each country , 2010–30 : review of national mortality trends to help quantify the xxmaj united xxmaj nations xxmaj sustainable xxmaj development xxmaj goal for health . xxmaj lancet . xxunk ( http : / www.thelancet.com / journals / lancet / article / xxup piis0140 - xxunk - 9 / fulltext , accessed 16 xxmaj september 2015 ),xxbos xxup sdg 12 : xxmaj ensuring sustainable consumption and production patterns in tourism,xxbos xxmaj changing the ' business as usual ' approach will require evidence - based decision making - and evidence in the water sector is hard to come by . xxmaj the sector is characterised by multiple stakeholders ; conflict between environmental , social and economic agendas ; and complex science , with a level of uncertainty under changing environmental conditions . xxmaj national water agendas are difficult to manage even by experts , which leads to difficulties in using data to develop policy that can lead to ambitious action under xxup sdg 6 .,xxbos xxmaj the indicators of success aim to support the framework actors and other stakeholders working on sustainable consumption and production in : ( a ) assessing and improving performance to inform the planning of activities and the allocation of funds ; and ( b ) in reporting and demonstrating progress to show accountability towards all actors and donors , communicate results to the wider public and mobilize political and financial support . xxmaj the indicators are informed by the relevant xxmaj sustainable xxmaj development xxmaj goals and associated targets and indicators , in particular those associated with xxmaj goal 12 on ensuring sustainable consumption and production patterns . xxmaj an overview of the indicators is presented in figure 1 .\n",
              "y: MultiCategoryList\n",
              "13;7,3,12,6,12\n",
              "Path: gdrive/My Drive/fastai-v3/sdgs/lstm;\n",
              "\n",
              "Test: None, model=SequentialRNN(\n",
              "  (0): MultiBatchEncoder(\n",
              "    (module): AWD_LSTM(\n",
              "      (encoder): Embedding(60000, 400, padding_idx=1)\n",
              "      (encoder_dp): EmbeddingDropout(\n",
              "        (emb): Embedding(60000, 400, padding_idx=1)\n",
              "      )\n",
              "      (rnns): ModuleList(\n",
              "        (0): WeightDropout(\n",
              "          (module): LSTM(400, 1152, batch_first=True)\n",
              "        )\n",
              "        (1): WeightDropout(\n",
              "          (module): LSTM(1152, 1152, batch_first=True)\n",
              "        )\n",
              "        (2): WeightDropout(\n",
              "          (module): LSTM(1152, 400, batch_first=True)\n",
              "        )\n",
              "      )\n",
              "      (input_dp): RNNDropout()\n",
              "      (hidden_dps): ModuleList(\n",
              "        (0): RNNDropout()\n",
              "        (1): RNNDropout()\n",
              "        (2): RNNDropout()\n",
              "      )\n",
              "    )\n",
              "  )\n",
              "  (1): PoolingLinearClassifier(\n",
              "    (layers): Sequential(\n",
              "      (0): BatchNorm1d(1200, eps=1e-05, momentum=0.1, affine=True, track_running_stats=True)\n",
              "      (1): Dropout(p=0.2)\n",
              "      (2): Linear(in_features=1200, out_features=50, bias=True)\n",
              "      (3): ReLU(inplace)\n",
              "      (4): BatchNorm1d(50, eps=1e-05, momentum=0.1, affine=True, track_running_stats=True)\n",
              "      (5): Dropout(p=0.1)\n",
              "      (6): Linear(in_features=50, out_features=17, bias=True)\n",
              "    )\n",
              "  )\n",
              "), opt_func=functools.partial(<class 'torch.optim.adam.Adam'>, betas=(0.9, 0.99)), loss_func=FlattenedLoss of BCEWithLogitsLoss(), metrics=[functools.partial(<function accuracy_thresh at 0x7f12b1ca3e18>, thresh=0.2), functools.partial(<function fbeta at 0x7f12b1ca3ae8>, thresh=0.2)], true_wd=True, bn_wd=True, wd=0.01, train_bn=True, path=PosixPath('gdrive/My Drive/fastai-v3/sdgs/lstm'), model_dir='models', callback_fns=[functools.partial(<class 'fastai.basic_train.Recorder'>, add_time=True, silent=False), functools.partial(<class 'fastai.metrics.MultiLabelFbeta'>, average='macro'), functools.partial(<class 'fastai.metrics.MultiLabelFbeta'>, average='micro'), functools.partial(<class 'fastai.metrics.MultiLabelFbeta'>, average='weighted')], callbacks=[...], layer_groups=[Sequential(\n",
              "  (0): Embedding(60000, 400, padding_idx=1)\n",
              "  (1): EmbeddingDropout(\n",
              "    (emb): Embedding(60000, 400, padding_idx=1)\n",
              "  )\n",
              "), Sequential(\n",
              "  (0): WeightDropout(\n",
              "    (module): LSTM(400, 1152, batch_first=True)\n",
              "  )\n",
              "  (1): RNNDropout()\n",
              "), Sequential(\n",
              "  (0): WeightDropout(\n",
              "    (module): LSTM(1152, 1152, batch_first=True)\n",
              "  )\n",
              "  (1): RNNDropout()\n",
              "), Sequential(\n",
              "  (0): WeightDropout(\n",
              "    (module): LSTM(1152, 400, batch_first=True)\n",
              "  )\n",
              "  (1): RNNDropout()\n",
              "), Sequential(\n",
              "  (0): PoolingLinearClassifier(\n",
              "    (layers): Sequential(\n",
              "      (0): BatchNorm1d(1200, eps=1e-05, momentum=0.1, affine=True, track_running_stats=True)\n",
              "      (1): Dropout(p=0.2)\n",
              "      (2): Linear(in_features=1200, out_features=50, bias=True)\n",
              "      (3): ReLU(inplace)\n",
              "      (4): BatchNorm1d(50, eps=1e-05, momentum=0.1, affine=True, track_running_stats=True)\n",
              "      (5): Dropout(p=0.1)\n",
              "      (6): Linear(in_features=50, out_features=17, bias=True)\n",
              "    )\n",
              "  )\n",
              ")], add_time=True, silent=False)\n",
              "alpha: 2.0\n",
              "beta: 1.0], layer_groups=[Sequential(\n",
              "  (0): Embedding(60000, 400, padding_idx=1)\n",
              "  (1): EmbeddingDropout(\n",
              "    (emb): Embedding(60000, 400, padding_idx=1)\n",
              "  )\n",
              "), Sequential(\n",
              "  (0): WeightDropout(\n",
              "    (module): LSTM(400, 1152, batch_first=True)\n",
              "  )\n",
              "  (1): RNNDropout()\n",
              "), Sequential(\n",
              "  (0): WeightDropout(\n",
              "    (module): LSTM(1152, 1152, batch_first=True)\n",
              "  )\n",
              "  (1): RNNDropout()\n",
              "), Sequential(\n",
              "  (0): WeightDropout(\n",
              "    (module): LSTM(1152, 400, batch_first=True)\n",
              "  )\n",
              "  (1): RNNDropout()\n",
              "), Sequential(\n",
              "  (0): PoolingLinearClassifier(\n",
              "    (layers): Sequential(\n",
              "      (0): BatchNorm1d(1200, eps=1e-05, momentum=0.1, affine=True, track_running_stats=True)\n",
              "      (1): Dropout(p=0.2)\n",
              "      (2): Linear(in_features=1200, out_features=50, bias=True)\n",
              "      (3): ReLU(inplace)\n",
              "      (4): BatchNorm1d(50, eps=1e-05, momentum=0.1, affine=True, track_running_stats=True)\n",
              "      (5): Dropout(p=0.1)\n",
              "      (6): Linear(in_features=50, out_features=17, bias=True)\n",
              "    )\n",
              "  )\n",
              ")], add_time=True, silent=False)"
            ]
          },
          "metadata": {
            "tags": []
          },
          "execution_count": 66
        }
      ]
    },
    {
      "cell_type": "code",
      "metadata": {
        "id": "LxUVh2NhfOp2",
        "colab_type": "code",
        "outputId": "08c693f0-b864-4f68-fe2d-0b19ad09b255",
        "colab": {
          "base_uri": "https://localhost:8080/",
          "height": 1000
        }
      },
      "source": [
        "learn.show_results(rows=500)"
      ],
      "execution_count": 70,
      "outputs": [
        {
          "output_type": "display_data",
          "data": {
            "text/html": [
              "<table border=\"1\" class=\"dataframe\">\n",
              "  <thead>\n",
              "    <tr style=\"text-align: right;\">\n",
              "      <th>text</th>\n",
              "      <th>target</th>\n",
              "      <th>prediction</th>\n",
              "    </tr>\n",
              "  </thead>\n",
              "  <tbody>\n",
              "    <tr>\n",
              "      <td>xxbos xxmaj priority xxmaj theme 4 : xxmaj quality of xxmaj growth and xxmaj employment 3.4.1 xxmaj rationale for the xxmaj goal and xxmaj sub - xxmaj goals xxmaj growth and employment are intertwined : economic growth creates employment and employment fuels economic growth . xxmaj both are preconditions to reducing poverty , but it is their quality that will actually matter to vulnerable segments of society . xxmaj only</td>\n",
              "      <td>4;8</td>\n",
              "      <td>4;8</td>\n",
              "    </tr>\n",
              "    <tr>\n",
              "      <td>xxbos xxmaj china , xxmaj korea and xxmaj singapore defined goals with underlying targets and indicators . xxmaj china aims at “ building a water - saving society ” ( xxmaj national xxmaj development and xxmaj reform xxmaj commission of xxmaj china , 2011 ) , xxmaj korea plans to increase the efficiency and equity of water management through an improved water pricing system and xxmaj singapore aims for self</td>\n",
              "      <td>9</td>\n",
              "      <td></td>\n",
              "    </tr>\n",
              "    <tr>\n",
              "      <td>xxbos resilience and sustainability and marine ecosystems as per xxup sdg 14 will depend more on efforts at regional and national levels , backed up with regular monitoring , stock - take and identification of necessary policy measures at the global and multilateral level . xxmaj part xxup ii also examines challenges and opportunities for harvest and trade in sustainable fisheries from wild catch and aquaculture , private standards affecting</td>\n",
              "      <td>14</td>\n",
              "      <td>14</td>\n",
              "    </tr>\n",
              "    <tr>\n",
              "      <td>xxbos xxmaj nature xxmaj based xxmaj solutions , xxmaj ecosystem based approaches and xxmaj urban xxmaj ecosystem xxmaj management : xxmaj challenges and approaches with reference to xxup sdg xxmaj goal 11 xxmaj urban environmental management is a challenge faced by many cities in xxmaj asia . xxmaj at the same time , developing cities in xxmaj asia confront a number of other issues as well . xxmaj while on</td>\n",
              "      <td>11</td>\n",
              "      <td>11</td>\n",
              "    </tr>\n",
              "    <tr>\n",
              "      <td>xxbos who face inequality and discrimination , are disproportionately affected by the impacts of climate change and other environmental issues , such as diverse types of extreme weather events . xxmaj referring to and building on the xxmaj paris xxmaj agreement under the xxmaj united xxmaj nations xxmaj framework xxmaj convention on xxmaj climate xxmaj change , the xxmaj commission reiterated that countries should , when taking action to address</td>\n",
              "      <td>16</td>\n",
              "      <td>16;5</td>\n",
              "    </tr>\n",
              "    <tr>\n",
              "      <td>xxbos xxmaj enhancing the xxmaj contribution of xxmaj export xxmaj processing xxmaj zones to the xxmaj sustainable xxmaj development xxmaj goals 2.2.3 xxmaj changing xxup wto rules applying to epzs xxmaj the competitive landscape for epzs is changing in part due to an adjustment in the xxup wto ’s xxmaj agreement on xxmaj subsidies and xxmaj countervailing xxmaj measures ( xxup scm ) regime that seeks to phase out the</td>\n",
              "      <td>2</td>\n",
              "      <td></td>\n",
              "    </tr>\n",
              "    <tr>\n",
              "      <td>xxbos xxmaj like the ipoa , xxup sdg 17.12 emphasizes the realization of timely implementation of duty - free and quota - free market access on a lasting basis for all ldcs , consistent with the xxmaj world xxmaj trade xxmaj organization decisions , including by ensuring that preferential rules of origin applicable to imports from ldcs are transparent and simple and contribute to facilitating market access . xxmaj the</td>\n",
              "      <td>10;17;8</td>\n",
              "      <td>10;8</td>\n",
              "    </tr>\n",
              "    <tr>\n",
              "      <td>xxbos xxmaj therefore , there is a need to also consider policies that can support better conditions in the informal economy in the short term . xxmaj low - skilled rural to urban migrants seeking better job opportunities in the city in fast urbanising developing countries often end up working in precarious occupations in the informal economy . xxmaj goal 11 : xxmaj make cities and human settlements inclusive ,</td>\n",
              "      <td>1;11;3;4;5</td>\n",
              "      <td>1;11;3;4</td>\n",
              "    </tr>\n",
              "    <tr>\n",
              "      <td>xxbos xxmaj an analysis of 100 epzs and a xxmaj framework for xxmaj sustainable xxmaj economic xxmaj zones 1 . xxmaj introduction xxmaj historically , the relationship between industrialization , international trade and sustainable development has been xxunk xxmaj launched by the xxmaj united xxmaj nations in 2015 , the xxmaj sustainable xxmaj development xxmaj goals ( sdgs ) demonstrate the commitment of member states to make that relationship entirely</td>\n",
              "      <td>12;8;9</td>\n",
              "      <td>12;8;9</td>\n",
              "    </tr>\n",
              "    <tr>\n",
              "      <td>xxbos xxmaj gender equality was recognized and affirmed as a precondition for the realization of sustainable development and also defined as a key sustainable development goal by itself , xxmaj goal 5 . xxmaj sustainable xxmaj development xxmaj goal ( xxup sdg ) 5 is a promise to “ achieve ( not just promote ) gender equality and empower all women and girls . ” xxmaj the 2030 xxmaj agenda</td>\n",
              "      <td>5</td>\n",
              "      <td>5</td>\n",
              "    </tr>\n",
              "    <tr>\n",
              "      <td>xxbos xxmaj introduction xxmaj this edition of the xxmaj world xxmaj employment and xxmaj social xxmaj outlook ( xxup xxunk ) examines the relationship between decent work and poverty reduction . xxmaj it starts by documenting trends in poverty around the world while paying close attention to the types of jobs and incomes the poor rely on and the process of structural transformation required to end poverty ( xxmaj part</td>\n",
              "      <td>1;8</td>\n",
              "      <td>1;8</td>\n",
              "    </tr>\n",
              "    <tr>\n",
              "      <td>xxbos xxup sdg 14 xxup life xxup below xxup water 14.4 xxmaj by 2020 , effectively regulate harvesting and end overfishing , illegal , unreported and unregulated fishing and destructive fishing practices and implement science - based management plans , in order to restore fish stocks in the shortest time feasible , at least to levels that can produce maximum sustainable yield as determined by their biological characteristics xxup marine</td>\n",
              "      <td>14</td>\n",
              "      <td>14</td>\n",
              "    </tr>\n",
              "    <tr>\n",
              "      <td>xxbos xxmaj fisheries managers have utilized marine reserves to protect spawning stock , increase recruitment and catalyze spillover in which fisheries productivity outside the reserve is enhanced by production that “ spills ” over the border . xxmaj the xxup fao has helped countries develop marine reserves and networks by providing guidance in the form of publications and training workshops ( see for example xxup fao , 2011 ; xxmaj</td>\n",
              "      <td>14</td>\n",
              "      <td>14</td>\n",
              "    </tr>\n",
              "    <tr>\n",
              "      <td>xxbos xxup sdg 15 xxup life xxup on xxup land 15.1 xxmaj by 2020 , ensure the conservation , restoration and sustainable use of terrestrial and inland freshwater ecosystems and their services , in particular forests , wetlands , mountains and drylands , in line with obligations under international agreements xxup land xxup monitoring xxup service ( xxup clms ) , the xxmaj copernicus xxmaj land xxmaj monitoring xxmaj service</td>\n",
              "      <td>15</td>\n",
              "      <td>15</td>\n",
              "    </tr>\n",
              "    <tr>\n",
              "      <td>xxbos mechanisms mandated by law ) as described in the xxmaj world xxmaj it considers the health workforce a key lever for change xxmaj health xxmaj report xxunk and monitored using the kind of and progress towards the sdgs , as the health sector framework proposed by the xxup who / xxmaj world xxmaj bank in their is a major employer ( public , private and other ) and a</td>\n",
              "      <td>3</td>\n",
              "      <td>3</td>\n",
              "    </tr>\n",
              "    <tr>\n",
              "      <td>xxbos ò   16 xxmaj peaceful and inclusive societies , justice for all , and 16.1 , 16.3 , 16.5 , inclusive institutions are both a consequence and a 16.7 , 16.8 cause of reduced inequalities . xxmaj neither is possible without the other . ò   17 xxmaj data must be collected throughout all segments of the population and analyzed in disaggregated form to ensure targets are being met</td>\n",
              "      <td>10</td>\n",
              "      <td>10;16</td>\n",
              "    </tr>\n",
              "    <tr>\n",
              "      <td>xxbos xxmaj it is now widely accepted that long - term economic growth requires not just accumulation of technology , physical capital , and labour , but also the preservation of the natural capital base . xxmaj the developing economies of xxmaj asia are confronted by serious environmental problems that threaten to undermine future growth , food security , and regional stability . xxmaj four major environmental challenges that policymakers</td>\n",
              "      <td>14;15</td>\n",
              "      <td>14;15</td>\n",
              "    </tr>\n",
              "    <tr>\n",
              "      <td>xxbos 19 ) . xxmaj the xxup hlp states that “ cities are where the battle for sustainable development will be won or lost , ” but decided against a separate goal for cities , in order to avoid an urban - versus - rural priority competition ( xxup xxunk , 2013 , p. 17 ) . xxmaj the xxup sdsn emphasizes that by 2050 around two thirds of the</td>\n",
              "      <td>1;2;5;8;9</td>\n",
              "      <td>1;11</td>\n",
              "    </tr>\n",
              "    <tr>\n",
              "      <td>xxbos xxup sdg 7 xxup affordable xxup and xxup clean xxup energy 7.3 xxmaj by 2030 , double the global rate of improvement in energy efficiency xxup atmosphere xxup monitoring xxup service xxup climate xxup change xxup service a serious issue for the productivity of solar power plants and their operators is desert dust . xxmaj deposition of dust blocks solar radiation , and this can effect the mirrors or</td>\n",
              "      <td>7</td>\n",
              "      <td>7</td>\n",
              "    </tr>\n",
              "    <tr>\n",
              "      <td>xxbos 57 xxmaj chapter xxup iii xxup the xxup catch - xxup up xxup challenge : xxup industrialization xxup and xxup structural xxup change xxup a. xxmaj introduction xxmaj in recent years there has been a renewed interest in the role of industrialization in promoting sustained economic growth and development , reflected in xxmaj goal 9 of the 2030 xxmaj agenda for xxmaj sustainable xxmaj development which calls for promoting</td>\n",
              "      <td>9</td>\n",
              "      <td>9</td>\n",
              "    </tr>\n",
              "    <tr>\n",
              "      <td>xxbos xxup goal 2 : xxup end xxup hunger , xxup achieve xxup food xxup security xxup and xxup improved xxup nutrition xxup and xxup promote xxup sustainable xxup agriculture xxmaj sustainable xxmaj development xxmaj targets xxmaj relevant xxmaj aichi xxmaj biodiversity xxmaj targets 2.1 xxmaj by 2030 , end hunger and ensure access by all people , in particular 6 , 7 , 13 the poor and people in</td>\n",
              "      <td>2</td>\n",
              "      <td>2</td>\n",
              "    </tr>\n",
              "    <tr>\n",
              "      <td>xxbos xxup challenges xxmaj lack of access to effective , timely diagnosis and treatment : xxmaj in the absence of effective early detection programmes such as cancer awareness or screening , patients are diagnosed at very late stages when curative treatment is no longer an option . xxmaj population - based screening methods have been implemented for cancer of the xxunk , breast and colon - xxunk in some high</td>\n",
              "      <td>3</td>\n",
              "      <td>3</td>\n",
              "    </tr>\n",
              "    <tr>\n",
              "      <td>xxbos migration on migrants ’ livelihoods , on the cities that they migrate to , and on overall poverty reduction . xxmaj section 4 goes on to illustrate these impacts with two case studies xxmaj this policy briefing focuses on the economic integration across different regions ( xxmaj dhaka in xxmaj bangladesh , and xxmaj accra of internal migrants arriving to cities in rapidly urbanising and xxmaj kumasi in xxmaj</td>\n",
              "      <td>11;8</td>\n",
              "      <td>8;9</td>\n",
              "    </tr>\n",
              "    <tr>\n",
              "      <td>xxbos xxmaj in most cases , countries are moving slowly towards the universal provision of services , with the aim of gradually improving benefits , quality and financial protection by focusing initially on the needs of people living in poverty and other disadvantaged groups who most often are not covered by programmes in place ( xxmaj xxunk and others , 2015 ; xxmaj cecchini and others , 2015 ) .</td>\n",
              "      <td>4</td>\n",
              "      <td>4</td>\n",
              "    </tr>\n",
              "    <tr>\n",
              "      <td>xxbos xxmaj protect , restore and promote sustainable use of terrestrial ecosystems , sustainably manage forests , combat desertification , and halt and reverse land degradation and halt biodiversity loss 15 supports the sdgs xxmaj the global perspective on xxup sdg 15 xxmaj forests cover 30 % of the xxmaj earth ’s surface and are crucial for sustaining our lives and livelihoods . xxmaj they provide for the food we</td>\n",
              "      <td>15</td>\n",
              "      <td>15</td>\n",
              "    </tr>\n",
              "    <tr>\n",
              "      <td>xxbos xxmaj in xxmaj september 2015 , the xxmaj united xxmaj nations xxmaj member xxmaj states committed themselves to ensuring universal access to safe drinking water and to sanitation in xxmaj goal 6 of the 2030 xxmaj agenda for xxmaj sustainable xxmaj development - xxup sdg 6 ( xxmaj united xxmaj nations xxmaj general xxmaj assembly , 2014 ) . xxmaj the achievement of this xxmaj goal requires adequate investment</td>\n",
              "      <td>1;6</td>\n",
              "      <td>1;6;7</td>\n",
              "    </tr>\n",
              "    <tr>\n",
              "      <td>xxbos xxmaj world xxmaj tourism xxmaj organization ( xxup unwto ) xxmaj on the occasion of the 2018 xxmaj high - xxmaj level xxmaj political xxmaj forum and the in - depth review of xxup sdg 12 , the xxmaj sustainable xxmaj tourism and xxmaj sustainable xxmaj buildings and xxmaj construction programmes of the xxmaj one xxmaj planet xxmaj network , together with xxup un xxmaj environment , as well</td>\n",
              "      <td>12</td>\n",
              "      <td>12</td>\n",
              "    </tr>\n",
              "    <tr>\n",
              "      <td>xxbos xxmaj this diversity is a particularly important attribute since more climate - resilient cultivars can be developed . xxmaj for example , scientists at the xxmaj international xxmaj center for xxmaj tropical xxmaj agriculture are currently working on developing pulses varieties that can grow at temperatures above the crop ’s normal ‘ comfort zone ’ . xxmaj since climate experts suggested that heat stress will be the biggest threat</td>\n",
              "      <td>3</td>\n",
              "      <td></td>\n",
              "    </tr>\n",
              "    <tr>\n",
              "      <td>xxbos xxmaj division for xxmaj sustainable xxmaj development of the xxmaj united xxmaj nations xxmaj department of xxmaj social and xxmaj economic xxmaj affairs ( xxup undesa ) is organizing a xxmaj small island developing xxmaj states xxup sids ) meeting in consultations with the xxmaj office of the xxmaj high xxmaj representative for xxmaj least xxmaj developed xxmaj countries , xxmaj landlocked xxmaj developing xxmaj countries and xxmaj small</td>\n",
              "      <td>14</td>\n",
              "      <td>14</td>\n",
              "    </tr>\n",
              "    <tr>\n",
              "      <td>xxbos a target of near zero xxup ghg emissions by 2100 has been identified by the recent 5th xxmaj assessment xxmaj report of the xxup ipcc as being necessary to nearly all scenarios that hold the global mean temperature rise below 2 ° c ( xxup ipcc , 2014c ) . a 2 ° c rise in global temperature is seen as the limit beyond which the world will face</td>\n",
              "      <td>3</td>\n",
              "      <td></td>\n",
              "    </tr>\n",
              "    <tr>\n",
              "      <td>xxbos 1 ) xxmaj end poverty in all its forms everywhere 2 ) xxmaj end hunger , achieve food security and improved nutrition , and promote sustainable agriculture 3 ) xxmaj ensure healthy lives and promote wellbeing for all at all ages 4 ) xxmaj ensure inclusive and equitable quality education and promote lifelong learning opportunities for all 5 ) xxmaj achieve gender equality and empower all women and girls</td>\n",
              "      <td>16</td>\n",
              "      <td>1;8;9</td>\n",
              "    </tr>\n",
              "    <tr>\n",
              "      <td>xxbos xxup sdg 3 : xxup ensure xxup healthy xxup lives xxup and xxup promote xxup well - xxup being xxup for xxup all xxup at xxup all xxup ages xxmaj good health is a prerequisite for progress on ending xxup aids . xxmaj ensuring healthy lives and promoting well - being for all at all ages , including people living with or at risk of xxup hiv , is</td>\n",
              "      <td>3</td>\n",
              "      <td>3</td>\n",
              "    </tr>\n",
              "  </tbody>\n",
              "</table>"
            ],
            "text/plain": [
              "<IPython.core.display.HTML object>"
            ]
          },
          "metadata": {
            "tags": []
          }
        }
      ]
    }
  ]
}