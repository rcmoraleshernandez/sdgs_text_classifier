{
  "nbformat": 4,
  "nbformat_minor": 0,
  "metadata": {
    "colab": {
      "name": "sdgs_lstm.ipynb",
      "version": "0.3.2",
      "provenance": [],
      "collapsed_sections": [],
      "include_colab_link": true
    },
    "language_info": {
      "codemirror_mode": {
        "name": "ipython",
        "version": 3
      },
      "file_extension": ".py",
      "mimetype": "text/x-python",
      "name": "python",
      "nbconvert_exporter": "python",
      "pygments_lexer": "ipython3",
      "version": "3.7.3"
    },
    "kernelspec": {
      "name": "python3",
      "display_name": "Python 3"
    },
    "accelerator": "GPU"
  },
  "cells": [
    {
      "cell_type": "markdown",
      "metadata": {
        "id": "view-in-github",
        "colab_type": "text"
      },
      "source": [
        "<a href=\"https://colab.research.google.com/github/vondersam/sdgs_text_classifier/blob/master/experiments/sdgs_lstm.ipynb\" target=\"_parent\"><img src=\"https://colab.research.google.com/assets/colab-badge.svg\" alt=\"Open In Colab\"/></a>"
      ]
    },
    {
      "cell_type": "code",
      "metadata": {
        "id": "sryx1fTY2kNf",
        "colab_type": "code",
        "outputId": "08a800fe-b8b8-4f89-aeda-75cd1d1f865c",
        "colab": {
          "base_uri": "https://localhost:8080/",
          "height": 374
        }
      },
      "source": [
        "!pip install PyDrive"
      ],
      "execution_count": 0,
      "outputs": [
        {
          "output_type": "stream",
          "text": [
            "Collecting PyDrive\n",
            "\u001b[?25l  Downloading https://files.pythonhosted.org/packages/52/e0/0e64788e5dd58ce2d6934549676243dc69d982f198524be9b99e9c2a4fd5/PyDrive-1.3.1.tar.gz (987kB)\n",
            "\u001b[K     |████████████████████████████████| 993kB 36.9MB/s \n",
            "\u001b[?25hRequirement already satisfied: google-api-python-client>=1.2 in /usr/local/lib/python3.6/dist-packages (from PyDrive) (1.7.9)\n",
            "Requirement already satisfied: oauth2client>=4.0.0 in /usr/local/lib/python3.6/dist-packages (from PyDrive) (4.1.3)\n",
            "Requirement already satisfied: PyYAML>=3.0 in /usr/local/lib/python3.6/dist-packages (from PyDrive) (3.13)\n",
            "Requirement already satisfied: google-auth-httplib2>=0.0.3 in /usr/local/lib/python3.6/dist-packages (from google-api-python-client>=1.2->PyDrive) (0.0.3)\n",
            "Requirement already satisfied: google-auth>=1.4.1 in /usr/local/lib/python3.6/dist-packages (from google-api-python-client>=1.2->PyDrive) (1.4.2)\n",
            "Requirement already satisfied: httplib2<1dev,>=0.9.2 in /usr/local/lib/python3.6/dist-packages (from google-api-python-client>=1.2->PyDrive) (0.11.3)\n",
            "Requirement already satisfied: uritemplate<4dev,>=3.0.0 in /usr/local/lib/python3.6/dist-packages (from google-api-python-client>=1.2->PyDrive) (3.0.0)\n",
            "Requirement already satisfied: six<2dev,>=1.6.1 in /usr/local/lib/python3.6/dist-packages (from google-api-python-client>=1.2->PyDrive) (1.12.0)\n",
            "Requirement already satisfied: rsa>=3.1.4 in /usr/local/lib/python3.6/dist-packages (from oauth2client>=4.0.0->PyDrive) (4.0)\n",
            "Requirement already satisfied: pyasn1-modules>=0.0.5 in /usr/local/lib/python3.6/dist-packages (from oauth2client>=4.0.0->PyDrive) (0.2.5)\n",
            "Requirement already satisfied: pyasn1>=0.1.7 in /usr/local/lib/python3.6/dist-packages (from oauth2client>=4.0.0->PyDrive) (0.4.5)\n",
            "Requirement already satisfied: cachetools>=2.0.0 in /usr/local/lib/python3.6/dist-packages (from google-auth>=1.4.1->google-api-python-client>=1.2->PyDrive) (3.1.1)\n",
            "Building wheels for collected packages: PyDrive\n",
            "  Building wheel for PyDrive (setup.py) ... \u001b[?25l\u001b[?25hdone\n",
            "  Stored in directory: /root/.cache/pip/wheels/fa/d2/9a/d3b6b506c2da98289e5d417215ce34b696db856643bad779f4\n",
            "Successfully built PyDrive\n",
            "Installing collected packages: PyDrive\n",
            "Successfully installed PyDrive-1.3.1\n"
          ],
          "name": "stdout"
        }
      ]
    },
    {
      "cell_type": "code",
      "metadata": {
        "id": "MB23PSdmxK5w",
        "colab_type": "code",
        "colab": {}
      },
      "source": [
        "from pydrive.auth import GoogleAuth\n",
        "from pydrive.drive import GoogleDrive\n",
        "from google.colab import auth\n",
        "from oauth2client.client import GoogleCredentials\n",
        "\n",
        "auth.authenticate_user()\n",
        "gauth = GoogleAuth()\n",
        "gauth.credentials = GoogleCredentials.get_application_default()\n",
        "drive = GoogleDrive(gauth)"
      ],
      "execution_count": 0,
      "outputs": []
    },
    {
      "cell_type": "code",
      "metadata": {
        "id": "d19EdmDq24ax",
        "colab_type": "code",
        "colab": {}
      },
      "source": [
        "pre = drive.CreateFile({'id':'1ojX1O9ifhZdT78l5mcD-Ctx6yapF7T5o'})\n",
        "pre.GetContentFile('preprocess.ipynb')"
      ],
      "execution_count": 0,
      "outputs": []
    },
    {
      "cell_type": "code",
      "metadata": {
        "id": "CtDHsF-O4VeR",
        "colab_type": "code",
        "colab": {}
      },
      "source": [
        "from preprocessing import count_mas"
      ],
      "execution_count": 0,
      "outputs": []
    },
    {
      "cell_type": "code",
      "metadata": {
        "colab_type": "code",
        "outputId": "0cde38cf-bc79-479a-fe8a-1b12369af104",
        "id": "itVUcAwDCnCP",
        "colab": {
          "base_uri": "https://localhost:8080/",
          "height": 34
        }
      },
      "source": [
        "from google.colab import drive\n",
        "drive.mount('/content/gdrive', force_remount=True)\n",
        "base_dir = \"gdrive/My Drive/fastai-v3/sdgs/\"\n",
        "dataset_dir = base_dir + \"lstm/\""
      ],
      "execution_count": 1,
      "outputs": [
        {
          "output_type": "stream",
          "text": [
            "Mounted at /content/gdrive\n"
          ],
          "name": "stdout"
        }
      ]
    },
    {
      "cell_type": "code",
      "metadata": {
        "colab_type": "code",
        "id": "GFXrTP1PCs0Y",
        "colab": {}
      },
      "source": [
        "from fastai.text import *"
      ],
      "execution_count": 0,
      "outputs": []
    },
    {
      "cell_type": "markdown",
      "metadata": {
        "colab_type": "text",
        "id": "KiIJJ01XCwle"
      },
      "source": [
        "## Uploading the data"
      ]
    },
    {
      "cell_type": "code",
      "metadata": {
        "id": "wS_rW9djL5nQ",
        "colab_type": "code",
        "outputId": "5a8669f6-7ab5-4c08-8ba7-d5e25f9abe02",
        "colab": {
          "base_uri": "https://localhost:8080/",
          "height": 204
        }
      },
      "source": [
        "source_path = Path(dataset_dir + 'cleanup_labelled.csv')\n",
        "df = pd.read_csv(source_path)\n",
        "df.head()"
      ],
      "execution_count": 3,
      "outputs": [
        {
          "output_type": "execute_result",
          "data": {
            "text/html": [
              "<div>\n",
              "<style scoped>\n",
              "    .dataframe tbody tr th:only-of-type {\n",
              "        vertical-align: middle;\n",
              "    }\n",
              "\n",
              "    .dataframe tbody tr th {\n",
              "        vertical-align: top;\n",
              "    }\n",
              "\n",
              "    .dataframe thead th {\n",
              "        text-align: right;\n",
              "    }\n",
              "</style>\n",
              "<table border=\"1\" class=\"dataframe\">\n",
              "  <thead>\n",
              "    <tr style=\"text-align: right;\">\n",
              "      <th></th>\n",
              "      <th>text</th>\n",
              "      <th>labels</th>\n",
              "      <th>doc_id</th>\n",
              "    </tr>\n",
              "  </thead>\n",
              "  <tbody>\n",
              "    <tr>\n",
              "      <th>0</th>\n",
              "      <td>Goal 8: Decent work and economic growth</td>\n",
              "      <td>8</td>\n",
              "      <td>downloadable_pdfs/http:__www.dev.sdgfund.org_%...</td>\n",
              "    </tr>\n",
              "    <tr>\n",
              "      <th>1</th>\n",
              "      <td>The day after receiving the 2016 Pritzker Laur...</td>\n",
              "      <td>11</td>\n",
              "      <td>downloadable_pdfs/http:__www.dev.sdgfund.org_a...</td>\n",
              "    </tr>\n",
              "    <tr>\n",
              "      <th>2</th>\n",
              "      <td>For Paloma Duran, SDG Fund director, this proj...</td>\n",
              "      <td>16</td>\n",
              "      <td>downloadable_pdfs/http:__www.dev.sdgfund.org_b...</td>\n",
              "    </tr>\n",
              "    <tr>\n",
              "      <th>3</th>\n",
              "      <td>Rangita de Silva, Associate Dean of the Univer...</td>\n",
              "      <td>5</td>\n",
              "      <td>downloadable_pdfs/http:__www.dev.sdgfund.org_b...</td>\n",
              "    </tr>\n",
              "    <tr>\n",
              "      <th>4</th>\n",
              "      <td>The SDG Fund, an interagency mechanism establi...</td>\n",
              "      <td>16</td>\n",
              "      <td>downloadable_pdfs/http:__www.dev.sdgfund.org_b...</td>\n",
              "    </tr>\n",
              "  </tbody>\n",
              "</table>\n",
              "</div>"
            ],
            "text/plain": [
              "                                                text  ...                                             doc_id\n",
              "0            Goal 8: Decent work and economic growth  ...  downloadable_pdfs/http:__www.dev.sdgfund.org_%...\n",
              "1  The day after receiving the 2016 Pritzker Laur...  ...  downloadable_pdfs/http:__www.dev.sdgfund.org_a...\n",
              "2  For Paloma Duran, SDG Fund director, this proj...  ...  downloadable_pdfs/http:__www.dev.sdgfund.org_b...\n",
              "3  Rangita de Silva, Associate Dean of the Univer...  ...  downloadable_pdfs/http:__www.dev.sdgfund.org_b...\n",
              "4  The SDG Fund, an interagency mechanism establi...  ...  downloadable_pdfs/http:__www.dev.sdgfund.org_b...\n",
              "\n",
              "[5 rows x 3 columns]"
            ]
          },
          "metadata": {
            "tags": []
          },
          "execution_count": 3
        }
      ]
    },
    {
      "cell_type": "markdown",
      "metadata": {
        "id": "TM5R8MrpD9ja",
        "colab_type": "text"
      },
      "source": [
        "We first create a general language model with the unlabelled data, which we will later fit into the WikiText 103 language model, so that it has more information about SDGs."
      ]
    },
    {
      "cell_type": "code",
      "metadata": {
        "id": "eeaPUkUiRla6",
        "colab_type": "code",
        "colab": {}
      },
      "source": [
        "#data_lm = TextLMDataBunch.from_csv(dataset_dir, 'cleanup_unlabelled.csv')"
      ],
      "execution_count": 0,
      "outputs": []
    },
    {
      "cell_type": "code",
      "metadata": {
        "id": "mD9GZMqpRLNY",
        "colab_type": "code",
        "colab": {}
      },
      "source": [
        "#data_lm.show_batch()\n",
        "#data_lm.save('data_lm_export.pkl')\n",
        "path = Path(dataset_dir)\n",
        "data_lm = load_data(path, 'data_lm_export.pkl')"
      ],
      "execution_count": 0,
      "outputs": []
    },
    {
      "cell_type": "code",
      "metadata": {
        "id": "BZtmm6e0qCVq",
        "colab_type": "code",
        "colab": {
          "base_uri": "https://localhost:8080/",
          "height": 326
        },
        "outputId": "2b98970a-0408-4387-815e-c64a438967cd"
      },
      "source": [
        "data_lm"
      ],
      "execution_count": 20,
      "outputs": [
        {
          "output_type": "execute_result",
          "data": {
            "text/plain": [
              "TextLMDataBunch;\n",
              "\n",
              "Train: LabelList (198642 items)\n",
              "x: LMTextList\n",
              "xxbos themes of the xxmaj commission where science has been effectively employed to support the,xxbos xxmaj promote and support efforts and initiatives to secure equitable access to land tenure and clarify resource rights and responsibilities , through land and tenure reform processes that respect the rule of law and are enshrined in national law , and provide access to credit for all , especially women , and that enable economic and social empowerment and poverty eradication as well as efficient and ecologically sound utilization of land and that enable women producers to become decision makers and owners in the sector , including the right to inherit land ;,xxbos xxmaj the paper is structured as follows : xxmaj section 2 presents the methodology used xxmaj section 3 describes our overall findings – an analysis of the use of targets and the degree of additional stretch that the sdgs would require xxmaj section 4 provides a more detailed analysis of the ambition of national versus global targets for 13 selected indicators xxmaj section 5 concludes , drawing lessons from this review of existing targets at national level for the sdgs . xxmaj mind the gap ? 11,xxbos xxmaj what does justice mean for women ? xxmaj justice is an ideal that has resonated throughout history , across all societies and cultures . xxmaj but what is justice ? xxmaj when it comes to defining justice , women have a range of perceptions , closely linked to the injustices they see and experience around them . xxmaj justice may be collectively desired , but it is individually experienced,xxbos xxup hiv and xxup aids : xxmaj socioeconomic xxmaj impact on xxmaj children in xxmaj senegal xxup unicef xxmaj innocenti xxmaj research xxmaj centre 77 xxmaj the movements of children following the death of one of their parents or the disruption of a marriage are intimately related to complex social and cultural practices . xxmaj when the father dies , for instance , according to tradition , the widow automatically marries his younger brother ( a custom known as xxunk ) and the children conse - quently move to another location . xxmaj when the mother dies , her sister traditionally replaces her in the household ( known xxunk ) , but informants affirmed that this practice is progressively declining in the areas covered by the survey . xxmaj however , even without xxunk , the widower typically seeks another wife without much delay , and as a result , the children of the deceased wife usually leave their father ’s house . xxmaj their mother ’s sisters may then bring them up . xxmaj in other cases , it was noted that grandmothers or aunts substituted for the parents . xxmaj the data reveal that children orphaned by xxup aids who have lost both parents are in most cases adopted by their grandmothers , who are their closest relatives . xxmaj in the sampled households affected by xxup hiv , a gradual reduction of the number of people involved in solidarity networks was observed . xxmaj responsibility for children orphaned by xxup aids , for instance , appeared to rest upon a limited number of family members . xxmaj moreover , the most substantial support appeared to be provided by projects , associations or ngos responding to xxup aids . xxmaj according to the survey data , 13 per cent of children with xxup hiv benefited from some type of xxup ngo assistance . xxmaj the majority of those children live in xxmaj tambacounda , xxmaj saint - xxmaj louis and xxmaj dakar , where there is a dynamic environment of ngos working in the area of xxup hiv . xxmaj the data further show that about 20 per cent of children infected with xxup hiv ( most of them living in xxmaj dakar , xxmaj xxunk and xxmaj tambacounda ) have had at least one parent who benefited from an income - generating programme for people living with xxup hiv . xxmaj in conclusion , after a parent ’s death , children were found likely to have enormous difficulties accommodating themselves to their new family or matrimonial arrangements . xxmaj it was often stressed by interviewees that the unstable situations de - scribed above make children feel marginal , undervalued and confronted with new and difficult challenges , a situation which , in turn , is aggravated by intra - household communication or affection deficits . xxmaj in fact , the compassion expressed by others was said to be often only temporary . xxmaj social networks : xxmaj analysis of the adult - centred questionnaire highlights many ways in which interpersonal relationships and social networks are adversely af - fected by the presence of xxup hiv within families . xxmaj while the death of a head of family usually results in the dispersal of family members ( wives and children ) who move into other , possibly separate , domestic units , the presence of xxup hiv infection may cause disintegration or reorganization of the family unit . a second feature that indicates the relative decline of social networks is the practice of sharing meals together . xxmaj in traditional and rural families , meals are shared not only with household members but also with people who do not live in the same\n",
              "y: LMLabelList\n",
              ",,,,\n",
              "Path: gdrive/My Drive/fastai-v3/sdgs/lstm;\n",
              "\n",
              "Valid: LabelList (49661 items)\n",
              "x: LMTextList\n",
              "xxbos xxmaj all of consortium members have strong expertise in xxup sti , whether at the national and regional level , or internationally,xxbos xxmaj challenges identified in the region include need for more stringent standards for emission and production technologies , relatively high cost of renewable energy sources , heavy dependence on energy imports , insufficient information and training , and limited budgets .,xxbos xxmaj prior to the session , invited participants were required to submit applications for partnerships presentations at the fair . xxmaj presentations at the fair were selected according to the xxmaj bali guidelines that are posted on the xxmaj commission secretariat web site .,xxbos xxmaj at the global level , the implementation and monitoring mechanisms established after the xxmaj brussels xxmaj programme of xxmaj action should be strengthened and improved for the effective implementation of the xxmaj programme of xxmaj action . xxmaj the xxmaj general xxmaj assembly should continue to monitor the implementation of this xxmaj programme of xxmaj action on an annual basis under the specific item on its agenda .,xxbos xxmaj invites xxmaj governments and others in a position to do so to provide financial support for the implementation of the present resolution , in particular in the area of technology support , data infrastructure and capacity - building , so that developing countries can engage effectively and take advantage of the benefits of platforms such as xxup unep xxmaj live ;\n",
              "y: LMLabelList\n",
              ",,,,\n",
              "Path: gdrive/My Drive/fastai-v3/sdgs/lstm;\n",
              "\n",
              "Test: None"
            ]
          },
          "metadata": {
            "tags": []
          },
          "execution_count": 20
        }
      ]
    },
    {
      "cell_type": "markdown",
      "metadata": {
        "id": "F64WFx3bKiZq",
        "colab_type": "text"
      },
      "source": [
        "# Training the general language model"
      ]
    },
    {
      "cell_type": "markdown",
      "metadata": {
        "id": "yLwASThLN65j",
        "colab_type": "text"
      },
      "source": [
        "We train on the first layer of the language model with all the data and a pretrained language model from the WikiText 103. This is included in the architecture of AWD_LSTM."
      ]
    },
    {
      "cell_type": "code",
      "metadata": {
        "id": "Ak-OSKYmGfbu",
        "colab_type": "code",
        "colab": {
          "base_uri": "https://localhost:8080/",
          "height": 300
        },
        "outputId": "d5bb71a1-2ca8-4c1a-9046-18494ff98d74"
      },
      "source": [
        "learn = language_model_learner(data_lm, AWD_LSTM, drop_mult=0.3)\n",
        "learn.lr_find()\n",
        "learn.recorder.plot(skip_end=15)"
      ],
      "execution_count": 21,
      "outputs": [
        {
          "output_type": "display_data",
          "data": {
            "text/html": [
              ""
            ],
            "text/plain": [
              "<IPython.core.display.HTML object>"
            ]
          },
          "metadata": {
            "tags": []
          }
        },
        {
          "output_type": "stream",
          "text": [
            "LR Finder is complete, type {learner_name}.recorder.plot() to see the graph.\n"
          ],
          "name": "stdout"
        },
        {
          "output_type": "display_data",
          "data": {
            "image/png": "[encoded data removed]",
            "text/plain": [
              "<Figure size 432x288 with 1 Axes>"
            ]
          },
          "metadata": {
            "tags": []
          }
        }
      ]
    },
    {
      "cell_type": "code",
      "metadata": {
        "id": "Jiyv5xGFAEYQ",
        "colab_type": "code",
        "colab": {
          "base_uri": "https://localhost:8080/",
          "height": 95
        },
        "outputId": "96a9f006-0194-4680-dec5-47c2a1e0a017"
      },
      "source": [
        "learn.fit_one_cycle(1, 1e-2, moms=(0.8,0.7))"
      ],
      "execution_count": 0,
      "outputs": [
        {
          "output_type": "display_data",
          "data": {
            "text/html": [
              "\n",
              "    <div>\n",
              "        <style>\n",
              "            /* Turns off some styling */\n",
              "            progress {\n",
              "                /* gets rid of default border in Firefox and Opera. */\n",
              "                border: none;\n",
              "                /* Needs to be in here for Safari polyfill so background images work as expected. */\n",
              "                background-size: auto;\n",
              "            }\n",
              "            .progress-bar-interrupted, .progress-bar-interrupted::-webkit-progress-bar {\n",
              "                background: #F44336;\n",
              "            }\n",
              "        </style>\n",
              "      <progress value='0' class='' max='1', style='width:300px; height:20px; vertical-align: middle;'></progress>\n",
              "      0.00% [0/1 00:00<00:00]\n",
              "    </div>\n",
              "    \n",
              "<table border=\"1\" class=\"dataframe\">\n",
              "  <thead>\n",
              "    <tr style=\"text-align: left;\">\n",
              "      <th>epoch</th>\n",
              "      <th>train_loss</th>\n",
              "      <th>valid_loss</th>\n",
              "      <th>accuracy</th>\n",
              "      <th>time</th>\n",
              "    </tr>\n",
              "  </thead>\n",
              "  <tbody>\n",
              "  </tbody>\n",
              "</table><p>\n",
              "\n",
              "    <div>\n",
              "        <style>\n",
              "            /* Turns off some styling */\n",
              "            progress {\n",
              "                /* gets rid of default border in Firefox and Opera. */\n",
              "                border: none;\n",
              "                /* Needs to be in here for Safari polyfill so background images work as expected. */\n",
              "                background-size: auto;\n",
              "            }\n",
              "            .progress-bar-interrupted, .progress-bar-interrupted::-webkit-progress-bar {\n",
              "                background: #F44336;\n",
              "            }\n",
              "        </style>\n",
              "      <progress value='526' class='' max='3724', style='width:300px; height:20px; vertical-align: middle;'></progress>\n",
              "      14.12% [526/3724 06:53<41:56 4.0515]\n",
              "    </div>\n",
              "    "
            ],
            "text/plain": [
              "<IPython.core.display.HTML object>"
            ]
          },
          "metadata": {
            "tags": []
          }
        }
      ]
    },
    {
      "cell_type": "code",
      "metadata": {
        "id": "Vvx2C2TlRVGz",
        "colab_type": "code",
        "colab": {}
      },
      "source": [
        "#learn.save('fit_head')"
      ],
      "execution_count": 0,
      "outputs": []
    },
    {
      "cell_type": "code",
      "metadata": {
        "id": "GLROGMRsRaK1",
        "colab_type": "code",
        "colab": {
          "base_uri": "https://localhost:8080/",
          "height": 375
        },
        "outputId": "1a359bee-4da6-4a6a-c22b-53a3915c9ea2"
      },
      "source": [
        "#learn.load('fit_head')"
      ],
      "execution_count": 12,
      "outputs": [
        {
          "output_type": "error",
          "ename": "AttributeError",
          "evalue": "ignored",
          "traceback": [
            "\u001b[0;31m---------------------------------------------------------------------------\u001b[0m",
            "\u001b[0;31mAttributeError\u001b[0m                            Traceback (most recent call last)",
            "\u001b[0;32m/usr/local/lib/python3.6/dist-packages/IPython/core/formatters.py\u001b[0m in \u001b[0;36m__call__\u001b[0;34m(self, obj)\u001b[0m\n\u001b[1;32m    697\u001b[0m                 \u001b[0mtype_pprinters\u001b[0m\u001b[0;34m=\u001b[0m\u001b[0mself\u001b[0m\u001b[0;34m.\u001b[0m\u001b[0mtype_printers\u001b[0m\u001b[0;34m,\u001b[0m\u001b[0;34m\u001b[0m\u001b[0;34m\u001b[0m\u001b[0m\n\u001b[1;32m    698\u001b[0m                 deferred_pprinters=self.deferred_printers)\n\u001b[0;32m--> 699\u001b[0;31m             \u001b[0mprinter\u001b[0m\u001b[0;34m.\u001b[0m\u001b[0mpretty\u001b[0m\u001b[0;34m(\u001b[0m\u001b[0mobj\u001b[0m\u001b[0;34m)\u001b[0m\u001b[0;34m\u001b[0m\u001b[0;34m\u001b[0m\u001b[0m\n\u001b[0m\u001b[1;32m    700\u001b[0m             \u001b[0mprinter\u001b[0m\u001b[0;34m.\u001b[0m\u001b[0mflush\u001b[0m\u001b[0;34m(\u001b[0m\u001b[0;34m)\u001b[0m\u001b[0;34m\u001b[0m\u001b[0;34m\u001b[0m\u001b[0m\n\u001b[1;32m    701\u001b[0m             \u001b[0;32mreturn\u001b[0m \u001b[0mstream\u001b[0m\u001b[0;34m.\u001b[0m\u001b[0mgetvalue\u001b[0m\u001b[0;34m(\u001b[0m\u001b[0;34m)\u001b[0m\u001b[0;34m\u001b[0m\u001b[0;34m\u001b[0m\u001b[0m\n",
            "\u001b[0;32m/usr/local/lib/python3.6/dist-packages/IPython/lib/pretty.py\u001b[0m in \u001b[0;36mpretty\u001b[0;34m(self, obj)\u001b[0m\n\u001b[1;32m    396\u001b[0m                             \u001b[0;32mif\u001b[0m \u001b[0mcallable\u001b[0m\u001b[0;34m(\u001b[0m\u001b[0mmeth\u001b[0m\u001b[0;34m)\u001b[0m\u001b[0;34m:\u001b[0m\u001b[0;34m\u001b[0m\u001b[0;34m\u001b[0m\u001b[0m\n\u001b[1;32m    397\u001b[0m                                 \u001b[0;32mreturn\u001b[0m \u001b[0mmeth\u001b[0m\u001b[0;34m(\u001b[0m\u001b[0mobj\u001b[0m\u001b[0;34m,\u001b[0m \u001b[0mself\u001b[0m\u001b[0;34m,\u001b[0m \u001b[0mcycle\u001b[0m\u001b[0;34m)\u001b[0m\u001b[0;34m\u001b[0m\u001b[0;34m\u001b[0m\u001b[0m\n\u001b[0;32m--> 398\u001b[0;31m             \u001b[0;32mreturn\u001b[0m \u001b[0m_default_pprint\u001b[0m\u001b[0;34m(\u001b[0m\u001b[0mobj\u001b[0m\u001b[0;34m,\u001b[0m \u001b[0mself\u001b[0m\u001b[0;34m,\u001b[0m \u001b[0mcycle\u001b[0m\u001b[0;34m)\u001b[0m\u001b[0;34m\u001b[0m\u001b[0;34m\u001b[0m\u001b[0m\n\u001b[0m\u001b[1;32m    399\u001b[0m         \u001b[0;32mfinally\u001b[0m\u001b[0;34m:\u001b[0m\u001b[0;34m\u001b[0m\u001b[0;34m\u001b[0m\u001b[0m\n\u001b[1;32m    400\u001b[0m             \u001b[0mself\u001b[0m\u001b[0;34m.\u001b[0m\u001b[0mend_group\u001b[0m\u001b[0;34m(\u001b[0m\u001b[0;34m)\u001b[0m\u001b[0;34m\u001b[0m\u001b[0;34m\u001b[0m\u001b[0m\n",
            "\u001b[0;32m/usr/local/lib/python3.6/dist-packages/IPython/lib/pretty.py\u001b[0m in \u001b[0;36m_default_pprint\u001b[0;34m(obj, p, cycle)\u001b[0m\n\u001b[1;32m    516\u001b[0m     \u001b[0;32mif\u001b[0m \u001b[0m_safe_getattr\u001b[0m\u001b[0;34m(\u001b[0m\u001b[0mklass\u001b[0m\u001b[0;34m,\u001b[0m \u001b[0;34m'__repr__'\u001b[0m\u001b[0;34m,\u001b[0m \u001b[0;32mNone\u001b[0m\u001b[0;34m)\u001b[0m \u001b[0;32mnot\u001b[0m \u001b[0;32min\u001b[0m \u001b[0m_baseclass_reprs\u001b[0m\u001b[0;34m:\u001b[0m\u001b[0;34m\u001b[0m\u001b[0;34m\u001b[0m\u001b[0m\n\u001b[1;32m    517\u001b[0m         \u001b[0;31m# A user-provided repr. Find newlines and replace them with p.break_()\u001b[0m\u001b[0;34m\u001b[0m\u001b[0;34m\u001b[0m\u001b[0;34m\u001b[0m\u001b[0m\n\u001b[0;32m--> 518\u001b[0;31m         \u001b[0m_repr_pprint\u001b[0m\u001b[0;34m(\u001b[0m\u001b[0mobj\u001b[0m\u001b[0;34m,\u001b[0m \u001b[0mp\u001b[0m\u001b[0;34m,\u001b[0m \u001b[0mcycle\u001b[0m\u001b[0;34m)\u001b[0m\u001b[0;34m\u001b[0m\u001b[0;34m\u001b[0m\u001b[0m\n\u001b[0m\u001b[1;32m    519\u001b[0m         \u001b[0;32mreturn\u001b[0m\u001b[0;34m\u001b[0m\u001b[0;34m\u001b[0m\u001b[0m\n\u001b[1;32m    520\u001b[0m     \u001b[0mp\u001b[0m\u001b[0;34m.\u001b[0m\u001b[0mbegin_group\u001b[0m\u001b[0;34m(\u001b[0m\u001b[0;36m1\u001b[0m\u001b[0;34m,\u001b[0m \u001b[0;34m'<'\u001b[0m\u001b[0;34m)\u001b[0m\u001b[0;34m\u001b[0m\u001b[0;34m\u001b[0m\u001b[0m\n",
            "\u001b[0;32m/usr/local/lib/python3.6/dist-packages/IPython/lib/pretty.py\u001b[0m in \u001b[0;36m_repr_pprint\u001b[0;34m(obj, p, cycle)\u001b[0m\n\u001b[1;32m    707\u001b[0m     \u001b[0;34m\"\"\"A pprint that just redirects to the normal repr function.\"\"\"\u001b[0m\u001b[0;34m\u001b[0m\u001b[0;34m\u001b[0m\u001b[0m\n\u001b[1;32m    708\u001b[0m     \u001b[0;31m# Find newlines and replace them with p.break_()\u001b[0m\u001b[0;34m\u001b[0m\u001b[0;34m\u001b[0m\u001b[0;34m\u001b[0m\u001b[0m\n\u001b[0;32m--> 709\u001b[0;31m     \u001b[0moutput\u001b[0m \u001b[0;34m=\u001b[0m \u001b[0mrepr\u001b[0m\u001b[0;34m(\u001b[0m\u001b[0mobj\u001b[0m\u001b[0;34m)\u001b[0m\u001b[0;34m\u001b[0m\u001b[0;34m\u001b[0m\u001b[0m\n\u001b[0m\u001b[1;32m    710\u001b[0m     \u001b[0;32mfor\u001b[0m \u001b[0midx\u001b[0m\u001b[0;34m,\u001b[0m\u001b[0moutput_line\u001b[0m \u001b[0;32min\u001b[0m \u001b[0menumerate\u001b[0m\u001b[0;34m(\u001b[0m\u001b[0moutput\u001b[0m\u001b[0;34m.\u001b[0m\u001b[0msplitlines\u001b[0m\u001b[0;34m(\u001b[0m\u001b[0;34m)\u001b[0m\u001b[0;34m)\u001b[0m\u001b[0;34m:\u001b[0m\u001b[0;34m\u001b[0m\u001b[0;34m\u001b[0m\u001b[0m\n\u001b[1;32m    711\u001b[0m         \u001b[0;32mif\u001b[0m \u001b[0midx\u001b[0m\u001b[0;34m:\u001b[0m\u001b[0;34m\u001b[0m\u001b[0;34m\u001b[0m\u001b[0m\n",
            "\u001b[0;32m/usr/local/lib/python3.6/dist-packages/dataclasses.py\u001b[0m in \u001b[0;36m__repr__\u001b[0;34m(self)\u001b[0m\n",
            "\u001b[0;32m/usr/local/lib/python3.6/dist-packages/fastai/basic_data.py\u001b[0m in \u001b[0;36m__repr__\u001b[0;34m(self)\u001b[0m\n\u001b[1;32m    101\u001b[0m \u001b[0;34m\u001b[0m\u001b[0m\n\u001b[1;32m    102\u001b[0m     \u001b[0;32mdef\u001b[0m \u001b[0m__repr__\u001b[0m\u001b[0;34m(\u001b[0m\u001b[0mself\u001b[0m\u001b[0;34m)\u001b[0m\u001b[0;34m->\u001b[0m\u001b[0mstr\u001b[0m\u001b[0;34m:\u001b[0m\u001b[0;34m\u001b[0m\u001b[0;34m\u001b[0m\u001b[0m\n\u001b[0;32m--> 103\u001b[0;31m         \u001b[0;32mreturn\u001b[0m \u001b[0;34mf'{self.__class__.__name__};\\n\\nTrain: {self.train_ds};\\n\\nValid: {self.valid_ds};\\n\\nTest: {self.test_ds}'\u001b[0m\u001b[0;34m\u001b[0m\u001b[0;34m\u001b[0m\u001b[0m\n\u001b[0m\u001b[1;32m    104\u001b[0m \u001b[0;34m\u001b[0m\u001b[0m\n\u001b[1;32m    105\u001b[0m     \u001b[0;34m@\u001b[0m\u001b[0mstaticmethod\u001b[0m\u001b[0;34m\u001b[0m\u001b[0;34m\u001b[0m\u001b[0m\n",
            "\u001b[0;32m/usr/local/lib/python3.6/dist-packages/fastai/data_block.py\u001b[0m in \u001b[0;36m__repr__\u001b[0;34m(self)\u001b[0m\n\u001b[1;32m    611\u001b[0m \u001b[0;34m\u001b[0m\u001b[0m\n\u001b[1;32m    612\u001b[0m     \u001b[0;32mdef\u001b[0m \u001b[0m__repr__\u001b[0m\u001b[0;34m(\u001b[0m\u001b[0mself\u001b[0m\u001b[0;34m)\u001b[0m\u001b[0;34m->\u001b[0m\u001b[0mstr\u001b[0m\u001b[0;34m:\u001b[0m\u001b[0;34m\u001b[0m\u001b[0;34m\u001b[0m\u001b[0m\n\u001b[0;32m--> 613\u001b[0;31m         \u001b[0mitems\u001b[0m \u001b[0;34m=\u001b[0m \u001b[0;34m[\u001b[0m\u001b[0mself\u001b[0m\u001b[0;34m[\u001b[0m\u001b[0mi\u001b[0m\u001b[0;34m]\u001b[0m \u001b[0;32mfor\u001b[0m \u001b[0mi\u001b[0m \u001b[0;32min\u001b[0m \u001b[0mrange\u001b[0m\u001b[0;34m(\u001b[0m\u001b[0mmin\u001b[0m\u001b[0;34m(\u001b[0m\u001b[0;36m5\u001b[0m\u001b[0;34m,\u001b[0m\u001b[0mlen\u001b[0m\u001b[0;34m(\u001b[0m\u001b[0mself\u001b[0m\u001b[0;34m.\u001b[0m\u001b[0mitems\u001b[0m\u001b[0;34m)\u001b[0m\u001b[0;34m)\u001b[0m\u001b[0;34m)\u001b[0m\u001b[0;34m]\u001b[0m\u001b[0;34m\u001b[0m\u001b[0;34m\u001b[0m\u001b[0m\n\u001b[0m\u001b[1;32m    614\u001b[0m         \u001b[0mres\u001b[0m \u001b[0;34m=\u001b[0m \u001b[0;34mf'{self.__class__.__name__} ({len(self.items)} items)\\n'\u001b[0m\u001b[0;34m\u001b[0m\u001b[0;34m\u001b[0m\u001b[0m\n\u001b[1;32m    615\u001b[0m         \u001b[0mres\u001b[0m \u001b[0;34m+=\u001b[0m \u001b[0;34mf'x: {self.x.__class__.__name__}\\n{show_some([i[0] for i in items])}\\n'\u001b[0m\u001b[0;34m\u001b[0m\u001b[0;34m\u001b[0m\u001b[0m\n",
            "\u001b[0;32m/usr/local/lib/python3.6/dist-packages/fastai/data_block.py\u001b[0m in \u001b[0;36m<listcomp>\u001b[0;34m(.0)\u001b[0m\n\u001b[1;32m    611\u001b[0m \u001b[0;34m\u001b[0m\u001b[0m\n\u001b[1;32m    612\u001b[0m     \u001b[0;32mdef\u001b[0m \u001b[0m__repr__\u001b[0m\u001b[0;34m(\u001b[0m\u001b[0mself\u001b[0m\u001b[0;34m)\u001b[0m\u001b[0;34m->\u001b[0m\u001b[0mstr\u001b[0m\u001b[0;34m:\u001b[0m\u001b[0;34m\u001b[0m\u001b[0;34m\u001b[0m\u001b[0m\n\u001b[0;32m--> 613\u001b[0;31m         \u001b[0mitems\u001b[0m \u001b[0;34m=\u001b[0m \u001b[0;34m[\u001b[0m\u001b[0mself\u001b[0m\u001b[0;34m[\u001b[0m\u001b[0mi\u001b[0m\u001b[0;34m]\u001b[0m \u001b[0;32mfor\u001b[0m \u001b[0mi\u001b[0m \u001b[0;32min\u001b[0m \u001b[0mrange\u001b[0m\u001b[0;34m(\u001b[0m\u001b[0mmin\u001b[0m\u001b[0;34m(\u001b[0m\u001b[0;36m5\u001b[0m\u001b[0;34m,\u001b[0m\u001b[0mlen\u001b[0m\u001b[0;34m(\u001b[0m\u001b[0mself\u001b[0m\u001b[0;34m.\u001b[0m\u001b[0mitems\u001b[0m\u001b[0;34m)\u001b[0m\u001b[0;34m)\u001b[0m\u001b[0;34m)\u001b[0m\u001b[0;34m]\u001b[0m\u001b[0;34m\u001b[0m\u001b[0;34m\u001b[0m\u001b[0m\n\u001b[0m\u001b[1;32m    614\u001b[0m         \u001b[0mres\u001b[0m \u001b[0;34m=\u001b[0m \u001b[0;34mf'{self.__class__.__name__} ({len(self.items)} items)\\n'\u001b[0m\u001b[0;34m\u001b[0m\u001b[0;34m\u001b[0m\u001b[0m\n\u001b[1;32m    615\u001b[0m         \u001b[0mres\u001b[0m \u001b[0;34m+=\u001b[0m \u001b[0;34mf'x: {self.x.__class__.__name__}\\n{show_some([i[0] for i in items])}\\n'\u001b[0m\u001b[0;34m\u001b[0m\u001b[0;34m\u001b[0m\u001b[0m\n",
            "\u001b[0;32m/usr/local/lib/python3.6/dist-packages/fastai/data_block.py\u001b[0m in \u001b[0;36m__getitem__\u001b[0;34m(self, idxs)\u001b[0m\n\u001b[1;32m    646\u001b[0m         \u001b[0midxs\u001b[0m \u001b[0;34m=\u001b[0m \u001b[0mtry_int\u001b[0m\u001b[0;34m(\u001b[0m\u001b[0midxs\u001b[0m\u001b[0;34m)\u001b[0m\u001b[0;34m\u001b[0m\u001b[0;34m\u001b[0m\u001b[0m\n\u001b[1;32m    647\u001b[0m         \u001b[0;32mif\u001b[0m \u001b[0misinstance\u001b[0m\u001b[0;34m(\u001b[0m\u001b[0midxs\u001b[0m\u001b[0;34m,\u001b[0m \u001b[0mIntegral\u001b[0m\u001b[0;34m)\u001b[0m\u001b[0;34m:\u001b[0m\u001b[0;34m\u001b[0m\u001b[0;34m\u001b[0m\u001b[0m\n\u001b[0;32m--> 648\u001b[0;31m             \u001b[0;32mif\u001b[0m \u001b[0mself\u001b[0m\u001b[0;34m.\u001b[0m\u001b[0mitem\u001b[0m \u001b[0;32mis\u001b[0m \u001b[0;32mNone\u001b[0m\u001b[0;34m:\u001b[0m \u001b[0mx\u001b[0m\u001b[0;34m,\u001b[0m\u001b[0my\u001b[0m \u001b[0;34m=\u001b[0m \u001b[0mself\u001b[0m\u001b[0;34m.\u001b[0m\u001b[0mx\u001b[0m\u001b[0;34m[\u001b[0m\u001b[0midxs\u001b[0m\u001b[0;34m]\u001b[0m\u001b[0;34m,\u001b[0m\u001b[0mself\u001b[0m\u001b[0;34m.\u001b[0m\u001b[0my\u001b[0m\u001b[0;34m[\u001b[0m\u001b[0midxs\u001b[0m\u001b[0;34m]\u001b[0m\u001b[0;34m\u001b[0m\u001b[0;34m\u001b[0m\u001b[0m\n\u001b[0m\u001b[1;32m    649\u001b[0m             \u001b[0;32melse\u001b[0m\u001b[0;34m:\u001b[0m                 \u001b[0mx\u001b[0m\u001b[0;34m,\u001b[0m\u001b[0my\u001b[0m \u001b[0;34m=\u001b[0m \u001b[0mself\u001b[0m\u001b[0;34m.\u001b[0m\u001b[0mitem\u001b[0m   \u001b[0;34m,\u001b[0m\u001b[0;36m0\u001b[0m\u001b[0;34m\u001b[0m\u001b[0;34m\u001b[0m\u001b[0m\n\u001b[1;32m    650\u001b[0m             \u001b[0;32mif\u001b[0m \u001b[0mself\u001b[0m\u001b[0;34m.\u001b[0m\u001b[0mtfms\u001b[0m \u001b[0;32mor\u001b[0m \u001b[0mself\u001b[0m\u001b[0;34m.\u001b[0m\u001b[0mtfmargs\u001b[0m\u001b[0;34m:\u001b[0m\u001b[0;34m\u001b[0m\u001b[0;34m\u001b[0m\u001b[0m\n",
            "\u001b[0;32m/usr/local/lib/python3.6/dist-packages/fastai/data_block.py\u001b[0m in \u001b[0;36m__getitem__\u001b[0;34m(self, idxs)\u001b[0m\n\u001b[1;32m    116\u001b[0m         \u001b[0;34m\"returns a single item based if `idxs` is an integer or a new `ItemList` object if `idxs` is a range.\"\u001b[0m\u001b[0;34m\u001b[0m\u001b[0;34m\u001b[0m\u001b[0m\n\u001b[1;32m    117\u001b[0m         \u001b[0midxs\u001b[0m \u001b[0;34m=\u001b[0m \u001b[0mtry_int\u001b[0m\u001b[0;34m(\u001b[0m\u001b[0midxs\u001b[0m\u001b[0;34m)\u001b[0m\u001b[0;34m\u001b[0m\u001b[0;34m\u001b[0m\u001b[0m\n\u001b[0;32m--> 118\u001b[0;31m         \u001b[0;32mif\u001b[0m \u001b[0misinstance\u001b[0m\u001b[0;34m(\u001b[0m\u001b[0midxs\u001b[0m\u001b[0;34m,\u001b[0m \u001b[0mIntegral\u001b[0m\u001b[0;34m)\u001b[0m\u001b[0;34m:\u001b[0m \u001b[0;32mreturn\u001b[0m \u001b[0mself\u001b[0m\u001b[0;34m.\u001b[0m\u001b[0mget\u001b[0m\u001b[0;34m(\u001b[0m\u001b[0midxs\u001b[0m\u001b[0;34m)\u001b[0m\u001b[0;34m\u001b[0m\u001b[0;34m\u001b[0m\u001b[0m\n\u001b[0m\u001b[1;32m    119\u001b[0m         \u001b[0;32melse\u001b[0m\u001b[0;34m:\u001b[0m \u001b[0;32mreturn\u001b[0m \u001b[0mself\u001b[0m\u001b[0;34m.\u001b[0m\u001b[0mnew\u001b[0m\u001b[0;34m(\u001b[0m\u001b[0mself\u001b[0m\u001b[0;34m.\u001b[0m\u001b[0mitems\u001b[0m\u001b[0;34m[\u001b[0m\u001b[0midxs\u001b[0m\u001b[0;34m]\u001b[0m\u001b[0;34m,\u001b[0m \u001b[0minner_df\u001b[0m\u001b[0;34m=\u001b[0m\u001b[0mindex_row\u001b[0m\u001b[0;34m(\u001b[0m\u001b[0mself\u001b[0m\u001b[0;34m.\u001b[0m\u001b[0minner_df\u001b[0m\u001b[0;34m,\u001b[0m \u001b[0midxs\u001b[0m\u001b[0;34m)\u001b[0m\u001b[0;34m)\u001b[0m\u001b[0;34m\u001b[0m\u001b[0;34m\u001b[0m\u001b[0m\n\u001b[1;32m    120\u001b[0m \u001b[0;34m\u001b[0m\u001b[0m\n",
            "\u001b[0;32m/usr/local/lib/python3.6/dist-packages/fastai/text/data.py\u001b[0m in \u001b[0;36mget\u001b[0;34m(self, i)\u001b[0m\n\u001b[1;32m    327\u001b[0m     \u001b[0;32mdef\u001b[0m \u001b[0mget\u001b[0m\u001b[0;34m(\u001b[0m\u001b[0mself\u001b[0m\u001b[0;34m,\u001b[0m \u001b[0mi\u001b[0m\u001b[0;34m)\u001b[0m\u001b[0;34m:\u001b[0m\u001b[0;34m\u001b[0m\u001b[0;34m\u001b[0m\u001b[0m\n\u001b[1;32m    328\u001b[0m         \u001b[0mo\u001b[0m \u001b[0;34m=\u001b[0m \u001b[0msuper\u001b[0m\u001b[0;34m(\u001b[0m\u001b[0;34m)\u001b[0m\u001b[0;34m.\u001b[0m\u001b[0mget\u001b[0m\u001b[0;34m(\u001b[0m\u001b[0mi\u001b[0m\u001b[0;34m)\u001b[0m\u001b[0;34m\u001b[0m\u001b[0;34m\u001b[0m\u001b[0m\n\u001b[0;32m--> 329\u001b[0;31m         \u001b[0;32mreturn\u001b[0m \u001b[0mo\u001b[0m \u001b[0;32mif\u001b[0m \u001b[0mself\u001b[0m\u001b[0;34m.\u001b[0m\u001b[0mvocab\u001b[0m \u001b[0;32mis\u001b[0m \u001b[0;32mNone\u001b[0m \u001b[0;32melse\u001b[0m \u001b[0mText\u001b[0m\u001b[0;34m(\u001b[0m\u001b[0mo\u001b[0m\u001b[0;34m,\u001b[0m \u001b[0mself\u001b[0m\u001b[0;34m.\u001b[0m\u001b[0mvocab\u001b[0m\u001b[0;34m.\u001b[0m\u001b[0mtextify\u001b[0m\u001b[0;34m(\u001b[0m\u001b[0mo\u001b[0m\u001b[0;34m,\u001b[0m \u001b[0mself\u001b[0m\u001b[0;34m.\u001b[0m\u001b[0msep\u001b[0m\u001b[0;34m)\u001b[0m\u001b[0;34m)\u001b[0m\u001b[0;34m\u001b[0m\u001b[0;34m\u001b[0m\u001b[0m\n\u001b[0m\u001b[1;32m    330\u001b[0m \u001b[0;34m\u001b[0m\u001b[0m\n\u001b[1;32m    331\u001b[0m     \u001b[0;32mdef\u001b[0m \u001b[0mlabel_for_lm\u001b[0m\u001b[0;34m(\u001b[0m\u001b[0mself\u001b[0m\u001b[0;34m,\u001b[0m \u001b[0;34m**\u001b[0m\u001b[0mkwargs\u001b[0m\u001b[0;34m)\u001b[0m\u001b[0;34m:\u001b[0m\u001b[0;34m\u001b[0m\u001b[0;34m\u001b[0m\u001b[0m\n",
            "\u001b[0;31mAttributeError\u001b[0m: 'LMTextList' object has no attribute 'sep'"
          ]
        }
      ]
    },
    {
      "cell_type": "code",
      "metadata": {
        "id": "LcKIOKCERK1S",
        "colab_type": "code",
        "colab": {}
      },
      "source": [
        "learn.unfreeze()\n",
        "learn.fit_one_cycle(10, 1e-3, moms=(0.8,0.7))"
      ],
      "execution_count": 0,
      "outputs": []
    },
    {
      "cell_type": "code",
      "metadata": {
        "id": "HyHBz2yMPvOR",
        "colab_type": "code",
        "colab": {}
      },
      "source": [
        "learn.save_encoder('fine_tuned_encoder')"
      ],
      "execution_count": 0,
      "outputs": []
    },
    {
      "cell_type": "code",
      "metadata": {
        "id": "p5upJ_jFSEXi",
        "colab_type": "code",
        "colab": {}
      },
      "source": [
        "#learn.load_encoder('fine_tuned_encoder')"
      ],
      "execution_count": 0,
      "outputs": []
    },
    {
      "cell_type": "code",
      "metadata": {
        "id": "v8DNZHLecaMC",
        "colab_type": "code",
        "outputId": "1f40ef22-493f-4d8f-f8e3-b2946f4e1dba",
        "colab": {
          "base_uri": "https://localhost:8080/",
          "height": 34
        }
      },
      "source": [
        "learn.predict(\"African countries like\", n_words=20)"
      ],
      "execution_count": 12,
      "outputs": [
        {
          "output_type": "execute_result",
          "data": {
            "text/plain": [
              "'African countries like Nigeria in South Africa , Zimbabwe , and Southeast Asia in the United'"
            ]
          },
          "metadata": {
            "tags": []
          },
          "execution_count": 12
        }
      ]
    },
    {
      "cell_type": "markdown",
      "metadata": {
        "id": "Ry9vK4WdPIi_",
        "colab_type": "text"
      },
      "source": [
        "# Training the classifier"
      ]
    },
    {
      "cell_type": "markdown",
      "metadata": {
        "id": "c_iAtHuKEP8P",
        "colab_type": "text"
      },
      "source": [
        "Then we load the language model for the classifier"
      ]
    },
    {
      "cell_type": "code",
      "metadata": {
        "id": "tagGNw4Qeiv0",
        "colab_type": "code",
        "outputId": "c8bf8dd6-38a0-41f9-f721-2008031ba36d",
        "colab": {
          "base_uri": "https://localhost:8080/",
          "height": 51
        }
      },
      "source": [
        "!ls gdrive/'My Drive'/fastai-v3/sdgs/lstm/"
      ],
      "execution_count": 0,
      "outputs": [
        {
          "output_type": "stream",
          "text": [
            "cleanup_labelled.csv\tdata_clas_export.pkl  models\n",
            "cleanup_unlabelled.csv\tdata_lm_export.pkl\n"
          ],
          "name": "stdout"
        }
      ]
    },
    {
      "cell_type": "code",
      "metadata": {
        "id": "B2bWOQjaEPMq",
        "colab_type": "code",
        "colab": {}
      },
      "source": [
        "data_clas = TextClasDataBunch.from_csv(dataset_dir, 'cleanup_labelled.csv', vocab=data_lm.train_ds.vocab, bs=32, text_cols='text', label_cols=\"labels\", label_delim=\"|\")"
      ],
      "execution_count": 0,
      "outputs": []
    },
    {
      "cell_type": "code",
      "metadata": {
        "id": "v12yE_4rGgb_",
        "colab_type": "code",
        "colab": {}
      },
      "source": [
        "data_clas.save('data_clas_export.pkl')"
      ],
      "execution_count": 0,
      "outputs": []
    },
    {
      "cell_type": "code",
      "metadata": {
        "id": "zTwxdjHCKo_E",
        "colab_type": "code",
        "colab": {}
      },
      "source": [
        "#data_clas = load_data(path, 'data_clas_export.pkl', bs=16)"
      ],
      "execution_count": 0,
      "outputs": []
    },
    {
      "cell_type": "code",
      "metadata": {
        "id": "7Pa1nx_TPnK1",
        "colab_type": "code",
        "colab": {}
      },
      "source": [
        "\n",
        "F1 = partial(MultiLabelFbeta, average=\"macro\")\n",
        "#acc_02 = partial(accuracy_thresh, thresh=0.2)\n",
        "#f_score = partial(fbeta, thresh=0.2)\n",
        "learn = text_classifier_learner(data_clas, AWD_LSTM, drop_mult=0.5, callback_fns=[F1])\n",
        "learn.load_encoder('ft_enc')\n",
        "learn.freeze()"
      ],
      "execution_count": 0,
      "outputs": []
    },
    {
      "cell_type": "code",
      "metadata": {
        "id": "liC2KN_ll2Jy",
        "colab_type": "code",
        "outputId": "a92bad12-406e-4ffe-d5b5-33e6c1f4abf6",
        "colab": {
          "base_uri": "https://localhost:8080/",
          "height": 300
        }
      },
      "source": [
        "learn.lr_find()\n",
        "learn.recorder.plot()"
      ],
      "execution_count": 0,
      "outputs": [
        {
          "output_type": "display_data",
          "data": {
            "text/html": [
              ""
            ],
            "text/plain": [
              "<IPython.core.display.HTML object>"
            ]
          },
          "metadata": {
            "tags": []
          }
        },
        {
          "output_type": "stream",
          "text": [
            "LR Finder is complete, type {learner_name}.recorder.plot() to see the graph.\n"
          ],
          "name": "stdout"
        },
        {
          "output_type": "display_data",
          "data": {
            "image/png": "[encoded data removed]",
            "text/plain": [
              "<Figure size 432x288 with 1 Axes>"
            ]
          },
          "metadata": {
            "tags": []
          }
        }
      ]
    },
    {
      "cell_type": "code",
      "metadata": {
        "id": "joqvH0W3eTEC",
        "colab_type": "code",
        "outputId": "9fb30bbe-adfd-4a32-c77e-99ed789e90c6",
        "colab": {
          "base_uri": "https://localhost:8080/",
          "height": 80
        }
      },
      "source": [
        "learn.fit_one_cycle(1, 3e-2, moms=(0.8,0.7))"
      ],
      "execution_count": 0,
      "outputs": [
        {
          "output_type": "display_data",
          "data": {
            "text/html": [
              "<table border=\"1\" class=\"dataframe\">\n",
              "  <thead>\n",
              "    <tr style=\"text-align: left;\">\n",
              "      <th>epoch</th>\n",
              "      <th>train_loss</th>\n",
              "      <th>valid_loss</th>\n",
              "      <th>macro_fbeta</th>\n",
              "      <th>time</th>\n",
              "    </tr>\n",
              "  </thead>\n",
              "  <tbody>\n",
              "    <tr>\n",
              "      <td>0</td>\n",
              "      <td>0.244128</td>\n",
              "      <td>0.195901</td>\n",
              "      <td>0.328000</td>\n",
              "      <td>00:13</td>\n",
              "    </tr>\n",
              "  </tbody>\n",
              "</table>"
            ],
            "text/plain": [
              "<IPython.core.display.HTML object>"
            ]
          },
          "metadata": {
            "tags": []
          }
        }
      ]
    },
    {
      "cell_type": "code",
      "metadata": {
        "id": "lDkP8oW_EIrW",
        "colab_type": "code",
        "colab": {}
      },
      "source": [
        "learn.save('first')"
      ],
      "execution_count": 0,
      "outputs": []
    },
    {
      "cell_type": "code",
      "metadata": {
        "id": "Pkp4PbysEL-l",
        "colab_type": "code",
        "colab": {}
      },
      "source": [
        "learn.load('first')"
      ],
      "execution_count": 0,
      "outputs": []
    },
    {
      "cell_type": "code",
      "metadata": {
        "id": "pV_ZVWfWe6Cq",
        "colab_type": "code",
        "outputId": "5c45afc2-9db6-4e17-9089-800f8d894417",
        "colab": {
          "base_uri": "https://localhost:8080/",
          "height": 80
        }
      },
      "source": [
        "learn.freeze_to(-2)\n",
        "learn.fit_one_cycle(1, slice(1e-2/(2.6**4),1e-2), moms=(0.8, 0.7))"
      ],
      "execution_count": 0,
      "outputs": [
        {
          "output_type": "display_data",
          "data": {
            "text/html": [
              "<table border=\"1\" class=\"dataframe\">\n",
              "  <thead>\n",
              "    <tr style=\"text-align: left;\">\n",
              "      <th>epoch</th>\n",
              "      <th>train_loss</th>\n",
              "      <th>valid_loss</th>\n",
              "      <th>macro_fbeta</th>\n",
              "      <th>time</th>\n",
              "    </tr>\n",
              "  </thead>\n",
              "  <tbody>\n",
              "    <tr>\n",
              "      <td>0</td>\n",
              "      <td>0.190883</td>\n",
              "      <td>0.177494</td>\n",
              "      <td>0.454085</td>\n",
              "      <td>00:14</td>\n",
              "    </tr>\n",
              "  </tbody>\n",
              "</table>"
            ],
            "text/plain": [
              "<IPython.core.display.HTML object>"
            ]
          },
          "metadata": {
            "tags": []
          }
        }
      ]
    },
    {
      "cell_type": "code",
      "metadata": {
        "id": "Fbb6irl-Gr4U",
        "colab_type": "code",
        "colab": {}
      },
      "source": [
        "lear.save('second')"
      ],
      "execution_count": 0,
      "outputs": []
    },
    {
      "cell_type": "code",
      "metadata": {
        "id": "4qMkeA_8GtlQ",
        "colab_type": "code",
        "colab": {}
      },
      "source": [
        "lear.load('second')"
      ],
      "execution_count": 0,
      "outputs": []
    },
    {
      "cell_type": "code",
      "metadata": {
        "id": "WKm3V-5oG0oN",
        "colab_type": "code",
        "colab": {}
      },
      "source": [
        "learn.freeze_to(-3)\n",
        "learn.fit_one_cycle(1, slice(5e-3/(2.6**4),5e-3), moms=(0.8, 0.7))"
      ],
      "execution_count": 0,
      "outputs": []
    },
    {
      "cell_type": "code",
      "metadata": {
        "id": "L_F3lcF_HI1O",
        "colab_type": "code",
        "colab": {}
      },
      "source": [
        "learn.save('third')"
      ],
      "execution_count": 0,
      "outputs": []
    },
    {
      "cell_type": "code",
      "metadata": {
        "id": "wM4fYThpHKlU",
        "colab_type": "code",
        "colab": {}
      },
      "source": [
        "learn.load('third')"
      ],
      "execution_count": 0,
      "outputs": []
    },
    {
      "cell_type": "code",
      "metadata": {
        "id": "KncF5e80fC3B",
        "colab_type": "code",
        "outputId": "9fd4abbd-19a9-4264-a2f3-672eaca50e6b",
        "colab": {
          "base_uri": "https://localhost:8080/",
          "height": 359
        }
      },
      "source": [
        "learn.unfreeze()\n",
        "learn.fit_one_cycle(2, slice(1e-3/(2.6**4),1e-3), moms=0.8,0.7)"
      ],
      "execution_count": 0,
      "outputs": [
        {
          "output_type": "display_data",
          "data": {
            "text/html": [
              "<table border=\"1\" class=\"dataframe\">\n",
              "  <thead>\n",
              "    <tr style=\"text-align: left;\">\n",
              "      <th>epoch</th>\n",
              "      <th>train_loss</th>\n",
              "      <th>valid_loss</th>\n",
              "      <th>macro_fbeta</th>\n",
              "      <th>time</th>\n",
              "    </tr>\n",
              "  </thead>\n",
              "  <tbody>\n",
              "    <tr>\n",
              "      <td>0</td>\n",
              "      <td>0.171165</td>\n",
              "      <td>0.172345</td>\n",
              "      <td>0.526257</td>\n",
              "      <td>00:31</td>\n",
              "    </tr>\n",
              "    <tr>\n",
              "      <td>1</td>\n",
              "      <td>0.165512</td>\n",
              "      <td>0.161713</td>\n",
              "      <td>0.573937</td>\n",
              "      <td>00:33</td>\n",
              "    </tr>\n",
              "    <tr>\n",
              "      <td>2</td>\n",
              "      <td>0.147813</td>\n",
              "      <td>0.155927</td>\n",
              "      <td>0.620684</td>\n",
              "      <td>00:33</td>\n",
              "    </tr>\n",
              "    <tr>\n",
              "      <td>3</td>\n",
              "      <td>0.132138</td>\n",
              "      <td>0.145209</td>\n",
              "      <td>0.661952</td>\n",
              "      <td>00:35</td>\n",
              "    </tr>\n",
              "    <tr>\n",
              "      <td>4</td>\n",
              "      <td>0.115479</td>\n",
              "      <td>0.138546</td>\n",
              "      <td>0.706803</td>\n",
              "      <td>00:35</td>\n",
              "    </tr>\n",
              "    <tr>\n",
              "      <td>5</td>\n",
              "      <td>0.104471</td>\n",
              "      <td>0.135142</td>\n",
              "      <td>0.740528</td>\n",
              "      <td>00:35</td>\n",
              "    </tr>\n",
              "    <tr>\n",
              "      <td>6</td>\n",
              "      <td>0.095513</td>\n",
              "      <td>0.134996</td>\n",
              "      <td>0.763007</td>\n",
              "      <td>00:33</td>\n",
              "    </tr>\n",
              "    <tr>\n",
              "      <td>7</td>\n",
              "      <td>0.085548</td>\n",
              "      <td>0.135496</td>\n",
              "      <td>0.782925</td>\n",
              "      <td>00:31</td>\n",
              "    </tr>\n",
              "    <tr>\n",
              "      <td>8</td>\n",
              "      <td>0.078873</td>\n",
              "      <td>0.135753</td>\n",
              "      <td>0.786783</td>\n",
              "      <td>00:34</td>\n",
              "    </tr>\n",
              "    <tr>\n",
              "      <td>9</td>\n",
              "      <td>0.080727</td>\n",
              "      <td>0.135264</td>\n",
              "      <td>0.796248</td>\n",
              "      <td>00:32</td>\n",
              "    </tr>\n",
              "  </tbody>\n",
              "</table>"
            ],
            "text/plain": [
              "<IPython.core.display.HTML object>"
            ]
          },
          "metadata": {
            "tags": []
          }
        }
      ]
    },
    {
      "cell_type": "code",
      "metadata": {
        "id": "Zv1yIw2NHvuT",
        "colab_type": "code",
        "colab": {}
      },
      "source": [
        "learn.save('fourth')"
      ],
      "execution_count": 0,
      "outputs": []
    },
    {
      "cell_type": "code",
      "metadata": {
        "id": "YLUfp23-Hxv3",
        "colab_type": "code",
        "colab": {}
      },
      "source": [
        "learn.load('fourth')"
      ],
      "execution_count": 0,
      "outputs": []
    },
    {
      "cell_type": "code",
      "metadata": {
        "id": "LxUVh2NhfOp2",
        "colab_type": "code",
        "outputId": "8b5342d5-6955-481b-df7e-0f1fdc040865",
        "colab": {
          "base_uri": "https://localhost:8080/",
          "height": 1000
        }
      },
      "source": [
        "learn.show_results(rows=500)"
      ],
      "execution_count": 0,
      "outputs": [
        {
          "output_type": "display_data",
          "data": {
            "text/html": [
              "<table border=\"1\" class=\"dataframe\">\n",
              "  <thead>\n",
              "    <tr style=\"text-align: right;\">\n",
              "      <th>text</th>\n",
              "      <th>target</th>\n",
              "      <th>prediction</th>\n",
              "    </tr>\n",
              "  </thead>\n",
              "  <tbody>\n",
              "    <tr>\n",
              "      <td>xxbos xxup unossc , nest , xxmaj southern xxmaj voice , xxmaj reality of xxmaj aid , xxup undp and xxmaj mexico xxmaj south - xxmaj south cooperation ( xxup ssc ) has played an ever - increasing role in overcoming national , regional and global developmental challenges and is now a key enabler for achieving 2030 xxmaj agenda and other xxmaj internationally xxmaj agreed xxmaj development xxmaj goals .</td>\n",
              "      <td>5</td>\n",
              "      <td>17;4</td>\n",
              "    </tr>\n",
              "    <tr>\n",
              "      <td>xxbos xxmaj only five countries ( xxmaj bangladesh , xxmaj china , xxmaj indonesia , xxmaj korea and xxmaj poland ) had statements expressing sub - goal 1.2 . xxmaj these range from general statements such as “ a prosperous xxmaj indonesia ” and “ secure national sustainable development ” ( xxmaj korea ) ; to more specific ones such as eradication of extreme poverty ( xxmaj bangladesh ) ,</td>\n",
              "      <td>1</td>\n",
              "      <td>1;10</td>\n",
              "    </tr>\n",
              "    <tr>\n",
              "      <td>xxbos xxmaj table 3 : xxmaj targets and indicators for xxup sdg 11 xxmaj target description xxmaj core indicator xxmaj tier 11.1 xxmaj by 2030 , ensure access for all to adequate , safe and affordable housing and basic services and upgrade slums xxunk xxmaj proportion of urban population living in slums , informal settlements or inadequate housing i 11.2 xxmaj by 2030 , provide access to safe , affordable</td>\n",
              "      <td>1;11</td>\n",
              "      <td>11</td>\n",
              "    </tr>\n",
              "    <tr>\n",
              "      <td>xxbos xxmaj sub - xxmaj goal 8.1 : xxmaj everyone has access to sufficient energy and consumption is efficient and sustainable . xxmaj access to energy is mainly a developing country issue , and attaining full electrification appears as a goal ( xxmaj bangladesh and xxmaj india ) . xxmaj however , access to renewables is relevant for all , and many countries identify related goals and targets ( xxmaj</td>\n",
              "      <td>8</td>\n",
              "      <td>7</td>\n",
              "    </tr>\n",
              "    <tr>\n",
              "      <td>xxbos 31 xxmaj for xxup sdg1 in xxmaj africa , xxup rri has roles in probing the magnitude of the key factors feeding the incidence and depth of poverty in the region including high income inequality and illiteracy . xxmaj on the other hand , the key drivers that significantly reduce poverty in the region will need to be collectively xxunk through xxup rri . xxmaj these include higher levels</td>\n",
              "      <td>2;3</td>\n",
              "      <td>1;3</td>\n",
              "    </tr>\n",
              "    <tr>\n",
              "      <td>xxbos xxmaj settlements infrastructure and xxmaj settlements with their infrastructure are liveable , green and well managed . 5.1 xxmaj all people have a home and access to basic infrastructure and services . 5.2 xxmaj urban planning provides liveable cities with clean air and efficient use of land and resources . 5.3 xxmaj major infrastructure development does not impose risk to the integrity of natural ecosystems and society , and</td>\n",
              "      <td>5;7</td>\n",
              "      <td>11</td>\n",
              "    </tr>\n",
              "    <tr>\n",
              "      <td>xxbos 74 xxmaj the xxmaj least xxmaj developed xxmaj countries xxmaj report 2016 xxmaj income - only graduates have a much weaker manufacturing base than those graduating based on two criteria . xxmaj agriculture accounts for 46.6 per cent of employment in the ldcs projected to graduate by 2024 , but 68.1 per cent in other ldcs . xxmaj the projected graduations further increase the importance of rural economic transformation</td>\n",
              "      <td>1</td>\n",
              "      <td>1</td>\n",
              "    </tr>\n",
              "    <tr>\n",
              "      <td>xxbos xxmaj like the ipoa , xxup sdg 17.12 emphasizes the realization of timely implementation of duty - free and quota - free market access on a lasting basis for all ldcs , consistent with the xxmaj world xxmaj trade xxmaj organization decisions , including by ensuring that preferential rules of origin applicable to imports from ldcs are transparent and simple and contribute to facilitating market access . xxmaj the</td>\n",
              "      <td>10;17;8</td>\n",
              "      <td>17</td>\n",
              "    </tr>\n",
              "    <tr>\n",
              "      <td>xxbos xxup long xxup term 1999–2014 xxup short xxup term 2009–2014 xxmaj common birds xxmaj farmland birds ( xxup sdg 2 ) xxmaj common birds xxmaj farmland birds ( xxup sdg 2 ) xxmaj the common bird index integrates the abundance and the diversity of a selection of common bird species associated with specific habitats . xxmaj rare species are not included . xxmaj three groups of bird species are</td>\n",
              "      <td>2</td>\n",
              "      <td></td>\n",
              "    </tr>\n",
              "    <tr>\n",
              "      <td>xxbos xxup challenges xxmaj the xxmaj global xxmaj status xxmaj report on xxmaj violence xxmaj prevention 2014 and the xxmaj report on xxmaj global and xxmaj regional xxmaj estimates of xxmaj violence xxmaj against xxmaj women 2013 identified several core concerns : xxmaj continued extremely high homicide rates in the low- and middle- income countries of the xxmaj region of the xxmaj americas ; xxmaj few countries are implementing social</td>\n",
              "      <td>16;5</td>\n",
              "      <td>16;17</td>\n",
              "    </tr>\n",
              "    <tr>\n",
              "      <td>xxbos xxmaj gender equality was recognized and affirmed as a precondition for the realization of sustainable development and also defined as a key sustainable development goal by itself , xxmaj goal 5 . xxmaj sustainable xxmaj development xxmaj goal ( xxup sdg ) 5 is a promise to “ achieve ( not just promote ) gender equality and empower all women and girls . ” xxmaj the 2030 xxmaj agenda</td>\n",
              "      <td>5</td>\n",
              "      <td>5</td>\n",
              "    </tr>\n",
              "    <tr>\n",
              "      <td>xxbos xxup chapter 3 . xxmaj the xxmaj contribution of xxmaj international xxmaj support xxmaj measures to xxmaj graduation 113 a xxmaj request xxmaj incubator xxmaj programme to support ldcs in accessing its technical assistance , to strengthen their institutional capacities on climate technologies , and to reinforce their efforts towards technology transfer . xxmaj at the time of writing , 11 xxmaj african ldcs and 2 xxmaj asian ldcs</td>\n",
              "      <td>17</td>\n",
              "      <td>17</td>\n",
              "    </tr>\n",
              "    <tr>\n",
              "      <td>xxbos xxmaj public satisfaction with public services in countries where you operate xxmaj existence and / or performance of human rights institutions in countries where you operate xxmaj violent death in countries where you operate xxmaj child abuse or violence against children in countries where you operate xxmaj illicit financial flows in countries where you operate xxmaj public officials in areas where you operate requesting or receiving bribes ( public</td>\n",
              "      <td>16</td>\n",
              "      <td>16</td>\n",
              "    </tr>\n",
              "    <tr>\n",
              "      <td>xxbos xxmaj ballast water management is clearly linked with sustainable development as various international instruments xxunk xxmaj as part of the general xxup imo regulatory strategy regarding ship safety , cleaner seas and internationally agreed upon standards , the xxup bwm xxmaj convention contributes to the implementation of xxmaj sustainable xxmaj development xxmaj goal xxunk xxmaj in addition , the spread of invasive species has been recognized as one of</td>\n",
              "      <td>14;15</td>\n",
              "      <td>14</td>\n",
              "    </tr>\n",
              "    <tr>\n",
              "      <td>xxbos xxmaj figure 1 : xxmaj percentage of people living in urban areas % 90 80 70 60 50 40 30 20 10 0 xxmaj asia xxmaj africa xxmaj latin xxmaj america and the xxmaj caribbean 2000 2015 2030 xxmaj europe xxmaj northern xxmaj america xxmaj source : xxup un xxup desa , 2014 . areas over the last 15 years , and are expected to continue doing so between</td>\n",
              "      <td>11;8</td>\n",
              "      <td>11;8</td>\n",
              "    </tr>\n",
              "    <tr>\n",
              "      <td>xxbos 57 xxmaj chapter xxup iii xxup the xxup catch - xxup up xxup challenge : xxup industrialization xxup and xxup structural xxup change xxup a. xxmaj introduction xxmaj in recent years there has been a renewed interest in the role of industrialization in promoting sustained economic growth and development , reflected in xxmaj goal 9 of the 2030 xxmaj agenda for xxmaj sustainable xxmaj development which calls for promoting</td>\n",
              "      <td>9</td>\n",
              "      <td>8;9</td>\n",
              "    </tr>\n",
              "    <tr>\n",
              "      <td>xxbos xxmaj sub - xxmaj goal 7.4 : xxmaj the quantity and quality of agro - ecosystems are maintained without destroying natural ecosystems . xxmaj the focus of sub - goal 7.4 on the quality and quantity of agro - ecosystems is reasonably well represented in countries through goals , targets and indicators . xxmaj quantity is addressed through goals related to the maintenance of farmland reserves or the avoidance</td>\n",
              "      <td>7</td>\n",
              "      <td>2</td>\n",
              "    </tr>\n",
              "    <tr>\n",
              "      <td>xxbos xxmaj proposed goal 1 . xxmaj end poverty [ xxup add : and reduce inequality ] in all its forms everywhere 1.1 by 2030 , eradicate extreme poverty by bringing the number of people living on less than $ 1.25 a day to zero [ xxmaj alternative 1.2 : reduce by at least x% the proportion of people living below x calorific intake by 2030 ] [ xxmaj alternative</td>\n",
              "      <td>1;2</td>\n",
              "      <td>1</td>\n",
              "    </tr>\n",
              "    <tr>\n",
              "      <td>xxbos 78 xxmaj key xxmaj messages on xxmaj sustainable xxmaj trade in xxmaj fish xxmaj creating the framework for sustainability xxmaj create a global monitoring and review process ( a xxmaj high - xxmaj level xxmaj united xxmaj nations xxmaj conference ) on the advancement of trade - related targets under xxup sdg 14 ; xxmaj multilateral , regional and bilateral trade agreements should build on multilateral xxmaj united xxmaj</td>\n",
              "      <td>14</td>\n",
              "      <td>14</td>\n",
              "    </tr>\n",
              "    <tr>\n",
              "      <td>xxbos xxmaj institutional coordination xxmaj the xxmaj task xxmaj force on the xxmaj post-2015 xxmaj development xxmaj agenda ( whose name was later changed to xxmaj task xxmaj force on the 2030 xxmaj agenda ) was established in xxmaj december 2014 to facilitate cooperation between the xxmaj brazilian federal government and xxup un entities on the issues of the new agenda . xxmaj the xxmaj task xxmaj force is co</td>\n",
              "      <td>1</td>\n",
              "      <td></td>\n",
              "    </tr>\n",
              "    <tr>\n",
              "      <td>xxbos xxmaj universalism has involved eliminating barriers to education and public healthcare in order to extend access to the poorest . xxmaj large increases in financing were used to make services free at the point of delivery and reduce associated costs for the user . xxmaj in education , this included extending free meals , providing free school uniforms and abolishing tuition contributions to public schools in 2007 . xxmaj</td>\n",
              "      <td>7</td>\n",
              "      <td>7</td>\n",
              "    </tr>\n",
              "    <tr>\n",
              "      <td>xxbos 1 by 2030 reduce the maternal mortality ratio to less than 40 per 100,000 live births 3.2 by 2030 end preventable newborn , infant and under - five deaths 3.3 by 2030 end xxup hiv / xxup aids , tuberculosis , malaria , and neglected tropical diseases [ xxmaj alternative 3.4 : by 2030 reduce by x% premature deaths from non - communicable diseases ( ncds ) , including</td>\n",
              "      <td>4;8</td>\n",
              "      <td>3;4</td>\n",
              "    </tr>\n",
              "    <tr>\n",
              "      <td>xxbos xxmaj table 3.7 : xxmaj goal and sub - goal statements for xxup scp and economic sectors xxmaj priority themes xxmaj goal statements xxmaj sub - goal statements 6 . xxup scp and economic sectors xxmaj resource - efficient and environmentally friendly production and consumption characterize all economic sectors . 6.1 xxmaj principles and practices of sustainable lifestyles are applied by the majority of the population . 6.2 xxmaj</td>\n",
              "      <td>6</td>\n",
              "      <td>12</td>\n",
              "    </tr>\n",
              "    <tr>\n",
              "      <td>xxbos science - based recommendations for refining targets target comments recommendations 2.1 2.2 2.3 2.4 2.5 2.a 2.b 2.c xxmaj access by all people already suggests that those who have least xxmaj by 2030 end hunger and ensure access by all people to safe , xxunk will need special attention ; despite this we suggest to keep xxunk and sufficient food all year round , with a particular focus on</td>\n",
              "      <td>2</td>\n",
              "      <td>2</td>\n",
              "    </tr>\n",
              "    <tr>\n",
              "      <td>xxbos a target of near zero xxup ghg emissions by 2100 has been identified by the recent 5th xxmaj assessment xxmaj report of the xxup ipcc as being necessary to nearly all scenarios that hold the global mean temperature rise below 2 ° c ( xxup ipcc , 2014c ) . a 2 ° c rise in global temperature is seen as the limit beyond which the world will face</td>\n",
              "      <td>3</td>\n",
              "      <td>13</td>\n",
              "    </tr>\n",
              "    <tr>\n",
              "      <td>xxbos xxup goal 8 : xxup promote xxup sustained , xxup inclusive xxup and xxup sustainable xxup economic xxup growth , xxup full xxup and xxup productive xxup employment xxup and xxup decent xxup work xxup for xxup all xxmaj sustainable xxmaj development xxmaj targets xxmaj relevant xxmaj aichi xxmaj biodiversity xxmaj targets 8.4 xxmaj improve progressively , through 2030 , global resource efficiency in 2 , 4 , 6</td>\n",
              "      <td>8</td>\n",
              "      <td>8</td>\n",
              "    </tr>\n",
              "    <tr>\n",
              "      <td>xxbos xxmaj in xxmaj december 2015 , the xxup cso network met xxmaj president xxmaj joko xxmaj widodo to talk about implementing the sdgs , the need for a policy framework , more inclusive coordination and a xxunk to 15-year action plan . xxmaj photo : xxup xxunk xxmaj by xxmaj may 2016 , two public universities had engaged in the sdgs . xxmaj the xxmaj university of xxmaj indonesia</td>\n",
              "      <td>1</td>\n",
              "      <td>1</td>\n",
              "    </tr>\n",
              "    <tr>\n",
              "      <td>xxbos xxmaj collaboration should also be encouraged with the xxmaj inter - xxmaj american xxmaj institute for xxmaj cooperation on xxmaj agriculture ( xxup iica ) , considering the common goals between xxup iica and xxup fao , and to strengthen a collaboration evidenced in previous years . xxmaj finally , there is scope for improved ( and new ) collaboration with sister xxup un agencies and other organizations (</td>\n",
              "      <td>3</td>\n",
              "      <td>5</td>\n",
              "    </tr>\n",
              "    <tr>\n",
              "      <td>xxbos xxmaj cabo xxmaj verde xxmaj government retreat in xxmaj june 2016 to discuss the sdgs and how to integrate them into national policies and strategies ( from left to right : xxmaj president of the xxmaj council of xxmaj ministers and xxmaj minister for xxmaj parliamentary xxmaj affairs , the xxmaj prime xxmaj minister and the xxup un xxmaj resident xxmaj coordinator ) . xxmaj photo : xxmaj anita</td>\n",
              "      <td>16</td>\n",
              "      <td>16</td>\n",
              "    </tr>\n",
              "    <tr>\n",
              "      <td>xxbos xxmaj the framework takes into consideration the whole spectrum of education and training systems from a lifelong learning perspective , covering all levels and contexts ( including non - formal and informal learning ) . xxup et 2020 defines several benchmarks that guide the analysis in this chapter . xxmaj basic education xxmaj basic education covers the earliest stages in children ’s educational pathway , ranging from early childhood</td>\n",
              "      <td>4</td>\n",
              "      <td>4</td>\n",
              "    </tr>\n",
              "    <tr>\n",
              "      <td>xxbos xxmaj proposed goal 6 . xxmaj secure water and sanitation for all for a sustainable world [ xxmaj alternative 6.1 : by 2030 , safe drinking water and sanitation be made legally enforceable rights ] [ 6.1 and 6.2 be merged as follows : by 2030 , provide universal affordable , appropriate and acceptable access to safe and affordable drinking water , adequate sanitation and hygiene for all ,</td>\n",
              "      <td>6;7</td>\n",
              "      <td>6;7</td>\n",
              "    </tr>\n",
              "    <tr>\n",
              "      <td>xxbos level . 1 . xxmaj xxunk business around the sdgs , by articulating in clear business 1 . xxmaj simplify the process for two - way language the relevance of speciﬁc dialogue , including by giving a goals to speciﬁc companies . 2 . xxmaj strengthen awareness of practical opportunities for business to engage , clear mandate to the xxup un xxmaj resident xxmaj coordinator ’s xxmaj ofﬁce to</td>\n",
              "      <td>5</td>\n",
              "      <td>2</td>\n",
              "    </tr>\n",
              "  </tbody>\n",
              "</table>"
            ],
            "text/plain": [
              "<IPython.core.display.HTML object>"
            ]
          },
          "metadata": {
            "tags": []
          }
        }
      ]
    }
  ]
}