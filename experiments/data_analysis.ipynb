{
  "nbformat": 4,
  "nbformat_minor": 0,
  "metadata": {
    "colab": {
      "name": "data_analysis.ipynb",
      "version": "0.3.2",
      "provenance": [],
      "collapsed_sections": [],
      "include_colab_link": true
    },
    "kernelspec": {
      "name": "python3",
      "display_name": "Python 3"
    }
  },
  "cells": [
    {
      "cell_type": "markdown",
      "metadata": {
        "id": "view-in-github",
        "colab_type": "text"
      },
      "source": [
        "<a href=\"https://colab.research.google.com/github/vondersam/sdgs_text_classifier/blob/master/experiments/data_analysis.ipynb\" target=\"_parent\"><img src=\"https://colab.research.google.com/assets/colab-badge.svg\" alt=\"Open In Colab\"/></a>"
      ]
    },
    {
      "cell_type": "code",
      "metadata": {
        "id": "G8ti7ZNG0-wI",
        "colab_type": "code",
        "colab": {}
      },
      "source": [
        "%matplotlib inline\n",
        "import numpy as np\n",
        "import pandas as pd \n",
        "import matplotlib\n",
        "import matplotlib.pyplot as plt\n",
        "import seaborn as sns\n",
        "import re\n",
        "import os\n",
        "import spacy\n",
        "from collections import Counter\n",
        "from  itertools import chain\n",
        "\n",
        "# Code heavily inspired from the following posts\n",
        "# http://www.davidsbatista.net/blog/2017/04/01/document_classification/\n",
        "# https://towardsdatascience.com/multi-label-text-classification-with-scikit-learn-30714b7819c5"
      ],
      "execution_count": 0,
      "outputs": []
    },
    {
      "cell_type": "code",
      "metadata": {
        "id": "mdUWMhzx6-Nh",
        "colab_type": "code",
        "colab": {}
      },
      "source": [
        "#!python -m spacy download en_core_web_lg\n",
        "nlp = spacy.load(\"en_core_web_lg\")"
      ],
      "execution_count": 0,
      "outputs": []
    },
    {
      "cell_type": "code",
      "metadata": {
        "id": "QvKq8Voj1n4Z",
        "colab_type": "code",
        "colab": {
          "base_uri": "https://localhost:8080/",
          "height": 34
        },
        "outputId": "973e9f9b-adab-4510-e78c-6adc50f52cf1"
      },
      "source": [
        "from google.colab import drive\n",
        "drive.mount('/content/gdrive', force_remount=True)\n",
        "base_dir = \"gdrive/My Drive/fastai-v3/sdgs/dataset/\"\n",
        "labelled_dataset = base_dir + \"cleanup_labelled.csv\"\n",
        "unlabelled_dataset = base_dir + \"cleanup_unlabelled_u.csv\""
      ],
      "execution_count": 5,
      "outputs": [
        {
          "output_type": "stream",
          "text": [
            "Mounted at /content/gdrive\n"
          ],
          "name": "stdout"
        }
      ]
    },
    {
      "cell_type": "code",
      "metadata": {
        "id": "MSe4y4JN2Efk",
        "colab_type": "code",
        "colab": {
          "base_uri": "https://localhost:8080/",
          "height": 204
        },
        "outputId": "b954afaf-8a82-4629-cf3e-753b030cdd8f"
      },
      "source": [
        "labelled = pd.read_csv(labelled_dataset)\n",
        "labelled['labels'] = labelled.labels.str.split('|')\n",
        "labelled.head()\n"
      ],
      "execution_count": 28,
      "outputs": [
        {
          "output_type": "execute_result",
          "data": {
            "text/html": [
              "<div>\n",
              "<style scoped>\n",
              "    .dataframe tbody tr th:only-of-type {\n",
              "        vertical-align: middle;\n",
              "    }\n",
              "\n",
              "    .dataframe tbody tr th {\n",
              "        vertical-align: top;\n",
              "    }\n",
              "\n",
              "    .dataframe thead th {\n",
              "        text-align: right;\n",
              "    }\n",
              "</style>\n",
              "<table border=\"1\" class=\"dataframe\">\n",
              "  <thead>\n",
              "    <tr style=\"text-align: right;\">\n",
              "      <th></th>\n",
              "      <th>text</th>\n",
              "      <th>labels</th>\n",
              "      <th>doc_id</th>\n",
              "    </tr>\n",
              "  </thead>\n",
              "  <tbody>\n",
              "    <tr>\n",
              "      <th>0</th>\n",
              "      <td>Goal 8: Decent work and economic growth</td>\n",
              "      <td>[8]</td>\n",
              "      <td>downloadable_pdfs/http:__www.dev.sdgfund.org_%...</td>\n",
              "    </tr>\n",
              "    <tr>\n",
              "      <th>1</th>\n",
              "      <td>The day after receiving the 2016 Pritzker Laur...</td>\n",
              "      <td>[11]</td>\n",
              "      <td>downloadable_pdfs/http:__www.dev.sdgfund.org_a...</td>\n",
              "    </tr>\n",
              "    <tr>\n",
              "      <th>2</th>\n",
              "      <td>For Paloma Duran, SDG Fund director, this proj...</td>\n",
              "      <td>[16]</td>\n",
              "      <td>downloadable_pdfs/http:__www.dev.sdgfund.org_b...</td>\n",
              "    </tr>\n",
              "    <tr>\n",
              "      <th>3</th>\n",
              "      <td>Rangita de Silva, Associate Dean of the Univer...</td>\n",
              "      <td>[5]</td>\n",
              "      <td>downloadable_pdfs/http:__www.dev.sdgfund.org_b...</td>\n",
              "    </tr>\n",
              "    <tr>\n",
              "      <th>4</th>\n",
              "      <td>The SDG Fund, an interagency mechanism establi...</td>\n",
              "      <td>[16]</td>\n",
              "      <td>downloadable_pdfs/http:__www.dev.sdgfund.org_b...</td>\n",
              "    </tr>\n",
              "  </tbody>\n",
              "</table>\n",
              "</div>"
            ],
            "text/plain": [
              "                                                text  ...                                             doc_id\n",
              "0            Goal 8: Decent work and economic growth  ...  downloadable_pdfs/http:__www.dev.sdgfund.org_%...\n",
              "1  The day after receiving the 2016 Pritzker Laur...  ...  downloadable_pdfs/http:__www.dev.sdgfund.org_a...\n",
              "2  For Paloma Duran, SDG Fund director, this proj...  ...  downloadable_pdfs/http:__www.dev.sdgfund.org_b...\n",
              "3  Rangita de Silva, Associate Dean of the Univer...  ...  downloadable_pdfs/http:__www.dev.sdgfund.org_b...\n",
              "4  The SDG Fund, an interagency mechanism establi...  ...  downloadable_pdfs/http:__www.dev.sdgfund.org_b...\n",
              "\n",
              "[5 rows x 3 columns]"
            ]
          },
          "metadata": {
            "tags": []
          },
          "execution_count": 28
        }
      ]
    },
    {
      "cell_type": "markdown",
      "metadata": {
        "id": "_GV_sswg2zc6",
        "colab_type": "text"
      },
      "source": [
        "# Unlabelled Data"
      ]
    },
    {
      "cell_type": "code",
      "metadata": {
        "id": "rBgADslp24SP",
        "colab_type": "code",
        "colab": {
          "base_uri": "https://localhost:8080/",
          "height": 34
        },
        "outputId": "0dc50a45-2e2c-40d2-e382-cef1887180b0"
      },
      "source": [
        "unlabelled = pd.read_csv(unlabelled_dataset)\n",
        "# Number of total tokens\n",
        "#unlabelled['tokens'] = unlabelled['text'].apply(lambda x: nlp(x))\n",
        "print(f\"Number of unlabelled texts: {unlabelled.count()['text']}\")"
      ],
      "execution_count": 19,
      "outputs": [
        {
          "output_type": "stream",
          "text": [
            "Number of unlabelled texts: 248303\n"
          ],
          "name": "stdout"
        }
      ]
    },
    {
      "cell_type": "markdown",
      "metadata": {
        "id": "I1B3juYz5HNh",
        "colab_type": "text"
      },
      "source": [
        "# Labelled Data"
      ]
    },
    {
      "cell_type": "markdown",
      "metadata": {
        "id": "oCzOZnlRPB8p",
        "colab_type": "text"
      },
      "source": [
        "## Number of texts per label"
      ]
    },
    {
      "cell_type": "code",
      "metadata": {
        "id": "dSlmffB-5JSm",
        "colab_type": "code",
        "colab": {
          "base_uri": "https://localhost:8080/",
          "height": 576
        },
        "outputId": "bec155a2-e785-4b14-8b28-85a013f963b9"
      },
      "source": [
        "txt_per_label = pd.Series(Counter(chain(*labelled.labels))).sort_index().rename_axis('label_id').reset_index(name='count')\n",
        "txt_per_label.label_id = df.label_id.astype('int')\n",
        "txt_per_label.sort_values(by='label_id', inplace=True)\n",
        "txt_per_label"
      ],
      "execution_count": 104,
      "outputs": [
        {
          "output_type": "execute_result",
          "data": {
            "text/html": [
              "<div>\n",
              "<style scoped>\n",
              "    .dataframe tbody tr th:only-of-type {\n",
              "        vertical-align: middle;\n",
              "    }\n",
              "\n",
              "    .dataframe tbody tr th {\n",
              "        vertical-align: top;\n",
              "    }\n",
              "\n",
              "    .dataframe thead th {\n",
              "        text-align: right;\n",
              "    }\n",
              "</style>\n",
              "<table border=\"1\" class=\"dataframe\">\n",
              "  <thead>\n",
              "    <tr style=\"text-align: right;\">\n",
              "      <th></th>\n",
              "      <th>label_id</th>\n",
              "      <th>count</th>\n",
              "    </tr>\n",
              "  </thead>\n",
              "  <tbody>\n",
              "    <tr>\n",
              "      <th>0</th>\n",
              "      <td>1</td>\n",
              "      <td>438</td>\n",
              "    </tr>\n",
              "    <tr>\n",
              "      <th>9</th>\n",
              "      <td>2</td>\n",
              "      <td>457</td>\n",
              "    </tr>\n",
              "    <tr>\n",
              "      <th>10</th>\n",
              "      <td>3</td>\n",
              "      <td>523</td>\n",
              "    </tr>\n",
              "    <tr>\n",
              "      <th>11</th>\n",
              "      <td>4</td>\n",
              "      <td>381</td>\n",
              "    </tr>\n",
              "    <tr>\n",
              "      <th>12</th>\n",
              "      <td>5</td>\n",
              "      <td>482</td>\n",
              "    </tr>\n",
              "    <tr>\n",
              "      <th>13</th>\n",
              "      <td>6</td>\n",
              "      <td>423</td>\n",
              "    </tr>\n",
              "    <tr>\n",
              "      <th>14</th>\n",
              "      <td>7</td>\n",
              "      <td>477</td>\n",
              "    </tr>\n",
              "    <tr>\n",
              "      <th>15</th>\n",
              "      <td>8</td>\n",
              "      <td>395</td>\n",
              "    </tr>\n",
              "    <tr>\n",
              "      <th>16</th>\n",
              "      <td>9</td>\n",
              "      <td>301</td>\n",
              "    </tr>\n",
              "    <tr>\n",
              "      <th>1</th>\n",
              "      <td>10</td>\n",
              "      <td>317</td>\n",
              "    </tr>\n",
              "    <tr>\n",
              "      <th>2</th>\n",
              "      <td>11</td>\n",
              "      <td>396</td>\n",
              "    </tr>\n",
              "    <tr>\n",
              "      <th>3</th>\n",
              "      <td>12</td>\n",
              "      <td>355</td>\n",
              "    </tr>\n",
              "    <tr>\n",
              "      <th>4</th>\n",
              "      <td>13</td>\n",
              "      <td>307</td>\n",
              "    </tr>\n",
              "    <tr>\n",
              "      <th>5</th>\n",
              "      <td>14</td>\n",
              "      <td>558</td>\n",
              "    </tr>\n",
              "    <tr>\n",
              "      <th>6</th>\n",
              "      <td>15</td>\n",
              "      <td>378</td>\n",
              "    </tr>\n",
              "    <tr>\n",
              "      <th>7</th>\n",
              "      <td>16</td>\n",
              "      <td>460</td>\n",
              "    </tr>\n",
              "    <tr>\n",
              "      <th>8</th>\n",
              "      <td>17</td>\n",
              "      <td>566</td>\n",
              "    </tr>\n",
              "  </tbody>\n",
              "</table>\n",
              "</div>"
            ],
            "text/plain": [
              "    label_id  count\n",
              "0          1    438\n",
              "9          2    457\n",
              "10         3    523\n",
              "11         4    381\n",
              "12         5    482\n",
              "13         6    423\n",
              "14         7    477\n",
              "15         8    395\n",
              "16         9    301\n",
              "1         10    317\n",
              "2         11    396\n",
              "3         12    355\n",
              "4         13    307\n",
              "5         14    558\n",
              "6         15    378\n",
              "7         16    460\n",
              "8         17    566"
            ]
          },
          "metadata": {
            "tags": []
          },
          "execution_count": 104
        }
      ]
    },
    {
      "cell_type": "code",
      "metadata": {
        "id": "TNihPxboOB1p",
        "colab_type": "code",
        "colab": {
          "base_uri": "https://localhost:8080/",
          "height": 425
        },
        "outputId": "b680a954-f324-4c0f-d054-f028d3d6df78"
      },
      "source": [
        "txt_per_label.plot(x='label_id', y='count', kind='bar', legend=False, grid=True, figsize=(10, 6))\n",
        "plt.title(\"Number of documents per label\")"
      ],
      "execution_count": 105,
      "outputs": [
        {
          "output_type": "execute_result",
          "data": {
            "text/plain": [
              "Text(0.5, 1.0, 'Number of documents per label')"
            ]
          },
          "metadata": {
            "tags": []
          },
          "execution_count": 105
        },
        {
          "output_type": "display_data",
          "data": {
            "image/png": "[encoded data removed]",
            "text/plain": [
              "<Figure size 720x432 with 1 Axes>"
            ]
          },
          "metadata": {
            "tags": []
          }
        }
      ]
    },
    {
      "cell_type": "markdown",
      "metadata": {
        "id": "Zkhih9FhVrPX",
        "colab_type": "text"
      },
      "source": [
        "# Number of labels per text"
      ]
    },
    {
      "cell_type": "code",
      "metadata": {
        "id": "p9XCWBWXVAXw",
        "colab_type": "code",
        "colab": {
          "base_uri": "https://localhost:8080/",
          "height": 306
        },
        "outputId": "47759c0c-7452-4648-a0e3-1442887298e6"
      },
      "source": [
        "labels_per_text = labelled.labels.str.len()\n",
        "labels_per_text = labels_per_text.value_counts().sort_index()\n",
        "labels_per_text\n",
        "\n",
        "# Average of string length\n",
        "# Min string length\n",
        "# Max string length\n",
        "\n",
        "\n",
        "#df_sdgs = labelled.drop(['text'], axis=1)\n",
        "#counts = []\n",
        "#categories = list(df_sdgs.labels.values); categories\n",
        "#for i in categories:\n",
        "#    counts.append((i, df_sdgs[i].sum()))\n",
        "#df_stats = pd.DataFrame(counts, columns=['sdg', 'No. texts'])\n",
        "#df_stats = pd.DataFrame(counts, columns=['sdg', '#texts']).to_latex(column_format='lr')\n",
        "#df_stats"
      ],
      "execution_count": 154,
      "outputs": [
        {
          "output_type": "execute_result",
          "data": {
            "text/plain": [
              "1     4419\n",
              "2      317\n",
              "3      159\n",
              "4       84\n",
              "5       80\n",
              "6       47\n",
              "7       40\n",
              "8       12\n",
              "9        3\n",
              "10       3\n",
              "11       7\n",
              "12       3\n",
              "14       3\n",
              "15       3\n",
              "16       1\n",
              "17       1\n",
              "Name: labels, dtype: int64"
            ]
          },
          "metadata": {
            "tags": []
          },
          "execution_count": 154
        }
      ]
    },
    {
      "cell_type": "code",
      "metadata": {
        "id": "SZhunSHZZ2gP",
        "colab_type": "code",
        "colab": {
          "base_uri": "https://localhost:8080/",
          "height": 410
        },
        "outputId": "9a3f14ec-eced-4ece-d733-1c6d91353e25"
      },
      "source": [
        "labels_per_text.plot(kind='bar', legend=False, grid=True, figsize=(10, 6))\n",
        "plt.title(\"Number labels per document\")"
      ],
      "execution_count": 155,
      "outputs": [
        {
          "output_type": "execute_result",
          "data": {
            "text/plain": [
              "Text(0.5, 1.0, 'Number labels per document')"
            ]
          },
          "metadata": {
            "tags": []
          },
          "execution_count": 155
        },
        {
          "output_type": "display_data",
          "data": {
            "image/png": "[encoded data removed]",
            "text/plain": [
              "<Figure size 720x432 with 1 Axes>"
            ]
          },
          "metadata": {
            "tags": []
          }
        }
      ]
    },
    {
      "cell_type": "code",
      "metadata": {
        "id": "ZELQfmaMaCUU",
        "colab_type": "code",
        "colab": {}
      },
      "source": [
        ""
      ],
      "execution_count": 0,
      "outputs": []
    }
  ]
}