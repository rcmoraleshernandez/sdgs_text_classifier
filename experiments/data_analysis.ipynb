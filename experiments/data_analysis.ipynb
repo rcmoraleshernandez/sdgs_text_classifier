{
  "nbformat": 4,
  "nbformat_minor": 0,
  "metadata": {
    "colab": {
      "name": "data_analysis.ipynb",
      "version": "0.3.2",
      "provenance": [],
      "collapsed_sections": []
    },
    "kernelspec": {
      "name": "python3",
      "display_name": "Python 3"
    }
  },
  "cells": [
    {
      "cell_type": "code",
      "metadata": {
        "id": "G8ti7ZNG0-wI",
        "colab_type": "code",
        "colab": {}
      },
      "source": [
        "%matplotlib inline\n",
        "import numpy as np\n",
        "import pandas as pd \n",
        "import matplotlib\n",
        "import matplotlib.pyplot as plt\n",
        "import seaborn as sns\n",
        "import re\n",
        "import os\n",
        "# Code heavily inspired from the following posts\n",
        "# http://www.davidsbatista.net/blog/2017/04/01/document_classification/\n",
        "# https://towardsdatascience.com/multi-label-text-classification-with-scikit-learn-30714b7819c5"
      ],
      "execution_count": 0,
      "outputs": []
    },
    {
      "cell_type": "code",
      "metadata": {
        "id": "QvKq8Voj1n4Z",
        "colab_type": "code",
        "colab": {
          "base_uri": "https://localhost:8080/",
          "height": 34
        },
        "outputId": "aa8d3520-b514-4e00-859b-c2098a630dc0"
      },
      "source": [
        "from google.colab import drive\n",
        "drive.mount('/content/gdrive', force_remount=True)\n",
        "base_dir = \"gdrive/My Drive/fastai-v3/sdgs/dataset/\"\n",
        "labelled_dataset = base_dir + \"cleanup_labelled.csv\"\n",
        "unlabelled_dataset = base_dir + \"cleanup_unlabelled.csv\""
      ],
      "execution_count": 8,
      "outputs": [
        {
          "output_type": "stream",
          "text": [
            "Mounted at /content/gdrive\n"
          ],
          "name": "stdout"
        }
      ]
    },
    {
      "cell_type": "code",
      "metadata": {
        "id": "MSe4y4JN2Efk",
        "colab_type": "code",
        "colab": {
          "base_uri": "https://localhost:8080/",
          "height": 204
        },
        "outputId": "921b1006-7e75-41e5-eea0-122ce7ed57a8"
      },
      "source": [
        "labelled = pd.read_csv(labelled_dataset)\n"
      ],
      "execution_count": 10,
      "outputs": [
        {
          "output_type": "execute_result",
          "data": {
            "text/html": [
              "<div>\n",
              "<style scoped>\n",
              "    .dataframe tbody tr th:only-of-type {\n",
              "        vertical-align: middle;\n",
              "    }\n",
              "\n",
              "    .dataframe tbody tr th {\n",
              "        vertical-align: top;\n",
              "    }\n",
              "\n",
              "    .dataframe thead th {\n",
              "        text-align: right;\n",
              "    }\n",
              "</style>\n",
              "<table border=\"1\" class=\"dataframe\">\n",
              "  <thead>\n",
              "    <tr style=\"text-align: right;\">\n",
              "      <th></th>\n",
              "      <th>text</th>\n",
              "      <th>labels</th>\n",
              "      <th>doc_id</th>\n",
              "    </tr>\n",
              "  </thead>\n",
              "  <tbody>\n",
              "    <tr>\n",
              "      <th>0</th>\n",
              "      <td>Goal 8: Decent work and economic growth</td>\n",
              "      <td>8</td>\n",
              "      <td>downloadable_pdfs/http:__www.dev.sdgfund.org_%...</td>\n",
              "    </tr>\n",
              "    <tr>\n",
              "      <th>1</th>\n",
              "      <td>The day after receiving the 2016 Pritzker Laur...</td>\n",
              "      <td>11</td>\n",
              "      <td>downloadable_pdfs/http:__www.dev.sdgfund.org_a...</td>\n",
              "    </tr>\n",
              "    <tr>\n",
              "      <th>2</th>\n",
              "      <td>For Paloma Duran, SDG Fund director, this proj...</td>\n",
              "      <td>16</td>\n",
              "      <td>downloadable_pdfs/http:__www.dev.sdgfund.org_b...</td>\n",
              "    </tr>\n",
              "    <tr>\n",
              "      <th>3</th>\n",
              "      <td>Rangita de Silva, Associate Dean of the Univer...</td>\n",
              "      <td>5</td>\n",
              "      <td>downloadable_pdfs/http:__www.dev.sdgfund.org_b...</td>\n",
              "    </tr>\n",
              "    <tr>\n",
              "      <th>4</th>\n",
              "      <td>The SDG Fund, an interagency mechanism establi...</td>\n",
              "      <td>16</td>\n",
              "      <td>downloadable_pdfs/http:__www.dev.sdgfund.org_b...</td>\n",
              "    </tr>\n",
              "  </tbody>\n",
              "</table>\n",
              "</div>"
            ],
            "text/plain": [
              "                                                text  ...                                             doc_id\n",
              "0            Goal 8: Decent work and economic growth  ...  downloadable_pdfs/http:__www.dev.sdgfund.org_%...\n",
              "1  The day after receiving the 2016 Pritzker Laur...  ...  downloadable_pdfs/http:__www.dev.sdgfund.org_a...\n",
              "2  For Paloma Duran, SDG Fund director, this proj...  ...  downloadable_pdfs/http:__www.dev.sdgfund.org_b...\n",
              "3  Rangita de Silva, Associate Dean of the Univer...  ...  downloadable_pdfs/http:__www.dev.sdgfund.org_b...\n",
              "4  The SDG Fund, an interagency mechanism establi...  ...  downloadable_pdfs/http:__www.dev.sdgfund.org_b...\n",
              "\n",
              "[5 rows x 3 columns]"
            ]
          },
          "metadata": {
            "tags": []
          },
          "execution_count": 10
        }
      ]
    },
    {
      "cell_type": "markdown",
      "metadata": {
        "id": "_GV_sswg2zc6",
        "colab_type": "text"
      },
      "source": [
        "# Unlabelled Data"
      ]
    },
    {
      "cell_type": "code",
      "metadata": {
        "id": "rBgADslp24SP",
        "colab_type": "code",
        "colab": {
          "base_uri": "https://localhost:8080/",
          "height": 142
        },
        "outputId": "f0c37509-5f05-468b-c96a-7e44308120c6"
      },
      "source": [
        "unlabelled = pd.read_csv(unlabelled_dataset)\n",
        "unlabelled.head(3)"
      ],
      "execution_count": 13,
      "outputs": [
        {
          "output_type": "execute_result",
          "data": {
            "text/html": [
              "<div>\n",
              "<style scoped>\n",
              "    .dataframe tbody tr th:only-of-type {\n",
              "        vertical-align: middle;\n",
              "    }\n",
              "\n",
              "    .dataframe tbody tr th {\n",
              "        vertical-align: top;\n",
              "    }\n",
              "\n",
              "    .dataframe thead th {\n",
              "        text-align: right;\n",
              "    }\n",
              "</style>\n",
              "<table border=\"1\" class=\"dataframe\">\n",
              "  <thead>\n",
              "    <tr style=\"text-align: right;\">\n",
              "      <th></th>\n",
              "      <th>Unnamed: 0</th>\n",
              "      <th>text</th>\n",
              "    </tr>\n",
              "  </thead>\n",
              "  <tbody>\n",
              "    <tr>\n",
              "      <th>0</th>\n",
              "      <td>0</td>\n",
              "      <td>Resolution adopted by the General Assembly</td>\n",
              "    </tr>\n",
              "    <tr>\n",
              "      <th>1</th>\n",
              "      <td>1</td>\n",
              "      <td>without reference to a Main Committee (A/55/L....</td>\n",
              "    </tr>\n",
              "    <tr>\n",
              "      <th>2</th>\n",
              "      <td>2</td>\n",
              "      <td>55/8. Large-scale pelagic drift-net fishing, u...</td>\n",
              "    </tr>\n",
              "  </tbody>\n",
              "</table>\n",
              "</div>"
            ],
            "text/plain": [
              "   Unnamed: 0                                               text\n",
              "0           0         Resolution adopted by the General Assembly\n",
              "1           1  without reference to a Main Committee (A/55/L....\n",
              "2           2  55/8. Large-scale pelagic drift-net fishing, u..."
            ]
          },
          "metadata": {
            "tags": []
          },
          "execution_count": 13
        }
      ]
    }
  ]
}