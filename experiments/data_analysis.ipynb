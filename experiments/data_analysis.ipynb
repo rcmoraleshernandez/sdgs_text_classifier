{
  "nbformat": 4,
  "nbformat_minor": 0,
  "metadata": {
    "colab": {
      "name": "data_analysis.ipynb",
      "version": "0.3.2",
      "provenance": [],
      "collapsed_sections": [
        "ihv-XsZ20gB5",
        "pCbBhq896sbT",
        "NJ_JPFqNZo-e",
        "vAERynGipBR2",
        "S1wZQA4troDN",
        "UrrDxuYNs9Vq",
        "oCzOZnlRPB8p"
      ],
      "machine_shape": "hm",
      "include_colab_link": true
    },
    "kernelspec": {
      "name": "python3",
      "display_name": "Python 3"
    }
  },
  "cells": [
    {
      "cell_type": "markdown",
      "metadata": {
        "id": "view-in-github",
        "colab_type": "text"
      },
      "source": [
        "<a href=\"https://colab.research.google.com/github/vondersam/sdgs_text_classifier/blob/master/experiments/data_analysis.ipynb\" target=\"_parent\"><img src=\"https://colab.research.google.com/assets/colab-badge.svg\" alt=\"Open In Colab\"/></a>"
      ]
    },
    {
      "cell_type": "code",
      "metadata": {
        "id": "mdUWMhzx6-Nh",
        "colab_type": "code",
        "colab": {}
      },
      "source": [
        "#!python -m spacy download en_core_web_lg\n",
        "#nlp = spacy.load(\"en_core_web_lg\")\n",
        "#!pip3 install textacy\n",
        "#import textacy"
      ],
      "execution_count": 0,
      "outputs": []
    },
    {
      "cell_type": "code",
      "metadata": {
        "id": "G8ti7ZNG0-wI",
        "colab_type": "code",
        "colab": {}
      },
      "source": [
        "%matplotlib inline\n",
        "import numpy as np\n",
        "import pandas as pd \n",
        "import matplotlib\n",
        "import matplotlib.pyplot as plt\n",
        "import seaborn as sns\n",
        "import re\n",
        "import os\n",
        "import spacy\n",
        "from collections import Counter\n",
        "from  itertools import chain\n",
        "from sklearn.preprocessing import MultiLabelBinarizer"
      ],
      "execution_count": 0,
      "outputs": []
    },
    {
      "cell_type": "code",
      "metadata": {
        "id": "QvKq8Voj1n4Z",
        "colab_type": "code",
        "outputId": "9988faac-bf8e-498e-8064-2942f0232bd3",
        "colab": {
          "base_uri": "https://localhost:8080/",
          "height": 124
        }
      },
      "source": [
        "from google.colab import drive\n",
        "drive.mount('/content/gdrive', force_remount=True)\n",
        "base_dir = \"gdrive/My Drive/fastai-v3/sdgs/dataset/\"\n",
        "labelled_dataset = base_dir + \"cleanup_labelled.csv\"\n",
        "unlabelled_dataset = base_dir + \"cleanup_unlabelled_u.csv\""
      ],
      "execution_count": 0,
      "outputs": [
        {
          "output_type": "stream",
          "text": [
            "Go to this URL in a browser: https://accounts.google.com/o/oauth2/auth?client_id=947318989803-6bn6qk8qdgf4n4g3pfee6491hc0brc4i.apps.googleusercontent.com&redirect_uri=urn%3Aietf%3Awg%3Aoauth%3A2.0%3Aoob&scope=email%20https%3A%2F%2Fwww.googleapis.com%2Fauth%2Fdocs.test%20https%3A%2F%2Fwww.googleapis.com%2Fauth%2Fdrive%20https%3A%2F%2Fwww.googleapis.com%2Fauth%2Fdrive.photos.readonly%20https%3A%2F%2Fwww.googleapis.com%2Fauth%2Fpeopleapi.readonly&response_type=code\n",
            "\n",
            "Enter your authorization code:\n",
            "··········\n",
            "Mounted at /content/gdrive\n"
          ],
          "name": "stdout"
        }
      ]
    },
    {
      "cell_type": "markdown",
      "metadata": {
        "id": "_GV_sswg2zc6",
        "colab_type": "text"
      },
      "source": [
        "# Unlabelled Data"
      ]
    },
    {
      "cell_type": "code",
      "metadata": {
        "id": "rBgADslp24SP",
        "colab_type": "code",
        "colab": {}
      },
      "source": [
        "unlabelled = pd.read_csv(unlabelled_dataset)\n",
        "print(f\"Number of unlabelled texts: {unlabelled.count()['text']}\")"
      ],
      "execution_count": 0,
      "outputs": []
    },
    {
      "cell_type": "markdown",
      "metadata": {
        "id": "ihv-XsZ20gB5",
        "colab_type": "text"
      },
      "source": [
        "## Size of the vocabulary (unique tokens) of the unlabelled dataset"
      ]
    },
    {
      "cell_type": "code",
      "metadata": {
        "id": "fKtPX44_qyJt",
        "colab_type": "code",
        "colab": {}
      },
      "source": [
        "#u_corpus = textacy.Corpus(\"en\")\n",
        "#u_corpus.add_texts(unlabelled.text.tolist())\n",
        "#u_corpus.save(base_dir + \"unlabelled_corpus_tokens.bin.gz\")\n",
        "#u_corpus = textacy.Corpus.load(\"en\", base_dir + 'textacy_docs/unlabelled_corpus_tokens.bin.gz')"
      ],
      "execution_count": 0,
      "outputs": []
    },
    {
      "cell_type": "code",
      "metadata": {
        "id": "Eo_8s1-Lk-3O",
        "colab_type": "code",
        "outputId": "418819fb-9d8e-4d88-fc0b-0cf840c18cb6",
        "colab": {
          "base_uri": "https://localhost:8080/",
          "height": 34
        }
      },
      "source": [
        "#u_wordcounts = u_corpus.word_counts(normalize='lower', as_strings=True)\n",
        "#print(f\"Size of vocabulary: {len(u_wordcounts)}\")"
      ],
      "execution_count": 0,
      "outputs": [
        {
          "output_type": "stream",
          "text": [
            "Size of vocabulary: 232946\n"
          ],
          "name": "stdout"
        }
      ]
    },
    {
      "cell_type": "markdown",
      "metadata": {
        "id": "pCbBhq896sbT",
        "colab_type": "text"
      },
      "source": [
        "## Words with most occurrences in the unlabelled dataset"
      ]
    },
    {
      "cell_type": "code",
      "metadata": {
        "id": "1aSq-QaF9V8k",
        "colab_type": "code",
        "outputId": "cbc0946a-29ee-4a73-9054-becc0e7158de",
        "colab": {
          "base_uri": "https://localhost:8080/",
          "height": 187
        }
      },
      "source": [
        "u_wordcounts_sorted = sorted(u_wordcounts.items(), key=lambda kv: kv[1])\n",
        "u_wordcounts_sorted.reverse()\n",
        "u_wordcounts_sorted[:10]"
      ],
      "execution_count": 0,
      "outputs": [
        {
          "output_type": "execute_result",
          "data": {
            "text/plain": [
              "[('development', 98150),\n",
              " ('sustainable', 58337),\n",
              " ('countries', 51636),\n",
              " ('women', 41239),\n",
              " ('’s', 40066),\n",
              " ('international', 37817),\n",
              " ('national', 35587),\n",
              " ('united', 32147),\n",
              " ('energy', 31975),\n",
              " ('economic', 31259)]"
            ]
          },
          "metadata": {
            "tags": []
          },
          "execution_count": 162
        }
      ]
    },
    {
      "cell_type": "markdown",
      "metadata": {
        "id": "I1B3juYz5HNh",
        "colab_type": "text"
      },
      "source": [
        "# Labelled Data"
      ]
    },
    {
      "cell_type": "code",
      "metadata": {
        "id": "Ut6h1wR5p8DD",
        "colab_type": "code",
        "outputId": "c3e49c77-53f6-4cdf-f9c2-838c8e094ed3",
        "colab": {
          "base_uri": "https://localhost:8080/",
          "height": 34
        }
      },
      "source": [
        "labelled = pd.read_csv(labelled_dataset)\n",
        "labelled['labels'] = labelled.labels.str.split('|').apply(lambda x: [int(i) for i in x])\n",
        "print(f\"Number of labelled texts: {labelled.count()['text']}\")\n",
        "\n",
        "#l_corpus = textacy.Corpus(\"en\")\n",
        "#l_corpus.add_texts(labelled.text.tolist())\n",
        "#l_corpus.save(base_dir + \"l_corpus_tokens.bin.gz\")\n",
        "#l_corpus = textacy.Corpus.load(\"en\", base_dir + 'textacy_docs/labelled_corpus_tokens.bin.gz')"
      ],
      "execution_count": 0,
      "outputs": [
        {
          "output_type": "stream",
          "text": [
            "Number of labelled texts: 5182\n"
          ],
          "name": "stdout"
        }
      ]
    },
    {
      "cell_type": "code",
      "metadata": {
        "id": "xnUIYSHlmQLJ",
        "colab_type": "code",
        "colab": {}
      },
      "source": [
        "l_wordcounts = l_corpus.word_counts(normalize='lower', as_strings=True)"
      ],
      "execution_count": 0,
      "outputs": []
    },
    {
      "cell_type": "code",
      "metadata": {
        "id": "XP4QKFM5i4tQ",
        "colab_type": "code",
        "outputId": "de174d39-e31f-43d6-d7d6-78022b2f74ff",
        "colab": {
          "base_uri": "https://localhost:8080/",
          "height": 34
        }
      },
      "source": [
        "print(f\"Size of vocabulary: {len(l_wordcounts)}\")"
      ],
      "execution_count": 0,
      "outputs": [
        {
          "output_type": "stream",
          "text": [
            "Size of vocabulary: 14375\n"
          ],
          "name": "stdout"
        }
      ]
    },
    {
      "cell_type": "markdown",
      "metadata": {
        "id": "NJ_JPFqNZo-e",
        "colab_type": "text"
      },
      "source": [
        "# Word length of documents in labelled set"
      ]
    },
    {
      "cell_type": "code",
      "metadata": {
        "id": "a9iupSg1Zn3b",
        "colab_type": "code",
        "outputId": "84c53012-5e71-49a1-e49f-010e2960da5b",
        "colab": {
          "base_uri": "https://localhost:8080/",
          "height": 1000
        }
      },
      "source": [
        "documents_length = [len(t) for t in l_corpus]\n",
        "counts = Counter(documents_length)\n",
        "counts"
      ],
      "execution_count": 0,
      "outputs": [
        {
          "output_type": "execute_result",
          "data": {
            "text/plain": [
              "Counter({1: 11,\n",
              "         2: 33,\n",
              "         3: 46,\n",
              "         4: 63,\n",
              "         5: 89,\n",
              "         6: 67,\n",
              "         7: 118,\n",
              "         8: 109,\n",
              "         9: 131,\n",
              "         10: 88,\n",
              "         11: 110,\n",
              "         12: 100,\n",
              "         13: 82,\n",
              "         14: 90,\n",
              "         15: 70,\n",
              "         16: 105,\n",
              "         17: 58,\n",
              "         18: 50,\n",
              "         19: 46,\n",
              "         20: 41,\n",
              "         21: 50,\n",
              "         22: 56,\n",
              "         23: 47,\n",
              "         24: 58,\n",
              "         25: 35,\n",
              "         26: 42,\n",
              "         27: 60,\n",
              "         28: 41,\n",
              "         29: 44,\n",
              "         30: 32,\n",
              "         31: 39,\n",
              "         32: 35,\n",
              "         33: 41,\n",
              "         34: 34,\n",
              "         35: 33,\n",
              "         36: 32,\n",
              "         37: 31,\n",
              "         38: 31,\n",
              "         39: 31,\n",
              "         40: 21,\n",
              "         41: 41,\n",
              "         42: 42,\n",
              "         43: 32,\n",
              "         44: 27,\n",
              "         45: 28,\n",
              "         46: 30,\n",
              "         47: 32,\n",
              "         48: 35,\n",
              "         49: 35,\n",
              "         50: 29,\n",
              "         51: 24,\n",
              "         52: 26,\n",
              "         53: 21,\n",
              "         54: 26,\n",
              "         55: 25,\n",
              "         56: 40,\n",
              "         57: 40,\n",
              "         58: 31,\n",
              "         59: 37,\n",
              "         60: 26,\n",
              "         61: 23,\n",
              "         62: 44,\n",
              "         63: 26,\n",
              "         64: 31,\n",
              "         65: 26,\n",
              "         66: 27,\n",
              "         67: 27,\n",
              "         68: 27,\n",
              "         69: 20,\n",
              "         70: 28,\n",
              "         71: 25,\n",
              "         72: 31,\n",
              "         73: 21,\n",
              "         74: 23,\n",
              "         75: 29,\n",
              "         76: 13,\n",
              "         77: 21,\n",
              "         78: 23,\n",
              "         79: 20,\n",
              "         80: 25,\n",
              "         81: 20,\n",
              "         82: 22,\n",
              "         83: 20,\n",
              "         84: 15,\n",
              "         85: 19,\n",
              "         86: 19,\n",
              "         87: 22,\n",
              "         88: 20,\n",
              "         89: 16,\n",
              "         90: 23,\n",
              "         91: 28,\n",
              "         92: 14,\n",
              "         93: 17,\n",
              "         94: 18,\n",
              "         95: 16,\n",
              "         96: 14,\n",
              "         97: 15,\n",
              "         98: 24,\n",
              "         99: 22,\n",
              "         100: 11,\n",
              "         101: 16,\n",
              "         102: 19,\n",
              "         103: 11,\n",
              "         104: 11,\n",
              "         105: 19,\n",
              "         106: 17,\n",
              "         107: 15,\n",
              "         108: 9,\n",
              "         109: 13,\n",
              "         110: 10,\n",
              "         111: 12,\n",
              "         112: 14,\n",
              "         113: 16,\n",
              "         114: 8,\n",
              "         115: 12,\n",
              "         116: 13,\n",
              "         117: 13,\n",
              "         118: 14,\n",
              "         119: 7,\n",
              "         120: 12,\n",
              "         121: 9,\n",
              "         122: 12,\n",
              "         123: 11,\n",
              "         124: 6,\n",
              "         125: 8,\n",
              "         126: 9,\n",
              "         127: 9,\n",
              "         128: 9,\n",
              "         129: 6,\n",
              "         130: 14,\n",
              "         131: 4,\n",
              "         132: 7,\n",
              "         133: 4,\n",
              "         134: 6,\n",
              "         135: 15,\n",
              "         136: 9,\n",
              "         137: 6,\n",
              "         138: 17,\n",
              "         139: 9,\n",
              "         140: 6,\n",
              "         141: 10,\n",
              "         142: 7,\n",
              "         143: 11,\n",
              "         144: 13,\n",
              "         145: 9,\n",
              "         146: 5,\n",
              "         147: 3,\n",
              "         148: 13,\n",
              "         149: 7,\n",
              "         150: 10,\n",
              "         151: 4,\n",
              "         152: 6,\n",
              "         153: 9,\n",
              "         154: 8,\n",
              "         155: 6,\n",
              "         156: 10,\n",
              "         157: 10,\n",
              "         158: 9,\n",
              "         159: 6,\n",
              "         160: 5,\n",
              "         161: 7,\n",
              "         162: 3,\n",
              "         163: 7,\n",
              "         164: 9,\n",
              "         165: 7,\n",
              "         166: 5,\n",
              "         167: 7,\n",
              "         168: 4,\n",
              "         169: 5,\n",
              "         170: 4,\n",
              "         171: 3,\n",
              "         172: 6,\n",
              "         173: 5,\n",
              "         174: 4,\n",
              "         175: 9,\n",
              "         176: 7,\n",
              "         177: 7,\n",
              "         178: 2,\n",
              "         179: 7,\n",
              "         180: 4,\n",
              "         181: 1,\n",
              "         182: 4,\n",
              "         183: 8,\n",
              "         184: 4,\n",
              "         185: 9,\n",
              "         186: 3,\n",
              "         187: 5,\n",
              "         188: 4,\n",
              "         189: 3,\n",
              "         190: 4,\n",
              "         191: 6,\n",
              "         192: 6,\n",
              "         193: 5,\n",
              "         194: 4,\n",
              "         195: 6,\n",
              "         196: 11,\n",
              "         197: 3,\n",
              "         198: 5,\n",
              "         199: 4,\n",
              "         200: 6,\n",
              "         201: 3,\n",
              "         202: 7,\n",
              "         203: 4,\n",
              "         204: 1,\n",
              "         205: 3,\n",
              "         206: 7,\n",
              "         207: 5,\n",
              "         208: 3,\n",
              "         209: 2,\n",
              "         210: 8,\n",
              "         211: 5,\n",
              "         212: 4,\n",
              "         213: 2,\n",
              "         214: 5,\n",
              "         215: 2,\n",
              "         216: 1,\n",
              "         217: 3,\n",
              "         218: 3,\n",
              "         219: 2,\n",
              "         220: 3,\n",
              "         221: 3,\n",
              "         222: 2,\n",
              "         223: 4,\n",
              "         224: 4,\n",
              "         225: 3,\n",
              "         226: 2,\n",
              "         227: 1,\n",
              "         228: 3,\n",
              "         229: 3,\n",
              "         230: 4,\n",
              "         231: 3,\n",
              "         232: 3,\n",
              "         233: 4,\n",
              "         234: 3,\n",
              "         235: 1,\n",
              "         236: 5,\n",
              "         237: 4,\n",
              "         238: 3,\n",
              "         239: 5,\n",
              "         240: 2,\n",
              "         241: 3,\n",
              "         242: 4,\n",
              "         243: 3,\n",
              "         244: 3,\n",
              "         245: 2,\n",
              "         246: 1,\n",
              "         247: 3,\n",
              "         249: 1,\n",
              "         250: 6,\n",
              "         252: 2,\n",
              "         253: 3,\n",
              "         255: 1,\n",
              "         257: 3,\n",
              "         258: 1,\n",
              "         259: 3,\n",
              "         260: 3,\n",
              "         261: 1,\n",
              "         262: 4,\n",
              "         263: 3,\n",
              "         264: 6,\n",
              "         265: 3,\n",
              "         266: 3,\n",
              "         267: 2,\n",
              "         268: 2,\n",
              "         269: 2,\n",
              "         270: 4,\n",
              "         271: 1,\n",
              "         273: 1,\n",
              "         274: 3,\n",
              "         275: 5,\n",
              "         276: 1,\n",
              "         277: 1,\n",
              "         278: 4,\n",
              "         279: 2,\n",
              "         280: 1,\n",
              "         282: 4,\n",
              "         283: 2,\n",
              "         284: 2,\n",
              "         285: 1,\n",
              "         286: 2,\n",
              "         287: 2,\n",
              "         288: 1,\n",
              "         289: 5,\n",
              "         291: 3,\n",
              "         292: 2,\n",
              "         293: 2,\n",
              "         294: 3,\n",
              "         295: 2,\n",
              "         297: 2,\n",
              "         298: 3,\n",
              "         300: 5,\n",
              "         301: 1,\n",
              "         302: 3,\n",
              "         304: 3,\n",
              "         305: 2,\n",
              "         306: 1,\n",
              "         307: 1,\n",
              "         308: 2,\n",
              "         309: 2,\n",
              "         310: 1,\n",
              "         311: 1,\n",
              "         313: 1,\n",
              "         314: 1,\n",
              "         316: 3,\n",
              "         317: 2,\n",
              "         318: 3,\n",
              "         319: 1,\n",
              "         320: 4,\n",
              "         321: 2,\n",
              "         322: 5,\n",
              "         323: 1,\n",
              "         324: 4,\n",
              "         325: 1,\n",
              "         326: 3,\n",
              "         327: 3,\n",
              "         329: 3,\n",
              "         330: 1,\n",
              "         331: 2,\n",
              "         332: 4,\n",
              "         333: 2,\n",
              "         334: 2,\n",
              "         335: 1,\n",
              "         336: 1,\n",
              "         337: 2,\n",
              "         338: 1,\n",
              "         340: 1,\n",
              "         341: 1,\n",
              "         342: 3,\n",
              "         344: 1,\n",
              "         345: 2,\n",
              "         347: 2,\n",
              "         349: 1,\n",
              "         352: 1,\n",
              "         353: 2,\n",
              "         354: 1,\n",
              "         355: 2,\n",
              "         356: 3,\n",
              "         357: 2,\n",
              "         359: 4,\n",
              "         360: 1,\n",
              "         361: 2,\n",
              "         362: 2,\n",
              "         363: 1,\n",
              "         364: 2,\n",
              "         365: 2,\n",
              "         367: 2,\n",
              "         369: 7,\n",
              "         371: 4,\n",
              "         372: 1,\n",
              "         373: 1,\n",
              "         374: 3,\n",
              "         375: 2,\n",
              "         376: 2,\n",
              "         377: 1,\n",
              "         380: 2,\n",
              "         381: 1,\n",
              "         382: 1,\n",
              "         383: 1,\n",
              "         384: 1,\n",
              "         385: 3,\n",
              "         386: 1,\n",
              "         387: 2,\n",
              "         388: 2,\n",
              "         389: 1,\n",
              "         390: 1,\n",
              "         391: 1,\n",
              "         392: 1,\n",
              "         393: 2,\n",
              "         396: 2,\n",
              "         397: 1,\n",
              "         398: 1,\n",
              "         399: 1,\n",
              "         400: 1,\n",
              "         401: 3,\n",
              "         402: 2,\n",
              "         405: 2,\n",
              "         407: 1,\n",
              "         408: 1,\n",
              "         409: 1,\n",
              "         412: 1,\n",
              "         413: 2,\n",
              "         415: 2,\n",
              "         417: 1,\n",
              "         418: 1,\n",
              "         420: 1,\n",
              "         423: 1,\n",
              "         424: 2,\n",
              "         427: 2,\n",
              "         428: 1,\n",
              "         432: 1,\n",
              "         435: 3,\n",
              "         439: 3,\n",
              "         441: 2,\n",
              "         442: 1,\n",
              "         444: 1,\n",
              "         446: 1,\n",
              "         447: 2,\n",
              "         450: 1,\n",
              "         451: 1,\n",
              "         454: 1,\n",
              "         455: 1,\n",
              "         457: 1,\n",
              "         458: 1,\n",
              "         460: 1,\n",
              "         461: 1,\n",
              "         462: 1,\n",
              "         466: 1,\n",
              "         467: 1,\n",
              "         468: 1,\n",
              "         478: 1,\n",
              "         482: 1,\n",
              "         484: 2,\n",
              "         485: 1,\n",
              "         487: 1,\n",
              "         492: 1,\n",
              "         493: 1,\n",
              "         498: 2,\n",
              "         499: 1,\n",
              "         501: 1,\n",
              "         503: 2,\n",
              "         508: 1,\n",
              "         509: 1,\n",
              "         512: 1,\n",
              "         513: 1,\n",
              "         514: 1,\n",
              "         517: 1,\n",
              "         519: 3,\n",
              "         521: 1,\n",
              "         524: 1,\n",
              "         527: 1,\n",
              "         529: 1,\n",
              "         531: 1,\n",
              "         532: 1,\n",
              "         534: 2,\n",
              "         541: 1,\n",
              "         544: 1,\n",
              "         545: 2,\n",
              "         554: 2,\n",
              "         562: 1,\n",
              "         564: 2,\n",
              "         565: 2,\n",
              "         572: 2,\n",
              "         582: 2,\n",
              "         594: 1,\n",
              "         596: 1,\n",
              "         597: 1,\n",
              "         598: 1,\n",
              "         610: 1,\n",
              "         611: 1,\n",
              "         613: 1,\n",
              "         620: 1,\n",
              "         622: 1,\n",
              "         623: 1,\n",
              "         625: 1,\n",
              "         636: 1,\n",
              "         640: 2,\n",
              "         645: 1,\n",
              "         660: 1,\n",
              "         666: 1,\n",
              "         707: 1,\n",
              "         731: 1,\n",
              "         732: 1,\n",
              "         736: 1,\n",
              "         737: 1,\n",
              "         749: 1,\n",
              "         756: 1,\n",
              "         765: 2,\n",
              "         771: 2,\n",
              "         790: 1,\n",
              "         800: 1,\n",
              "         805: 1,\n",
              "         826: 1,\n",
              "         832: 1,\n",
              "         851: 1,\n",
              "         888: 1,\n",
              "         893: 1,\n",
              "         897: 1,\n",
              "         899: 1,\n",
              "         912: 1,\n",
              "         960: 1,\n",
              "         1108: 1})"
            ]
          },
          "metadata": {
            "tags": []
          },
          "execution_count": 80
        }
      ]
    },
    {
      "cell_type": "code",
      "metadata": {
        "id": "1YkXP4vPeO9z",
        "colab_type": "code",
        "outputId": "749dcfbc-4d1b-4c98-cae8-7c56f3474f2c",
        "colab": {
          "base_uri": "https://localhost:8080/",
          "height": 204
        }
      },
      "source": [
        "result = {}\n",
        "ran_a = list(range(1,1200,100))\n",
        "ran_b = list(range(100,1300,100))\n",
        "ranges = [list(range(a,b+1)) for a,b in zip(ran_a, ran_b)]\n",
        "counting = 0\n",
        "for a in ranges:\n",
        "  counting += 1\n",
        "  for word_no,counts in c.items():\n",
        "    if word_no in a:\n",
        "      if counting not in result:\n",
        "        result[counting] = 0\n",
        "      result[counting] += counts\n",
        "result\n",
        "  \n"
      ],
      "execution_count": 0,
      "outputs": [
        {
          "output_type": "execute_result",
          "data": {
            "text/plain": [
              "{1: 3812,\n",
              " 2: 811,\n",
              " 3: 267,\n",
              " 4: 155,\n",
              " 5: 61,\n",
              " 6: 39,\n",
              " 7: 13,\n",
              " 8: 13,\n",
              " 9: 8,\n",
              " 10: 2,\n",
              " 12: 1}"
            ]
          },
          "metadata": {
            "tags": []
          },
          "execution_count": 96
        }
      ]
    },
    {
      "cell_type": "code",
      "metadata": {
        "id": "Kt4E6czReued",
        "colab_type": "code",
        "outputId": "705e1781-c506-4f29-ce28-87a8f23a1760",
        "colab": {
          "base_uri": "https://localhost:8080/",
          "height": 1000
        }
      },
      "source": [
        "ranges"
      ],
      "execution_count": 0,
      "outputs": [
        {
          "output_type": "execute_result",
          "data": {
            "text/plain": [
              "[[1,\n",
              "  2,\n",
              "  3,\n",
              "  4,\n",
              "  5,\n",
              "  6,\n",
              "  7,\n",
              "  8,\n",
              "  9,\n",
              "  10,\n",
              "  11,\n",
              "  12,\n",
              "  13,\n",
              "  14,\n",
              "  15,\n",
              "  16,\n",
              "  17,\n",
              "  18,\n",
              "  19,\n",
              "  20,\n",
              "  21,\n",
              "  22,\n",
              "  23,\n",
              "  24,\n",
              "  25,\n",
              "  26,\n",
              "  27,\n",
              "  28,\n",
              "  29,\n",
              "  30,\n",
              "  31,\n",
              "  32,\n",
              "  33,\n",
              "  34,\n",
              "  35,\n",
              "  36,\n",
              "  37,\n",
              "  38,\n",
              "  39,\n",
              "  40,\n",
              "  41,\n",
              "  42,\n",
              "  43,\n",
              "  44,\n",
              "  45,\n",
              "  46,\n",
              "  47,\n",
              "  48,\n",
              "  49,\n",
              "  50,\n",
              "  51,\n",
              "  52,\n",
              "  53,\n",
              "  54,\n",
              "  55,\n",
              "  56,\n",
              "  57,\n",
              "  58,\n",
              "  59,\n",
              "  60,\n",
              "  61,\n",
              "  62,\n",
              "  63,\n",
              "  64,\n",
              "  65,\n",
              "  66,\n",
              "  67,\n",
              "  68,\n",
              "  69,\n",
              "  70,\n",
              "  71,\n",
              "  72,\n",
              "  73,\n",
              "  74,\n",
              "  75,\n",
              "  76,\n",
              "  77,\n",
              "  78,\n",
              "  79,\n",
              "  80,\n",
              "  81,\n",
              "  82,\n",
              "  83,\n",
              "  84,\n",
              "  85,\n",
              "  86,\n",
              "  87,\n",
              "  88,\n",
              "  89,\n",
              "  90,\n",
              "  91,\n",
              "  92,\n",
              "  93,\n",
              "  94,\n",
              "  95,\n",
              "  96,\n",
              "  97,\n",
              "  98,\n",
              "  99,\n",
              "  100],\n",
              " [101,\n",
              "  102,\n",
              "  103,\n",
              "  104,\n",
              "  105,\n",
              "  106,\n",
              "  107,\n",
              "  108,\n",
              "  109,\n",
              "  110,\n",
              "  111,\n",
              "  112,\n",
              "  113,\n",
              "  114,\n",
              "  115,\n",
              "  116,\n",
              "  117,\n",
              "  118,\n",
              "  119,\n",
              "  120,\n",
              "  121,\n",
              "  122,\n",
              "  123,\n",
              "  124,\n",
              "  125,\n",
              "  126,\n",
              "  127,\n",
              "  128,\n",
              "  129,\n",
              "  130,\n",
              "  131,\n",
              "  132,\n",
              "  133,\n",
              "  134,\n",
              "  135,\n",
              "  136,\n",
              "  137,\n",
              "  138,\n",
              "  139,\n",
              "  140,\n",
              "  141,\n",
              "  142,\n",
              "  143,\n",
              "  144,\n",
              "  145,\n",
              "  146,\n",
              "  147,\n",
              "  148,\n",
              "  149,\n",
              "  150,\n",
              "  151,\n",
              "  152,\n",
              "  153,\n",
              "  154,\n",
              "  155,\n",
              "  156,\n",
              "  157,\n",
              "  158,\n",
              "  159,\n",
              "  160,\n",
              "  161,\n",
              "  162,\n",
              "  163,\n",
              "  164,\n",
              "  165,\n",
              "  166,\n",
              "  167,\n",
              "  168,\n",
              "  169,\n",
              "  170,\n",
              "  171,\n",
              "  172,\n",
              "  173,\n",
              "  174,\n",
              "  175,\n",
              "  176,\n",
              "  177,\n",
              "  178,\n",
              "  179,\n",
              "  180,\n",
              "  181,\n",
              "  182,\n",
              "  183,\n",
              "  184,\n",
              "  185,\n",
              "  186,\n",
              "  187,\n",
              "  188,\n",
              "  189,\n",
              "  190,\n",
              "  191,\n",
              "  192,\n",
              "  193,\n",
              "  194,\n",
              "  195,\n",
              "  196,\n",
              "  197,\n",
              "  198,\n",
              "  199,\n",
              "  200],\n",
              " [201,\n",
              "  202,\n",
              "  203,\n",
              "  204,\n",
              "  205,\n",
              "  206,\n",
              "  207,\n",
              "  208,\n",
              "  209,\n",
              "  210,\n",
              "  211,\n",
              "  212,\n",
              "  213,\n",
              "  214,\n",
              "  215,\n",
              "  216,\n",
              "  217,\n",
              "  218,\n",
              "  219,\n",
              "  220,\n",
              "  221,\n",
              "  222,\n",
              "  223,\n",
              "  224,\n",
              "  225,\n",
              "  226,\n",
              "  227,\n",
              "  228,\n",
              "  229,\n",
              "  230,\n",
              "  231,\n",
              "  232,\n",
              "  233,\n",
              "  234,\n",
              "  235,\n",
              "  236,\n",
              "  237,\n",
              "  238,\n",
              "  239,\n",
              "  240,\n",
              "  241,\n",
              "  242,\n",
              "  243,\n",
              "  244,\n",
              "  245,\n",
              "  246,\n",
              "  247,\n",
              "  248,\n",
              "  249,\n",
              "  250,\n",
              "  251,\n",
              "  252,\n",
              "  253,\n",
              "  254,\n",
              "  255,\n",
              "  256,\n",
              "  257,\n",
              "  258,\n",
              "  259,\n",
              "  260,\n",
              "  261,\n",
              "  262,\n",
              "  263,\n",
              "  264,\n",
              "  265,\n",
              "  266,\n",
              "  267,\n",
              "  268,\n",
              "  269,\n",
              "  270,\n",
              "  271,\n",
              "  272,\n",
              "  273,\n",
              "  274,\n",
              "  275,\n",
              "  276,\n",
              "  277,\n",
              "  278,\n",
              "  279,\n",
              "  280,\n",
              "  281,\n",
              "  282,\n",
              "  283,\n",
              "  284,\n",
              "  285,\n",
              "  286,\n",
              "  287,\n",
              "  288,\n",
              "  289,\n",
              "  290,\n",
              "  291,\n",
              "  292,\n",
              "  293,\n",
              "  294,\n",
              "  295,\n",
              "  296,\n",
              "  297,\n",
              "  298,\n",
              "  299,\n",
              "  300],\n",
              " [301,\n",
              "  302,\n",
              "  303,\n",
              "  304,\n",
              "  305,\n",
              "  306,\n",
              "  307,\n",
              "  308,\n",
              "  309,\n",
              "  310,\n",
              "  311,\n",
              "  312,\n",
              "  313,\n",
              "  314,\n",
              "  315,\n",
              "  316,\n",
              "  317,\n",
              "  318,\n",
              "  319,\n",
              "  320,\n",
              "  321,\n",
              "  322,\n",
              "  323,\n",
              "  324,\n",
              "  325,\n",
              "  326,\n",
              "  327,\n",
              "  328,\n",
              "  329,\n",
              "  330,\n",
              "  331,\n",
              "  332,\n",
              "  333,\n",
              "  334,\n",
              "  335,\n",
              "  336,\n",
              "  337,\n",
              "  338,\n",
              "  339,\n",
              "  340,\n",
              "  341,\n",
              "  342,\n",
              "  343,\n",
              "  344,\n",
              "  345,\n",
              "  346,\n",
              "  347,\n",
              "  348,\n",
              "  349,\n",
              "  350,\n",
              "  351,\n",
              "  352,\n",
              "  353,\n",
              "  354,\n",
              "  355,\n",
              "  356,\n",
              "  357,\n",
              "  358,\n",
              "  359,\n",
              "  360,\n",
              "  361,\n",
              "  362,\n",
              "  363,\n",
              "  364,\n",
              "  365,\n",
              "  366,\n",
              "  367,\n",
              "  368,\n",
              "  369,\n",
              "  370,\n",
              "  371,\n",
              "  372,\n",
              "  373,\n",
              "  374,\n",
              "  375,\n",
              "  376,\n",
              "  377,\n",
              "  378,\n",
              "  379,\n",
              "  380,\n",
              "  381,\n",
              "  382,\n",
              "  383,\n",
              "  384,\n",
              "  385,\n",
              "  386,\n",
              "  387,\n",
              "  388,\n",
              "  389,\n",
              "  390,\n",
              "  391,\n",
              "  392,\n",
              "  393,\n",
              "  394,\n",
              "  395,\n",
              "  396,\n",
              "  397,\n",
              "  398,\n",
              "  399,\n",
              "  400],\n",
              " [401,\n",
              "  402,\n",
              "  403,\n",
              "  404,\n",
              "  405,\n",
              "  406,\n",
              "  407,\n",
              "  408,\n",
              "  409,\n",
              "  410,\n",
              "  411,\n",
              "  412,\n",
              "  413,\n",
              "  414,\n",
              "  415,\n",
              "  416,\n",
              "  417,\n",
              "  418,\n",
              "  419,\n",
              "  420,\n",
              "  421,\n",
              "  422,\n",
              "  423,\n",
              "  424,\n",
              "  425,\n",
              "  426,\n",
              "  427,\n",
              "  428,\n",
              "  429,\n",
              "  430,\n",
              "  431,\n",
              "  432,\n",
              "  433,\n",
              "  434,\n",
              "  435,\n",
              "  436,\n",
              "  437,\n",
              "  438,\n",
              "  439,\n",
              "  440,\n",
              "  441,\n",
              "  442,\n",
              "  443,\n",
              "  444,\n",
              "  445,\n",
              "  446,\n",
              "  447,\n",
              "  448,\n",
              "  449,\n",
              "  450,\n",
              "  451,\n",
              "  452,\n",
              "  453,\n",
              "  454,\n",
              "  455,\n",
              "  456,\n",
              "  457,\n",
              "  458,\n",
              "  459,\n",
              "  460,\n",
              "  461,\n",
              "  462,\n",
              "  463,\n",
              "  464,\n",
              "  465,\n",
              "  466,\n",
              "  467,\n",
              "  468,\n",
              "  469,\n",
              "  470,\n",
              "  471,\n",
              "  472,\n",
              "  473,\n",
              "  474,\n",
              "  475,\n",
              "  476,\n",
              "  477,\n",
              "  478,\n",
              "  479,\n",
              "  480,\n",
              "  481,\n",
              "  482,\n",
              "  483,\n",
              "  484,\n",
              "  485,\n",
              "  486,\n",
              "  487,\n",
              "  488,\n",
              "  489,\n",
              "  490,\n",
              "  491,\n",
              "  492,\n",
              "  493,\n",
              "  494,\n",
              "  495,\n",
              "  496,\n",
              "  497,\n",
              "  498,\n",
              "  499,\n",
              "  500],\n",
              " [501,\n",
              "  502,\n",
              "  503,\n",
              "  504,\n",
              "  505,\n",
              "  506,\n",
              "  507,\n",
              "  508,\n",
              "  509,\n",
              "  510,\n",
              "  511,\n",
              "  512,\n",
              "  513,\n",
              "  514,\n",
              "  515,\n",
              "  516,\n",
              "  517,\n",
              "  518,\n",
              "  519,\n",
              "  520,\n",
              "  521,\n",
              "  522,\n",
              "  523,\n",
              "  524,\n",
              "  525,\n",
              "  526,\n",
              "  527,\n",
              "  528,\n",
              "  529,\n",
              "  530,\n",
              "  531,\n",
              "  532,\n",
              "  533,\n",
              "  534,\n",
              "  535,\n",
              "  536,\n",
              "  537,\n",
              "  538,\n",
              "  539,\n",
              "  540,\n",
              "  541,\n",
              "  542,\n",
              "  543,\n",
              "  544,\n",
              "  545,\n",
              "  546,\n",
              "  547,\n",
              "  548,\n",
              "  549,\n",
              "  550,\n",
              "  551,\n",
              "  552,\n",
              "  553,\n",
              "  554,\n",
              "  555,\n",
              "  556,\n",
              "  557,\n",
              "  558,\n",
              "  559,\n",
              "  560,\n",
              "  561,\n",
              "  562,\n",
              "  563,\n",
              "  564,\n",
              "  565,\n",
              "  566,\n",
              "  567,\n",
              "  568,\n",
              "  569,\n",
              "  570,\n",
              "  571,\n",
              "  572,\n",
              "  573,\n",
              "  574,\n",
              "  575,\n",
              "  576,\n",
              "  577,\n",
              "  578,\n",
              "  579,\n",
              "  580,\n",
              "  581,\n",
              "  582,\n",
              "  583,\n",
              "  584,\n",
              "  585,\n",
              "  586,\n",
              "  587,\n",
              "  588,\n",
              "  589,\n",
              "  590,\n",
              "  591,\n",
              "  592,\n",
              "  593,\n",
              "  594,\n",
              "  595,\n",
              "  596,\n",
              "  597,\n",
              "  598,\n",
              "  599,\n",
              "  600],\n",
              " [601,\n",
              "  602,\n",
              "  603,\n",
              "  604,\n",
              "  605,\n",
              "  606,\n",
              "  607,\n",
              "  608,\n",
              "  609,\n",
              "  610,\n",
              "  611,\n",
              "  612,\n",
              "  613,\n",
              "  614,\n",
              "  615,\n",
              "  616,\n",
              "  617,\n",
              "  618,\n",
              "  619,\n",
              "  620,\n",
              "  621,\n",
              "  622,\n",
              "  623,\n",
              "  624,\n",
              "  625,\n",
              "  626,\n",
              "  627,\n",
              "  628,\n",
              "  629,\n",
              "  630,\n",
              "  631,\n",
              "  632,\n",
              "  633,\n",
              "  634,\n",
              "  635,\n",
              "  636,\n",
              "  637,\n",
              "  638,\n",
              "  639,\n",
              "  640,\n",
              "  641,\n",
              "  642,\n",
              "  643,\n",
              "  644,\n",
              "  645,\n",
              "  646,\n",
              "  647,\n",
              "  648,\n",
              "  649,\n",
              "  650,\n",
              "  651,\n",
              "  652,\n",
              "  653,\n",
              "  654,\n",
              "  655,\n",
              "  656,\n",
              "  657,\n",
              "  658,\n",
              "  659,\n",
              "  660,\n",
              "  661,\n",
              "  662,\n",
              "  663,\n",
              "  664,\n",
              "  665,\n",
              "  666,\n",
              "  667,\n",
              "  668,\n",
              "  669,\n",
              "  670,\n",
              "  671,\n",
              "  672,\n",
              "  673,\n",
              "  674,\n",
              "  675,\n",
              "  676,\n",
              "  677,\n",
              "  678,\n",
              "  679,\n",
              "  680,\n",
              "  681,\n",
              "  682,\n",
              "  683,\n",
              "  684,\n",
              "  685,\n",
              "  686,\n",
              "  687,\n",
              "  688,\n",
              "  689,\n",
              "  690,\n",
              "  691,\n",
              "  692,\n",
              "  693,\n",
              "  694,\n",
              "  695,\n",
              "  696,\n",
              "  697,\n",
              "  698,\n",
              "  699,\n",
              "  700],\n",
              " [701,\n",
              "  702,\n",
              "  703,\n",
              "  704,\n",
              "  705,\n",
              "  706,\n",
              "  707,\n",
              "  708,\n",
              "  709,\n",
              "  710,\n",
              "  711,\n",
              "  712,\n",
              "  713,\n",
              "  714,\n",
              "  715,\n",
              "  716,\n",
              "  717,\n",
              "  718,\n",
              "  719,\n",
              "  720,\n",
              "  721,\n",
              "  722,\n",
              "  723,\n",
              "  724,\n",
              "  725,\n",
              "  726,\n",
              "  727,\n",
              "  728,\n",
              "  729,\n",
              "  730,\n",
              "  731,\n",
              "  732,\n",
              "  733,\n",
              "  734,\n",
              "  735,\n",
              "  736,\n",
              "  737,\n",
              "  738,\n",
              "  739,\n",
              "  740,\n",
              "  741,\n",
              "  742,\n",
              "  743,\n",
              "  744,\n",
              "  745,\n",
              "  746,\n",
              "  747,\n",
              "  748,\n",
              "  749,\n",
              "  750,\n",
              "  751,\n",
              "  752,\n",
              "  753,\n",
              "  754,\n",
              "  755,\n",
              "  756,\n",
              "  757,\n",
              "  758,\n",
              "  759,\n",
              "  760,\n",
              "  761,\n",
              "  762,\n",
              "  763,\n",
              "  764,\n",
              "  765,\n",
              "  766,\n",
              "  767,\n",
              "  768,\n",
              "  769,\n",
              "  770,\n",
              "  771,\n",
              "  772,\n",
              "  773,\n",
              "  774,\n",
              "  775,\n",
              "  776,\n",
              "  777,\n",
              "  778,\n",
              "  779,\n",
              "  780,\n",
              "  781,\n",
              "  782,\n",
              "  783,\n",
              "  784,\n",
              "  785,\n",
              "  786,\n",
              "  787,\n",
              "  788,\n",
              "  789,\n",
              "  790,\n",
              "  791,\n",
              "  792,\n",
              "  793,\n",
              "  794,\n",
              "  795,\n",
              "  796,\n",
              "  797,\n",
              "  798,\n",
              "  799,\n",
              "  800],\n",
              " [801,\n",
              "  802,\n",
              "  803,\n",
              "  804,\n",
              "  805,\n",
              "  806,\n",
              "  807,\n",
              "  808,\n",
              "  809,\n",
              "  810,\n",
              "  811,\n",
              "  812,\n",
              "  813,\n",
              "  814,\n",
              "  815,\n",
              "  816,\n",
              "  817,\n",
              "  818,\n",
              "  819,\n",
              "  820,\n",
              "  821,\n",
              "  822,\n",
              "  823,\n",
              "  824,\n",
              "  825,\n",
              "  826,\n",
              "  827,\n",
              "  828,\n",
              "  829,\n",
              "  830,\n",
              "  831,\n",
              "  832,\n",
              "  833,\n",
              "  834,\n",
              "  835,\n",
              "  836,\n",
              "  837,\n",
              "  838,\n",
              "  839,\n",
              "  840,\n",
              "  841,\n",
              "  842,\n",
              "  843,\n",
              "  844,\n",
              "  845,\n",
              "  846,\n",
              "  847,\n",
              "  848,\n",
              "  849,\n",
              "  850,\n",
              "  851,\n",
              "  852,\n",
              "  853,\n",
              "  854,\n",
              "  855,\n",
              "  856,\n",
              "  857,\n",
              "  858,\n",
              "  859,\n",
              "  860,\n",
              "  861,\n",
              "  862,\n",
              "  863,\n",
              "  864,\n",
              "  865,\n",
              "  866,\n",
              "  867,\n",
              "  868,\n",
              "  869,\n",
              "  870,\n",
              "  871,\n",
              "  872,\n",
              "  873,\n",
              "  874,\n",
              "  875,\n",
              "  876,\n",
              "  877,\n",
              "  878,\n",
              "  879,\n",
              "  880,\n",
              "  881,\n",
              "  882,\n",
              "  883,\n",
              "  884,\n",
              "  885,\n",
              "  886,\n",
              "  887,\n",
              "  888,\n",
              "  889,\n",
              "  890,\n",
              "  891,\n",
              "  892,\n",
              "  893,\n",
              "  894,\n",
              "  895,\n",
              "  896,\n",
              "  897,\n",
              "  898,\n",
              "  899,\n",
              "  900],\n",
              " [901,\n",
              "  902,\n",
              "  903,\n",
              "  904,\n",
              "  905,\n",
              "  906,\n",
              "  907,\n",
              "  908,\n",
              "  909,\n",
              "  910,\n",
              "  911,\n",
              "  912,\n",
              "  913,\n",
              "  914,\n",
              "  915,\n",
              "  916,\n",
              "  917,\n",
              "  918,\n",
              "  919,\n",
              "  920,\n",
              "  921,\n",
              "  922,\n",
              "  923,\n",
              "  924,\n",
              "  925,\n",
              "  926,\n",
              "  927,\n",
              "  928,\n",
              "  929,\n",
              "  930,\n",
              "  931,\n",
              "  932,\n",
              "  933,\n",
              "  934,\n",
              "  935,\n",
              "  936,\n",
              "  937,\n",
              "  938,\n",
              "  939,\n",
              "  940,\n",
              "  941,\n",
              "  942,\n",
              "  943,\n",
              "  944,\n",
              "  945,\n",
              "  946,\n",
              "  947,\n",
              "  948,\n",
              "  949,\n",
              "  950,\n",
              "  951,\n",
              "  952,\n",
              "  953,\n",
              "  954,\n",
              "  955,\n",
              "  956,\n",
              "  957,\n",
              "  958,\n",
              "  959,\n",
              "  960,\n",
              "  961,\n",
              "  962,\n",
              "  963,\n",
              "  964,\n",
              "  965,\n",
              "  966,\n",
              "  967,\n",
              "  968,\n",
              "  969,\n",
              "  970,\n",
              "  971,\n",
              "  972,\n",
              "  973,\n",
              "  974,\n",
              "  975,\n",
              "  976,\n",
              "  977,\n",
              "  978,\n",
              "  979,\n",
              "  980,\n",
              "  981,\n",
              "  982,\n",
              "  983,\n",
              "  984,\n",
              "  985,\n",
              "  986,\n",
              "  987,\n",
              "  988,\n",
              "  989,\n",
              "  990,\n",
              "  991,\n",
              "  992,\n",
              "  993,\n",
              "  994,\n",
              "  995,\n",
              "  996,\n",
              "  997,\n",
              "  998,\n",
              "  999,\n",
              "  1000],\n",
              " [1001,\n",
              "  1002,\n",
              "  1003,\n",
              "  1004,\n",
              "  1005,\n",
              "  1006,\n",
              "  1007,\n",
              "  1008,\n",
              "  1009,\n",
              "  1010,\n",
              "  1011,\n",
              "  1012,\n",
              "  1013,\n",
              "  1014,\n",
              "  1015,\n",
              "  1016,\n",
              "  1017,\n",
              "  1018,\n",
              "  1019,\n",
              "  1020,\n",
              "  1021,\n",
              "  1022,\n",
              "  1023,\n",
              "  1024,\n",
              "  1025,\n",
              "  1026,\n",
              "  1027,\n",
              "  1028,\n",
              "  1029,\n",
              "  1030,\n",
              "  1031,\n",
              "  1032,\n",
              "  1033,\n",
              "  1034,\n",
              "  1035,\n",
              "  1036,\n",
              "  1037,\n",
              "  1038,\n",
              "  1039,\n",
              "  1040,\n",
              "  1041,\n",
              "  1042,\n",
              "  1043,\n",
              "  1044,\n",
              "  1045,\n",
              "  1046,\n",
              "  1047,\n",
              "  1048,\n",
              "  1049,\n",
              "  1050,\n",
              "  1051,\n",
              "  1052,\n",
              "  1053,\n",
              "  1054,\n",
              "  1055,\n",
              "  1056,\n",
              "  1057,\n",
              "  1058,\n",
              "  1059,\n",
              "  1060,\n",
              "  1061,\n",
              "  1062,\n",
              "  1063,\n",
              "  1064,\n",
              "  1065,\n",
              "  1066,\n",
              "  1067,\n",
              "  1068,\n",
              "  1069,\n",
              "  1070,\n",
              "  1071,\n",
              "  1072,\n",
              "  1073,\n",
              "  1074,\n",
              "  1075,\n",
              "  1076,\n",
              "  1077,\n",
              "  1078,\n",
              "  1079,\n",
              "  1080,\n",
              "  1081,\n",
              "  1082,\n",
              "  1083,\n",
              "  1084,\n",
              "  1085,\n",
              "  1086,\n",
              "  1087,\n",
              "  1088,\n",
              "  1089,\n",
              "  1090,\n",
              "  1091,\n",
              "  1092,\n",
              "  1093,\n",
              "  1094,\n",
              "  1095,\n",
              "  1096,\n",
              "  1097,\n",
              "  1098,\n",
              "  1099,\n",
              "  1100]]"
            ]
          },
          "metadata": {
            "tags": []
          },
          "execution_count": 95
        }
      ]
    },
    {
      "cell_type": "markdown",
      "metadata": {
        "id": "vAERynGipBR2",
        "colab_type": "text"
      },
      "source": [
        "# Vocabulary size of labelled and unlabelled datasets"
      ]
    },
    {
      "cell_type": "code",
      "metadata": {
        "id": "moEVItmupKcY",
        "colab_type": "code",
        "outputId": "e9bd9c12-1648-43a9-e7c3-f48268e3730e",
        "colab": {
          "base_uri": "https://localhost:8080/",
          "height": 34
        }
      },
      "source": [
        "total_vocab = set(u_wordcounts) | set(l_wordcounts)\n",
        "print(f\"Size of both labelled and unlabelled set is: {len(total_vocab)}\")"
      ],
      "execution_count": 0,
      "outputs": [
        {
          "output_type": "stream",
          "text": [
            "Size of both labelled and unlabelled set is: 252396\n"
          ],
          "name": "stdout"
        }
      ]
    },
    {
      "cell_type": "markdown",
      "metadata": {
        "id": "S1wZQA4troDN",
        "colab_type": "text"
      },
      "source": [
        "# TF-IDF Unlabelled"
      ]
    },
    {
      "cell_type": "code",
      "metadata": {
        "id": "2YCUddB35pZt",
        "colab_type": "code",
        "colab": {}
      },
      "source": [
        "import collections\n",
        "import math\n",
        "def idf(corpus, normalize=\"lower\", weighting=\"count\", smooth_idf=True, as_strings=False,\n",
        "        filter_stops=True, filter_punct=True, filter_nums=True):\n",
        "  word_doc_counts_ = collections.Counter()\n",
        "  for doc in corpus:\n",
        "      word_doc_counts_.update(\n",
        "          doc._.to_bag_of_words(\n",
        "              normalize=normalize, weighting=\"binary\", as_strings=as_strings,\n",
        "              filter_stops=filter_stops, filter_punct=filter_punct, \n",
        "              filter_nums=filter_nums\n",
        "          )\n",
        "      )\n",
        "  n_docs = corpus.n_docs\n",
        "  if smooth_idf is True:\n",
        "      word_doc_counts_ = {\n",
        "          word: math.log(1 + (n_docs / count))\n",
        "          for word, count in word_doc_counts_.items()\n",
        "      }\n",
        "  return word_doc_counts_"
      ],
      "execution_count": 0,
      "outputs": []
    },
    {
      "cell_type": "code",
      "metadata": {
        "id": "UTewGagbqYJW",
        "colab_type": "code",
        "colab": {}
      },
      "source": [
        "u_wordcounts_idf = idf(u_corpus, normalize='lemma',  weighting='idf', as_strings=True)"
      ],
      "execution_count": 0,
      "outputs": []
    },
    {
      "cell_type": "code",
      "metadata": {
        "id": "8uEMK9T-67T-",
        "colab_type": "code",
        "colab": {}
      },
      "source": [
        "sorted_x = sorted(u_wordcounts_idf.items(), key=lambda kv: kv[1])"
      ],
      "execution_count": 0,
      "outputs": []
    },
    {
      "cell_type": "code",
      "metadata": {
        "id": "_k-pNEqFAPix",
        "colab_type": "code",
        "outputId": "355790d4-1bca-4f0c-a863-069bfba7c558",
        "colab": {
          "base_uri": "https://localhost:8080/",
          "height": 187
        }
      },
      "source": [
        "sorted_x[:10]"
      ],
      "execution_count": 0,
      "outputs": [
        {
          "output_type": "execute_result",
          "data": {
            "text/plain": [
              "[('-PRON-', 1.4051038854359024),\n",
              " ('development', 1.9531283684260272),\n",
              " ('country', 2.0417640387093603),\n",
              " ('include', 2.164617967542361),\n",
              " ('sustainable', 2.330058194092919),\n",
              " ('develop', 2.333133572834316),\n",
              " ('’s', 2.340308903321408),\n",
              " ('Development', 2.3432857393358915),\n",
              " ('level', 2.48612579720091),\n",
              " ('use', 2.4914291532332156)]"
            ]
          },
          "metadata": {
            "tags": []
          },
          "execution_count": 169
        }
      ]
    },
    {
      "cell_type": "markdown",
      "metadata": {
        "id": "UrrDxuYNs9Vq",
        "colab_type": "text"
      },
      "source": [
        "# TF-IDF labelled"
      ]
    },
    {
      "cell_type": "markdown",
      "metadata": {
        "id": "FBKQDBfORUsR",
        "colab_type": "text"
      },
      "source": [
        "Create subcorpus for every label. These texts sometimes include other labels that are not the main."
      ]
    },
    {
      "cell_type": "code",
      "metadata": {
        "id": "UR0kuCW5tAjP",
        "colab_type": "code",
        "outputId": "0e404edf-0a0c-49b2-dfe9-2bc1fa88288e",
        "colab": {
          "base_uri": "https://localhost:8080/",
          "height": 34
        }
      },
      "source": [
        "subsets = {}\n",
        "for i in range(1,18):\n",
        "  subset = labelled[labelled.labels.apply(lambda x: i in x)].text\n",
        "  s_corpus = textacy.Corpus(\"en\")\n",
        "  s_corpus.add_texts(subset.tolist())\n",
        "  s_corpus.save(base_dir + f\"corpus_tokens_sdg{i}.bin.gz\")\n",
        "  subsets[i] = s_corpus\n",
        "print(\"finished\")"
      ],
      "execution_count": 0,
      "outputs": [
        {
          "output_type": "stream",
          "text": [
            "finished\n"
          ],
          "name": "stdout"
        }
      ]
    },
    {
      "cell_type": "markdown",
      "metadata": {
        "id": "UqpV88MaRhfh",
        "colab_type": "text"
      },
      "source": [
        "Obtain the 20 top and bottom results words from IDF counts for every label"
      ]
    },
    {
      "cell_type": "code",
      "metadata": {
        "id": "tTbg9BLeRO4r",
        "colab_type": "code",
        "outputId": "51fa0c6e-72f0-4e27-e60f-537846f7c668",
        "colab": {
          "base_uri": "https://localhost:8080/",
          "height": 34
        }
      },
      "source": [
        "subsets_idf = {}\n",
        "for label, subcorpus in subsets.items():\n",
        "  wordcounts_idf = idf(subcorpus, normalize='lower',  weighting='idf', as_strings=True)\n",
        "  sorted_wordcounts = sorted(wordcounts_idf.items(), key=lambda kv: kv[1])\n",
        "  subsets_idf[label] = {\n",
        "      'top': sorted_wordcounts[:10],\n",
        "      'bottom': sorted_wordcounts[-10:]\n",
        "  }\n",
        "print('finished')"
      ],
      "execution_count": 0,
      "outputs": [
        {
          "output_type": "stream",
          "text": [
            "finished\n"
          ],
          "name": "stdout"
        }
      ]
    },
    {
      "cell_type": "code",
      "metadata": {
        "id": "HZXXFTdoS5Qj",
        "colab_type": "code",
        "colab": {}
      },
      "source": [
        "subsets_df = pd.DataFrame.from_dict(subsets_idf)"
      ],
      "execution_count": 0,
      "outputs": []
    },
    {
      "cell_type": "code",
      "metadata": {
        "id": "Nnq7jXpxbwue",
        "colab_type": "code",
        "outputId": "c6752855-cd58-4b83-8cad-9f83a339a5fa",
        "colab": {
          "base_uri": "https://localhost:8080/",
          "height": 187
        }
      },
      "source": [
        "subsets_idf[10]['bottom']"
      ],
      "execution_count": 0,
      "outputs": [
        {
          "output_type": "execute_result",
          "data": {
            "text/plain": [
              "[('stable', 5.762051382780177),\n",
              " ('amounted', 5.762051382780177),\n",
              " ('voices', 5.762051382780177),\n",
              " ('decisio', 5.762051382780177),\n",
              " ('n', 5.762051382780177),\n",
              " ('forums', 5.762051382780177),\n",
              " ('lifeline', 5.762051382780177),\n",
              " ('transferring', 5.762051382780177),\n",
              " ('recipient', 5.762051382780177),\n",
              " ('flow', 5.762051382780177)]"
            ]
          },
          "metadata": {
            "tags": []
          },
          "execution_count": 184
        }
      ]
    },
    {
      "cell_type": "code",
      "metadata": {
        "id": "CHirvzYdYhYu",
        "colab_type": "code",
        "colab": {}
      },
      "source": [
        "subsets_df.to_csv(base_dir + 'subset_idf.csv')"
      ],
      "execution_count": 0,
      "outputs": []
    },
    {
      "cell_type": "markdown",
      "metadata": {
        "id": "oCzOZnlRPB8p",
        "colab_type": "text"
      },
      "source": [
        "# Number of texts per label"
      ]
    },
    {
      "cell_type": "code",
      "metadata": {
        "id": "dSlmffB-5JSm",
        "colab_type": "code",
        "outputId": "0d5908aa-4098-48ef-d629-b4bc4bdb2cf4",
        "colab": {
          "base_uri": "https://localhost:8080/",
          "height": 576
        }
      },
      "source": [
        "txt_per_label = pd.Series(Counter(chain(*labelled.labels))).sort_index().rename_axis('label_id').reset_index(name='count')\n",
        "txt_per_label.label_id = txt_per_label.label_id.astype('int')\n",
        "txt_per_label.sort_values(by='label_id', inplace=True)\n",
        "txt_per_label"
      ],
      "execution_count": 0,
      "outputs": [
        {
          "output_type": "execute_result",
          "data": {
            "text/html": [
              "<div>\n",
              "<style scoped>\n",
              "    .dataframe tbody tr th:only-of-type {\n",
              "        vertical-align: middle;\n",
              "    }\n",
              "\n",
              "    .dataframe tbody tr th {\n",
              "        vertical-align: top;\n",
              "    }\n",
              "\n",
              "    .dataframe thead th {\n",
              "        text-align: right;\n",
              "    }\n",
              "</style>\n",
              "<table border=\"1\" class=\"dataframe\">\n",
              "  <thead>\n",
              "    <tr style=\"text-align: right;\">\n",
              "      <th></th>\n",
              "      <th>label_id</th>\n",
              "      <th>count</th>\n",
              "    </tr>\n",
              "  </thead>\n",
              "  <tbody>\n",
              "    <tr>\n",
              "      <th>0</th>\n",
              "      <td>1</td>\n",
              "      <td>438</td>\n",
              "    </tr>\n",
              "    <tr>\n",
              "      <th>9</th>\n",
              "      <td>2</td>\n",
              "      <td>457</td>\n",
              "    </tr>\n",
              "    <tr>\n",
              "      <th>10</th>\n",
              "      <td>3</td>\n",
              "      <td>523</td>\n",
              "    </tr>\n",
              "    <tr>\n",
              "      <th>11</th>\n",
              "      <td>4</td>\n",
              "      <td>381</td>\n",
              "    </tr>\n",
              "    <tr>\n",
              "      <th>12</th>\n",
              "      <td>5</td>\n",
              "      <td>482</td>\n",
              "    </tr>\n",
              "    <tr>\n",
              "      <th>13</th>\n",
              "      <td>6</td>\n",
              "      <td>423</td>\n",
              "    </tr>\n",
              "    <tr>\n",
              "      <th>14</th>\n",
              "      <td>7</td>\n",
              "      <td>477</td>\n",
              "    </tr>\n",
              "    <tr>\n",
              "      <th>15</th>\n",
              "      <td>8</td>\n",
              "      <td>395</td>\n",
              "    </tr>\n",
              "    <tr>\n",
              "      <th>16</th>\n",
              "      <td>9</td>\n",
              "      <td>301</td>\n",
              "    </tr>\n",
              "    <tr>\n",
              "      <th>1</th>\n",
              "      <td>10</td>\n",
              "      <td>317</td>\n",
              "    </tr>\n",
              "    <tr>\n",
              "      <th>2</th>\n",
              "      <td>11</td>\n",
              "      <td>396</td>\n",
              "    </tr>\n",
              "    <tr>\n",
              "      <th>3</th>\n",
              "      <td>12</td>\n",
              "      <td>355</td>\n",
              "    </tr>\n",
              "    <tr>\n",
              "      <th>4</th>\n",
              "      <td>13</td>\n",
              "      <td>307</td>\n",
              "    </tr>\n",
              "    <tr>\n",
              "      <th>5</th>\n",
              "      <td>14</td>\n",
              "      <td>558</td>\n",
              "    </tr>\n",
              "    <tr>\n",
              "      <th>6</th>\n",
              "      <td>15</td>\n",
              "      <td>378</td>\n",
              "    </tr>\n",
              "    <tr>\n",
              "      <th>7</th>\n",
              "      <td>16</td>\n",
              "      <td>460</td>\n",
              "    </tr>\n",
              "    <tr>\n",
              "      <th>8</th>\n",
              "      <td>17</td>\n",
              "      <td>566</td>\n",
              "    </tr>\n",
              "  </tbody>\n",
              "</table>\n",
              "</div>"
            ],
            "text/plain": [
              "    label_id  count\n",
              "0          1    438\n",
              "9          2    457\n",
              "10         3    523\n",
              "11         4    381\n",
              "12         5    482\n",
              "13         6    423\n",
              "14         7    477\n",
              "15         8    395\n",
              "16         9    301\n",
              "1         10    317\n",
              "2         11    396\n",
              "3         12    355\n",
              "4         13    307\n",
              "5         14    558\n",
              "6         15    378\n",
              "7         16    460\n",
              "8         17    566"
            ]
          },
          "metadata": {
            "tags": []
          },
          "execution_count": 6
        }
      ]
    },
    {
      "cell_type": "code",
      "metadata": {
        "id": "TNihPxboOB1p",
        "colab_type": "code",
        "outputId": "124460b1-7e2e-408f-f1ea-67c7ce52458a",
        "colab": {
          "base_uri": "https://localhost:8080/",
          "height": 425
        }
      },
      "source": [
        "txt_per_label.plot(x='label_id', y='count', kind='bar', legend=False, grid=True, figsize=(10, 6))\n",
        "plt.title(\"Number of documents per label\")"
      ],
      "execution_count": 0,
      "outputs": [
        {
          "output_type": "execute_result",
          "data": {
            "text/plain": [
              "Text(0.5, 1.0, 'Number of documents per label')"
            ]
          },
          "metadata": {
            "tags": []
          },
          "execution_count": 7
        },
        {
          "output_type": "display_data",
          "data": {
            "image/png": "[encoded data removed]",
            "text/plain": [
              "<Figure size 720x432 with 1 Axes>"
            ]
          },
          "metadata": {
            "tags": []
          }
        }
      ]
    },
    {
      "cell_type": "markdown",
      "metadata": {
        "id": "Zkhih9FhVrPX",
        "colab_type": "text"
      },
      "source": [
        "## Number of labels per text"
      ]
    },
    {
      "cell_type": "code",
      "metadata": {
        "id": "p9XCWBWXVAXw",
        "colab_type": "code",
        "outputId": "dee3c14e-31c8-4ff4-f284-9ff0b8cdf271",
        "colab": {
          "base_uri": "https://localhost:8080/",
          "height": 34
        }
      },
      "source": [
        "labels_per_text = labelled.labels.str.len()\n",
        "labels_per_text = labels_per_text.value_counts().sort_index()\n",
        "labels_per_text = labels_per_text.to_frame()\n",
        "labels_per_text['percentage'] = labels_per_text.values/labels_per_text.values.sum()*100\n",
        "labels_per_text.round(2)\n",
        "#standard deviation\n",
        "#labels_per_text.labels.std()\n",
        "labels_per_text.labels\n",
        "no_texts = 5182\n",
        "# all absolute labels divided by documents, mean label/document\n",
        "sum(labels_per_text.labels * labels_per_text.index)/no_texts\n"
      ],
      "execution_count": 0,
      "outputs": [
        {
          "output_type": "execute_result",
          "data": {
            "text/plain": [
              "1.3921265920494017"
            ]
          },
          "metadata": {
            "tags": []
          },
          "execution_count": 20
        }
      ]
    },
    {
      "cell_type": "code",
      "metadata": {
        "id": "SZhunSHZZ2gP",
        "colab_type": "code",
        "outputId": "35e71cf9-0a1f-4216-fa30-2d5e572c1a4a",
        "colab": {
          "base_uri": "https://localhost:8080/",
          "height": 427
        }
      },
      "source": [
        "labels_per_text.plot(y='labels', kind='bar', legend=False, grid=True, figsize=(10, 6))\n",
        "plt.title(\"Number labels per document\")\n",
        "plt.ylabel('Number of documents', fontsize=12)\n",
        "plt.xlabel('Number of labels', fontsize=12)"
      ],
      "execution_count": 0,
      "outputs": [
        {
          "output_type": "execute_result",
          "data": {
            "text/plain": [
              "Text(0.5, 0, 'Number of labels')"
            ]
          },
          "metadata": {
            "tags": []
          },
          "execution_count": 11
        },
        {
          "output_type": "display_data",
          "data": {
            "image/png": "[encoded data removed]",
            "text/plain": [
              "<Figure size 720x432 with 1 Axes>"
            ]
          },
          "metadata": {
            "tags": []
          }
        }
      ]
    },
    {
      "cell_type": "markdown",
      "metadata": {
        "id": "JXwXrzvib3AN",
        "colab_type": "text"
      },
      "source": [
        "## String length"
      ]
    },
    {
      "cell_type": "code",
      "metadata": {
        "id": "iF8GDAvgbvmv",
        "colab_type": "code",
        "outputId": "0b3c970b-50c3-434e-f61f-f3966888cb11",
        "colab": {
          "base_uri": "https://localhost:8080/",
          "height": 337
        }
      },
      "source": [
        "lens = labelled.text.str.len()\n",
        "lens.hist()\n",
        "\n",
        "print(f\"Max string length: {lens.max()}\")\n",
        "print(f\"Min string length: {lens.min()}\")\n",
        "print(f\"Mean string length: {lens.mean()}\")\n",
        "print(\"Histogram of string lengths by document\")"
      ],
      "execution_count": 0,
      "outputs": [
        {
          "output_type": "stream",
          "text": [
            "Max string length: 6394\n",
            "Min string length: 5\n",
            "Mean string length: 502.43110768043226\n",
            "Histogram of string lengths by document\n"
          ],
          "name": "stdout"
        },
        {
          "output_type": "display_data",
          "data": {
            "image/png": "[encoded data removed]",
            "text/plain": [
              "<Figure size 432x288 with 1 Axes>"
            ]
          },
          "metadata": {
            "tags": []
          }
        }
      ]
    },
    {
      "cell_type": "markdown",
      "metadata": {
        "id": "avVVGhK8dGI_",
        "colab_type": "text"
      },
      "source": [
        "# Number of labelled documents with explicit labels"
      ]
    },
    {
      "cell_type": "code",
      "metadata": {
        "id": "aAeVZ0AReYnj",
        "colab_type": "code",
        "outputId": "e8e1e77d-5c95-4518-f0fb-9fad1211f4b7",
        "colab": {
          "base_uri": "https://localhost:8080/",
          "height": 69
        }
      },
      "source": [
        "MAPPINGS = {\n",
        "        'g': r'(sdgs|sdg|goals|goal)',\n",
        "        't': r'(target)',\n",
        "        'i': r'(indicator)'\n",
        "    }\n",
        "patterns = [\n",
        "                MAPPINGS['g'] + r\"\\W*\\s+(,?\\s*\\b\\d{1,2}\\b[and\\s\\b\\d{1,2}\\b]*)\",\n",
        "                MAPPINGS['t'] + r\"(\\s+\\d+\\.[\\d+a-d])\",\n",
        "                MAPPINGS['i'] + r\"(\\s+\\d+\\.[\\d+a-d]\\.\\d+)\"\n",
        "            ]\n",
        "for pattern in patterns:\n",
        "    print(pattern)"
      ],
      "execution_count": 0,
      "outputs": [
        {
          "output_type": "stream",
          "text": [
            "(sdgs|sdg|goals|goal)\\W*\\s+(,?\\s*\\b\\d{1,2}\\b[and\\s\\b\\d{1,2}\\b]*)\n",
            "(target)(\\s+\\d+\\.[\\d+a-d])\n",
            "(indicator)(\\s+\\d+\\.[\\d+a-d]\\.\\d+)\n"
          ],
          "name": "stdout"
        }
      ]
    },
    {
      "cell_type": "code",
      "metadata": {
        "id": "-ZOfHeEhfShe",
        "colab_type": "code",
        "colab": {}
      },
      "source": [
        "b = labelled"
      ],
      "execution_count": 0,
      "outputs": []
    },
    {
      "cell_type": "code",
      "metadata": {
        "id": "oldpKZ09jxlx",
        "colab_type": "code",
        "colab": {}
      },
      "source": [
        "pat = r\"(indicator)(\\s+\\d+\\.[\\d+a-d]\\.\\d+)|(target)(\\s+\\d+\\.[\\d+a-d])|(sdgs|sdg|goals|goal)\\W*\\s+(,?\\s*\\b\\d{1,2}\\b[and\\s\\b\\d{1,2}\\b]*)\""
      ],
      "execution_count": 0,
      "outputs": []
    },
    {
      "cell_type": "code",
      "metadata": {
        "id": "mmRApHIlhxoK",
        "colab_type": "code",
        "colab": {}
      },
      "source": [
        "without_labels = b.text.str.replace(pat, ' SDGLABEL ', regex=True, flags=re.IGNORECASE)\n",
        "without_labels = without_labels.str.replace('  ', ' ', regex=True, flags=re.IGNORECASE)"
      ],
      "execution_count": 0,
      "outputs": []
    },
    {
      "cell_type": "code",
      "metadata": {
        "id": "p4nmKtE0kjL4",
        "colab_type": "code",
        "outputId": "d90efa10-a397-41b2-90d6-e57720223b30",
        "colab": {
          "base_uri": "https://localhost:8080/",
          "height": 34
        }
      },
      "source": [
        "# https://stackoverflow.com/questions/31583151/count-number-of-rows-when-row-contains-certain-text\n",
        "# Number of document containing labels\n",
        "len(without_labels[without_labels.str.contains('SDGLABEL', flags=re.IGNORECASE)])"
      ],
      "execution_count": 0,
      "outputs": [
        {
          "output_type": "execute_result",
          "data": {
            "text/plain": [
              "3230"
            ]
          },
          "metadata": {
            "tags": []
          },
          "execution_count": 19
        }
      ]
    },
    {
      "cell_type": "code",
      "metadata": {
        "id": "VWzR-C8bm-sw",
        "colab_type": "code",
        "outputId": "a0561317-5feb-47cf-d14b-e3764dafc21d",
        "colab": {
          "base_uri": "https://localhost:8080/",
          "height": 54
        }
      },
      "source": [
        "without_labels[3]"
      ],
      "execution_count": 0,
      "outputs": [
        {
          "output_type": "execute_result",
          "data": {
            "text/plain": [
              "'Rangita de Silva, Associate Dean of the University of Pennsylvania, focused on SDGLABEL particularly SDGLABEL ., which aims at ending all forms gender discrimination. She argued for dismantling de jure gender discrimination in the Law. She recalled that every single country has at least 4 laws that discriminate, directly or indirectly, against women and remembered that gender discrimination, has a very high cost, 28 trillion dollars per year,'"
            ]
          },
          "metadata": {
            "tags": []
          },
          "execution_count": 20
        }
      ]
    },
    {
      "cell_type": "code",
      "metadata": {
        "id": "BTZl_FcvnFxX",
        "colab_type": "code",
        "outputId": "5a4e7943-6271-4ea9-e54a-0b2a5fa8f382",
        "colab": {
          "base_uri": "https://localhost:8080/",
          "height": 54
        }
      },
      "source": [
        "labelled.text[3]"
      ],
      "execution_count": 0,
      "outputs": [
        {
          "output_type": "execute_result",
          "data": {
            "text/plain": [
              "'Rangita de Silva, Associate Dean of the University of Pennsylvania, focused on SDG 5, and particularly target 5.1., which aims at ending all forms gender discrimination. She argued for dismantling de jure gender discrimination in the Law. She recalled that every single country has at least 4 laws that discriminate, directly or indirectly, against women and remembered that gender discrimination, has a very high cost, 28 trillion dollars per year,'"
            ]
          },
          "metadata": {
            "tags": []
          },
          "execution_count": 16
        }
      ]
    },
    {
      "cell_type": "code",
      "metadata": {
        "id": "wry4rtMXf6qj",
        "colab_type": "code",
        "colab": {}
      },
      "source": [
        ""
      ],
      "execution_count": 0,
      "outputs": []
    },
    {
      "cell_type": "markdown",
      "metadata": {
        "id": "w0SnjaJQ-jrT",
        "colab_type": "text"
      },
      "source": [
        "# Label Co-occurrence matrix"
      ]
    },
    {
      "cell_type": "code",
      "metadata": {
        "id": "R79yiGko-m9X",
        "colab_type": "code",
        "colab": {}
      },
      "source": [
        "mlb = MultiLabelBinarizer()\n",
        "labels = pd.DataFrame(mlb.fit_transform(labelled.labels))\n",
        "#df = pd.concat([labelled.text, labels], axis=1)"
      ],
      "execution_count": 0,
      "outputs": []
    },
    {
      "cell_type": "code",
      "metadata": {
        "id": "5dQHUhnDAISq",
        "colab_type": "code",
        "colab": {}
      },
      "source": [
        "df_asint = labels.astype(int); df_asint\n",
        "cooccurrence_matrix = df_asint.T.dot(df_asint)\n",
        "cooccurrence_matrix.fillna(0)\n",
        "label_headers = [str(i) for i in range(1,18)]"
      ],
      "execution_count": 0,
      "outputs": []
    },
    {
      "cell_type": "code",
      "metadata": {
        "id": "TQFPjI-LCNhm",
        "colab_type": "code",
        "outputId": "a5ef5c02-b803-4fa8-85a7-b90d9a0fa74d",
        "colab": {
          "base_uri": "https://localhost:8080/",
          "height": 903
        }
      },
      "source": [
        "cooccurrence_matrix_diagonal = np.diagonal(cooccurrence_matrix)\n",
        "with np.errstate(divide='ignore', invalid='ignore'):\n",
        "    cooccurrence_matrix_percentage = np.nan_to_num(np.true_divide(cooccurrence_matrix, cooccurrence_matrix_diagonal[:, None]))\n",
        "print(cooccurrence_matrix_percentage)\n",
        "\n",
        "# Add count in labels\n",
        "label_header_with_count = [ '{0} ({1})'.format(label_header, cooccurrence_matrix_diagonal[label_number]) for label_number, label_header in enumerate(label_headers)]  \n",
        "#label_header_with_count"
      ],
      "execution_count": 0,
      "outputs": [
        {
          "output_type": "stream",
          "text": [
            "[[1.         0.23744292 0.19178082 0.10502283 0.18493151 0.06164384\n",
            "  0.07305936 0.20319635 0.12785388 0.13242009 0.0913242  0.06392694\n",
            "  0.08219178 0.10502283 0.07762557 0.06621005 0.14155251]\n",
            " [0.22757112 1.         0.2166302  0.08533917 0.14223195 0.08315098\n",
            "  0.06345733 0.1356674  0.11159737 0.06564551 0.07877462 0.08752735\n",
            "  0.09190372 0.11597374 0.12253829 0.0547046  0.0940919 ]\n",
            " [0.16061185 0.18929254 1.         0.10133843 0.12428298 0.06309751\n",
            "  0.07456979 0.0917782  0.08795411 0.07265774 0.08604207 0.06692161\n",
            "  0.0707457  0.0917782  0.06118547 0.03824092 0.07265774]\n",
            " [0.12073491 0.1023622  0.13910761 1.         0.15223097 0.06824147\n",
            "  0.06299213 0.15223097 0.06824147 0.09973753 0.06824147 0.07086614\n",
            "  0.07611549 0.04199475 0.05511811 0.07086614 0.0656168 ]\n",
            " [0.16804979 0.13485477 0.13485477 0.12033195 1.         0.13900415\n",
            "  0.06431535 0.13070539 0.10995851 0.093361   0.05394191 0.05394191\n",
            "  0.07053942 0.07676349 0.03941909 0.09543568 0.10165975]\n",
            " [0.06382979 0.08983452 0.07801418 0.06146572 0.15839243 1.\n",
            "  0.17966903 0.08037825 0.04491726 0.07565012 0.16312057 0.15130024\n",
            "  0.08274232 0.04964539 0.16548463 0.04964539 0.08983452]\n",
            " [0.06708595 0.06079665 0.08176101 0.05031447 0.06498952 0.15932914\n",
            "  1.         0.09014675 0.07337526 0.05031447 0.13417191 0.1509434\n",
            "  0.11111111 0.05870021 0.11111111 0.03144654 0.0754717 ]\n",
            " [0.22531646 0.15696203 0.12151899 0.14683544 0.15949367 0.08607595\n",
            "  0.10886076 1.         0.13924051 0.16708861 0.09620253 0.12658228\n",
            "  0.10632911 0.07594937 0.0835443  0.09620253 0.10886076]\n",
            " [0.18604651 0.16943522 0.15282392 0.08637874 0.17607973 0.06312292\n",
            "  0.11627907 0.18272425 1.         0.10299003 0.12956811 0.10963455\n",
            "  0.08637874 0.12956811 0.06976744 0.07973422 0.14950166]\n",
            " [0.1829653  0.09463722 0.11987382 0.11987382 0.14195584 0.10094637\n",
            "  0.07570978 0.20820189 0.0977918  1.         0.07255521 0.10410095\n",
            "  0.08201893 0.04731861 0.06624606 0.12302839 0.11987382]\n",
            " [0.1010101  0.09090909 0.11363636 0.06565657 0.06565657 0.17424242\n",
            "  0.16161616 0.0959596  0.09848485 0.05808081 1.         0.18686869\n",
            "  0.10858586 0.05808081 0.16161616 0.06818182 0.12878788]\n",
            " [0.07887324 0.11267606 0.09859155 0.07605634 0.07323944 0.18028169\n",
            "  0.2028169  0.14084507 0.09295775 0.09295775 0.2084507  1.\n",
            "  0.14084507 0.11830986 0.2        0.05915493 0.11267606]\n",
            " [0.11726384 0.13680782 0.12052117 0.09446254 0.11074919 0.11400651\n",
            "  0.17263844 0.13680782 0.08469055 0.08469055 0.14006515 0.16286645\n",
            "  1.         0.14006515 0.17915309 0.08143322 0.09771987]\n",
            " [0.08243728 0.09498208 0.08602151 0.02867384 0.06630824 0.03763441\n",
            "  0.05017921 0.05376344 0.06989247 0.02688172 0.04121864 0.07526882\n",
            "  0.07706093 1.         0.08064516 0.02688172 0.06630824]\n",
            " [0.08994709 0.14814815 0.08465608 0.05555556 0.05026455 0.18518519\n",
            "  0.14021164 0.08730159 0.05555556 0.05555556 0.16931217 0.18783069\n",
            "  0.14550265 0.11904762 1.         0.06084656 0.12698413]\n",
            " [0.06304348 0.05434783 0.04347826 0.05869565 0.1        0.04565217\n",
            "  0.0326087  0.0826087  0.05217391 0.08478261 0.05869565 0.04565217\n",
            "  0.05434783 0.0326087  0.05       1.         0.0826087 ]\n",
            " [0.10954064 0.07597173 0.06713781 0.04416961 0.08657244 0.06713781\n",
            "  0.06360424 0.07597173 0.0795053  0.06713781 0.09010601 0.07067138\n",
            "  0.05300353 0.06537102 0.08480565 0.06713781 1.        ]]\n"
          ],
          "name": "stdout"
        }
      ]
    },
    {
      "cell_type": "code",
      "metadata": {
        "colab_type": "code",
        "id": "_CIH3Wxb-XJf",
        "colab": {}
      },
      "source": [
        "def show_values(pc, fmt=\"%.2f\", **kw):\n",
        "    '''\n",
        "    Heatmap with text in each cell with matplotlib's pyplot\n",
        "    Source: http://stackoverflow.com/a/25074150/395857 \n",
        "    By HYRY\n",
        "    '''\n",
        "    pc.update_scalarmappable()\n",
        "    ax = pc.axes\n",
        "    for p, color, value in zip(pc.get_paths(), pc.get_facecolors(), pc.get_array()):\n",
        "        x, y = p.vertices[:-2, :].mean(0)\n",
        "        if np.all(color[:3] > 0.5):\n",
        "            color = (0.0, 0.0, 0.0)\n",
        "        else:\n",
        "            color = (1.0, 1.0, 1.0)\n",
        "        ax.text(x, y, value, ha=\"center\", va=\"center\", color=color, **kw)\n",
        "\n",
        "def cm2inch(*tupl):\n",
        "    '''\n",
        "    Specify figure size in centimeter in matplotlib\n",
        "    Source: http://stackoverflow.com/a/22787457/395857\n",
        "    By gns-ank\n",
        "    '''\n",
        "    inch = 2.54\n",
        "    if type(tupl[0]) == tuple:\n",
        "        return tuple(i/inch for i in tupl[0])\n",
        "    else:\n",
        "        return tuple(i/inch for i in tupl)\n",
        "\n",
        "def heatmap(AUC, title, xlabel, ylabel, xticklabels, yticklabels):\n",
        "    '''\n",
        "    Inspired by:\n",
        "    - http://stackoverflow.com/a/16124677/395857 \n",
        "    - http://stackoverflow.com/a/25074150/395857\n",
        "    '''\n",
        "\n",
        "    # Plot it out\n",
        "    fig, ax = plt.subplots()    \n",
        "    c = ax.pcolor(AUC, edgecolors='k', linestyle= 'dashed', linewidths=0.2, cmap='binary', vmin=0.0, vmax=104.0)\n",
        "\n",
        "    # put the major ticks at the middle of each cell\n",
        "    ax.set_yticks(np.arange(AUC.shape[0]) + 0.5, minor=False)\n",
        "    ax.set_xticks(np.arange(AUC.shape[1]) + 0.5, minor=False)\n",
        "\n",
        "    # set tick labels\n",
        "    #ax.set_xticklabels(np.arange(1,AUC.shape[1]+1), minor=False)\n",
        "    ax.set_xticklabels(xticklabels, minor=False)\n",
        "    ax.set_yticklabels(yticklabels, minor=False)\n",
        "\n",
        "    # set title and x/y labels\n",
        "    #plt.title(title)\n",
        "    plt.xlabel(xlabel)\n",
        "    plt.ylabel(ylabel)      \n",
        "\n",
        "    # Remove last blank column\n",
        "    plt.xlim( (0, AUC.shape[1]) )\n",
        "\n",
        "    # Turn off all the ticks\n",
        "    ax = plt.gca()    \n",
        "    for t in ax.xaxis.get_major_ticks():\n",
        "        t.tick1On = False\n",
        "        t.tick2On = False\n",
        "    for t in ax.yaxis.get_major_ticks():\n",
        "        t.tick1On = False\n",
        "        t.tick2On = False\n",
        "\n",
        "    # Add color bar\n",
        "    #plt.colorbar(c, orientation='horizontal', )\n",
        "\n",
        "    # Add text in each cell \n",
        "    show_values(c)\n",
        "\n",
        "    # Proper orientation (origin at the top left instead of bottom left)\n",
        "    ax.invert_yaxis()\n",
        "    ax.xaxis.tick_top()\n",
        "    \n",
        "    # Font size\n",
        "    plt.rc('font', size=10)\n",
        "\n",
        "    # resize \n",
        "    fig = plt.gcf()\n",
        "    fig.set_size_inches(cm2inch(50, 25))"
      ],
      "execution_count": 0,
      "outputs": []
    },
    {
      "cell_type": "code",
      "metadata": {
        "id": "4TcRtsOb__5O",
        "colab_type": "code",
        "outputId": "733c9c2e-22ee-42e3-e1ba-193637e1d205",
        "colab": {
          "base_uri": "https://localhost:8080/",
          "height": 595
        }
      },
      "source": [
        "x_axis_size = cooccurrence_matrix.shape[0]\n",
        "y_axis_size = cooccurrence_matrix.shape[1]\n",
        "title = \"\"\n",
        "xlabel= ''#\"Labels\"\n",
        "ylabel= ''#\"Labels\"\n",
        "xticklabels = label_headers\n",
        "yticklabels = label_headers\n",
        "heatmap(cooccurrence_matrix, title, xlabel, ylabel, xticklabels, yticklabels)\n",
        "plt.savefig(base_dir+'image_output.svg', dpi=2000, format='svg', bbox_inches='tight')"
      ],
      "execution_count": 0,
      "outputs": [
        {
          "output_type": "display_data",
          "data": {
            "image/png": "[encoded data removed]",
            "text/plain": [
              "<Figure size 1417.32x708.661 with 1 Axes>"
            ]
          },
          "metadata": {
            "tags": []
          }
        }
      ]
    },
    {
      "cell_type": "code",
      "metadata": {
        "id": "oWVvTRyhRM8o",
        "colab_type": "code",
        "outputId": "3816eef9-444b-414d-a71f-a0cce9800bf7",
        "colab": {
          "base_uri": "https://localhost:8080/",
          "height": 191
        }
      },
      "source": [
        "mask"
      ],
      "execution_count": 0,
      "outputs": [
        {
          "output_type": "execute_result",
          "data": {
            "text/plain": [
              "array([[1., 1., 1., 1., 1., 1., 1., 1., 1., 1.],\n",
              "       [0., 1., 1., 1., 1., 1., 1., 1., 1., 1.],\n",
              "       [0., 0., 1., 1., 1., 1., 1., 1., 1., 1.],\n",
              "       [0., 0., 0., 1., 1., 1., 1., 1., 1., 1.],\n",
              "       [0., 0., 0., 0., 1., 1., 1., 1., 1., 1.],\n",
              "       [0., 0., 0., 0., 0., 1., 1., 1., 1., 1.],\n",
              "       [0., 0., 0., 0., 0., 0., 1., 1., 1., 1.],\n",
              "       [0., 0., 0., 0., 0., 0., 0., 1., 1., 1.],\n",
              "       [0., 0., 0., 0., 0., 0., 0., 0., 1., 1.],\n",
              "       [0., 0., 0., 0., 0., 0., 0., 0., 0., 1.]])"
            ]
          },
          "metadata": {
            "tags": []
          },
          "execution_count": 101
        }
      ]
    },
    {
      "cell_type": "code",
      "metadata": {
        "id": "-_TabO58Rbl9",
        "colab_type": "code",
        "outputId": "5c7bdddf-7a9c-4a83-f8f3-c003678f4476",
        "colab": {
          "base_uri": "https://localhost:8080/",
          "height": 726
        }
      },
      "source": [
        "labels = ['',\n",
        "          '2: Zero Hunger', \n",
        "          '3: Good Health', \n",
        "          '4: Quality Education', \n",
        "          '5: Gender Equality', \n",
        "          '6: Clean Water', \n",
        "          '7: Clean Energy', \n",
        "          '8: Decent Work', \n",
        "          '9: Industry, Innovation', \n",
        "          '10: Reduced Inequality', \n",
        "          '11: Sustainable Cities', \n",
        "          '12: Responsible Consumption', \n",
        "          '13: Climate Action', \n",
        "          '14: Life Below Water', \n",
        "          '15: Life on Land', \n",
        "          '16: Peace and Justice', \n",
        "          '17: Partnerships']\n",
        "xlabels = ['1: No Poverty'] + labels[1:-1]\n",
        "\n",
        "\n",
        "mask = np.zeros_like(cooccurrence_matrix)\n",
        "mask[np.triu_indices_from(mask)] = True\n",
        "\n",
        "plt.figure(figsize=(20, 10))\n",
        "plt.rc('font', size=15)\n",
        "\n",
        "\n",
        "with sns.axes_style(\"white\"):\n",
        "    ax = sns.heatmap(cooccurrence_matrix, \n",
        "                     annot=True, \n",
        "                     mask=mask, \n",
        "                     square=True, \n",
        "                     fmt=\"d\", \n",
        "                     vmin=0, \n",
        "                     vmax=104, \n",
        "                     cmap='binary', \n",
        "                     cbar=False,\n",
        "                     yticklabels=labels)\n",
        "    ax.set_xticklabels(xlabels, rotation=35, ha='right')\n",
        "    plt.savefig(base_dir+'matrix.svg', dpi=2000, format='svg', bbox_inches='tight')"
      ],
      "execution_count": 0,
      "outputs": [
        {
          "output_type": "display_data",
          "data": {
            "image/png": "[encoded data removed]",
            "text/plain": [
              "<Figure size 1440x720 with 1 Axes>"
            ]
          },
          "metadata": {
            "tags": []
          }
        }
      ]
    },
    {
      "cell_type": "code",
      "metadata": {
        "id": "5x2yfLaA2yrT",
        "colab_type": "code",
        "colab": {}
      },
      "source": [
        ""
      ],
      "execution_count": 0,
      "outputs": []
    }
  ]
}