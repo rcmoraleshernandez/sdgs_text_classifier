{
  "nbformat": 4,
  "nbformat_minor": 0,
  "metadata": {
    "colab": {
      "name": "ulmfit.ipynb",
      "version": "0.3.2",
      "provenance": [],
      "collapsed_sections": [],
      "include_colab_link": true
    },
    "language_info": {
      "codemirror_mode": {
        "name": "ipython",
        "version": 3
      },
      "file_extension": ".py",
      "mimetype": "text/x-python",
      "name": "python",
      "nbconvert_exporter": "python",
      "pygments_lexer": "ipython3",
      "version": "3.7.3"
    },
    "kernelspec": {
      "name": "python3",
      "display_name": "Python 3"
    },
    "accelerator": "GPU"
  },
  "cells": [
    {
      "cell_type": "markdown",
      "metadata": {
        "id": "view-in-github",
        "colab_type": "text"
      },
      "source": [
        "<a href=\"https://colab.research.google.com/github/vondersam/sdgs_text_classifier/blob/master/experiments/ulmfit.ipynb\" target=\"_parent\"><img src=\"https://colab.research.google.com/assets/colab-badge.svg\" alt=\"Open In Colab\"/></a>"
      ]
    },
    {
      "cell_type": "code",
      "metadata": {
        "id": "JQU-evlhdMNu",
        "colab_type": "code",
        "colab": {}
      },
      "source": [
        "!pip install iterative-stratification"
      ],
      "execution_count": 0,
      "outputs": []
    },
    {
      "cell_type": "code",
      "metadata": {
        "colab_type": "code",
        "id": "GFXrTP1PCs0Y",
        "colab": {}
      },
      "source": [
        "from fastai.text import *\n",
        "from iterstrat.ml_stratifiers import MultilabelStratifiedKFold\n",
        "from sklearn.preprocessing import MultiLabelBinarizer\n",
        "from sklearn.metrics import precision_score, recall_score, accuracy_score, f1_score, hamming_loss, roc_auc_score\n",
        "from sklearn.metrics import classification_report\n",
        "import numpy as np"
      ],
      "execution_count": 0,
      "outputs": []
    },
    {
      "cell_type": "code",
      "metadata": {
        "colab_type": "code",
        "id": "itVUcAwDCnCP",
        "colab": {}
      },
      "source": [
        "from google.colab import drive\n",
        "drive.mount('/content/gdrive', force_remount=True)\n",
        "base_dir = \"gdrive/My Drive/fastai-v3/sdgs/\"\n",
        "dataset_dir = base_dir + \"lstm/\""
      ],
      "execution_count": 0,
      "outputs": []
    },
    {
      "cell_type": "markdown",
      "metadata": {
        "colab_type": "text",
        "id": "KiIJJ01XCwle"
      },
      "source": [
        "## Uploading the data"
      ]
    },
    {
      "cell_type": "code",
      "metadata": {
        "id": "wS_rW9djL5nQ",
        "colab_type": "code",
        "colab": {}
      },
      "source": [
        "source_path = Path(dataset_dir + 'cleanup_labelled.csv')\n",
        "df = pd.read_csv(source_path)\n",
        "df.labels = df.labels.str.split('|').apply(lambda x: [int(i) for i in x])\n",
        "df.head()"
      ],
      "execution_count": 0,
      "outputs": []
    },
    {
      "cell_type": "markdown",
      "metadata": {
        "id": "TM5R8MrpD9ja",
        "colab_type": "text"
      },
      "source": [
        "We first create a general language model with the unlabelled data, which we will later fit into the WikiText 103 language model, so that it has more information about SDGs."
      ]
    },
    {
      "cell_type": "code",
      "metadata": {
        "id": "eeaPUkUiRla6",
        "colab_type": "code",
        "colab": {}
      },
      "source": [
        "#data_lm = TextLMDataBunch.from_csv(dataset_dir, 'cleanup_unlabelled.csv')"
      ],
      "execution_count": 0,
      "outputs": []
    },
    {
      "cell_type": "code",
      "metadata": {
        "id": "mD9GZMqpRLNY",
        "colab_type": "code",
        "colab": {}
      },
      "source": [
        "#data_lm.show_batch()\n",
        "#data_lm.save('data_lm_export.pkl')\n",
        "path = Path(dataset_dir)\n",
        "data_lm = load_data(path, 'data_lm_export.pkl')"
      ],
      "execution_count": 0,
      "outputs": []
    },
    {
      "cell_type": "markdown",
      "metadata": {
        "id": "F64WFx3bKiZq",
        "colab_type": "text"
      },
      "source": [
        "# Training the general language model"
      ]
    },
    {
      "cell_type": "markdown",
      "metadata": {
        "id": "yLwASThLN65j",
        "colab_type": "text"
      },
      "source": [
        "We train on the first layer of the language model with all the data and a pretrained language model from the WikiText 103. This is included in the architecture of AWD_LSTM."
      ]
    },
    {
      "cell_type": "code",
      "metadata": {
        "id": "aRQHabOwpmwy",
        "colab_type": "code",
        "colab": {}
      },
      "source": [
        "learn = language_model_learner(data_lm, AWD_LSTM, drop_mult=0.3)"
      ],
      "execution_count": 0,
      "outputs": []
    },
    {
      "cell_type": "code",
      "metadata": {
        "id": "Ak-OSKYmGfbu",
        "colab_type": "code",
        "colab": {}
      },
      "source": [
        "learn.lr_find()\n",
        "learn.recorder.plot(skip_end=15)"
      ],
      "execution_count": 0,
      "outputs": []
    },
    {
      "cell_type": "code",
      "metadata": {
        "id": "Jiyv5xGFAEYQ",
        "colab_type": "code",
        "colab": {}
      },
      "source": [
        "learn.fit_one_cycle(1, 1e-2, moms=(0.8,0.7))"
      ],
      "execution_count": 0,
      "outputs": []
    },
    {
      "cell_type": "code",
      "metadata": {
        "id": "Vvx2C2TlRVGz",
        "colab_type": "code",
        "colab": {}
      },
      "source": [
        "#learn.save('fit_head')"
      ],
      "execution_count": 0,
      "outputs": []
    },
    {
      "cell_type": "code",
      "metadata": {
        "id": "GLROGMRsRaK1",
        "colab_type": "code",
        "colab": {}
      },
      "source": [
        "learn.load('fit_head')"
      ],
      "execution_count": 0,
      "outputs": []
    },
    {
      "cell_type": "code",
      "metadata": {
        "id": "LcKIOKCERK1S",
        "colab_type": "code",
        "colab": {}
      },
      "source": [
        "learn.unfreeze()\n",
        "learn.fit_one_cycle(10, 1e-3, moms=(0.8,0.7))"
      ],
      "execution_count": 0,
      "outputs": []
    },
    {
      "cell_type": "code",
      "metadata": {
        "id": "HyHBz2yMPvOR",
        "colab_type": "code",
        "colab": {}
      },
      "source": [
        "#learn.save_encoder('fine_tuned_encoder')"
      ],
      "execution_count": 0,
      "outputs": []
    },
    {
      "cell_type": "code",
      "metadata": {
        "id": "p5upJ_jFSEXi",
        "colab_type": "code",
        "colab": {}
      },
      "source": [
        "learn.load_encoder('fine_tuned_encoder')"
      ],
      "execution_count": 0,
      "outputs": []
    },
    {
      "cell_type": "code",
      "metadata": {
        "id": "v8DNZHLecaMC",
        "colab_type": "code",
        "colab": {}
      },
      "source": [
        "learn.predict(\"African countries like\", n_words=20)"
      ],
      "execution_count": 0,
      "outputs": []
    },
    {
      "cell_type": "markdown",
      "metadata": {
        "id": "Ry9vK4WdPIi_",
        "colab_type": "text"
      },
      "source": [
        "# Training the classifier"
      ]
    },
    {
      "cell_type": "markdown",
      "metadata": {
        "id": "c_iAtHuKEP8P",
        "colab_type": "text"
      },
      "source": [
        "Then we load the language model for the classifier"
      ]
    },
    {
      "cell_type": "code",
      "metadata": {
        "id": "eC455fwCdxlA",
        "colab_type": "code",
        "colab": {}
      },
      "source": [
        "def train_classifier(path_, train, test, lm, kfold, process='train'):\n",
        "  data_clas = TextClasDataBunch.from_df(path_, train_df=train, valid_df=test, vocab=lm.train_ds.vocab, text_cols='text', label_cols='labels', label_delim='|', bs=32)\n",
        "  acc_02 = partial(accuracy_thresh, thresh=0.2)\n",
        "  f_score = partial(fbeta, thresh=0.2)\n",
        "\n",
        "  F1macro = partial(MultiLabelFbeta, average=\"macro\")\n",
        "  F1micro = partial(MultiLabelFbeta, average=\"micro\")\n",
        "  F1weighted = partial(MultiLabelFbeta, average=\"weighted\")\n",
        "\n",
        "  learn = text_classifier_learner(data_clas, AWD_LSTM, drop_mult=0.5, metrics=[acc_02, f_score], callback_fns=[F1macro, F1micro, F1weighted])\n",
        "  learn.load_encoder('ft_enc')\n",
        "  learn.freeze()\n",
        "  current_file = f'general_model_{kfold}'\n",
        "  \n",
        "  if process == 'train':\n",
        "    # First\n",
        "    learn.fit_one_cycle(1, 3e-2, moms=(0.8,0.7))\n",
        "\n",
        "    # Second\n",
        "    learn.freeze_to(-2)\n",
        "    learn.fit_one_cycle(1, slice(1e-2/(2.6**4),1e-2), moms=(0.8, 0.7))\n",
        "\n",
        "    # Third\n",
        "    learn.freeze_to(-3)\n",
        "    learn.fit_one_cycle(1, slice(5e-3/(2.6**4),5e-3), moms=(0.8, 0.7))\n",
        "\n",
        "    # Fourth\n",
        "    learn.unfreeze()\n",
        "    learn.fit_one_cycle(10, slice(1e-3/(2.6**4),1e-3), moms=(0.8, 0.7))\n",
        "\n",
        "    # Fifth\n",
        "    learn.unfreeze()\n",
        "    learn.fit_one_cycle(6, slice(1e-3/(2.6**4),1e-3), moms=(0.8, 0.7))\n",
        "    learn.save(current_file)\n",
        "  else:\n",
        "    learn.load(current_file)\n",
        "    return learn"
      ],
      "execution_count": 0,
      "outputs": []
    },
    {
      "cell_type": "code",
      "metadata": {
        "id": "kdT8Tt6LiD5h",
        "colab_type": "code",
        "colab": {}
      },
      "source": [
        "def merge_dataset(x_train, x_test, y_train, y_test):\n",
        "  # Merge text and unbinarized labels for train\n",
        "  train_label = np.array([[\"|\".join(map(str, tr))] for tr in mlb.inverse_transform(y_train)])\n",
        "  train = pd.DataFrame(np.hstack((x_train,train_label)))\n",
        "  train.columns = ['text', 'labels']\n",
        "  \n",
        "  # Merge text and unbinarized labels for test\n",
        "  test_label = np.array([[\"|\".join(map(str, tr))] for tr in mlb.inverse_transform(y_test)])\n",
        "  test = pd.DataFrame(np.hstack((x_test,test_label)))\n",
        "  test.columns = ['text', 'labels']\n",
        "  \n",
        "  return train, test"
      ],
      "execution_count": 0,
      "outputs": []
    },
    {
      "cell_type": "code",
      "metadata": {
        "id": "B2bWOQjaEPMq",
        "colab_type": "code",
        "colab": {}
      },
      "source": [
        "mskf = MultilabelStratifiedKFold(n_splits=10, random_state=0)\n",
        "mlb = MultiLabelBinarizer()\n",
        "models = []\n",
        "x = df[['text']].values # text\n",
        "y = mlb.fit_transform(df.labels) # labels\n",
        "path = Path(dataset_dir)\n",
        "count = 0\n",
        "\n",
        "for train_index, test_index in mskf.split(x, y):\n",
        "   count += 1\n",
        "   print(f\"Fold no. {count}\")\n",
        "   x_train, x_test = x[train_index], x[test_index]\n",
        "   y_train, y_test = y[train_index], y[test_index]\n",
        "   train_df, test_df = merge_dataset(x_train, x_test, y_train, y_test)\n",
        "   model = train_classifier(path, train_df, test_df, data_lm, kfold=count, process='load')\n",
        "   models.append(model)"
      ],
      "execution_count": 0,
      "outputs": []
    },
    {
      "cell_type": "code",
      "metadata": {
        "id": "r6y_lxRqWwlS",
        "colab_type": "code",
        "colab": {}
      },
      "source": [
        "def metrics_avg(models, thres=0.3):\n",
        "  labels_ = list(range(1,18))\n",
        "  \n",
        "  def calc(model):\n",
        "    y_pred, y_true = model.get_preds()\n",
        "    y_true = y_true.numpy()\n",
        "    y_pred = y_pred.numpy()\n",
        "    metrics = classification_report(y_true, y_pred>thres, target_names=labels_, output_dict=True)\n",
        "    metrics_df = pd.DataFrame.from_dict(metrics)\n",
        "    h = hamming_loss(y_true, y_pred>thres, labels=labels_)\n",
        "    roc = roc_auc_score(y_true, y_pred>thres, average='micro')\n",
        "    return metrics_df, h, roc\n",
        "  \n",
        "  metrics_agg, ham, roc = calc(models[0])\n",
        "  n = len(models)\n",
        "  for model in models[1:]:\n",
        "    metrics, h, r = calc(models[0])\n",
        "    metrics_agg += metrics\n",
        "    ham += h\n",
        "    roc += r\n",
        "  \n",
        "  return metrics_agg/n, ham/n, roc/n"
      ],
      "execution_count": 0,
      "outputs": []
    },
    {
      "cell_type": "code",
      "metadata": {
        "id": "kbRkbekDq2R-",
        "colab_type": "code",
        "colab": {}
      },
      "source": [
        "averaged_results = metrics_avg(models)"
      ],
      "execution_count": 0,
      "outputs": []
    },
    {
      "cell_type": "code",
      "metadata": {
        "id": "bUtzo8kLBC8B",
        "colab_type": "code",
        "colab": {}
      },
      "source": [
        "averaged_results[2]"
      ],
      "execution_count": 0,
      "outputs": []
    },
    {
      "cell_type": "code",
      "metadata": {
        "id": "XliDW9AsAml8",
        "colab_type": "code",
        "colab": {}
      },
      "source": [
        ""
      ],
      "execution_count": 0,
      "outputs": []
    }
  ]
}